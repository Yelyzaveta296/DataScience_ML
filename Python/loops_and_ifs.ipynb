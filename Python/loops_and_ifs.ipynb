{
 "cells": [
  {
   "cell_type": "markdown",
   "metadata": {
    "colab_type": "text",
    "id": "X9wfb-pqPzYu"
   },
   "source": [
    "# Loops and Conditions\n",
    "\n",
    "## Homework\n",
    "This homework should be solved **WITHOUT** the use of ready-made functions (if they \"solve\" the problem) and third-party libraries. Use loops and conditions."
   ]
  },
  {
   "cell_type": "markdown",
   "metadata": {
    "colab_type": "text",
    "id": "DMpu8uUoPzY0"
   },
   "source": [
    "## 1\n",
    "\n",
    "Write a program that will ask for input numbers (separated by commas on one line) and print the largest value from the list.\n",
    "\n",
    "<br><br>\n",
    "*Restriction: you cannot use a ready-made function for finding the maximum (for example, `max()`), ready-made functions and sorting methods (for example, `sort()`,`sorted()`), the set() function.*\n",
    "\n",
    "<br>\n",
    "<br>\n",
    "*Input Format:* <br>\n",
    "1, 2, 3, 6, 7<br><br>\n",
    "\n",
    "*Output Format:* <br>\n",
    "7"
   ]
  },
  {
   "cell_type": "code",
   "execution_count": null,
   "metadata": {
    "colab": {},
    "colab_type": "code",
    "id": "dHs34-p-PzY3"
   },
   "outputs": [],
   "source": [
    "### YOUR CODE HERE ###\n",
    "a= map(int,input('Enter numbers:').split())\n",
    "max = 0\n",
    "for elem in a:\n",
    "    if elem > max:\n",
    "        max = elem\n",
    "\n",
    "\n",
    "print(max)"
   ]
  },
  {
   "cell_type": "markdown",
   "metadata": {
    "colab_type": "text",
    "id": "sCF9Hd9rPzZD"
   },
   "source": [
    "### 2\n",
    "\n",
    "Write a program that will ask for input numbers (each on a new line) until zero (0) is entered. The output should be the second largest value.\n",
    "\n",
    "<br><br>\n",
    "*Restriction: you cannot use a ready-made function for finding the maximum (for example, `max()`), ready-made functions and sorting methods (for example, `sort()`,`sorted()`), the set() function.*\n",
    "<br><br>\n",
    "*Input Format:* <br>\n",
    "4<br>\n",
    "6<br>\n",
    "7<br>\n",
    "7<br>\n",
    "0\n",
    "<br><br>\n",
    "\n",
    "*Otput Format:* <br>\n",
    "6"
   ]
  },
  {
   "cell_type": "code",
   "execution_count": null,
   "metadata": {
    "colab": {},
    "colab_type": "code",
    "id": "yrJk-mEjPzZF"
   },
   "outputs": [],
   "source": [
    "### YOUR CODE HERE ###\n",
    "\n",
    "#\n",
    "number= int(input('Enter numbers: '))\n",
    "max1 = 0\n",
    "max2 = 0\n",
    "list = []\n",
    "\n",
    "while number != 0:\n",
    "    list.append(number)\n",
    "    number = int(input('Enter numbers: '))\n",
    "    for elem in list:\n",
    "        if elem > max1:\n",
    "            max2 = max1\n",
    "            max1 = elem\n",
    "        elif max2 < elem < max1:\n",
    "            max2 = elem\n",
    "print(max2)\n"
   ]
  },
  {
   "cell_type": "markdown",
   "metadata": {
    "colab_type": "text",
    "id": "fdJZMUtGPzZN"
   },
   "source": [
    "### 3\n",
    "\n",
    "Write a program that takes a year as input and outputs the number of days in that year.\n",
    "<br><br>\n",
    "*Input Format:* <br>\n",
    "2020<br><br>\n",
    "\n",
    "*Output Format:* <br>\n",
    "366"
   ]
  },
  {
   "cell_type": "code",
   "execution_count": null,
   "metadata": {
    "colab": {},
    "colab_type": "code",
    "id": "Dk6PDx-jPzZP"
   },
   "outputs": [],
   "source": [
    "### YOUR CODE HERE ###\n",
    "year = int(input(\"Enter a year: \"))\n",
    "\n",
    "if year % 4 == 0:\n",
    "    print(366)\n",
    "else:\n",
    "    print(365)\n"
   ]
  },
  {
   "cell_type": "markdown",
   "metadata": {
    "colab_type": "text",
    "id": "wFGBh0dYPzZV"
   },
   "source": [
    "### 4\n",
    "\n",
    "Write a program that takes as input the coordinates of two cells on a chessboard and outputs a message about whether these cells are of the same color.\n",
    "<br><br>\n",
    "*Input Format:* <br>\n",
    "c2<br>\n",
    "e4<br><br>\n",
    "\n",
    "*Output Format:* <br>\n",
    "Cells of the same color"
   ]
  },
  {
   "cell_type": "code",
   "execution_count": null,
   "metadata": {
    "colab": {},
    "colab_type": "code",
    "id": "k-8POcqGPzZW"
   },
   "outputs": [],
   "source": [
    "### YOUR CODE HERE ###\n",
    "coords_first = input(\"Enter the coordinates of the first cell: \")\n",
    "coords_second = input(\"Enter the coordinates of the second cell: \")\n",
    "letters = 'abcdefgh'\n",
    "nums = '12345678'\n",
    "x1, y1 = coords_first[0], coords_first[1]\n",
    "x2, y2 = coords_second[0], coords_second[1]\n",
    "\n",
    "x1 = letters.find(x1) + 1\n",
    "y1 = nums.find(y1) + 1\n",
    "x2 = letters.find(x2) + 1\n",
    "y2 = nums.find(y2) + 1\n",
    "\n",
    "if (x1 + y1 + x2 + y2) % 2 == 0:\n",
    "    print(\"Cells of the same color\")\n",
    "else:\n",
    "    print(\"Cells of the different color\")\n"
   ]
  },
  {
   "cell_type": "markdown",
   "metadata": {
    "colab_type": "text",
    "id": "O594rz0tPzZb"
   },
   "source": [
    "### 5\n",
    "\n",
    "Write a program that takes a number as input and outputs whether the number is prime or composite.\n",
    "<br><br>\n",
    "*Input Format:* <br>\n",
    "169<br><br>\n",
    "\n",
    "*Output Format:* <br>\n",
    "\n",
    "Composite number"
   ]
  },
  {
   "cell_type": "code",
   "execution_count": null,
   "metadata": {
    "colab": {},
    "colab_type": "code",
    "id": "-Oy1AesyPzZd"
   },
   "outputs": [],
   "source": [
    "### YOUR CODE HERE ###\n",
    "\n",
    "number = int(input(\"Enter a number: \"))\n",
    "i = 2\n",
    "\n",
    "for elem in range(i, number):\n",
    "    if number % elem == 0:\n",
    "        print(\"Composite\")\n",
    "        break\n",
    "else:\n",
    "    print(\"Prime\")\n"
   ]
  },
  {
   "cell_type": "markdown",
   "metadata": {
    "colab_type": "text",
    "id": "QzBAQaW8PzZg"
   },
   "source": [
    "### 6\n",
    "\n",
    "Write a program that takes an integer greater than 2 as input and outputs its smallest natural divisor other than 1.\n",
    "<br><br>\n",
    "*Input Format:* <br>\n",
    "169<br><br>\n",
    "\n",
    "*Output Format:* <br>\n",
    "13"
   ]
  },
  {
   "cell_type": "code",
   "execution_count": null,
   "metadata": {
    "colab": {},
    "colab_type": "code",
    "id": "Z2QzgAYKPzZi"
   },
   "outputs": [],
   "source": [
    "### YOUR CODE HERE ###\n",
    "number = int(input(\"Enter a number:\"))\n",
    "\n",
    "if number > 2:\n",
    "    for i in range(2, number + 1):\n",
    "        if number % i == 0:\n",
    "            print(i)\n",
    "            break\n",
    "else:\n",
    "    print(\"Enter a number greater than two\")\n"
   ]
  },
  {
   "cell_type": "markdown",
   "metadata": {
    "colab_type": "text",
    "id": "Mdg_IAfFPzZk"
   },
   "source": [
    "### 7\n",
    "\n",
    "Write a program to help you create a training plan to prepare for a marathon. It receives as input the number of kilometers on the planned marathon, how many the user plans to run on the first day of training, and by what percentage he plans to increase this distance every day. At the output, the program should give out how many days the user will need to prepare to run the target number of kilometers.\n",
    "\n",
    "<br><br>\n",
    "*Restriction: You cannot use the `ceil()` function from the `math` module and its analogs.*\n",
    "<br><br>\n",
    "*Input Format:* <br>\n",
    "12<br>\n",
    "3<br>\n",
    "10<br><br>\n",
    "\n",
    "*Output Format:* <br>\n",
    "16"
   ]
  },
  {
   "cell_type": "code",
   "execution_count": null,
   "metadata": {
    "colab": {},
    "colab_type": "code",
    "id": "mXeF6AMWPzZl"
   },
   "outputs": [],
   "source": [
    "### YOUR CODE HERE ###\n",
    "km_per_marathon = float(input(\"How many kilometers do you plan to run in a marathon?: \")) #12\n",
    "km_per_day = float(input(\"How many kilometers do you plan to run each day?: \"))      #3\n",
    "percent_per_day = int(input(\"By what percentage do you plan to increase the distance?: \"))  #10\n",
    "days = 0\n",
    "\n",
    "\n",
    "while km_per_day <= km_per_marathon:\n",
    "    days += 1\n",
    "    km_per_day += km_per_day * percent_per_day / 100\n",
    "print(days + 1)\n"
   ]
  },
  {
   "cell_type": "markdown",
   "metadata": {
    "colab_type": "text",
    "id": "sxKoWpYKPzZo"
   },
   "source": [
    "### 8\n",
    "\n",
    "Write a program that takes the number n as input and calculates the sum from 1²+2²+3²+...+n².\n",
    "<br><br>\n",
    "*Restriction: You cannot use the `sum()` function and its analogs.*\n",
    "\n",
    "*Input Format:* <br>\n",
    "3<br><br>\n",
    "\n",
    "*Output Format:* <br>\n",
    "14"
   ]
  },
  {
   "cell_type": "code",
   "execution_count": null,
   "metadata": {
    "colab": {},
    "colab_type": "code",
    "id": "RiPlWLm6PzZp"
   },
   "outputs": [],
   "source": [
    "### YOUR CODE HERE ###\n",
    "number = int(input(\"Enter a number: \"))\n",
    "i = 0\n",
    "sum = 0\n",
    "\n",
    "while i <= number:\n",
    "    sum += i ** 2\n",
    "    i += 1\n",
    "    \n",
    "print(sum)\n",
    "\n"
   ]
  },
  {
   "cell_type": "markdown",
   "metadata": {
    "colab_type": "text",
    "id": "aXzG4-wdPzZr"
   },
   "source": [
    "## 9\n",
    "\n",
    "\n",
    "Write a program that takes the number n as input and calculates the sum from 1! + 2! + 3! + ... + n!\n",
    "<br><br>\n",
    "\n",
    "*Restriction: you cannot use the ready-made `factorial()` function from the `math` module, the `sum()` function and their analogues.*\n",
    "\n",
    "*Input Format:* <br>\n",
    "3<br><br>\n",
    "\n",
    "*Output Format:* <br>\n",
    "9"
   ]
  },
  {
   "cell_type": "code",
   "execution_count": null,
   "metadata": {
    "colab": {},
    "colab_type": "code",
    "id": "KBEXUEDQPzZs"
   },
   "outputs": [],
   "source": [
    "### YOUR CODE HERE ###\n",
    "number = int(input(\"Enter a number: \"))\n",
    "sum = 1\n",
    "total = 0\n",
    "\n",
    "for i in range(1, number + 1):\n",
    "    sum *= i\n",
    "    total += sum\n",
    "print(total)\n"
   ]
  },
  {
   "cell_type": "markdown",
   "metadata": {
    "colab_type": "text",
    "id": "4nsOuiWVPzZu"
   },
   "source": [
    "### 10\n",
    "\n",
    "Write a program that takes a sequence of numbers as input (each number with a newline until the user enters 0) and determines the number of even elements in the sequence.\n",
    "\n",
    "<br><br>\n",
    "*Input Format:* <br>\n",
    "5<br>\n",
    "4<br>\n",
    "2<br>\n",
    "7<br>\n",
    "8<br>\n",
    "9<br>\n",
    "0<br><br>\n",
    "\n",
    "*Output Format:* <br>\n",
    "3"
   ]
  },
  {
   "cell_type": "code",
   "execution_count": null,
   "metadata": {
    "colab": {},
    "colab_type": "code",
    "id": "xktF2cocPzZv"
   },
   "outputs": [],
   "source": [
    "### YOUR CODE HERE ###\n",
    "number = int(input(\"Enter a number: \"))\n",
    "sum = 0\n",
    "\n",
    "while number != 0:\n",
    "    if number % 2 == 0:\n",
    "        sum += 1\n",
    "    number = int(input(\"Enter a number: \"))\n",
    "    \n",
    "print(sum)\n"
   ]
  },
  {
   "cell_type": "markdown",
   "metadata": {
    "colab_type": "text",
    "id": "hyC9QGXPPzZx"
   },
   "source": [
    "### 11\n",
    "\n",
    "Write a program that generates a list of players for a women's futsal team. The program must record the age and gender of the applicant. Age must be requested after gender and only if the gender of the applicant is female. If the gender of the applicant is male, the program should report that he is not suitable. Applicants must be between 18 and 35 years of age. If the candidate meets the requirements, a corresponding message should appear. There can only be six people in a team. When the required number is reached, the entry is closed and the message \"Entry to the team is closed\" is displayed.\n",
    "\n"
   ]
  },
  {
   "cell_type": "code",
   "execution_count": null,
   "metadata": {
    "colab": {},
    "colab_type": "code",
    "id": "qSDK-zQ4PzZx"
   },
   "outputs": [],
   "source": [
    "### YOUR CODE HERE ###\n",
    "i = 1\n",
    "\n",
    "while i:\n",
    "    sex = input(\"Enter your gender: \")\n",
    "    if sex == \"f\":\n",
    "        age = int(input(\"Enter your age: \"))\n",
    "        if 18 < age < 35:\n",
    "            print(\"You suit us\")\n",
    "            i += 1\n",
    "            if i == 7:\n",
    "                break\n",
    "            continue\n",
    "    print(\"You don't suit us\")\n",
    "print(\"Team enrollment closed\")\n"
   ]
  },
  {
   "cell_type": "markdown",
   "metadata": {
    "colab_type": "text",
    "id": "B4JAB8AqPzZ0"
   },
   "source": [
    "### 12\n",
    "\n",
    "\n",
    "Write a program that takes the maximum width of a rhombus as input and draws it. It is guaranteed that the input number is always odd.\n",
    "\n",
    "<br><br>\n",
    "\n",
    "*Input Format:* <br>\n",
    "5<br><br>\n",
    "\n",
    "*Output Format:* <br>\n",
    "```  \n",
    "  *\n",
    " ***\n",
    "*****\n",
    " ***\n",
    "  *```"
   ]
  },
  {
   "cell_type": "code",
   "execution_count": null,
   "metadata": {
    "colab": {},
    "colab_type": "code",
    "id": "WVp7O75oPzZ0"
   },
   "outputs": [],
   "source": [
    "### YOUR CODE HERE ###\n",
    "max_width = int(input(\"Enter the maximum width of the diamond (odd number): \"))\n",
    "\n",
    "for i in range(1, max_width + 1, 2):\n",
    "    print('{:^50}'.format(\"*\" * i))\n",
    "\n",
    "for i in range(max_width - 2, 0, -2):\n",
    "    print('{:^50}'.format(\"*\" * i))\n"
   ]
  },
  {
   "cell_type": "markdown",
   "metadata": {
    "colab_type": "text",
    "id": "xrIXWj0yPzZ2"
   },
   "source": [
    "### 13\n",
    "\n",
    "Write a program that asks the user for the side of a square and a symbol, and then draws that symbol along the diagonals of the square. It is guaranteed that the input number is always odd.\n",
    "\n",
    "<br><br>\n",
    "\n",
    "*Input Fornat:* <br>\n",
    "5<br>\n",
    "\\#<br><br>\n",
    "\n",
    "*Output Fornat:* <br>\n",
    "```\n",
    " \n",
    "#   #\n",
    " # #\n",
    "  #  \n",
    " # #\n",
    "#   #\n",
    "```"
   ]
  },
  {
   "cell_type": "code",
   "execution_count": null,
   "metadata": {
    "colab": {},
    "colab_type": "code",
    "id": "oUKNB9TaPzZ3"
   },
   "outputs": [],
   "source": [
    "### YOUR CODE HERE ###\n",
    "square_width = int(input(\"Enter the width of the square: \"))\n",
    "symbol = input(\"Enter a symbol: \")\n",
    "list = []\n",
    "\n",
    "if square_width % 2 == 1:\n",
    "    list = [\" \"] * square_width\n",
    "    for el in range(0, square_width):\n",
    "        list[el] = symbol\n",
    "        list[square_width - 1 - el] = symbol\n",
    "        print(\"\".join(list))\n",
    "        list[el] = \" \"\n",
    "        list[square_width - 1 - el] = \" \"\n",
    "    \n"
   ]
  },
  {
   "cell_type": "markdown",
   "metadata": {
    "colab_type": "text",
    "id": "3GaiPsFYPzZ_"
   },
   "source": [
    "### 14\n",
    "\n",
    "There are balls in the basket. If you put them in piles of two, there will be one left. If you put them in piles of three, there will be one left. If you put them in piles of four, there will be one left. If you put them in piles of five, there will be one left. If you put them in piles of six, there will be one left. If you put them in piles of seven, there will be no remainder. You need to find the minimum number of balls that satisfies the condition. <br>\n"
   ]
  },
  {
   "cell_type": "code",
   "execution_count": null,
   "metadata": {
    "colab": {},
    "colab_type": "code",
    "id": "V2msEhQkPzZ_"
   },
   "outputs": [],
   "source": [
    "### YOUR CODE HERE ###\n",
    "for el in range(1, 1000):\n",
    "    if el % 2 == 1 and el % 3 == 1 and el % 4 == 1 and el % 5 == 1 and el % 6 == 1 and el % 7 == 0:\n",
    "        print(el)\n",
    "        break\n"
   ]
  },
  {
   "cell_type": "markdown",
   "metadata": {
    "colab_type": "text",
    "id": "5pOjlON-PzaC"
   },
   "source": [
    "### 15\n",
    "\n",
    "Workers glued wallpaper on the walls. The first wall was glued in M minutes, and each next wall was glued five minutes longer than the previous one.\n",
    "Write a program that asks how many walls were in the apartment for gluing, as well as the time it took to work with the first wall in minutes. The program should display how many **hours** the workers spent on wallpapering the entire apartment. The hour is counted from the first minute. The answer must be an integer.\n",
    "<br><br>\n",
    "*Restriction: you cannot use ready-made functions `bool()`, `floor()` and their analogues.*\n",
    "\n",
    "<br><br>\n",
    "*Input Format:* <br>\n",
    "6<br>\n",
    "10<br><br>\n",
    "\n",
    "*Output Format:* <br>\n",
    "3"
   ]
  },
  {
   "cell_type": "code",
   "execution_count": null,
   "metadata": {
    "colab": {},
    "colab_type": "code",
    "id": "Pmu96rWGPzaD"
   },
   "outputs": [],
   "source": [
    "### YOUR CODE HERE ###\n",
    "walls = int(input(\"Enter number of walls: \"))\n",
    "min_for_a_wall = int(input(\"How many minutes are spent on one wall? \"))\n",
    "i = 1\n",
    "sum_time = 0\n",
    "\n",
    "while i <= walls:\n",
    "    sum_time += min_for_a_wall + (i - 1) * 5\n",
    "    i += 1\n",
    "    print(sum_time)    \n",
    "#print(sum_time // 60 + 1)\n"
   ]
  },
  {
   "cell_type": "markdown",
   "metadata": {
    "colab_type": "text",
    "id": "63C6Za3CPzaF"
   },
   "source": [
    "### 16\n",
    "\n",
    "Write a program to remove duplicate elements from a list. The program should prompt for words, each on a new line, until the user enters an empty string. It should then output a list without repeating elements.\n",
    "\n",
    "<br><br>\n",
    "*Restriction: you cannot use the ready-made `set()` function and its analogues.*\n",
    "\n",
    "\n",
    "<br><br>\n",
    "*Input Format:* <br>\n",
    "Alice<br>\n",
    "Alice<br>\n",
    "Alice<br>\n",
    "John<br>\n",
    "<br><br>\n",
    "\n",
    "*Output Format:* <br>\n",
    "[Alice, John]"
   ]
  },
  {
   "cell_type": "code",
   "execution_count": null,
   "metadata": {
    "colab": {},
    "colab_type": "code",
    "id": "MQ-eDkbAPzaG"
   },
   "outputs": [],
   "source": [
    "### YOUR CODE HERE ###\n",
    "word = str(input(\"Enter a word: \"))\n",
    "my_list = []\n",
    "\n",
    "while word != \"\":\n",
    "    word = str(input(\"Enter a word: \"))\n",
    "    if word in my_list:\n",
    "        pass\n",
    "    else:\n",
    "        my_list.append(word)\n",
    "print(my_list)\n"
   ]
  },
  {
   "cell_type": "markdown",
   "metadata": {
    "colab_type": "text",
    "id": "jueSDORaPzaI"
   },
   "source": [
    "### 17\n",
    "\n",
    "Write a program that prints the number of pairs of identical elements in a list. At the same time, if two elements form a pair, they cannot pair with other elements. The program should prompt for words, each on a new line, until the user enters an empty string.\n",
    "\n",
    "<br><br>\n",
    "*Input Format:* <br>\n",
    "Alice<br>\n",
    "Alice<br>\n",
    "Alice<br>\n",
    "<br><br>\n",
    "\n",
    "*Output Format:* <br>\n",
    "1"
   ]
  },
  {
   "cell_type": "code",
   "execution_count": null,
   "metadata": {
    "colab": {},
    "colab_type": "code",
    "id": "49tbEr3NPzaJ"
   },
   "outputs": [],
   "source": [
    "### YOUR CODE HERE ###\n",
    "\n",
    "word = None\n",
    "d = {}\n",
    "a = 0\n",
    "sum = 0\n",
    "\n",
    "while word != \"\":\n",
    "    word = str(input(\"Enter a word: \"))\n",
    "    if word in d:\n",
    "        d[word] += 1\n",
    "    else:\n",
    "        d[word] = 1\n",
    "    a += 1\n",
    "\n",
    "for v in d.values():\n",
    "    sum += v // 2\n",
    "\n",
    "print(sum)\n",
    "\n"
   ]
  },
  {
   "cell_type": "markdown",
   "metadata": {
    "colab_type": "text",
    "id": "yVLcBrD-PzaN"
   },
   "source": [
    "### 18\n",
    "\n",
    "We assume that the dice can have an unlimited number of faces (a natural number). Write a program that asks how many faces two different dices have. It then outputs all possible combinations of the results of two such dice rolls.\n",
    "\n",
    "<br><br>\n",
    "*Input Format:* <br>\n",
    "3<br>\n",
    "4<br><br>\n",
    "\n",
    "*Output Format:* <br>\n",
    "1 1<br>\n",
    "1 2<br>\n",
    "1 3<br>\n",
    "1 4<br>\n",
    "2 1<br>\n",
    "2 2<br>\n",
    "2 3<br>\n",
    "2 4<br>\n",
    "3 1<br>\n",
    "3 2<br>\n",
    "3 3<br>\n",
    "3 4<br>"
   ]
  },
  {
   "cell_type": "code",
   "execution_count": null,
   "metadata": {
    "colab": {},
    "colab_type": "code",
    "id": "7I2va0KwPzaR"
   },
   "outputs": [],
   "source": [
    "### YOUR CODE HERE ###\n",
    "first_dice = int(input(\"Number of faces on the first dice: \"))\n",
    "second_dice = int(input(\"Number of faces on the first dice: \"))\n",
    "\n",
    "for i in range(1, first_dice + 1):\n",
    "    for j in range(1, second_dice + 1):\n",
    "        print(i, j)\n"
   ]
  },
  {
   "cell_type": "code",
   "execution_count": null,
   "metadata": {},
   "outputs": [],
   "source": []
  }
 ],
 "metadata": {
  "colab": {
   "collapsed_sections": [],
   "name": "jun_anl_loops_and_ifs.ipynb",
   "provenance": []
  },
  "kernelspec": {
   "display_name": "Python 3",
   "language": "python",
   "name": "python3"
  },
  "language_info": {
   "codemirror_mode": {
    "name": "ipython",
    "version": 3
   },
   "file_extension": ".py",
   "mimetype": "text/x-python",
   "name": "python",
   "nbconvert_exporter": "python",
   "pygments_lexer": "ipython3",
   "version": "3.8.8"
  }
 },
 "nbformat": 4,
 "nbformat_minor": 4
}
