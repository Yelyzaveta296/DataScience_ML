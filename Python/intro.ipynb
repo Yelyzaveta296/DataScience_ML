{
 "cells": [
  {
   "cell_type": "markdown",
   "metadata": {
    "colab_type": "text",
    "id": "-eiC8SAWkdVl"
   },
   "source": [
    "# Introduction in Python\n",
    "\n",
    "\n",
    "\n",
    "## Homework"
   ]
  },
  {
   "cell_type": "markdown",
   "metadata": {
    "colab_type": "text",
    "id": "pub-c6qUkdVp"
   },
   "source": [
    "### Task 1\n",
    "\n",
    "Calculate in Python:\n",
    "    \n",
    "$9^2 + 6^4$;\n",
    "\n",
    "$\\log(54)$ (natural log);\n",
    "\n",
    "$\\sqrt{8} - \\sqrt{12}$;\n",
    "\n",
    "$\\sin(45) + \\cos(45)$."
   ]
  },
  {
   "cell_type": "code",
   "execution_count": 8,
   "metadata": {
    "colab": {},
    "colab_type": "code",
    "id": "-qv5sUERkdVq"
   },
   "outputs": [
    {
     "name": "stdout",
     "output_type": "stream",
     "text": [
      "1377.0\n",
      "3.9889840465642745\n",
      "-0.6356744903915641\n",
      "1.3762255133518482\n"
     ]
    }
   ],
   "source": [
    "### YOUR CODE HERE ###\n",
    "import math\n",
    "#1\n",
    "num1 = math.pow(9,2)\n",
    "num2 = math.pow(6,4)\n",
    "print(num1 + num2)\n",
    "\n",
    "#2\n",
    "num3 = math.log(54)\n",
    "print(num3)\n",
    "\n",
    "#3\n",
    "num4 = math.sqrt(8)\n",
    "num5 = math.sqrt(12)\n",
    "print(num4 - num5)\n",
    "\n",
    "#4\n",
    "num6 = math.sin(45)\n",
    "num7 = math.cos(45)\n",
    "print(num6 + num7)"
   ]
  },
  {
   "cell_type": "markdown",
   "metadata": {
    "colab_type": "text",
    "id": "lUSN-KVtkdVu"
   },
   "source": [
    "### Task 2\n",
    "\n",
    "Write a programm that requests user of his shoe size, and output a size of shoes for climbing, considering climbing shoes size is 2   sizes too small than normal shoes.\n",
    "\n",
    "**Example:**\n",
    "\n",
    "*Input*\n",
    "\n",
    "    38\n",
    "\n",
    "*Output*\n",
    "\n",
    "    36"
   ]
  },
  {
   "cell_type": "code",
   "execution_count": null,
   "metadata": {
    "colab": {},
    "colab_type": "code",
    "id": "234urC4DkdVv"
   },
   "outputs": [],
   "source": [
    "### YOUR CODE HERE ###\n",
    "size = int(input(\"Input your shoes size: \"))\n",
    "size -= 2\n",
    "print(size)"
   ]
  },
  {
   "cell_type": "markdown",
   "metadata": {
    "colab_type": "text",
    "id": "Il01q2nXkdVy"
   },
   "source": [
    "### Task 3\n",
    "\n",
    "English language test consists of 3 parts. A student sequentially enters from the keyboard the points scored for each part - three integers. Each number is entered on a separate line - `input()` is requested three times. Write a program that calculates the final score for the test - the sum of the scores for the three parts.\n",
    "\n",
    "\n",
    "**Example:**\n",
    "\n",
    "*Input*\n",
    "\n",
    "    5\n",
    "    4\n",
    "    6\n",
    "    \n",
    "*Output*\n",
    "\n",
    "    15"
   ]
  },
  {
   "cell_type": "code",
   "execution_count": null,
   "metadata": {
    "colab": {},
    "colab_type": "code",
    "id": "OQSXwixJkdVz"
   },
   "outputs": [],
   "source": [
    "### YOUR CODE HERE ###\n",
    "mark1 = int(input(\"Enter your score for the first part: \"))\n",
    "mark2 = int(input(\"Enter your score for the second part: \"))\n",
    "mark3 = int(input(\"Enter your score for the third part: \"))\n",
    "result = mark1 + mark2 + mark3\n",
    "print(result)"
   ]
  },
  {
   "cell_type": "markdown",
   "metadata": {
    "colab_type": "text",
    "id": "W1SVMo7XkdV2"
   },
   "source": [
    "### Задача 4\n",
    "\n",
    "The variable `salary` stores the value of a person's salary in dollars (you can assign some value to `salary` yourself).\n",
    "\n",
    "Write a program that expresses a person's salary in *thousands of rubles* and\n",
    "\n",
    "\n",
    "a) store the result in the `salary_th` variable and print the result to the screen;\n",
    "\n",
    "b) output a message (with a value substituted for `___`):\n",
    "\n",
    "     Your salary is __ thousand dollars.\n",
    "    \n",
    "**An example of the program operation (point a):**\n",
    "\n",
    "\n",
    "*Input*\n",
    "\n",
    "    salary = 35000\n",
    "\n",
    "*Output*\n",
    "    \n",
    "    35\n",
    "    \n",
    "**An example of the program (point b):**\n",
    "\n",
    "\n",
    "*Input*\n",
    "\n",
    "    salary = 35000\n",
    "\n",
    "*Output*\n",
    "    \n",
    "    Your salary is 35 thousand dollars."
   ]
  },
  {
   "cell_type": "code",
   "execution_count": null,
   "metadata": {
    "colab": {},
    "colab_type": "code",
    "id": "dVOAx8UokdV3"
   },
   "outputs": [],
   "source": [
    "### YOUR CODE HERE ###\n",
    "#a\n",
    "salary = 350000\n",
    "salary_th = salary // 1000\n",
    "print(salary_th)\n",
    "\n",
    "#b\n",
    "salary = 35000\n",
    "salary_th = salary // 1000\n",
    "print(\"Your salary is\", salary_th, \"thousand dollars.\")"
   ]
  },
  {
   "cell_type": "markdown",
   "metadata": {
    "colab_type": "text",
    "id": "Nd1Ju-tnkdV6"
   },
   "source": [
    "### Task 5\n",
    "\n",
    "Write a program that asks the user for the amount (in dollars) that he wants to transfer to his friend on the card of another bank, and returns the debited amount (in dollars) taking into account the bank's commission of 5%.\n",
    "\n",
    "*Note:* consider that the transfer amount is an integer.\n",
    "\n",
    "**Example:**\n",
    "\n",
    "*Input*\n",
    "\n",
    "    1000\n",
    "\n",
    "*Output*\n",
    "\n",
    "    1050.0"
   ]
  },
  {
   "cell_type": "code",
   "execution_count": null,
   "metadata": {
    "colab": {},
    "colab_type": "code",
    "id": "7wqVY-tikdV6"
   },
   "outputs": [],
   "source": [
    "### YOUR CODE HERE ###\n",
    "amount = int(input(\"Enter amount: \"))\n",
    "amount_changed = amount + 0.05*amount\n",
    "print(amount_changed)"
   ]
  },
  {
   "cell_type": "markdown",
   "metadata": {
    "colab_type": "text",
    "id": "0kvyXTbDkdV9"
   },
   "source": [
    "### Task 6\n",
    "\n",
    "The python crawled out into the street for a walk and decided to play: he asked passers-by to name some number (that is, enter it from the keyboard) and attributed this number to the number that the previous passer-by called. Write a code that will allow you to determine what number will be obtained after polling four passersby, if it is known that the first passerby called the number 5. The problem does not involve the use of loops; you can run the code several times / copy lines of code or cells. Note that the result should be an *integer*, not a string.\n",
    "\n",
    "\n",
    "** Explanation example: ** the first one called the number 5, the second - the number 6, the third - 3. We got the number 563.\n",
    "\n",
    "**Example:**\n",
    "\n",
    "*Input*\n",
    "\n",
    "    5\n",
    "    6\n",
    "    3\n",
    "    0\n",
    "    \n",
    "*Output*\n",
    "    \n",
    "    5630\n"
   ]
  },
  {
   "cell_type": "code",
   "execution_count": null,
   "metadata": {
    "colab": {},
    "colab_type": "code",
    "id": "btYjLFjNkdV-",
    "outputId": "50606b06-cc69-4eb5-8a25-49eb37fc56ba"
   },
   "outputs": [
    {
     "name": "stdout",
     "output_type": "stream",
     "text": [
      "password\n"
     ]
    }
   ],
   "source": [
    "a = \"pass\"\n",
    "b = \"word\"\n",
    "\n",
    "print(a + b)"
   ]
  },
  {
   "cell_type": "code",
   "execution_count": null,
   "metadata": {
    "colab": {},
    "colab_type": "code",
    "id": "ejsz4-uAkdWC"
   },
   "outputs": [],
   "source": [
    "### YOUR CODE HERE ###\n",
    "num1 = int(input(\"Enter the number: \"))\n",
    "num2 = int(input(\"Enter the number: \"))\n",
    "num3 = int(input(\"Enter the number: \"))\n",
    "num4 = int(input(\"Enter the number: \"))\n",
    "print(str(num1) + str(num2) + str(num3) + str(num4))"
   ]
  },
  {
   "cell_type": "markdown",
   "metadata": {
    "colab_type": "text",
    "id": "Yr8GSn1JkdWG"
   },
   "source": [
    "### Task 7\n",
    "\n",
    "An integer `n` is given. Print the next even number. You *cannot* use the `if` conditional statement and loops when solving this problem.\n"
   ]
  },
  {
   "cell_type": "markdown",
   "metadata": {
    "colab_type": "text",
    "id": "IalVHEqWkdWL"
   },
   "source": [
    "**Example**\n",
    "\n",
    "*Input*\n",
    "\n",
    "    7\n",
    "\n",
    "*Output*\n",
    "\n",
    "    8\n",
    "\n",
    "*Input*\n",
    "\n",
    "    8\n",
    "\n",
    "*Output*\n",
    "\n",
    "    10"
   ]
  },
  {
   "cell_type": "code",
   "execution_count": null,
   "metadata": {
    "colab": {},
    "colab_type": "code",
    "id": "8lJLYbCNkdWM"
   },
   "outputs": [],
   "source": [
    "### YOUR CODE HERE ###\n",
    "n = int(input(\"Enter the number: \"))\n",
    "new_n = n + 2\n",
    "check = n % 2\n",
    "odd_even = new_n - check\n",
    "print(odd_even)"
   ]
  },
  {
   "cell_type": "code",
   "execution_count": null,
   "metadata": {},
   "outputs": [],
   "source": []
  }
 ],
 "metadata": {
  "colab": {
   "collapsed_sections": [],
   "name": "jun_anl_intro_hw.ipynb",
   "provenance": []
  },
  "kernelspec": {
   "display_name": "Python 3",
   "language": "python",
   "name": "python3"
  },
  "language_info": {
   "codemirror_mode": {
    "name": "ipython",
    "version": 3
   },
   "file_extension": ".py",
   "mimetype": "text/x-python",
   "name": "python",
   "nbconvert_exporter": "python",
   "pygments_lexer": "ipython3",
   "version": "3.8.8"
  }
 },
 "nbformat": 4,
 "nbformat_minor": 4
}
