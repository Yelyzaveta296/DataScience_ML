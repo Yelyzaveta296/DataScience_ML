{
 "cells": [
  {
   "cell_type": "markdown",
   "metadata": {
    "colab_type": "text",
    "id": "c2KtXmjxtgw-"
   },
   "source": [
    "# Exceptions\n",
    "## Homework"
   ]
  },
  {
   "cell_type": "markdown",
   "metadata": {
    "colab_type": "text",
    "id": "0Vhx-zKitgxA"
   },
   "source": [
    "### Questions"
   ]
  },
  {
   "cell_type": "markdown",
   "metadata": {
    "colab_type": "text",
    "id": "14lleKewtgxC"
   },
   "source": [
    "How to catch generally all errors that can occur?\n"
   ]
  },
  {
   "cell_type": "markdown",
   "metadata": {
    "colab_type": "text",
    "id": "VQnYGkVKtgxD"
   },
   "source": [
    "**Answer:**\n",
    "by class Exception"
   ]
  },
  {
   "cell_type": "markdown",
   "metadata": {
    "colab_type": "text",
    "id": "paSc2JE6tgxD"
   },
   "source": [
    "How many times can except be specified in a row?\n"
   ]
  },
  {
   "cell_type": "markdown",
   "metadata": {
    "colab_type": "text",
    "id": "bU0lzJPBtgxE"
   },
   "source": [
    "**Answer:**\n",
    "an infinite number of times"
   ]
  },
  {
   "cell_type": "markdown",
   "metadata": {
    "colab_type": "text",
    "id": "9wQ-yXpGtgxF"
   },
   "source": [
    "You want to print the name of the error to the console using print, how to do this?\n"
   ]
  },
  {
   "cell_type": "markdown",
   "metadata": {
    "colab_type": "text",
    "id": "iE1iqRZctgxH"
   },
   "source": [
    "\n",
    "**Answer:**\n",
    "For example:\n",
    "\n",
    "try:\n",
    "    res = 1/0\n",
    "except ZeroDivisionError as `ex`:\n",
    "    print(`ex`)\n",
    "   "
   ]
  },
  {
   "cell_type": "markdown",
   "metadata": {
    "colab_type": "text",
    "id": "EDAi3ZFBtgxI"
   },
   "source": [
    "You want to print the error parameters to the console using print, how to do this?\n"
   ]
  },
  {
   "cell_type": "markdown",
   "metadata": {
    "colab_type": "text",
    "id": "qWimgtF3tgxK"
   },
   "source": [
    "**Answer:**\n",
    "For example:\n",
    "\n",
    "try:\n",
    "    res = 1/0\n",
    "except ZeroDivisionError as `ex`:\n",
    "    print(`ex`.args)"
   ]
  },
  {
   "cell_type": "markdown",
   "metadata": {
    "colab_type": "text",
    "id": "leOCJIlRtgxK"
   },
   "source": [
    "What is DeprecationWarning?"
   ]
  },
  {
   "cell_type": "markdown",
   "metadata": {
    "colab_type": "text",
    "id": "KyaynuyvtgxL"
   },
   "source": [
    "**Answer:**\n",
    " This category of warnings is used to say that some part of the functionality is outdated and not recommended for use."
   ]
  },
  {
   "cell_type": "markdown",
   "metadata": {
    "colab_type": "text",
    "id": "oxgCUHzotgxM"
   },
   "source": [
    "### Warm-up tasks. \n",
    "<br>\n",
    "\n",
    "You are given two functions. Investigate what errors may occur when implementing them. Handle those errors.\n"
   ]
  },
  {
   "cell_type": "code",
   "execution_count": 4,
   "metadata": {
    "colab": {},
    "colab_type": "code",
    "id": "X4nsMUUAtgxN"
   },
   "outputs": [],
   "source": [
    "def div():\n",
    "    for i in range(2):\n",
    "        x = int(input(\"enter a number: \"))\n",
    "        y = int(input(\"enter another number: \"))\n",
    "        print(x, '/', y, '=', x/y)\n"
   ]
  },
  {
   "cell_type": "code",
   "execution_count": 5,
   "metadata": {
    "colab": {},
    "colab_type": "code",
    "id": "hoDmt-nStgxS"
   },
   "outputs": [],
   "source": [
    "def sumOfPairs(L1, L2):\n",
    "    sum = 0\n",
    "    sumOfPairs = []\n",
    "    for i in range(len(L1)):\n",
    "        sumOfPairs.append(L1[i]+L2[i])\n",
    "\n",
    "    print(\"sumOfPairs = \", sumOfPairs)\n",
    "    "
   ]
  },
  {
   "cell_type": "markdown",
   "metadata": {
    "colab_type": "text",
    "id": "geX0-Zq6tgxU"
   },
   "source": [
    "###  1.\n",
    "\n",
    "There is a file with a user registration protocol on the site (registrations.txt).<br>\n",
    "Each line contains information about the person's name, email, and age. <br><br>\n",
    "\n",
    "\n",
    "We need to check the data from the file, for each line:\n",
    " - all three fields are present\n",
    " - name field contains only letters\n",
    " - the email field contains @ and .\n",
    " - the age field is a number from 10 to 99<br>\n",
    "\n",
    "As a result of the check, you need to generate two files\n",
    " - registrations_good.log for correct data, write lines as is\n",
    "- registrations_bad.log for erroneous ones, write the string and type of the error.<br>\n",
    "\n",
    "To validate a data string, write a method that can throw exceptions:\n",
    " - All three fields are NOT present: ValueError\n",
    " - name field contains NOT only letters: NotNameError (custom exception)\n",
    " - email field does NOT contain @ and .(dot): NotEmailError (custom exception)\n",
    " - the age field is NOT a number from 10 to 99: ValueError\n",
    "Wrap method call in try-except."
   ]
  },
  {
   "cell_type": "code",
   "execution_count": 1,
   "metadata": {
    "colab": {},
    "colab_type": "code",
    "id": "Eq2Ax0LntgxW"
   },
   "outputs": [],
   "source": [
    "### YOUR CODE HERE ###\n",
    "class NotEmailError(Exception):\n",
    "    pass\n",
    "\n",
    "\n",
    "class NotNameError(Exception):\n",
    "    pass\n",
    "\n",
    "def check(line):\n",
    "    split_lines = line.strip().split(' ')\n",
    "    char = ('@', '.')\n",
    "\n",
    "    if len(split_lines) == 3:\n",
    "        name, email, age = line.strip().split(' ')\n",
    "        for symbol in char:\n",
    "            if symbol not in email:\n",
    "                raise NotEmailError\n",
    "        if name.isalpha() is False:\n",
    "            raise NotNameError\n",
    "        if age.isdigit() and not (10 <= int(age) <= 99):\n",
    "            raise ValueError\n",
    "    else:\n",
    "        raise ValueError\n",
    "\n",
    "with open(\"registrations_.txt\", \"r\", encoding=\"utf-8\") as file:\n",
    "    good = open(\"registrations_good.log\", \"a\", encoding=\"utf-8\")\n",
    "    bad = open(\"registrations_bad.log\", \"a\", encoding=\"utf-8\")\n",
    "    for line in file:\n",
    "        try:\n",
    "            my_str = check(line)\n",
    "        except ValueError:\n",
    "            bad.write(line+ \"Not all fields are present or an incorrect age has been entered\" + '\\n')\n",
    "        except NotNameError:\n",
    "            bad.write(line + \"The name field contains more than just letters\" + '\\n')\n",
    "        except NotEmailError:\n",
    "            bad.write(line + \"The email field does not contain the required characters\" + '\\n')\n",
    "        else:\n",
    "            good.write(line + '\\n')\n",
    "    good.close()\n",
    "    bad.close()\n",
    "\n",
    "file.close()"
   ]
  },
  {
   "cell_type": "code",
   "execution_count": null,
   "metadata": {},
   "outputs": [],
   "source": []
  },
  {
   "cell_type": "code",
   "execution_count": null,
   "metadata": {},
   "outputs": [],
   "source": []
  }
 ],
 "metadata": {
  "colab": {
   "name": "jun_anl_exeptions.ipynb",
   "provenance": [],
   "version": "0.3.2"
  },
  "kernelspec": {
   "display_name": "Python 3",
   "language": "python",
   "name": "python3"
  },
  "language_info": {
   "codemirror_mode": {
    "name": "ipython",
    "version": 3
   },
   "file_extension": ".py",
   "mimetype": "text/x-python",
   "name": "python",
   "nbconvert_exporter": "python",
   "pygments_lexer": "ipython3",
   "version": "3.8.8"
  }
 },
 "nbformat": 4,
 "nbformat_minor": 4
}
