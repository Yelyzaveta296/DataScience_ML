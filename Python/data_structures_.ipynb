{
 "cells": [
  {
   "cell_type": "markdown",
   "metadata": {
    "colab_type": "text",
    "id": "7lPyzNzeLIOj"
   },
   "source": [
    "# Basic data structures\n",
    "\n",
    "\n",
    "\n",
    "## Homework \n"
   ]
  },
  {
   "cell_type": "markdown",
   "metadata": {
    "colab_type": "text",
    "id": "3ndIOSVeLIOm"
   },
   "source": [
    "## List indexing"
   ]
  },
  {
   "cell_type": "code",
   "execution_count": null,
   "metadata": {
    "colab": {},
    "colab_type": "code",
    "id": "XSWqZnZ2LIOo"
   },
   "outputs": [],
   "source": [
    "L = [[[1, 2, 3, 4, 5, 6, 7, 8, 9, 10], [11, 12, 13, 14, 15, 16, 17, 18, 19, 20]], \n",
    "    [[21, 22, 23, 24, 25, 26, 27, 28, 29, 30], [31, 32, 33, 34, 35, 36, 37, 38, 39, 40]], \n",
    "    [[41, 42, 43, 44, 45], [46, [47, 48], 49, 50], [51, 52, 53, 54, 55], [56, 57, 58, 59, 60]], \n",
    "    [61, 62, 63, [64, 65, 66, 67, 68, 69, 70, 71], 72, 73, 74, [75, [76, 77, 78], 79], 80], \n",
    "    [81, 82, 83, 84, 85, 86, 87, 88, 89, 90, 91, 92, 93, 94, 95, 96, 97, 98, 99, 100]]"
   ]
  },
  {
   "cell_type": "markdown",
   "metadata": {
    "colab_type": "text",
    "id": "jwigC9WlLIOt"
   },
   "source": [
    "### 1.\n",
    "From the above list of lists print the number `7` using indices."
   ]
  },
  {
   "cell_type": "code",
   "execution_count": 4,
   "metadata": {
    "colab": {},
    "colab_type": "code",
    "id": "PDaSjPzRLIOu"
   },
   "outputs": [
    {
     "name": "stdout",
     "output_type": "stream",
     "text": [
      "7\n"
     ]
    }
   ],
   "source": [
    "### YOUR CODE HERE ###\n",
    "L = [[[1, 2, 3, 4, 5, 6, 7, 8, 9, 10], [11, 12, 13, 14, 15, 16, 17, 18, 19, 20]], \n",
    "    [[21, 22, 23, 24, 25, 26, 27, 28, 29, 30], [31, 32, 33, 34, 35, 36, 37, 38, 39, 40]], \n",
    "    [[41, 42, 43, 44, 45], [46, [47, 48], 49, 50], [51, 52, 53, 54, 55], [56, 57, 58, 59, 60]], \n",
    "    [61, 62, 63, [64, 65, 66, 67, 68, 69, 70, 71], 72, 73, 74, [75, [76, 77, 78], 79], 80], \n",
    "    [81, 82, 83, 84, 85, 86, 87, 88, 89, 90, 91, 92, 93, 94, 95, 96, 97, 98, 99, 100]]\n",
    "\n",
    "print(L[0][0][6])"
   ]
  },
  {
   "cell_type": "markdown",
   "metadata": {
    "colab_type": "text",
    "id": "TF6eb9fYLIOw"
   },
   "source": [
    "### 2.\n",
    "From the above list of lists print the number `49` using indices."
   ]
  },
  {
   "cell_type": "code",
   "execution_count": 7,
   "metadata": {
    "colab": {},
    "colab_type": "code",
    "id": "l_oW37-qLIOx"
   },
   "outputs": [
    {
     "name": "stdout",
     "output_type": "stream",
     "text": [
      "49\n"
     ]
    }
   ],
   "source": [
    "### YOUR CODE HERE ###\n",
    "L = [[[1, 2, 3, 4, 5, 6, 7, 8, 9, 10], [11, 12, 13, 14, 15, 16, 17, 18, 19, 20]], \n",
    "    [[21, 22, 23, 24, 25, 26, 27, 28, 29, 30], [31, 32, 33, 34, 35, 36, 37, 38, 39, 40]], \n",
    "    [[41, 42, 43, 44, 45], [46, [47, 48], 49, 50], [51, 52, 53, 54, 55], [56, 57, 58, 59, 60]], \n",
    "    [61, 62, 63, [64, 65, 66, 67, 68, 69, 70, 71], 72, 73, 74, [75, [76, 77, 78], 79], 80], \n",
    "    [81, 82, 83, 84, 85, 86, 87, 88, 89, 90, 91, 92, 93, 94, 95, 96, 97, 98, 99, 100]]\n",
    "print(L[2][1][2])"
   ]
  },
  {
   "cell_type": "markdown",
   "metadata": {
    "colab_type": "text",
    "id": "FBDB0JeBLIO1"
   },
   "source": [
    "### 3.\n",
    "\n",
    "From the above list of lists print the number `78` using indices."
   ]
  },
  {
   "cell_type": "code",
   "execution_count": 8,
   "metadata": {
    "colab": {},
    "colab_type": "code",
    "id": "tpM-jm4bLIO2"
   },
   "outputs": [
    {
     "name": "stdout",
     "output_type": "stream",
     "text": [
      "78\n"
     ]
    }
   ],
   "source": [
    "### YOUR CODE HERE ###\n",
    "L = [[[1, 2, 3, 4, 5, 6, 7, 8, 9, 10], [11, 12, 13, 14, 15, 16, 17, 18, 19, 20]], \n",
    "    [[21, 22, 23, 24, 25, 26, 27, 28, 29, 30], [31, 32, 33, 34, 35, 36, 37, 38, 39, 40]], \n",
    "    [[41, 42, 43, 44, 45], [46, [47, 48], 49, 50], [51, 52, 53, 54, 55], [56, 57, 58, 59, 60]], \n",
    "    [61, 62, 63, [64, 65, 66, 67, 68, 69, 70, 71], 72, 73, 74, [75, [76, 77, 78], 79], 80], \n",
    "    [81, 82, 83, 84, 85, 86, 87, 88, 89, 90, 91, 92, 93, 94, 95, 96, 97, 98, 99, 100]]\n",
    "\n",
    "print(L[3][7][1][2])"
   ]
  },
  {
   "cell_type": "markdown",
   "metadata": {
    "colab_type": "text",
    "id": "gnaTfR3BLIO5"
   },
   "source": [
    "### 4.\n",
    "From the above list of lists, use the indices (using **negative values**) to output the number `99`."
   ]
  },
  {
   "cell_type": "code",
   "execution_count": 11,
   "metadata": {
    "colab": {},
    "colab_type": "code",
    "id": "sA0ImW8oLIO6"
   },
   "outputs": [
    {
     "name": "stdout",
     "output_type": "stream",
     "text": [
      "99\n"
     ]
    }
   ],
   "source": [
    "### YOUR CODE HERE ###\n",
    "L = [[[1, 2, 3, 4, 5, 6, 7, 8, 9, 10], [11, 12, 13, 14, 15, 16, 17, 18, 19, 20]], \n",
    "    [[21, 22, 23, 24, 25, 26, 27, 28, 29, 30], [31, 32, 33, 34, 35, 36, 37, 38, 39, 40]], \n",
    "    [[41, 42, 43, 44, 45], [46, [47, 48], 49, 50], [51, 52, 53, 54, 55], [56, 57, 58, 59, 60]], \n",
    "    [61, 62, 63, [64, 65, 66, 67, 68, 69, 70, 71], 72, 73, 74, [75, [76, 77, 78], 79], 80], \n",
    "    [81, 82, 83, 84, 85, 86, 87, 88, 89, 90, 91, 92, 93, 94, 95, 96, 97, 98, 99, 100]]\n",
    "\n",
    "print(L[-1][-2])"
   ]
  },
  {
   "cell_type": "markdown",
   "metadata": {
    "colab_type": "text",
    "id": "07mV6-oeLIO-"
   },
   "source": [
    "### 5.\n",
    "\n",
    "From the above list of lists, make a **slice** with the number `74`. "
   ]
  },
  {
   "cell_type": "code",
   "execution_count": 13,
   "metadata": {
    "colab": {},
    "colab_type": "code",
    "id": "OM-zgJ15LIO-"
   },
   "outputs": [
    {
     "name": "stdout",
     "output_type": "stream",
     "text": [
      "[74]\n"
     ]
    }
   ],
   "source": [
    "### YOUR CODE HERE ###\n",
    "L = [[[1, 2, 3, 4, 5, 6, 7, 8, 9, 10], [11, 12, 13, 14, 15, 16, 17, 18, 19, 20]], \n",
    "    [[21, 22, 23, 24, 25, 26, 27, 28, 29, 30], [31, 32, 33, 34, 35, 36, 37, 38, 39, 40]], \n",
    "    [[41, 42, 43, 44, 45], [46, [47, 48], 49, 50], [51, 52, 53, 54, 55], [56, 57, 58, 59, 60]], \n",
    "    [61, 62, 63, [64, 65, 66, 67, 68, 69, 70, 71], 72, 73, 74, [75, [76, 77, 78], 79], 80], \n",
    "    [81, 82, 83, 84, 85, 86, 87, 88, 89, 90, 91, 92, 93, 94, 95, 96, 97, 98, 99, 100]]\n",
    "\n",
    "print(L[3][6:7])"
   ]
  },
  {
   "cell_type": "markdown",
   "metadata": {
    "colab_type": "text",
    "id": "TE82rH0CLIPB"
   },
   "source": [
    "### 6.\n",
    "\n",
    "From the above list of lists, make a **slice** with the numbers `47, 48`."
   ]
  },
  {
   "cell_type": "code",
   "execution_count": 10,
   "metadata": {
    "colab": {},
    "colab_type": "code",
    "id": "MKpqyOINLIPD"
   },
   "outputs": [
    {
     "name": "stdout",
     "output_type": "stream",
     "text": [
      "[[47, 48]]\n"
     ]
    }
   ],
   "source": [
    "### YOUR CODE HERE ###\n",
    "L = [[[1, 2, 3, 4, 5, 6, 7, 8, 9, 10], [11, 12, 13, 14, 15, 16, 17, 18, 19, 20]], \n",
    "    [[21, 22, 23, 24, 25, 26, 27, 28, 29, 30], [31, 32, 33, 34, 35, 36, 37, 38, 39, 40]], \n",
    "    [[41, 42, 43, 44, 45], [46, [47, 48], 49, 50], [51, 52, 53, 54, 55], [56, 57, 58, 59, 60]], \n",
    "    [61, 62, 63, [64, 65, 66, 67, 68, 69, 70, 71], 72, 73, 74, [75, [76, 77, 78], 79], 80], \n",
    "    [81, 82, 83, 84, 85, 86, 87, 88, 89, 90, 91, 92, 93, 94, 95, 96, 97, 98, 99, 100]]\n",
    "\n",
    "print(L[2][1][1:2])"
   ]
  },
  {
   "cell_type": "markdown",
   "metadata": {
    "colab_type": "text",
    "id": "t6Fgb0AkLIPK"
   },
   "source": [
    "### 7.\n",
    "\n",
    "From the above list of lists, make a **slice** with the numbers `77, 78`."
   ]
  },
  {
   "cell_type": "code",
   "execution_count": 7,
   "metadata": {
    "colab": {},
    "colab_type": "code",
    "id": "l1pGFe7uLIPM"
   },
   "outputs": [
    {
     "name": "stdout",
     "output_type": "stream",
     "text": [
      "[77, 78]\n"
     ]
    }
   ],
   "source": [
    "### YOUR CODE HERE ###\n",
    "L = [[[1, 2, 3, 4, 5, 6, 7, 8, 9, 10], [11, 12, 13, 14, 15, 16, 17, 18, 19, 20]], \n",
    "    [[21, 22, 23, 24, 25, 26, 27, 28, 29, 30], [31, 32, 33, 34, 35, 36, 37, 38, 39, 40]], \n",
    "    [[41, 42, 43, 44, 45], [46, [47, 48], 49, 50], [51, 52, 53, 54, 55], [56, 57, 58, 59, 60]], \n",
    "    [61, 62, 63, [64, 65, 66, 67, 68, 69, 70, 71], 72, 73, 74, [75, [76, 77, 78], 79], 80], \n",
    "    [81, 82, 83, 84, 85, 86, 87, 88, 89, 90, 91, 92, 93, 94, 95, 96, 97, 98, 99, 100]]\n",
    "\n",
    "print(L[3][7][1][1:])"
   ]
  },
  {
   "cell_type": "markdown",
   "metadata": {
    "colab_type": "text",
    "id": "RwOlYKGhLIPR"
   },
   "source": [
    "## Function range()"
   ]
  },
  {
   "cell_type": "markdown",
   "metadata": {
    "colab_type": "text",
    "id": "s2K0_TThLIPR"
   },
   "source": [
    "### 8.\n",
    "Use the `range` function to generate the following sequence: <br>\n",
    "`[0, 1, 2, 3, 4]`"
   ]
  },
  {
   "cell_type": "code",
   "execution_count": 14,
   "metadata": {
    "colab": {},
    "colab_type": "code",
    "id": "vpuvqwqdLIPS"
   },
   "outputs": [
    {
     "data": {
      "text/plain": [
       "[0, 1, 2, 3, 4]"
      ]
     },
     "execution_count": 14,
     "metadata": {},
     "output_type": "execute_result"
    }
   ],
   "source": [
    "### YOUR CODE HERE ###\n",
    "list(range(5))\n"
   ]
  },
  {
   "cell_type": "markdown",
   "metadata": {
    "colab_type": "text",
    "id": "WyhA3ipeLIPU"
   },
   "source": [
    "### 9.\n",
    "Use the `range` function to generate the following sequence:<br>\n",
    "`[3, 4]`"
   ]
  },
  {
   "cell_type": "code",
   "execution_count": 15,
   "metadata": {
    "colab": {},
    "colab_type": "code",
    "id": "WHoyVxCeLIPV"
   },
   "outputs": [
    {
     "data": {
      "text/plain": [
       "[3, 4]"
      ]
     },
     "execution_count": 15,
     "metadata": {},
     "output_type": "execute_result"
    }
   ],
   "source": [
    "### YOUR CODE HERE ###\n",
    "list(range(3,5))\n"
   ]
  },
  {
   "cell_type": "markdown",
   "metadata": {
    "colab_type": "text",
    "id": "Clfo7jhOLIPY"
   },
   "source": [
    "### 10.\n",
    "Use the `range` function to generate the following sequence:\n",
    "<br>\n",
    "`[4, 8, 12, 16]`"
   ]
  },
  {
   "cell_type": "code",
   "execution_count": 1,
   "metadata": {
    "colab": {},
    "colab_type": "code",
    "id": "WepJj6ZfLIPY"
   },
   "outputs": [
    {
     "data": {
      "text/plain": [
       "[4, 8, 12, 16]"
      ]
     },
     "execution_count": 1,
     "metadata": {},
     "output_type": "execute_result"
    }
   ],
   "source": [
    "### YOUR CODE HERE ###\n",
    "list(range(4,20,4))\n",
    "\n",
    "\n"
   ]
  },
  {
   "cell_type": "markdown",
   "metadata": {
    "colab_type": "text",
    "id": "U9glCsGCLIPb"
   },
   "source": [
    "### 11.\n",
    "Use the `range` function to generate the following sequence:\n",
    "<br>\n",
    "`[16, 12, 8, 4]`"
   ]
  },
  {
   "cell_type": "code",
   "execution_count": 23,
   "metadata": {
    "colab": {},
    "colab_type": "code",
    "id": "NDm-DmpTLIPc"
   },
   "outputs": [
    {
     "data": {
      "text/plain": [
       "[16, 12, 8, 4]"
      ]
     },
     "execution_count": 23,
     "metadata": {},
     "output_type": "execute_result"
    }
   ],
   "source": [
    "### YOUR CODE HERE ###\n",
    "list(range(16,0,-4))\n"
   ]
  },
  {
   "cell_type": "markdown",
   "metadata": {
    "colab_type": "text",
    "id": "CHz6UIKyLIPi"
   },
   "source": [
    "### 12.\n",
    "Use the `range` function to generate the following sequence:\n",
    "<br>\n",
    "`[0, 5, 10]`"
   ]
  },
  {
   "cell_type": "code",
   "execution_count": 28,
   "metadata": {
    "colab": {},
    "colab_type": "code",
    "id": "9C06f5sTLIPj"
   },
   "outputs": [
    {
     "data": {
      "text/plain": [
       "[0, 5, 10]"
      ]
     },
     "execution_count": 28,
     "metadata": {},
     "output_type": "execute_result"
    }
   ],
   "source": [
    "### YOUR CODE HERE ###\n",
    "list(range(0,11,5))\n"
   ]
  },
  {
   "cell_type": "markdown",
   "metadata": {
    "colab_type": "text",
    "id": "ZZehpNQuLIPm"
   },
   "source": [
    "### 13.\n",
    "Use the `range` function to generate the following sequence:\n",
    "<br>\n",
    "`[10, 5, 0]`"
   ]
  },
  {
   "cell_type": "code",
   "execution_count": 31,
   "metadata": {
    "colab": {},
    "colab_type": "code",
    "id": "H4QmyUfZLIPm"
   },
   "outputs": [
    {
     "data": {
      "text/plain": [
       "[10, 5, 0]"
      ]
     },
     "execution_count": 31,
     "metadata": {},
     "output_type": "execute_result"
    }
   ],
   "source": [
    "### YOUR CODE HERE ###\n",
    "list(range(10,-1,-5))\n"
   ]
  },
  {
   "cell_type": "markdown",
   "metadata": {
    "colab_type": "text",
    "id": "kwWQ1al2LIPr"
   },
   "source": [
    "### 14.\n",
    "Use the `range` function to generate the following sequence:\n",
    "<br>\n",
    "`[-10, -9, -8, -7, -6, -5, -4, -3, -2, -1]`"
   ]
  },
  {
   "cell_type": "code",
   "execution_count": 33,
   "metadata": {
    "colab": {},
    "colab_type": "code",
    "id": "85HO3S_cLIPu"
   },
   "outputs": [
    {
     "data": {
      "text/plain": [
       "[-10, -9, -8, -7, -6, -5, -4, -3, -2, -1]"
      ]
     },
     "execution_count": 33,
     "metadata": {},
     "output_type": "execute_result"
    }
   ],
   "source": [
    "### YOUR CODE HERE ###\n",
    "list(range(-10,0,1))\n"
   ]
  },
  {
   "cell_type": "markdown",
   "metadata": {
    "colab_type": "text",
    "id": "sbCO0FbLLIP3"
   },
   "source": [
    "### 15.\n",
    "Use the `range` function to generate the following sequence:\n",
    "<br>\n",
    "`[-10, -16, -22, -28, -34]`"
   ]
  },
  {
   "cell_type": "code",
   "execution_count": 36,
   "metadata": {
    "colab": {},
    "colab_type": "code",
    "id": "Frychu-HLIP4"
   },
   "outputs": [
    {
     "data": {
      "text/plain": [
       "[-10, -16, -22, -28, -34]"
      ]
     },
     "execution_count": 36,
     "metadata": {},
     "output_type": "execute_result"
    }
   ],
   "source": [
    "### YOUR CODE HERE ###\n",
    "list(range(-10,-35,-6))\n"
   ]
  },
  {
   "cell_type": "markdown",
   "metadata": {
    "colab_type": "text",
    "id": "1Gfu4kFqLIP-"
   },
   "source": [
    "## Operators and Data Types\n",
    "\n",
    "This block must be solved **WITHOUT** the use of ready-made functions and third-party libraries. Use operators."
   ]
  },
  {
   "cell_type": "markdown",
   "metadata": {
    "colab_type": "text",
    "id": "qnWdcLseLIP_"
   },
   "source": [
    "### 16.\n",
    "The clock displays the time in the format h:mm:ss (number of hours (0 to 23), two-digit minutes, two-digit seconds). The number of minutes and seconds, if necessary, are padded to a two-digit number with zeros.\n",
    "\n",
    "The program should ask for the number of seconds S that have passed since the beginning of the day, and output in h:mm:ss format what time the clock will show. <br><br>\n",
    "\n",
    "*Input Format:* <br>\n",
    "3600<br><br>\n",
    "\n",
    "*Output Format:* <br>\n",
    "1:00:00"
   ]
  },
  {
   "cell_type": "code",
   "execution_count": null,
   "metadata": {
    "colab": {},
    "colab_type": "code",
    "id": "UaM4-TFYLIP_"
   },
   "outputs": [],
   "source": [
    "### YOUR CODE HERE ###\n",
    "sec = int(input('Enter the number of seconds that have passed since the beginning of the day:'))\n",
    "hours = sec // 3600\n",
    "minutes = sec // 60 % 60\n",
    "seconds = sec % 60\n",
    "\n",
    "print(f'{hours % 24}:{minutes // 10}{minutes % 10}:{seconds // 10}{seconds % 10}')"
   ]
  },
  {
   "cell_type": "markdown",
   "metadata": {
    "colab_type": "text",
    "id": "BnxMhHlDLIQB"
   },
   "source": [
    "### 17.\n",
    "The car enters the zero kilometer of the road and travels clockwise at a constant speed of V kilometers per hour. At what kilometer of the road will the car be in T hours?\n",
    "\n",
    "<br> Length of the road: 230 km. <br><br> \n",
    "\n",
    "*Input Format:* <br>\n",
    "60 <br>\n",
    "1\n",
    "<br><br>\n",
    "*Output Format:* <br>\n",
    "60"
   ]
  },
  {
   "cell_type": "code",
   "execution_count": null,
   "metadata": {
    "colab": {},
    "colab_type": "code",
    "id": "66aeGuRbLIQC"
   },
   "outputs": [],
   "source": [
    "### YOUR CODE HERE ###\n",
    "velocity = int(input(\"velocity: \"))\n",
    "time = float(input(\"time: \"))\n",
    "distance = (velocity * time) % 230\n",
    "\n",
    "\n",
    "print(distance)"
   ]
  },
  {
   "cell_type": "markdown",
   "metadata": {
    "colab_type": "text",
    "id": "ZxMi6_58LIQG"
   },
   "source": [
    "### 18.\n",
    "Write a program that asks for a five-digit integer and prints the sum of its digits.\n",
    "\n",
    "*Input Format:* <br>\n",
    "11111\n",
    "<br><br>\n",
    "*Output Format:* <br>\n",
    "5"
   ]
  },
  {
   "cell_type": "code",
   "execution_count": null,
   "metadata": {
    "colab": {},
    "colab_type": "code",
    "id": "wasIkbwELIQH"
   },
   "outputs": [],
   "source": [
    "### YOUR CODE HERE ###\n",
    "num = int(input(\"Enter a five-digit number: \"))\n",
    "n1 = num // 10000\n",
    "n2 = num // 1000 % 10\n",
    "n3 = num // 100 % 10\n",
    "n4 = num // 10 % 10\n",
    "n5 = num % 10\n",
    "sum = n1 + n2 + n3 + n4 + n5\n",
    "\n",
    "print('The sum of the digits in a number: ', sum)"
   ]
  },
  {
   "cell_type": "markdown",
   "metadata": {
    "colab_type": "text",
    "id": "6q6JEgziLIQK"
   },
   "source": [
    "### 19.\n",
    "Write a program that asks for a four-digit integer and swaps its first two and last two digits.\n",
    "\n",
    "*Input Format:* <br>\n",
    "5236 \n",
    "<br><br>\n",
    "*Output Format:* <br>\n",
    "3652"
   ]
  },
  {
   "cell_type": "code",
   "execution_count": null,
   "metadata": {
    "colab": {},
    "colab_type": "code",
    "id": "tupFycemLIQK"
   },
   "outputs": [],
   "source": [
    "### YOUR CODE HERE ###\n",
    "num = int(input(\"Enter a four-digit number: \"))\n",
    "num1 = num % 100\n",
    "num2 = num // 100\n",
    "num3 = str(num1) + str(num2)\n",
    "\n",
    "print(num3)"
   ]
  },
  {
   "cell_type": "markdown",
   "metadata": {
    "colab_type": "text",
    "id": "3NglY6CQLIQN"
   },
   "source": [
    "### 20.\n",
    "Write a program that, based on the parameter D (how many kilometers a car travels per day), calculates how many days it will spend on a journey of length P kilometers. <br><br>\n",
    "\n",
    "*Input Format:* <br>\n",
    "105 <br>\n",
    "120\n",
    "<br><br>\n",
    "*Output Format:* <br>\n",
    "2"
   ]
  },
  {
   "cell_type": "code",
   "execution_count": null,
   "metadata": {
    "colab": {},
    "colab_type": "code",
    "id": "7sCggR--LIQN"
   },
   "outputs": [],
   "source": [
    "### YOUR CODE HERE ###\n",
    "import math\n",
    "\n",
    "km_per_day = int(input('How many kilometers per day does a car cover?:'))\n",
    "way_to_reach = int(input('How many kilometers do you need to drive?:'))\n",
    "days = math.ceil(way_to_reach / km_per_day)\n",
    "\n",
    "print(days)"
   ]
  },
  {
   "cell_type": "markdown",
   "metadata": {
    "colab_type": "text",
    "id": "oWERt2BRLIQR"
   },
   "source": [
    "### 21.\n",
    "\n",
    "Write a program that calculates how many dollars and cents you need to pay for N avocados if one avocado costs R dollars and K cents. <br><br>\n",
    "*Input Format:* <br>\n",
    "4 20 <br>\n",
    "5\n",
    "<br><br>\n",
    "*Output Format:* <br>\n",
    " 21 dollars  00 cents"
   ]
  },
  {
   "cell_type": "code",
   "execution_count": 1,
   "metadata": {
    "colab": {},
    "colab_type": "code",
    "id": "Zvx5ybP7LIQU"
   },
   "outputs": [
    {
     "name": "stdout",
     "output_type": "stream",
     "text": [
      "21 dollars 00 cents\n"
     ]
    }
   ],
   "source": [
    "### YOUR CODE HERE ###\n",
    "avo1_dol = 4\n",
    "avo1_cent = 20\n",
    "n = 5\n",
    "price_for_one = float('{0}.{1}'.format(avo1_dol, avo1_cent))\n",
    "price_for_N  = price_for_one * n\n",
    "price_for_N_fixed_str = f'{price_for_N:.2f}'\n",
    "price_for_N_first = int(price_for_N)\n",
    "price_for_N_last = price_for_N_fixed_str[-2:]\n",
    "\n",
    "print(price_for_N_first, 'dollars', price_for_N_last, 'cents')"
   ]
  },
  {
   "cell_type": "markdown",
   "metadata": {
    "colab_type": "text",
    "id": "Q0u91-MILIQX"
   },
   "source": [
    "### 22.\n",
    "Let the organizers of the event incorrectly compiled a Google form and asked people to enter their full names in the wrong order. First they asked for the first name, then the patronymic, then the last name. Write a program that will rearrange the full name in the desired order.\n",
    " <br> <br> \n",
    "\n",
    "*Input Format:* <br>\n",
    "Ivan Ivanovych Ivanov<br><br>\n",
    "*Output Format:* <br>\n",
    "Ivanov Ivan Ivanovych"
   ]
  },
  {
   "cell_type": "code",
   "execution_count": null,
   "metadata": {
    "colab": {},
    "colab_type": "code",
    "id": "hrXguBL7LIQX"
   },
   "outputs": [],
   "source": [
    "### YOUR CODE HERE ###\n",
    "fio = input('Enter your first name, patronymic, last name:')\n",
    "fio_list = fio.split(' ')\n",
    "new_list = [fio_list[2], fio_list[0], fio_list[1]]\n",
    "\n",
    "print(' '.join(new_list))"
   ]
  },
  {
   "cell_type": "markdown",
   "metadata": {
    "colab_type": "text",
    "id": "vwexBPelLIQb"
   },
   "source": [
    "## Dictionaries and lists"
   ]
  },
  {
   "cell_type": "markdown",
   "metadata": {
    "colab_type": "text",
    "id": "nIgc10tKLIQc"
   },
   "source": [
    "### 23.\n",
    "You have a list with an order at a restaurant. Write a program that changes the name of a dish to something else. In this case, the new dish in the list will be located in the place of the one that was replaced.\n",
    "\n",
    "\n",
    "*Input Format:* <br>\n",
    "white wine<br>\n",
    "red wine <br><br>\n",
    "*Output Format:* <br>\n",
    "`['red wine', 'Caesar salad', 'pasta Carbonara', 'cheesecake', 'chocolate sorbet']`"
   ]
  },
  {
   "cell_type": "code",
   "execution_count": null,
   "metadata": {
    "colab": {},
    "colab_type": "code",
    "id": "O0k3dslvLIQd"
   },
   "outputs": [],
   "source": [
    "order = ['white wine', 'Caesar salad', 'pasta Carbonara', 'cheesecake', 'chocolate sorbet']"
   ]
  },
  {
   "cell_type": "code",
   "execution_count": null,
   "metadata": {
    "colab": {},
    "colab_type": "code",
    "id": "D9s6foo_LIQh"
   },
   "outputs": [],
   "source": [
    "### YOUR CODE HERE ###\n",
    "order = ['white wine', 'Caesar salad', 'pasta Carbonara', 'cheesecake', 'chocolate sorbet']\n",
    "to_delete = input(\"Select dish and delete:\")\n",
    "to_put = input(\"Change to dish:\")\n",
    "order[order.index(to_delete)] = to_put\n",
    "\n",
    "print(order)"
   ]
  },
  {
   "cell_type": "markdown",
   "metadata": {
    "colab_type": "text",
    "id": "GLx0EKUiLIQj"
   },
   "source": [
    "__________________\n",
    "You are given a dictionary with a schedule for the week.\n"
   ]
  },
  {
   "cell_type": "code",
   "execution_count": null,
   "metadata": {
    "colab": {},
    "colab_type": "code",
    "id": "fbPqWtv_LIQl"
   },
   "outputs": [],
   "source": [
    "diary = {'Monday': {\n",
    "                          'morning': ['walk the dog'],\n",
    "                          'day': [],\n",
    "                          'evening': ['walk the dog']\n",
    "                                      },\n",
    "        'Tuesday': {\n",
    "                          'morning': ['walk the dog'],\n",
    "                          'day': [],\n",
    "                          'evening': ['walk the dog']\n",
    "                                      },\n",
    "        'Wednesday': {\n",
    "                          'morning': ['walk the dog'],\n",
    "                          'day': [],\n",
    "                          'evening': ['walk the dog']\n",
    "                                      },\n",
    "        'Thursday': {\n",
    "                          'morning': ['walk the dog'],\n",
    "                          'day': [],\n",
    "                          'evening': ['walk the dog']\n",
    "                                      },\n",
    "        'Friday': {\n",
    "                          'morning': ['go to the tire shop', 'wash the car'],\n",
    "                          'day': [],\n",
    "                          'evening': ['going to the theatre', 'dinner at a cafe']\n",
    "                                      },\n",
    "        'Saturday': {\n",
    "                          'morning': [],\n",
    "                          'day': [],\n",
    "                          'evening': []\n",
    "                                      },\n",
    "        'Sunday': {\n",
    "                          'morning': [],\n",
    "                          'day': [],\n",
    "                          'evening': []\n",
    "                                      }}"
   ]
  },
  {
   "cell_type": "markdown",
   "metadata": {
    "colab_type": "text",
    "id": "3FocVZkgLIQn"
   },
   "source": [
    "### 24.\n",
    "Delete the keys `Saturday` and `Sunday`. Instead, add a pair, where the key is the tuple `Saturday, Sunday`, and the value is a list with the task `plant flowers in the garden`. Is it possible to make the key `Saturday, Sunday` a list?\n"
   ]
  },
  {
   "cell_type": "code",
   "execution_count": null,
   "metadata": {
    "colab": {},
    "colab_type": "code",
    "id": "lcw8GWcnLIQo"
   },
   "outputs": [],
   "source": [
    "### YOUR CODE HERE ###\n",
    "diary = {'Monday': {\n",
    "                          'morning': ['walk the dog'],\n",
    "                          'day': [],\n",
    "                          'evening': ['walk the dog']\n",
    "                                      },\n",
    "        'Tuesday': {\n",
    "                          'morning': ['walk the dog'],\n",
    "                          'day': [],\n",
    "                          'evening': ['walk the dog']\n",
    "                                      },\n",
    "        'Wednesday': {\n",
    "                          'morning': ['walk the dog'],\n",
    "                          'day': [],\n",
    "                          'evening': ['walk the dog']\n",
    "                                      },\n",
    "        'Thursday': {\n",
    "                          'morning': ['walk the dog'],\n",
    "                          'day': [],\n",
    "                          'evening': ['walk the dog']\n",
    "                                      },\n",
    "        'Friday': {\n",
    "                          'morning': ['go to the tire shop', 'wash the car'],\n",
    "                          'day': [],\n",
    "                          'evening': ['going to the theatre', 'dinner at a cafe']\n",
    "                                      },\n",
    "        'Saturday': {\n",
    "                          'morning': [],\n",
    "                          'day': [],\n",
    "                          'evening': []\n",
    "                                      },\n",
    "        'Sunday': {\n",
    "                          'morning': [],\n",
    "                          'day': [],\n",
    "                          'evening': []\n",
    "                                      }}\n",
    "\n",
    "\n",
    "\n",
    "diary.pop('Saturday')\n",
    "diary.pop('Sunday')\n",
    "diary[('Saturday', 'Sunday')] = ['plant flowers in the garden']\n",
    "\n",
    "print(diary)\n",
    "# lists cannot be used as keys because they are a mutable data type"
   ]
  },
  {
   "cell_type": "markdown",
   "metadata": {
    "colab_type": "text",
    "id": "vVhNCrtLLIQs"
   },
   "source": [
    "### 25.\n",
    "Add 'going to the dentist' to your Tuesday morning to-do list."
   ]
  },
  {
   "cell_type": "code",
   "execution_count": null,
   "metadata": {
    "colab": {},
    "colab_type": "code",
    "id": "R4BiwaWlLIQu"
   },
   "outputs": [],
   "source": [
    "### YOUR CODE HERE ###\n",
    "diary = {'Monday': {\n",
    "                          'morning': ['walk the dog'],\n",
    "                          'day': [],\n",
    "                          'evening': ['walk the dog']\n",
    "                                      },\n",
    "        'Tuesday': {\n",
    "                          'morning': ['walk the dog'],\n",
    "                          'day': [],\n",
    "                          'evening': ['walk the dog']\n",
    "                                      },\n",
    "        'Wednesday': {\n",
    "                          'morning': ['walk the dog'],\n",
    "                          'day': [],\n",
    "                          'evening': ['walk the dog']\n",
    "                                      },\n",
    "        'Thursday': {\n",
    "                          'morning': ['walk the dog'],\n",
    "                          'day': [],\n",
    "                          'evening': ['walk the dog']\n",
    "                                      },\n",
    "        'Friday': {\n",
    "                          'morning': ['go to the tire shop', 'wash the car'],\n",
    "                          'day': [],\n",
    "                          'evening': ['going to the theatre', 'dinner at a cafe']\n",
    "                                      },\n",
    "        'Saturday': {\n",
    "                          'morning': [],\n",
    "                          'day': [],\n",
    "                          'evening': []\n",
    "                                      },\n",
    "        'Sunday': {\n",
    "                          'morning': [],\n",
    "                          'day': [],\n",
    "                          'evening': []\n",
    "                                      }}\n",
    "\n",
    "diary['Tuesday'].setdefault('morning ',['walk the dog']).append('going to the dentist')\n",
    "\n",
    "print(diary)"
   ]
  },
  {
   "cell_type": "markdown",
   "metadata": {
    "colab_type": "text",
    "id": "BPQ5R-PkLIQ2"
   },
   "source": [
    "### 26.\n",
    "Replace `going to the theatre` with `going to the movies` on your Friday night to-do list."
   ]
  },
  {
   "cell_type": "code",
   "execution_count": null,
   "metadata": {
    "colab": {},
    "colab_type": "code",
    "id": "nhqzOrZILIQ5"
   },
   "outputs": [],
   "source": [
    "### YOUR CODE HERE ###\n",
    "diary = {'Monday': {\n",
    "                          'morning': ['walk the dog'],\n",
    "                          'day': [],\n",
    "                          'evening': ['walk the dog']\n",
    "                                      },\n",
    "        'Tuesday': {\n",
    "                          'morning': ['walk the dog'],\n",
    "                          'day': [],\n",
    "                          'evening': ['walk the dog']\n",
    "                                      },\n",
    "        'Wednesday': {\n",
    "                          'morning': ['walk the dog'],\n",
    "                          'day': [],\n",
    "                          'evening': ['walk the dog']\n",
    "                                      },\n",
    "        'Thursday': {\n",
    "                          'morning': ['walk the dog'],\n",
    "                          'day': [],\n",
    "                          'evening': ['walk the dog']\n",
    "                                      },\n",
    "        'Friday': {\n",
    "                          'morning': ['go to the tire shop', 'wash the car'],\n",
    "                          'day': [],\n",
    "                          'evening': ['going to the theatre', 'dinner at a cafe']\n",
    "                                      },\n",
    "        'Saturday': {\n",
    "                          'morning': [],\n",
    "                          'day': [],\n",
    "                          'evening': []\n",
    "                                      },\n",
    "        'Sunday': {\n",
    "                          'morning': [],\n",
    "                          'day': [],\n",
    "                          'evening': []\n",
    "                                      }}\n",
    "\n",
    "diary['Friday']['evening'][0] = 'going to the movies' \n",
    "\n",
    "print(diary)"
   ]
  },
  {
   "cell_type": "markdown",
   "metadata": {
    "colab_type": "text",
    "id": "HCE0aq_BLIQ7"
   },
   "source": [
    "### 27.\n",
    "Your friend will be back from vacation one day earlier, so he will pick up his dog on Wednesday instead of Thursday. Remove the case `walk the dog` from the relevant lists."
   ]
  },
  {
   "cell_type": "code",
   "execution_count": null,
   "metadata": {
    "colab": {},
    "colab_type": "code",
    "id": "WPnIXdTVLIQ7"
   },
   "outputs": [],
   "source": [
    "### YOUR CODE HERE ###\n",
    "diary = {'Monday': {\n",
    "                          'morning': ['walk the dog'],\n",
    "                          'day': [],\n",
    "                          'evening': ['walk the dog']\n",
    "                                      },\n",
    "        'Tuesday': {\n",
    "                          'morning': ['walk the dog'],\n",
    "                          'day': [],\n",
    "                          'evening': ['walk the dog']\n",
    "                                      },\n",
    "        'Wednesday': {\n",
    "                          'morning': ['walk the dog'],\n",
    "                          'day': [],\n",
    "                          'evening': ['walk the dog']\n",
    "                                      },\n",
    "        'Thursday': {\n",
    "                          'morning': ['walk the dog'],\n",
    "                          'day': [],\n",
    "                          'evening': ['walk the dog']\n",
    "                                      },\n",
    "        'Friday': {\n",
    "                          'morning': ['go to the tire shop', 'wash the car'],\n",
    "                          'day': [],\n",
    "                          'evening': ['going to the theatre', 'dinner at a cafe']\n",
    "                                      },\n",
    "        'Saturday': {\n",
    "                          'morning': [],\n",
    "                          'day': [],\n",
    "                          'evening': []\n",
    "                                      },\n",
    "        'Sunday': {\n",
    "                          'morning': [],\n",
    "                          'day': [],\n",
    "                          'evening': []\n",
    "                                      }}\n",
    "diary['Thursday']['morning'].remove('walk the dog')\n",
    "diary['Thursday']['evening'].remove('walk the dog')\n",
    "\n",
    "print(diary)"
   ]
  },
  {
   "cell_type": "markdown",
   "metadata": {
    "colab_type": "text",
    "id": "A80KVUrZLIQ9"
   },
   "source": [
    "### 28.\n",
    "Get the second thing on your list of things you need to do on Friday morning."
   ]
  },
  {
   "cell_type": "code",
   "execution_count": null,
   "metadata": {
    "colab": {},
    "colab_type": "code",
    "id": "ofqEBNuZLIQ-"
   },
   "outputs": [],
   "source": [
    "### YOUR CODE HERE ###\n",
    "diary = {'Monday': {\n",
    "                          'morning': ['walk the dog'],\n",
    "                          'day': [],\n",
    "                          'evening': ['walk the dog']\n",
    "                                      },\n",
    "        'Tuesday': {\n",
    "                          'morning': ['walk the dog'],\n",
    "                          'day': [],\n",
    "                          'evening': ['walk the dog']\n",
    "                                      },\n",
    "        'Wednesday': {\n",
    "                          'morning': ['walk the dog'],\n",
    "                          'day': [],\n",
    "                          'evening': ['walk the dog']\n",
    "                                      },\n",
    "        'Thursday': {\n",
    "                          'morning': ['walk the dog'],\n",
    "                          'day': [],\n",
    "                          'evening': ['walk the dog']\n",
    "                                      },\n",
    "        'Friday': {\n",
    "                          'morning': ['go to the tire shop', 'wash the car'],\n",
    "                          'day': [],\n",
    "                          'evening': ['going to the theatre', 'dinner at a cafe']\n",
    "                                      },\n",
    "        'Saturday': {\n",
    "                          'morning': [],\n",
    "                          'day': [],\n",
    "                          'evening': []\n",
    "                                      },\n",
    "        'Sunday': {\n",
    "                          'morning': [],\n",
    "                          'day': [],\n",
    "                          'evening': []\n",
    "                                      }}\n",
    "\n",
    "print(diary['Friday']['morning'][1])\n"
   ]
  },
  {
   "cell_type": "code",
   "execution_count": null,
   "metadata": {},
   "outputs": [],
   "source": []
  }
 ],
 "metadata": {
  "colab": {
   "collapsed_sections": [
    "t6Fgb0AkLIPK",
    "s2K0_TThLIPR",
    "WyhA3ipeLIPU",
    "Clfo7jhOLIPY",
    "U9glCsGCLIPb",
    "CHz6UIKyLIPi",
    "ZZehpNQuLIPm",
    "kwWQ1al2LIPr",
    "qnWdcLseLIP_",
    "BnxMhHlDLIQB",
    "ZxMi6_58LIQG",
    "6q6JEgziLIQK",
    "3NglY6CQLIQN",
    "oWERt2BRLIQR",
    "Q0u91-MILIQX",
    "nIgc10tKLIQc",
    "3FocVZkgLIQn",
    "vVhNCrtLLIQs",
    "BPQ5R-PkLIQ2",
    "HCE0aq_BLIQ7"
   ],
   "name": "jun_anl_data_structures_.ipynb",
   "provenance": []
  },
  "kernelspec": {
   "display_name": "Python 3",
   "language": "python",
   "name": "python3"
  },
  "language_info": {
   "codemirror_mode": {
    "name": "ipython",
    "version": 3
   },
   "file_extension": ".py",
   "mimetype": "text/x-python",
   "name": "python",
   "nbconvert_exporter": "python",
   "pygments_lexer": "ipython3",
   "version": "3.8.8"
  }
 },
 "nbformat": 4,
 "nbformat_minor": 4
}
