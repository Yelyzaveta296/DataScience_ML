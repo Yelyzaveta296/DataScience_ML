{
 "cells": [
  {
   "cell_type": "code",
   "execution_count": 1,
   "id": "ff2a5f2f-ec76-4349-bcb2-93738ce77323",
   "metadata": {},
   "outputs": [],
   "source": [
    "from sympy import *\n",
    "from sympy.plotting import plot3d\n",
    "init_printing(use_unicode=False, wrap_line=False, no_global=True)\n",
    "import numpy as np"
   ]
  },
  {
   "cell_type": "code",
   "execution_count": 2,
   "id": "96fec347-05c1-4dbc-9584-a394c7eb1d16",
   "metadata": {},
   "outputs": [
    {
     "data": {
      "text/plain": [
       "array([[1, 2, 3],\n",
       "       [4, 5, 6]])"
      ]
     },
     "execution_count": 2,
     "metadata": {},
     "output_type": "execute_result"
    }
   ],
   "source": [
    "#1\n",
    "matrix_A = np.array([[1, 2, 3], [4, 5, 6]])\n",
    "matrix_A"
   ]
  },
  {
   "cell_type": "code",
   "execution_count": 3,
   "id": "690a4c15-f550-4b37-8cfc-9524cf0670cb",
   "metadata": {},
   "outputs": [
    {
     "data": {
      "text/plain": [
       "[[1, 4], [2, 5], [3, 6]]"
      ]
     },
     "execution_count": 3,
     "metadata": {},
     "output_type": "execute_result"
    }
   ],
   "source": [
    "transposed_m = [[matrix_A[j][i] for j in range(len(matrix_A))] for i in range(len(matrix_A[0]))]\n",
    "transposed_m"
   ]
  },
  {
   "cell_type": "code",
   "execution_count": null,
   "id": "74230077-5b89-463a-b07c-4bd3f3f63074",
   "metadata": {},
   "outputs": [],
   "source": []
  },
  {
   "cell_type": "code",
   "execution_count": null,
   "id": "b11f8660-b3c9-48b1-99ba-f22335a0b0d5",
   "metadata": {},
   "outputs": [],
   "source": []
  },
  {
   "cell_type": "code",
   "execution_count": 5,
   "id": "ab275993-1cf1-45c1-94e4-16813bc9e9ba",
   "metadata": {},
   "outputs": [],
   "source": [
    "a2, a1 = symbols('a2, a1')"
   ]
  },
  {
   "cell_type": "code",
   "execution_count": 6,
   "id": "932a8253-2bb9-4f9e-a287-4de325a46f5f",
   "metadata": {},
   "outputs": [
    {
     "data": {
      "image/png": "[encoded data removed]",
      "text/latex": [
       "$\\displaystyle 0.25 \\left(a_{1} + 2 a_{2} - 5\\right)^{2} + 0.25 \\left(2 a_{1} + 4 a_{2} - 10\\right)^{2} + 0.25 \\left(3 a_{1} + 7 a_{2} - 8\\right)^{2} + 0.25 \\left(5 a_{1} + 3 a_{2} - 6\\right)^{2}$"
      ],
      "text/plain": [
       "                    2                          2                         2                         2\n",
       "0.25*(a1 + 2*a2 - 5)  + 0.25*(2*a1 + 4*a2 - 10)  + 0.25*(3*a1 + 7*a2 - 8)  + 0.25*(5*a1 + 3*a2 - 6) "
      ]
     },
     "execution_count": 6,
     "metadata": {},
     "output_type": "execute_result"
    }
   ],
   "source": [
    "#2\n",
    "MSE = 1/4 * (((a1 * 1 + a2 * 2 ) - 5)**2 + \\\n",
    "             ((a1 * 5 + a2 * 3 ) - 6)**2 + \\\n",
    "             ((a1 * 2 + a2 * 4 ) - 10)**2 + \\\n",
    "             ((a1 * 3 + a2 * 7 ) - 8)**2)\n",
    "MSE"
   ]
  },
  {
   "cell_type": "code",
   "execution_count": 16,
   "id": "ddad66b4-0d09-4ec2-8cae-f56ce26c45c5",
   "metadata": {},
   "outputs": [
    {
     "data": {
      "image/png": "[encoded data removed]",
      "text/latex": [
       "$\\displaystyle 19.5 a_{1} + 23.0 a_{2} - 39.5$"
      ],
      "text/plain": [
       "19.5*a1 + 23.0*a2 - 39.5"
      ]
     },
     "execution_count": 16,
     "metadata": {},
     "output_type": "execute_result"
    }
   ],
   "source": [
    "MSE_a1 = diff(MSE, a1)\n",
    "MSE_a1"
   ]
  },
  {
   "cell_type": "code",
   "execution_count": 17,
   "id": "f87bf0a3-f765-46fe-b151-bde765ef1f10",
   "metadata": {},
   "outputs": [
    {
     "data": {
      "image/png": "[encoded data removed]",
      "text/latex": [
       "$\\displaystyle 23.0 a_{1} + 39.0 a_{2} - 62.0$"
      ],
      "text/plain": [
       "23.0*a1 + 39.0*a2 - 62.0"
      ]
     },
     "execution_count": 17,
     "metadata": {},
     "output_type": "execute_result"
    }
   ],
   "source": [
    "MSE_a2 = diff(MSE, a2)\n",
    "MSE_a2"
   ]
  },
  {
   "cell_type": "code",
   "execution_count": 31,
   "id": "6ec73676-954a-4ff9-8cab-8190f8d8ce58",
   "metadata": {},
   "outputs": [
    {
     "data": {
      "image/png": "[encoded data removed]",
      "text/latex": [
       "$\\displaystyle 56.25$"
      ],
      "text/plain": [
       "56.2500000000000"
      ]
     },
     "execution_count": 31,
     "metadata": {},
     "output_type": "execute_result"
    }
   ],
   "source": [
    "#1)\n",
    "MSE.subs({a1: 0, a2: 0})"
   ]
  },
  {
   "cell_type": "code",
   "execution_count": 32,
   "id": "a4763479-2a96-493e-a20d-acb8fbc3140f",
   "metadata": {},
   "outputs": [
    {
     "data": {
      "image/png": "[encoded data removed]",
      "text/latex": [
       "$\\displaystyle -39.5$"
      ],
      "text/plain": [
       "-39.5000000000000"
      ]
     },
     "execution_count": 32,
     "metadata": {},
     "output_type": "execute_result"
    }
   ],
   "source": [
    "MSE_a1_00 = MSE_a1.subs({a1: 0, a2: 0})\n",
    "MSE_a1_00"
   ]
  },
  {
   "cell_type": "code",
   "execution_count": 24,
   "id": "6ee4871e-8deb-42bf-aa90-5bb532a4bb3c",
   "metadata": {},
   "outputs": [
    {
     "data": {
      "image/png": "[encoded data removed]",
      "text/latex": [
       "$\\displaystyle -62.0$"
      ],
      "text/plain": [
       "-62.0000000000000"
      ]
     },
     "execution_count": 24,
     "metadata": {},
     "output_type": "execute_result"
    }
   ],
   "source": [
    "MSE_a2_00 = MSE_a2.subs({a1: 0, a2:0})\n",
    "MSE_a2_00"
   ]
  },
  {
   "cell_type": "code",
   "execution_count": 35,
   "id": "7ad3b9d2-347e-4f3c-a60c-c26cae03b357",
   "metadata": {},
   "outputs": [
    {
     "data": {
      "text/plain": [
       "array([-39.5000000000000, -62.0000000000000], dtype=object)"
      ]
     },
     "execution_count": 35,
     "metadata": {},
     "output_type": "execute_result"
    }
   ],
   "source": [
    "grad_00 = np.array([MSE_a1_00, MSE_a2_00])\n",
    "grad_00"
   ]
  },
  {
   "cell_type": "code",
   "execution_count": 26,
   "id": "27f26bad-f888-4405-85ec-3b4e5cd46559",
   "metadata": {},
   "outputs": [
    {
     "data": {
      "text/plain": [
       "array([39.5000000000000, 62.0000000000000], dtype=object)"
      ]
     },
     "execution_count": 26,
     "metadata": {},
     "output_type": "execute_result"
    }
   ],
   "source": [
    "anti_grad_00 = grad_00*(-1)\n",
    "anti_grad_00"
   ]
  },
  {
   "cell_type": "code",
   "execution_count": 27,
   "id": "835fc3cc-728f-47bb-97f7-fc2552198686",
   "metadata": {},
   "outputs": [
    {
     "data": {
      "text/plain": [
       "array([0.395000000000000, 0.620000000000000], dtype=object)"
      ]
     },
     "execution_count": 27,
     "metadata": {},
     "output_type": "execute_result"
    }
   ],
   "source": [
    "step1 = anti_grad_00 * 0.01\n",
    "step1"
   ]
  },
  {
   "cell_type": "code",
   "execution_count": 28,
   "id": "278d18b8-3e91-4ca2-bf84-6775e92adf34",
   "metadata": {},
   "outputs": [
    {
     "data": {
      "text/plain": [
       "array([0, 0])"
      ]
     },
     "execution_count": 28,
     "metadata": {},
     "output_type": "execute_result"
    }
   ],
   "source": [
    "point1 = np.array([0, 0])\n",
    "point1"
   ]
  },
  {
   "cell_type": "code",
   "execution_count": 29,
   "id": "d94a16f5-6609-42da-84f6-2a28c10a3a1f",
   "metadata": {},
   "outputs": [
    {
     "data": {
      "text/plain": [
       "array([0.395000000000000, 0.620000000000000], dtype=object)"
      ]
     },
     "execution_count": 29,
     "metadata": {},
     "output_type": "execute_result"
    }
   ],
   "source": [
    "point2 = point1 + step1\n",
    "point2"
   ]
  },
  {
   "cell_type": "code",
   "execution_count": 30,
   "id": "ee1f86e2-035e-455b-967e-efb1ddf176e9",
   "metadata": {},
   "outputs": [
    {
     "data": {
      "image/png": "[encoded data removed]",
      "text/latex": [
       "$\\displaystyle 16.85724375$"
      ],
      "text/plain": [
       "16.8572437500000"
      ]
     },
     "execution_count": 30,
     "metadata": {},
     "output_type": "execute_result"
    }
   ],
   "source": [
    "#2)\n",
    "MSE.subs({a1: 0.395, a2: 0.62})"
   ]
  },
  {
   "cell_type": "code",
   "execution_count": 33,
   "id": "65a49b41-eb58-4cb0-99d8-065dc8c3dda4",
   "metadata": {},
   "outputs": [
    {
     "data": {
      "image/png": "[encoded data removed]",
      "text/latex": [
       "$\\displaystyle -17.5375$"
      ],
      "text/plain": [
       "-17.5375000000000"
      ]
     },
     "execution_count": 33,
     "metadata": {},
     "output_type": "execute_result"
    }
   ],
   "source": [
    "MSE_a1_0395_062 = MSE_a1.subs({a1: 0.395, a2: 0.62})\n",
    "MSE_a1_0395_062"
   ]
  },
  {
   "cell_type": "code",
   "execution_count": 36,
   "id": "b76d7a79-bfc9-4de8-96f8-716c8cdd98a5",
   "metadata": {},
   "outputs": [
    {
     "data": {
      "image/png": "[encoded data removed]",
      "text/latex": [
       "$\\displaystyle -28.735$"
      ],
      "text/plain": [
       "-28.7350000000000"
      ]
     },
     "execution_count": 36,
     "metadata": {},
     "output_type": "execute_result"
    }
   ],
   "source": [
    "MSE_a2_0395_062 = MSE_a2.subs({a1: 0.395, a2: 0.62})\n",
    "MSE_a2_0395_062"
   ]
  },
  {
   "cell_type": "code",
   "execution_count": 38,
   "id": "73593e6e-6a91-4e84-a5bd-cb8466d92551",
   "metadata": {},
   "outputs": [
    {
     "data": {
      "text/plain": [
       "array([-17.5375000000000, -28.7350000000000], dtype=object)"
      ]
     },
     "execution_count": 38,
     "metadata": {},
     "output_type": "execute_result"
    }
   ],
   "source": [
    "grad_0395_062 = np.array([MSE_a1_0395_062, MSE_a2_0395_062])\n",
    "grad_0395_062"
   ]
  },
  {
   "cell_type": "code",
   "execution_count": 39,
   "id": "2bf23db2-2d9c-4656-a643-b4c9c931180a",
   "metadata": {},
   "outputs": [
    {
     "data": {
      "text/plain": [
       "array([17.5375000000000, 28.7350000000000], dtype=object)"
      ]
     },
     "execution_count": 39,
     "metadata": {},
     "output_type": "execute_result"
    }
   ],
   "source": [
    "anti_grad_0395_062 = grad_0395_062 * -1\n",
    "anti_grad_0395_062"
   ]
  },
  {
   "cell_type": "code",
   "execution_count": 40,
   "id": "f8710544-f635-4e61-b188-5ac9b0af43b1",
   "metadata": {},
   "outputs": [
    {
     "data": {
      "text/plain": [
       "array([0.175375000000000, 0.287350000000000], dtype=object)"
      ]
     },
     "execution_count": 40,
     "metadata": {},
     "output_type": "execute_result"
    }
   ],
   "source": [
    "step2 = anti_grad_0395_062 * 0.01\n",
    "step2"
   ]
  },
  {
   "cell_type": "code",
   "execution_count": 44,
   "id": "bf1d1e52-a876-4177-b0a7-ca53f46bddcf",
   "metadata": {},
   "outputs": [
    {
     "data": {
      "text/plain": [
       "array([0.570375000000000, 0.907350000000000], dtype=object)"
      ]
     },
     "execution_count": 44,
     "metadata": {},
     "output_type": "execute_result"
    }
   ],
   "source": [
    "point3 = point2 + step2\n",
    "point3"
   ]
  },
  {
   "cell_type": "code",
   "execution_count": 45,
   "id": "fe864f30-1435-4ba1-ad35-0331d8852964",
   "metadata": {},
   "outputs": [
    {
     "data": {
      "image/png": "[encoded data removed]",
      "text/latex": [
       "$\\displaystyle 8.59365482859375$"
      ],
      "text/plain": [
       "8.59365482859375"
      ]
     },
     "execution_count": 45,
     "metadata": {},
     "output_type": "execute_result"
    }
   ],
   "source": [
    "#3)\n",
    "MSE.subs({a1: 0.570375, a2: 0.90735})"
   ]
  },
  {
   "cell_type": "code",
   "execution_count": 46,
   "id": "c96b7df6-b4e6-4455-84c0-f03c0374f4fa",
   "metadata": {},
   "outputs": [
    {
     "data": {
      "image/png": "[encoded data removed]",
      "text/latex": [
       "$\\displaystyle -7.5086375$"
      ],
      "text/plain": [
       "-7.50863750000000"
      ]
     },
     "execution_count": 46,
     "metadata": {},
     "output_type": "execute_result"
    }
   ],
   "source": [
    "MSE_a1_057_0907 = MSE_a1.subs({a1: 0.570375, a2: 0.90735})\n",
    "MSE_a1_057_0907"
   ]
  },
  {
   "cell_type": "code",
   "execution_count": 47,
   "id": "46bb9564-45ed-4b0e-982f-5132c925422c",
   "metadata": {},
   "outputs": [
    {
     "data": {
      "image/png": "[encoded data removed]",
      "text/latex": [
       "$\\displaystyle -13.494725$"
      ],
      "text/plain": [
       "-13.4947250000000"
      ]
     },
     "execution_count": 47,
     "metadata": {},
     "output_type": "execute_result"
    }
   ],
   "source": [
    "MSE_a2_057_0907 = MSE_a2.subs({a1: 0.570375, a2: 0.90735})\n",
    "MSE_a2_057_0907"
   ]
  },
  {
   "cell_type": "code",
   "execution_count": 49,
   "id": "70ff0b50-7680-4dbc-9104-c7ce4209708c",
   "metadata": {},
   "outputs": [
    {
     "data": {
      "text/plain": [
       "array([-7.50863750000000, -13.4947250000000], dtype=object)"
      ]
     },
     "execution_count": 49,
     "metadata": {},
     "output_type": "execute_result"
    }
   ],
   "source": [
    "grad_057_0907 = np.array([MSE_a1_057_0907, MSE_a2_057_0907])\n",
    "grad_057_0907"
   ]
  },
  {
   "cell_type": "code",
   "execution_count": 50,
   "id": "61278468-c440-4660-879f-b12066022fc8",
   "metadata": {},
   "outputs": [
    {
     "data": {
      "text/plain": [
       "array([7.50863750000000, 13.4947250000000], dtype=object)"
      ]
     },
     "execution_count": 50,
     "metadata": {},
     "output_type": "execute_result"
    }
   ],
   "source": [
    "anti_grad_057_0907 = grad_057_0907 * -1\n",
    "anti_grad_057_0907"
   ]
  },
  {
   "cell_type": "code",
   "execution_count": 51,
   "id": "75376dd2-994c-4e08-8e6f-251628745dec",
   "metadata": {},
   "outputs": [
    {
     "data": {
      "text/plain": [
       "array([0.0750863750000000, 0.134947250000000], dtype=object)"
      ]
     },
     "execution_count": 51,
     "metadata": {},
     "output_type": "execute_result"
    }
   ],
   "source": [
    "step3 = anti_grad_057_0907 * 0.01\n",
    "step3"
   ]
  },
  {
   "cell_type": "code",
   "execution_count": 52,
   "id": "7cb40497-2427-46c6-be1f-86f567f94391",
   "metadata": {},
   "outputs": [
    {
     "data": {
      "text/plain": [
       "array([0.645461375000000, 1.04229725000000], dtype=object)"
      ]
     },
     "execution_count": 52,
     "metadata": {},
     "output_type": "execute_result"
    }
   ],
   "source": [
    "point4 = point3 + step3\n",
    "point4"
   ]
  },
  {
   "cell_type": "code",
   "execution_count": 53,
   "id": "bf87f686-626f-4e35-a828-2940772ff9ab",
   "metadata": {},
   "outputs": [
    {
     "data": {
      "image/png": "[encoded data removed]",
      "text/latex": [
       "$\\displaystyle 6.85191449679268$"
      ],
      "text/plain": [
       "6.85191449679268"
      ]
     },
     "execution_count": 53,
     "metadata": {},
     "output_type": "execute_result"
    }
   ],
   "source": [
    "#4)\n",
    "MSE.subs({a1: 0.645461375, a2: 1.04229725})"
   ]
  },
  {
   "cell_type": "code",
   "execution_count": 54,
   "id": "d2315618-0b68-4088-83fe-3fe83ffb6d45",
   "metadata": {},
   "outputs": [
    {
     "data": {
      "image/png": "[encoded data removed]",
      "text/latex": [
       "$\\displaystyle -2.9406664375$"
      ],
      "text/plain": [
       "-2.94066643750000"
      ]
     },
     "execution_count": 54,
     "metadata": {},
     "output_type": "execute_result"
    }
   ],
   "source": [
    "MSE_a1_064_1042 = MSE_a1.subs({a1: 0.645461375, a2: 1.04229725})\n",
    "MSE_a1_064_1042"
   ]
  },
  {
   "cell_type": "code",
   "execution_count": 62,
   "id": "64bf36f5-f570-4254-9c0c-8885b6ab324e",
   "metadata": {},
   "outputs": [
    {
     "data": {
      "image/png": "[encoded data removed]",
      "text/latex": [
       "$\\displaystyle -6.50479562499999$"
      ],
      "text/plain": [
       "-6.50479562499999"
      ]
     },
     "execution_count": 62,
     "metadata": {},
     "output_type": "execute_result"
    }
   ],
   "source": [
    "MSE_a2_064_1042 = MSE_a2.subs({a1: 0.645461375, a2: 1.04229725})\n",
    "MSE_a2_064_1042"
   ]
  },
  {
   "cell_type": "code",
   "execution_count": 56,
   "id": "f0a70420-e888-4430-a2c2-fc71bb4ccb23",
   "metadata": {},
   "outputs": [
    {
     "data": {
      "text/plain": [
       "array([-2.94066643750000, -6.50479562499999], dtype=object)"
      ]
     },
     "execution_count": 56,
     "metadata": {},
     "output_type": "execute_result"
    }
   ],
   "source": [
    "grad_064_1042 = np.array([MSE_a1_064_1042, MSE_a2_064_1042])\n",
    "grad_064_1042"
   ]
  },
  {
   "cell_type": "code",
   "execution_count": 57,
   "id": "4ff97de8-4b40-4a71-986d-52e4fb87b133",
   "metadata": {},
   "outputs": [
    {
     "data": {
      "text/plain": [
       "array([2.94066643750000, 6.50479562499999], dtype=object)"
      ]
     },
     "execution_count": 57,
     "metadata": {},
     "output_type": "execute_result"
    }
   ],
   "source": [
    "anti_grad_064_1042 = grad_064_1042 * -1\n",
    "anti_grad_064_1042"
   ]
  },
  {
   "cell_type": "code",
   "execution_count": 58,
   "id": "39aaf4e3-f6a0-4d4a-811c-a295607643b9",
   "metadata": {},
   "outputs": [
    {
     "data": {
      "text/plain": [
       "array([0.0294066643750000, 0.0650479562499999], dtype=object)"
      ]
     },
     "execution_count": 58,
     "metadata": {},
     "output_type": "execute_result"
    }
   ],
   "source": [
    "step4 = anti_grad_064_1042 * 0.01\n",
    "step4"
   ]
  },
  {
   "cell_type": "code",
   "execution_count": 60,
   "id": "70905f00-9d74-498d-9af8-f79387606a7c",
   "metadata": {},
   "outputs": [
    {
     "data": {
      "text/plain": [
       "array([0.674868039375000, 1.10734520625000], dtype=object)"
      ]
     },
     "execution_count": 60,
     "metadata": {},
     "output_type": "execute_result"
    }
   ],
   "source": [
    "point5 = point4 + step4\n",
    "point5"
   ]
  },
  {
   "cell_type": "code",
   "execution_count": 61,
   "id": "d5e07f98-04b4-4227-9df3-ce4da32e4d53",
   "metadata": {},
   "outputs": [
    {
     "data": {
      "image/png": "[encoded data removed]",
      "text/latex": [
       "$\\displaystyle 6.47725148826285$"
      ],
      "text/plain": [
       "6.47725148826285"
      ]
     },
     "execution_count": 61,
     "metadata": {},
     "output_type": "execute_result"
    }
   ],
   "source": [
    "#5)\n",
    "MSE.subs({a1: 0.674868039375, a2: 1.10734520625})"
   ]
  },
  {
   "cell_type": "code",
   "execution_count": 63,
   "id": "e8982713-ba09-4cd2-b37a-5b2787e0d2fe",
   "metadata": {},
   "outputs": [
    {
     "data": {
      "image/png": "[encoded data removed]",
      "text/latex": [
       "$\\displaystyle -0.871133488437501$"
      ],
      "text/plain": [
       "-0.871133488437501"
      ]
     },
     "execution_count": 63,
     "metadata": {},
     "output_type": "execute_result"
    }
   ],
   "source": [
    "MSE_a1_067_1107 = MSE_a1.subs({a1: 0.674868039375, a2: 1.10734520625})\n",
    "MSE_a1_067_1107"
   ]
  },
  {
   "cell_type": "code",
   "execution_count": 64,
   "id": "16b7ab33-39de-41e1-8165-eaf45649d5d7",
   "metadata": {},
   "outputs": [
    {
     "data": {
      "image/png": "[encoded data removed]",
      "text/latex": [
       "$\\displaystyle -3.291572050625$"
      ],
      "text/plain": [
       "-3.29157205062500"
      ]
     },
     "execution_count": 64,
     "metadata": {},
     "output_type": "execute_result"
    }
   ],
   "source": [
    "MSE_a2_067_1107 = MSE_a2.subs({a1: 0.674868039375, a2: 1.10734520625})\n",
    "MSE_a2_067_1107"
   ]
  },
  {
   "cell_type": "code",
   "execution_count": 65,
   "id": "8a194b40-cfd9-44e9-b168-733714e96a0e",
   "metadata": {},
   "outputs": [
    {
     "data": {
      "text/plain": [
       "array([-0.871133488437501, -3.29157205062500], dtype=object)"
      ]
     },
     "execution_count": 65,
     "metadata": {},
     "output_type": "execute_result"
    }
   ],
   "source": [
    "grad_067_1107 = np.array([MSE_a1_067_1107, MSE_a2_067_1107])\n",
    "grad_067_1107"
   ]
  },
  {
   "cell_type": "code",
   "execution_count": 66,
   "id": "cc07d0f9-c7a3-4445-9ccf-9a5031cd9801",
   "metadata": {},
   "outputs": [
    {
     "data": {
      "text/plain": [
       "array([0.871133488437501, 3.29157205062500], dtype=object)"
      ]
     },
     "execution_count": 66,
     "metadata": {},
     "output_type": "execute_result"
    }
   ],
   "source": [
    "anti_grad_067_1107 = grad_067_1107 * -1\n",
    "anti_grad_067_1107"
   ]
  },
  {
   "cell_type": "code",
   "execution_count": 67,
   "id": "e574267b-dd1d-4a84-b4af-15dff7a17157",
   "metadata": {},
   "outputs": [
    {
     "data": {
      "text/plain": [
       "array([0.00871133488437501, 0.0329157205062500], dtype=object)"
      ]
     },
     "execution_count": 67,
     "metadata": {},
     "output_type": "execute_result"
    }
   ],
   "source": [
    "step5 = anti_grad_067_1107 * 0.01\n",
    "step5"
   ]
  },
  {
   "cell_type": "code",
   "execution_count": 68,
   "id": "bb4697de-bb40-4411-ab5b-5a9857cba5fe",
   "metadata": {},
   "outputs": [
    {
     "data": {
      "text/plain": [
       "array([0.683579374259375, 1.14026092675625], dtype=object)"
      ]
     },
     "execution_count": 68,
     "metadata": {},
     "output_type": "execute_result"
    }
   ],
   "source": [
    "point6 = point5 + step5\n",
    "point6"
   ]
  },
  {
   "cell_type": "code",
   "execution_count": 69,
   "id": "68164873-bd51-4062-bddc-7b597bfa8d03",
   "metadata": {},
   "outputs": [
    {
     "data": {
      "image/png": "[encoded data removed]",
      "text/latex": [
       "$\\displaystyle 6.3897803764667$"
      ],
      "text/plain": [
       "6.38978037646670"
      ]
     },
     "execution_count": 69,
     "metadata": {},
     "output_type": "execute_result"
    }
   ],
   "source": [
    "#6)\n",
    "MSE.subs({a1: 0.683579374259375, a2: 1.14026092675625})"
   ]
  },
  {
   "cell_type": "code",
   "execution_count": null,
   "id": "7621e543-7f28-47f7-9940-3114e2a8ffb8",
   "metadata": {},
   "outputs": [],
   "source": []
  }
 ],
 "metadata": {
  "kernelspec": {
   "display_name": "Python 3",
   "language": "python",
   "name": "python3"
  },
  "language_info": {
   "codemirror_mode": {
    "name": "ipython",
    "version": 3
   },
   "file_extension": ".py",
   "mimetype": "text/x-python",
   "name": "python",
   "nbconvert_exporter": "python",
   "pygments_lexer": "ipython3",
   "version": "3.8.8"
  }
 },
 "nbformat": 4,
 "nbformat_minor": 5
}
