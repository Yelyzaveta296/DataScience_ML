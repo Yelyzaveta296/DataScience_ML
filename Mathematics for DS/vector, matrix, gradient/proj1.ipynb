{
 "cells": [
  {
   "cell_type": "code",
   "execution_count": 2,
   "id": "b6b9ebff-6ac4-43ed-8ac3-8e4daa075a25",
   "metadata": {},
   "outputs": [],
   "source": [
    "from sympy import *"
   ]
  },
  {
   "cell_type": "code",
   "execution_count": 6,
   "id": "3af240a1-17cb-451d-a257-c95e324becff",
   "metadata": {},
   "outputs": [],
   "source": [
    "x, y = symbols('x, y')"
   ]
  },
  {
   "cell_type": "code",
   "execution_count": 22,
   "id": "28590d5c-9e59-4aa7-b9a7-63a0dd2530d0",
   "metadata": {},
   "outputs": [
    {
     "data": {
      "text/latex": [
       "$\\displaystyle \\left[\\begin{matrix}2 & 5\\\\7 & -3\\end{matrix}\\right]$"
      ],
      "text/plain": [
       "Matrix([\n",
       "[2,  5],\n",
       "[7, -3]])"
      ]
     },
     "execution_count": 22,
     "metadata": {},
     "output_type": "execute_result"
    }
   ],
   "source": [
    "X = Matrix([[2, 5], [7, -3]])\n",
    "X"
   ]
  },
  {
   "cell_type": "code",
   "execution_count": 23,
   "id": "fd9efde8-0ba3-4318-a562-6987e260b7b6",
   "metadata": {},
   "outputs": [
    {
     "data": {
      "text/latex": [
       "$\\displaystyle \\left[\\begin{matrix}2 & 5 & 11\\\\7 & -3 & -23\\end{matrix}\\right]$"
      ],
      "text/plain": [
       "Matrix([\n",
       "[2,  5,  11],\n",
       "[7, -3, -23]])"
      ]
     },
     "execution_count": 23,
     "metadata": {},
     "output_type": "execute_result"
    }
   ],
   "source": [
    "X_augmented = Matrix([[2, 5, 11], [7, -3, -23]])\n",
    "X_augmented"
   ]
  },
  {
   "cell_type": "code",
   "execution_count": 24,
   "id": "760ffcf2-4121-484f-a912-62ee612c27d8",
   "metadata": {},
   "outputs": [
    {
     "data": {
      "text/latex": [
       "$\\displaystyle \\left[\\begin{matrix}x\\\\y\\end{matrix}\\right]$"
      ],
      "text/plain": [
       "Matrix([\n",
       "[x],\n",
       "[y]])"
      ]
     },
     "execution_count": 24,
     "metadata": {},
     "output_type": "execute_result"
    }
   ],
   "source": [
    "a = Matrix([[x], [y]])\n",
    "a"
   ]
  },
  {
   "cell_type": "code",
   "execution_count": 25,
   "id": "3506b125-0796-469b-b420-aa5e0b988adb",
   "metadata": {},
   "outputs": [
    {
     "data": {
      "text/latex": [
       "$\\displaystyle \\left\\{\\left( -2, \\  3\\right)\\right\\}$"
      ],
      "text/plain": [
       "FiniteSet((-2, 3))"
      ]
     },
     "execution_count": 25,
     "metadata": {},
     "output_type": "execute_result"
    }
   ],
   "source": [
    "linsolve(X_augmented, [x, y])"
   ]
  },
  {
   "cell_type": "code",
   "execution_count": 27,
   "id": "c7897833-3af4-4d5f-90f0-49065f3b981a",
   "metadata": {},
   "outputs": [
    {
     "data": {
      "text/latex": [
       "$\\displaystyle \\left[\\begin{matrix}2 x + 5 y\\\\7 x - 3 y\\end{matrix}\\right]$"
      ],
      "text/plain": [
       "Matrix([\n",
       "[2*x + 5*y],\n",
       "[7*x - 3*y]])"
      ]
     },
     "execution_count": 27,
     "metadata": {},
     "output_type": "execute_result"
    }
   ],
   "source": [
    "X*a"
   ]
  },
  {
   "cell_type": "code",
   "execution_count": 19,
   "id": "4807e143-5f76-48fe-a5e9-f218bab62430",
   "metadata": {},
   "outputs": [
    {
     "data": {
      "text/latex": [
       "$\\displaystyle \\left[\\begin{matrix}19\\\\5\\end{matrix}\\right]$"
      ],
      "text/plain": [
       "Matrix([\n",
       "[19],\n",
       "[ 5]])"
      ]
     },
     "execution_count": 19,
     "metadata": {},
     "output_type": "execute_result"
    }
   ],
   "source": [
    "#2\n",
    "matr1 = Matrix([[2, 5], [7, -3]])\n",
    "matr2 = Matrix([[2], [3]])\n",
    "matr1 * matr2\n"
   ]
  },
  {
   "cell_type": "code",
   "execution_count": null,
   "id": "85c1f806-0f8f-43e0-9f75-15ddc5d0202e",
   "metadata": {},
   "outputs": [],
   "source": []
  }
 ],
 "metadata": {
  "kernelspec": {
   "display_name": "Python 3",
   "language": "python",
   "name": "python3"
  },
  "language_info": {
   "codemirror_mode": {
    "name": "ipython",
    "version": 3
   },
   "file_extension": ".py",
   "mimetype": "text/x-python",
   "name": "python",
   "nbconvert_exporter": "python",
   "pygments_lexer": "ipython3",
   "version": "3.8.8"
  }
 },
 "nbformat": 4,
 "nbformat_minor": 5
}
