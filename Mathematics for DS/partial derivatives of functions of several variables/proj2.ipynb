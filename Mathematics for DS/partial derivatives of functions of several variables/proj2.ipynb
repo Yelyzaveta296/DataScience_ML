{
 "cells": [
  {
   "cell_type": "code",
   "execution_count": 1,
   "id": "bd7ea66d-4846-47e1-8d0c-22595457748b",
   "metadata": {},
   "outputs": [],
   "source": [
    "from sympy import *\n",
    "from sympy.plotting import plot3d\n",
    "init_printing(use_unicode=False, wrap_line=False, no_global=True)"
   ]
  },
  {
   "cell_type": "code",
   "execution_count": 2,
   "id": "4e3ae330-6cfb-4f14-8a45-c5fd321d986f",
   "metadata": {},
   "outputs": [],
   "source": [
    "a2, a1, a0 = symbols('a2, a1, a0')"
   ]
  },
  {
   "cell_type": "code",
   "execution_count": 30,
   "id": "10773daa-6421-4b1f-81b7-227f0db7266d",
   "metadata": {},
   "outputs": [],
   "source": [
    "MSEa2 = 1/3 * (28 * a2 + 5000 * a1 + 12 * a0 - 5000)\n",
    "MSEa1 = 1/3 * (5000 * a2 + 980000 * a1 + 2200 * a0 - 1010000)\n",
    "MSEa0 = 1/3 * (12 * a2 + 2200 * a1 + 6 * a0 - 2400)"
   ]
  },
  {
   "cell_type": "code",
   "execution_count": 31,
   "id": "d5c505f4-a1ce-4b7e-b965-1188ef0d33c1",
   "metadata": {},
   "outputs": [
    {
     "data": {
      "image/png": "[encoded data removed]",
      "text/latex": [
       "$\\displaystyle 4.0 a_{0} + 1666.66666666667 a_{1} + 9.33333333333333 a_{2} - 1666.66666666667$"
      ],
      "text/plain": [
       "4.0*a0 + 1666.66666666667*a1 + 9.33333333333333*a2 - 1666.66666666667"
      ]
     },
     "execution_count": 31,
     "metadata": {},
     "output_type": "execute_result"
    }
   ],
   "source": [
    "MSEa2"
   ]
  },
  {
   "cell_type": "code",
   "execution_count": 5,
   "id": "7475231a-db29-4579-92e5-e0b9e9f1b7dc",
   "metadata": {},
   "outputs": [
    {
     "data": {
      "image/png": "[encoded data removed]",
      "text/latex": [
       "$\\displaystyle 733.333333333333 a_{0} + 326666.666666667 a_{1} + 1666.66666666667 a_{2} - 336666.666666667$"
      ],
      "text/plain": [
       "733.333333333333*a0 + 326666.666666667*a1 + 1666.66666666667*a2 - 336666.666666667"
      ]
     },
     "execution_count": 5,
     "metadata": {},
     "output_type": "execute_result"
    }
   ],
   "source": [
    "MSEa1"
   ]
  },
  {
   "cell_type": "code",
   "execution_count": 6,
   "id": "44870541-2f1b-4f3f-9e0f-cdaeeb7dba58",
   "metadata": {},
   "outputs": [
    {
     "data": {
      "image/png": "[encoded data removed]",
      "text/latex": [
       "$\\displaystyle 2.0 a_{0} + 733.333333333333 a_{1} + 4.0 a_{2} - 800.0$"
      ],
      "text/plain": [
       "2.0*a0 + 733.333333333333*a1 + 4.0*a2 - 800.0"
      ]
     },
     "execution_count": 6,
     "metadata": {},
     "output_type": "execute_result"
    }
   ],
   "source": [
    "MSEa0"
   ]
  },
  {
   "cell_type": "code",
   "execution_count": 37,
   "id": "5a6ee00b-fabf-4a44-abc4-e2777af50547",
   "metadata": {},
   "outputs": [
    {
     "data": {
      "image/png": "[encoded data removed]",
      "text/latex": [
       "$\\displaystyle \\left\\{\\left( -130.0, \\  1.2, \\  220.0\\right)\\right\\}$"
      ],
      "text/plain": [
       "{(-130.0, 1.2, 220.0)}"
      ]
     },
     "execution_count": 37,
     "metadata": {},
     "output_type": "execute_result"
    }
   ],
   "source": [
    "nonlinsolve([MSEa2, MSEa1, MSEa0], [a2, a1, a0])\n"
   ]
  },
  {
   "cell_type": "code",
   "execution_count": 34,
   "id": "3dd88533-c066-47b3-b0fa-6d02a2ccd3fb",
   "metadata": {},
   "outputs": [
    {
     "data": {
      "image/png": "[encoded data removed]",
      "text/latex": [
       "$\\displaystyle 0.333333333333333 \\left(a_{0} + 200 a_{1} + 2 a_{2} - 200\\right)^{2} + 0.333333333333333 \\left(a_{0} + 300 a_{1} + a_{2} - 450\\right)^{2} + 0.333333333333333 \\left(a_{0} + 600 a_{1} + 3 a_{2} - 550\\right)^{2}$"
      ],
      "text/plain": [
       "                                            2                                             2                                               2\n",
       "0.333333333333333*(a0 + 200*a1 + 2*a2 - 200)  + 0.333333333333333*(a0 + 300*a1 + a2 - 450)  + 0.333333333333333*(a0 + 600*a1 + 3*a2 - 550) "
      ]
     },
     "execution_count": 34,
     "metadata": {},
     "output_type": "execute_result"
    }
   ],
   "source": [
    "MSE = 1/3 * (((a2 * 2 + a1 * 200 + a0) - 200)**2 + \\\n",
    "             ((a2 * 1 + a1 * 300 + a0) - 450)**2 + \\\n",
    "             ((a2 * 3 + a1 * 600 + a0) - 550)**2)\n",
    "MSE"
   ]
  },
  {
   "cell_type": "code",
   "execution_count": 38,
   "id": "89cea55c-9a78-47d1-ad57-d33480227b87",
   "metadata": {},
   "outputs": [
    {
     "data": {
      "image/png": "[encoded data removed]",
      "text/latex": [
       "$\\displaystyle 0$"
      ],
      "text/plain": [
       "0"
      ]
     },
     "execution_count": 38,
     "metadata": {},
     "output_type": "execute_result"
    }
   ],
   "source": [
    "MSE.subs({a2: -130, a1: 1.2, a0: 220})"
   ]
  },
  {
   "cell_type": "code",
   "execution_count": 39,
   "id": "2706e33a-7ef8-41d4-9cd5-c243fb6b943a",
   "metadata": {},
   "outputs": [
    {
     "data": {
      "image/png": "[encoded data removed]",
      "text/latex": [
       "$\\displaystyle 315466.666666667$"
      ],
      "text/plain": [
       "315466.666666667"
      ]
     },
     "execution_count": 39,
     "metadata": {},
     "output_type": "execute_result"
    }
   ],
   "source": [
    "MSE.subs({a2: 130, a1: 1.2, a0: 220})"
   ]
  },
  {
   "cell_type": "code",
   "execution_count": 40,
   "id": "a134511c-3d5d-47d3-be0f-3ca3cd0feb63",
   "metadata": {},
   "outputs": [],
   "source": [
    "x2, x1 = symbols('x2, x1')"
   ]
  },
  {
   "cell_type": "code",
   "execution_count": 41,
   "id": "c5a0fafc-328e-4052-9de9-011e90e35141",
   "metadata": {},
   "outputs": [
    {
     "data": {
      "image/png": "[encoded data removed]",
      "text/latex": [
       "$\\displaystyle 1.2 x_{1} - 140 x_{2} + 220$"
      ],
      "text/plain": [
       "1.2*x1 - 140*x2 + 220"
      ]
     },
     "execution_count": 41,
     "metadata": {},
     "output_type": "execute_result"
    }
   ],
   "source": [
    "f = -140 * x2 + 1.2 * x1 + 220\n",
    "f"
   ]
  },
  {
   "cell_type": "code",
   "execution_count": 42,
   "id": "41171eb7-4c56-4259-b924-3f8ca330a169",
   "metadata": {},
   "outputs": [
    {
     "data": {
      "image/png": "[encoded data removed]",
      "text/latex": [
       "$\\displaystyle 459.2$"
      ],
      "text/plain": [
       "459.200000000000"
      ]
     },
     "execution_count": 42,
     "metadata": {},
     "output_type": "execute_result"
    }
   ],
   "source": [
    "f.subs({'x1': 666, 'x2': 4})\n"
   ]
  },
  {
   "cell_type": "code",
   "execution_count": 18,
   "id": "582bc87d-984f-484f-8c05-39ca35d6bb8c",
   "metadata": {},
   "outputs": [
    {
     "data": {
      "image/png": "[encoded data removed]",
      "text/latex": [
       "$\\displaystyle 4.0 a_{0} + 1666.66666666667 a_{1} + 9.33333333333333 a_{2} - 1666.66666666667$"
      ],
      "text/plain": [
       "4.0*a0 + 1666.66666666667*a1 + 9.33333333333333*a2 - 1666.66666666667"
      ]
     },
     "execution_count": 18,
     "metadata": {},
     "output_type": "execute_result"
    }
   ],
   "source": [
    "diff(MSE, a2)"
   ]
  },
  {
   "cell_type": "code",
   "execution_count": 32,
   "id": "5ea450ab-5651-44e3-ab3d-b5c3e7b1893d",
   "metadata": {},
   "outputs": [
    {
     "data": {
      "image/png": "[encoded data removed]",
      "text/latex": [
       "$\\displaystyle 4.0 a_{0} + 1666.66666666667 a_{1} + 9.33333333333333 a_{2} - 1666.66666666667$"
      ],
      "text/plain": [
       "4.0*a0 + 1666.66666666667*a1 + 9.33333333333333*a2 - 1666.66666666667"
      ]
     },
     "execution_count": 32,
     "metadata": {},
     "output_type": "execute_result"
    }
   ],
   "source": [
    "MSEa2"
   ]
  },
  {
   "cell_type": "code",
   "execution_count": 20,
   "id": "d963523d-d27a-435f-a463-87cde168dd97",
   "metadata": {},
   "outputs": [
    {
     "data": {
      "image/png": "[encoded data removed]",
      "text/latex": [
       "$\\displaystyle 733.333333333333 a_{0} + 326666.666666667 a_{1} + 1666.66666666667 a_{2} - 336666.666666667$"
      ],
      "text/plain": [
       "733.333333333333*a0 + 326666.666666667*a1 + 1666.66666666667*a2 - 336666.666666667"
      ]
     },
     "execution_count": 20,
     "metadata": {},
     "output_type": "execute_result"
    }
   ],
   "source": [
    "diff(MSE, a1)"
   ]
  },
  {
   "cell_type": "code",
   "execution_count": 21,
   "id": "a9fa614d-2af5-4891-962f-04ebc1baeb77",
   "metadata": {},
   "outputs": [
    {
     "data": {
      "image/png": "[encoded data removed]",
      "text/latex": [
       "$\\displaystyle 733.333333333333 a_{0} + 326666.666666667 a_{1} + 1666.66666666667 a_{2} - 336666.666666667$"
      ],
      "text/plain": [
       "733.333333333333*a0 + 326666.666666667*a1 + 1666.66666666667*a2 - 336666.666666667"
      ]
     },
     "execution_count": 21,
     "metadata": {},
     "output_type": "execute_result"
    }
   ],
   "source": [
    "MSEa1"
   ]
  },
  {
   "cell_type": "code",
   "execution_count": 22,
   "id": "49338746-1580-487a-8c85-84ab237908ea",
   "metadata": {},
   "outputs": [
    {
     "data": {
      "image/png": "[encoded data removed]",
      "text/latex": [
       "$\\displaystyle 2.0 a_{0} + 733.333333333333 a_{1} + 4.0 a_{2} - 800.0$"
      ],
      "text/plain": [
       "2.0*a0 + 733.333333333333*a1 + 4.0*a2 - 800.0"
      ]
     },
     "execution_count": 22,
     "metadata": {},
     "output_type": "execute_result"
    }
   ],
   "source": [
    "diff(MSE, a0)"
   ]
  },
  {
   "cell_type": "code",
   "execution_count": 23,
   "id": "0870c689-6287-4663-82a9-e47007fcb94c",
   "metadata": {},
   "outputs": [
    {
     "data": {
      "image/png": "[encoded data removed]",
      "text/latex": [
       "$\\displaystyle 2.0 a_{0} + 733.333333333333 a_{1} + 4.0 a_{2} - 800.0$"
      ],
      "text/plain": [
       "2.0*a0 + 733.333333333333*a1 + 4.0*a2 - 800.0"
      ]
     },
     "execution_count": 23,
     "metadata": {},
     "output_type": "execute_result"
    }
   ],
   "source": [
    "MSEa0"
   ]
  },
  {
   "cell_type": "code",
   "execution_count": null,
   "id": "a2179692-aa79-4d90-a8ad-b1cb652d337a",
   "metadata": {},
   "outputs": [],
   "source": []
  }
 ],
 "metadata": {
  "kernelspec": {
   "display_name": "Python 3",
   "language": "python",
   "name": "python3"
  },
  "language_info": {
   "codemirror_mode": {
    "name": "ipython",
    "version": 3
   },
   "file_extension": ".py",
   "mimetype": "text/x-python",
   "name": "python",
   "nbconvert_exporter": "python",
   "pygments_lexer": "ipython3",
   "version": "3.8.8"
  }
 },
 "nbformat": 4,
 "nbformat_minor": 5
}
