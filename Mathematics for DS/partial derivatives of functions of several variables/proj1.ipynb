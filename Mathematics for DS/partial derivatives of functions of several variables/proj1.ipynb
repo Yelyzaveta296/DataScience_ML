{
 "cells": [
  {
   "cell_type": "code",
   "execution_count": 1,
   "id": "0c645207-53ab-4b43-bb72-3949e35dd34f",
   "metadata": {},
   "outputs": [],
   "source": [
    "from sympy import *\n",
    "from sympy.plotting import plot3d\n",
    "init_printing(use_unicode=False, wrap_line=False, no_global=True)"
   ]
  },
  {
   "cell_type": "code",
   "execution_count": 3,
   "id": "19d9cc97-a286-4471-bb9c-8bf15bd3997b",
   "metadata": {},
   "outputs": [],
   "source": [
    "a2, a1, a0 = symbols('a2, a1, a0')"
   ]
  },
  {
   "cell_type": "code",
   "execution_count": 6,
   "id": "c3543b49-3bfe-43d5-8f2f-c4f1e631040f",
   "metadata": {},
   "outputs": [
    {
     "data": {
      "image/png": "[encoded data removed]",
      "text/latex": [
       "$\\displaystyle 0.333333333333333 \\left(a_{0} - 5 a_{1} + 15 a_{2} - 20\\right)^{2} + 0.333333333333333 \\left(a_{0} + 10 a_{1} + 30 a_{2} - 7\\right)^{2} + 0.333333333333333 \\left(a_{0} + 16 a_{1} + 31 a_{2} + 4\\right)^{2}$"
      ],
      "text/plain": [
       "                                          2                                             2                                             2\n",
       "0.333333333333333*(a0 - 5*a1 + 15*a2 - 20)  + 0.333333333333333*(a0 + 10*a1 + 30*a2 - 7)  + 0.333333333333333*(a0 + 16*a1 + 31*a2 + 4) "
      ]
     },
     "execution_count": 6,
     "metadata": {},
     "output_type": "execute_result"
    }
   ],
   "source": [
    "#1\n",
    "MSE_1 = 1/3 * (((30*a2 + 10*a1 + a0) - 7)**2 + \\\n",
    "            ((15*a2 - 5*a1 +a0) - 20)**2 + \\\n",
    "            ((31*a2 + 16*a1 + a0) + 4)**2) \n",
    "MSE_1"
   ]
  },
  {
   "cell_type": "code",
   "execution_count": 7,
   "id": "e0828b70-6322-41d2-a1a9-6dfbb6403a2d",
   "metadata": {},
   "outputs": [
    {
     "data": {
      "image/png": "[encoded data removed]",
      "text/latex": [
       "$\\displaystyle 3447.0$"
      ],
      "text/plain": [
       "3447.00000000000"
      ]
     },
     "execution_count": 7,
     "metadata": {},
     "output_type": "execute_result"
    }
   ],
   "source": [
    "MSE_1.subs({a2: -2, a1: 1, a0: -7})"
   ]
  },
  {
   "cell_type": "code",
   "execution_count": 8,
   "id": "11f6919e-3f93-4505-9020-cd5bdfddaa9a",
   "metadata": {},
   "outputs": [
    {
     "data": {
      "image/png": "[encoded data removed]",
      "text/latex": [
       "$\\displaystyle 299168.666666667$"
      ],
      "text/plain": [
       "299168.666666667"
      ]
     },
     "execution_count": 8,
     "metadata": {},
     "output_type": "execute_result"
    }
   ],
   "source": [
    "MSE_1.subs({a2: 20, a1: 3, a0: -4})"
   ]
  },
  {
   "cell_type": "code",
   "execution_count": null,
   "id": "3b470586-93b6-484f-b09d-0596be53891c",
   "metadata": {},
   "outputs": [],
   "source": []
  },
  {
   "cell_type": "code",
   "execution_count": 9,
   "id": "581a4705-4b55-434a-9a2c-fab3527c6da4",
   "metadata": {},
   "outputs": [
    {
     "data": {
      "image/png": "[encoded data removed]",
      "text/latex": [
       "$\\displaystyle 0.333333333333333 \\left(a_{0} - 3 a_{1} + 28 a_{2} - 42\\right)^{2} + 0.333333333333333 \\left(a_{0} + 14 a_{1} + 85 a_{2} + 39\\right)^{2} + 0.333333333333333 \\left(a_{0} + 16 a_{1} + 17 a_{2} - 13\\right)^{2}$"
      ],
      "text/plain": [
       "                                          2                                              2                                              2\n",
       "0.333333333333333*(a0 - 3*a1 + 28*a2 - 42)  + 0.333333333333333*(a0 + 14*a1 + 85*a2 + 39)  + 0.333333333333333*(a0 + 16*a1 + 17*a2 - 13) "
      ]
     },
     "execution_count": 9,
     "metadata": {},
     "output_type": "execute_result"
    }
   ],
   "source": [
    "#2\n",
    "MSE_2 = 1/3 * (((17*a2 + 16*a1 + a0) - 13)**2 + \\\n",
    "            ((28*a2 - 3*a1 + a0) - 42)**2 + \\\n",
    "            ((85*a2 + 14*a1 + a0) + 39)**2) \n",
    "MSE_2"
   ]
  },
  {
   "cell_type": "code",
   "execution_count": 10,
   "id": "44934176-573d-44fe-aae6-d6a2a2fdb976",
   "metadata": {},
   "outputs": [
    {
     "data": {
      "image/png": "[encoded data removed]",
      "text/latex": [
       "$\\displaystyle 2819.66666666667$"
      ],
      "text/plain": [
       "2819.66666666667"
      ]
     },
     "execution_count": 10,
     "metadata": {},
     "output_type": "execute_result"
    }
   ],
   "source": [
    "MSE_2.subs({a2: -2, a1: -1, a0: 60})"
   ]
  },
  {
   "cell_type": "code",
   "execution_count": 11,
   "id": "dbdaadbf-fefe-443a-a5ff-ded02e9ce39a",
   "metadata": {},
   "outputs": [
    {
     "data": {
      "image/png": "[encoded data removed]",
      "text/latex": [
       "$\\displaystyle 91538.6666666667$"
      ],
      "text/plain": [
       "91538.6666666667"
      ]
     },
     "execution_count": 11,
     "metadata": {},
     "output_type": "execute_result"
    }
   ],
   "source": [
    "MSE_2.subs({a2: 2, a1: 17, a0: -9})"
   ]
  },
  {
   "cell_type": "code",
   "execution_count": null,
   "id": "1f41ead4-49d4-4a4d-96ca-09d147f8b775",
   "metadata": {},
   "outputs": [],
   "source": []
  }
 ],
 "metadata": {
  "kernelspec": {
   "display_name": "Python 3",
   "language": "python",
   "name": "python3"
  },
  "language_info": {
   "codemirror_mode": {
    "name": "ipython",
    "version": 3
   },
   "file_extension": ".py",
   "mimetype": "text/x-python",
   "name": "python",
   "nbconvert_exporter": "python",
   "pygments_lexer": "ipython3",
   "version": "3.8.8"
  }
 },
 "nbformat": 4,
 "nbformat_minor": 5
}
