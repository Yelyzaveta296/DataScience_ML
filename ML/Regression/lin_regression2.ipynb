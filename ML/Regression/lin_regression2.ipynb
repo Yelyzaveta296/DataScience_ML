{
 "cells": [
  {
   "cell_type": "code",
   "execution_count": 1,
   "id": "abcfe9c7-d4bd-4400-b7dd-934580cd4a74",
   "metadata": {},
   "outputs": [],
   "source": [
    "import numpy as np\n",
    "from numpy.linalg import inv\n",
    "from sympy import *"
   ]
  },
  {
   "cell_type": "code",
   "execution_count": 6,
   "id": "b52072b6-77d5-4fc3-b6fa-19a69903c8c7",
   "metadata": {},
   "outputs": [],
   "source": [
    "from sklearn.linear_model import LinearRegression"
   ]
  },
  {
   "cell_type": "code",
   "execution_count": 19,
   "id": "c4f918ea-3e1b-45bd-a3b4-8b96ac71256e",
   "metadata": {},
   "outputs": [],
   "source": [
    "x_hw = np.array([[1, 50], [1, 60], [1, 70], [1, 100]])"
   ]
  },
  {
   "cell_type": "code",
   "execution_count": 18,
   "id": "e363573a-d361-4972-80e2-6e87bb1aabd6",
   "metadata": {},
   "outputs": [],
   "source": [
    "y_hw = np.array([[10], [30], [40], [50]])"
   ]
  },
  {
   "cell_type": "code",
   "execution_count": 23,
   "id": "92feeeda-8c8a-471a-962a-e7abd4f59383",
   "metadata": {},
   "outputs": [
    {
     "name": "stdout",
     "output_type": "stream",
     "text": [
      "[[0.         0.71428571]]\n"
     ]
    }
   ],
   "source": [
    "# обучаем модель \"из коробки\"\n",
    "reg = LinearRegression().fit(x_hw, y_hw)\n",
    "print(reg.coef_)"
   ]
  },
  {
   "cell_type": "code",
   "execution_count": 21,
   "id": "d9705810-46e7-44ab-9c51-5ace2ad0e9c1",
   "metadata": {},
   "outputs": [
    {
     "data": {
      "text/plain": [
       "array([[-17.5       ],\n",
       "       [  0.71428571]])"
      ]
     },
     "execution_count": 21,
     "metadata": {},
     "output_type": "execute_result"
    }
   ],
   "source": [
    "w = inv(x_hw.T.dot(x_hw)).dot(x_hw.T).dot(y_hw)\n",
    "w"
   ]
  },
  {
   "cell_type": "code",
   "execution_count": null,
   "id": "082df223-36e0-40e5-b918-b5b317260f8a",
   "metadata": {},
   "outputs": [],
   "source": []
  }
 ],
 "metadata": {
  "kernelspec": {
   "display_name": "Python 3",
   "language": "python",
   "name": "python3"
  },
  "language_info": {
   "codemirror_mode": {
    "name": "ipython",
    "version": 3
   },
   "file_extension": ".py",
   "mimetype": "text/x-python",
   "name": "python",
   "nbconvert_exporter": "python",
   "pygments_lexer": "ipython3",
   "version": "3.8.8"
  }
 },
 "nbformat": 4,
 "nbformat_minor": 5
}
