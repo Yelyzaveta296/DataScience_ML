{
 "cells": [
  {
   "cell_type": "code",
   "execution_count": 89,
   "id": "64d104af-fe06-4672-8cef-2aecfb72cf79",
   "metadata": {},
   "outputs": [
    {
     "data": {
      "text/html": [
       "<div>\n",
       "<style scoped>\n",
       "    .dataframe tbody tr th:only-of-type {\n",
       "        vertical-align: middle;\n",
       "    }\n",
       "\n",
       "    .dataframe tbody tr th {\n",
       "        vertical-align: top;\n",
       "    }\n",
       "\n",
       "    .dataframe thead th {\n",
       "        text-align: right;\n",
       "    }\n",
       "</style>\n",
       "<table border=\"1\" class=\"dataframe\">\n",
       "  <thead>\n",
       "    <tr style=\"text-align: right;\">\n",
       "      <th></th>\n",
       "      <th>x_train</th>\n",
       "      <th>y_train</th>\n",
       "    </tr>\n",
       "  </thead>\n",
       "  <tbody>\n",
       "    <tr>\n",
       "      <th>0</th>\n",
       "      <td>0.138368</td>\n",
       "      <td>0.838812</td>\n",
       "    </tr>\n",
       "    <tr>\n",
       "      <th>1</th>\n",
       "      <td>0.157237</td>\n",
       "      <td>0.889313</td>\n",
       "    </tr>\n",
       "    <tr>\n",
       "      <th>2</th>\n",
       "      <td>0.188684</td>\n",
       "      <td>1.430040</td>\n",
       "    </tr>\n",
       "    <tr>\n",
       "      <th>3</th>\n",
       "      <td>0.685553</td>\n",
       "      <td>1.717309</td>\n",
       "    </tr>\n",
       "    <tr>\n",
       "      <th>4</th>\n",
       "      <td>0.874237</td>\n",
       "      <td>2.032588</td>\n",
       "    </tr>\n",
       "  </tbody>\n",
       "</table>\n",
       "</div>"
      ],
      "text/plain": [
       "    x_train   y_train\n",
       "0  0.138368  0.838812\n",
       "1  0.157237  0.889313\n",
       "2  0.188684  1.430040\n",
       "3  0.685553  1.717309\n",
       "4  0.874237  2.032588"
      ]
     },
     "execution_count": 89,
     "metadata": {},
     "output_type": "execute_result"
    }
   ],
   "source": [
    "from matplotlib import pyplot as plt\n",
    "import numpy as np\n",
    "import pandas as pd\n",
    "\n",
    "data = pd.read_csv('3.10_non_linear.csv')\n",
    "data.head()"
   ]
  },
  {
   "cell_type": "code",
   "execution_count": 90,
   "id": "deab1083-ca15-41b9-b503-bd6d7bfb44b5",
   "metadata": {},
   "outputs": [
    {
     "data": {
      "text/plain": [
       "array([[1.        , 0.13836845],\n",
       "       [1.        , 0.15723687],\n",
       "       [1.        , 0.18868424],\n",
       "       [1.        , 0.68555275],\n",
       "       [1.        , 0.87423699],\n",
       "       [1.        , 1.18242126],\n",
       "       [1.        , 1.25160548],\n",
       "       [1.        , 1.27047391],\n",
       "       [1.        , 1.40255288],\n",
       "       [1.        , 1.42771078],\n",
       "       [1.        , 1.4717371 ],\n",
       "       [1.        , 1.53463185],\n",
       "       [1.        , 1.55350027],\n",
       "       [1.        , 1.84281611],\n",
       "       [1.        , 2.01892141],\n",
       "       [1.        , 2.28936882],\n",
       "       [1.        , 2.64157941],\n",
       "       [1.        , 2.68560573],\n",
       "       [1.        , 2.79881628],\n",
       "       [1.        , 2.82397418],\n",
       "       [1.        , 2.91202682],\n",
       "       [1.        , 2.92460577],\n",
       "       [1.        , 3.27052689],\n",
       "       [1.        , 3.31455321],\n",
       "       [1.        , 3.52839535],\n",
       "       [1.        , 3.59757958],\n",
       "       [1.        , 3.76110592],\n",
       "       [1.        , 3.77368487],\n",
       "       [1.        , 3.91834279],\n",
       "       [1.        , 4.10702703],\n",
       "       [1.        , 4.10702703],\n",
       "       [1.        , 4.12589546],\n",
       "       [1.        , 4.1887902 ],\n",
       "       [1.        , 4.33344812],\n",
       "       [1.        , 4.54100079],\n",
       "       [1.        , 4.57244817],\n",
       "       [1.        , 4.62276396],\n",
       "       [1.        , 4.64163239],\n",
       "       [1.        , 4.9372377 ],\n",
       "       [1.        , 5.12592195],\n",
       "       [1.        , 5.15736932],\n",
       "       [1.        , 5.25800092],\n",
       "       [1.        , 5.30831672],\n",
       "       [1.        , 5.41523779],\n",
       "       [1.        , 5.44668516],\n",
       "       [1.        , 5.50957991],\n",
       "       [1.        , 5.61021151],\n",
       "       [1.        , 5.94984314],\n",
       "       [1.        , 5.96871157],\n",
       "       [1.        , 5.96871157]])"
      ]
     },
     "execution_count": 90,
     "metadata": {},
     "output_type": "execute_result"
    }
   ],
   "source": [
    "X_ex = np.array([data['x_train']]).reshape(-1, 1)\n",
    "# for el in X_ex:\n",
    "#     one_arr = np.array([1])\n",
    "#     X_1 = np.append(one_arr, el)\n",
    "#     X = np.array([X_1])\n",
    "#     print(X)\n",
    "X = np.insert(X_ex, 0, 1, axis=1)\n",
    "X"
   ]
  },
  {
   "cell_type": "code",
   "execution_count": 106,
   "id": "9a79e7b9-4082-429b-be7f-62a56ee82f37",
   "metadata": {},
   "outputs": [
    {
     "data": {
      "text/plain": [
       "array([[ 0.83881243],\n",
       "       [ 0.88931326],\n",
       "       [ 1.43003955],\n",
       "       [ 1.7173094 ],\n",
       "       [ 2.03258831],\n",
       "       [ 1.86034102],\n",
       "       [ 1.87892766],\n",
       "       [ 2.43001534],\n",
       "       [ 2.32785552],\n",
       "       [ 2.20364916],\n",
       "       [ 2.20770757],\n",
       "       [ 1.38803901],\n",
       "       [ 1.71854419],\n",
       "       [ 2.1032645 ],\n",
       "       [ 2.29517686],\n",
       "       [ 1.96515239],\n",
       "       [ 0.74594859],\n",
       "       [ 1.16079805],\n",
       "       [ 0.8472635 ],\n",
       "       [ 0.75558457],\n",
       "       [ 1.3045932 ],\n",
       "       [ 1.06644218],\n",
       "       [ 0.67694404],\n",
       "       [ 0.57916634],\n",
       "       [ 0.13337461],\n",
       "       [ 0.17123457],\n",
       "       [ 0.1961104 ],\n",
       "       [-0.07201584],\n",
       "       [ 0.11811017],\n",
       "       [ 0.46667278],\n",
       "       [ 0.31561051],\n",
       "       [ 0.21494492],\n",
       "       [ 0.05031305],\n",
       "       [ 0.10614754],\n",
       "       [ 0.05713164],\n",
       "       [-0.05725158],\n",
       "       [ 0.44923374],\n",
       "       [-0.33611985],\n",
       "       [-0.03823668],\n",
       "       [ 0.09524973],\n",
       "       [ 0.31302894],\n",
       "       [-0.23125656],\n",
       "       [ 0.02493584],\n",
       "       [ 0.41871855],\n",
       "       [ 0.16572723],\n",
       "       [ 0.26609198],\n",
       "       [ 0.66943982],\n",
       "       [ 0.89238334],\n",
       "       [ 1.26586897],\n",
       "       [ 0.66483917]])"
      ]
     },
     "execution_count": 106,
     "metadata": {},
     "output_type": "execute_result"
    }
   ],
   "source": [
    "Y = np.array([data['y_train']]).reshape(-1, 1)\n",
    "Y"
   ]
  },
  {
   "cell_type": "code",
   "execution_count": 117,
   "id": "4793ec5a-5383-4ee3-8a13-ff9a240c73d5",
   "metadata": {},
   "outputs": [],
   "source": [
    "from numpy.linalg import inv\n",
    "from sklearn.linear_model import LinearRegression"
   ]
  },
  {
   "cell_type": "code",
   "execution_count": 134,
   "id": "ec342e74-e305-44ab-a637-b6e442eb5c3f",
   "metadata": {},
   "outputs": [],
   "source": [
    "class CustomLinearReg:\n",
    "    def __init__(self):\n",
    "        pass\n",
    "    \n",
    "    def fit(self, x, y):\n",
    "        W = inv((x.T).dot(x)).dot(x.T).dot(y)\n",
    "        return W\n",
    "    \n",
    "    def predict(self, x):\n",
    "        reg = LinearRegression().fit(x, Y)\n",
    "        y_pred = reg.predict(x)\n",
    "        return y_pred"
   ]
  },
  {
   "cell_type": "code",
   "execution_count": 135,
   "id": "b079394b-1077-415f-b2e0-bfc272faeba2",
   "metadata": {},
   "outputs": [],
   "source": [
    "model = CustomLinearReg()"
   ]
  },
  {
   "cell_type": "code",
   "execution_count": 136,
   "id": "0d18ea44-b509-4a84-a941-58b4989b28c5",
   "metadata": {},
   "outputs": [
    {
     "data": {
      "text/plain": [
       "array([[ 1.96903541],\n",
       "       [-0.33531472]])"
      ]
     },
     "execution_count": 136,
     "metadata": {},
     "output_type": "execute_result"
    }
   ],
   "source": [
    "model.fit(X, Y)"
   ]
  },
  {
   "cell_type": "code",
   "execution_count": 137,
   "id": "efb246f5-79a8-4af8-aa6f-724bb390a6e6",
   "metadata": {},
   "outputs": [
    {
     "data": {
      "text/plain": [
       "array([[ 1.92263843],\n",
       "       [ 1.91631157],\n",
       "       [ 1.9057668 ],\n",
       "       [ 1.73915947],\n",
       "       [ 1.67589087],\n",
       "       [ 1.57255215],\n",
       "       [ 1.54935366],\n",
       "       [ 1.5430268 ],\n",
       "       [ 1.49873878],\n",
       "       [ 1.49030296],\n",
       "       [ 1.47554029],\n",
       "       [ 1.45445075],\n",
       "       [ 1.44812389],\n",
       "       [ 1.35111203],\n",
       "       [ 1.29206133],\n",
       "       [ 1.20137633],\n",
       "       [ 1.08327494],\n",
       "       [ 1.06851226],\n",
       "       [ 1.0305511 ],\n",
       "       [ 1.02211529],\n",
       "       [ 0.99258994],\n",
       "       [ 0.98837203],\n",
       "       [ 0.87237959],\n",
       "       [ 0.85761691],\n",
       "       [ 0.78591249],\n",
       "       [ 0.76271401],\n",
       "       [ 0.70788121],\n",
       "       [ 0.70366331],\n",
       "       [ 0.65515738],\n",
       "       [ 0.59188877],\n",
       "       [ 0.59188877],\n",
       "       [ 0.58556191],\n",
       "       [ 0.56447238],\n",
       "       [ 0.51596645],\n",
       "       [ 0.44637098],\n",
       "       [ 0.43582621],\n",
       "       [ 0.41895459],\n",
       "       [ 0.41262772],\n",
       "       [ 0.31350691],\n",
       "       [ 0.25023831],\n",
       "       [ 0.23969354],\n",
       "       [ 0.20595028],\n",
       "       [ 0.18907865],\n",
       "       [ 0.15322644],\n",
       "       [ 0.14268168],\n",
       "       [ 0.12159214],\n",
       "       [ 0.08784889],\n",
       "       [-0.0260346 ],\n",
       "       [-0.03236146],\n",
       "       [-0.03236146]])"
      ]
     },
     "execution_count": 137,
     "metadata": {},
     "output_type": "execute_result"
    }
   ],
   "source": [
    "model.predict(X)"
   ]
  },
  {
   "cell_type": "code",
   "execution_count": 118,
   "id": "cf12c551-f9fc-4fc7-a9ca-8d04d3fbe1e4",
   "metadata": {},
   "outputs": [],
   "source": [
    "reg = LinearRegression().fit(X, Y)"
   ]
  },
  {
   "cell_type": "code",
   "execution_count": 124,
   "id": "26b030e0-adea-420a-8d64-4c1a9f90243b",
   "metadata": {},
   "outputs": [
    {
     "data": {
      "text/plain": [
       "array([[ 1.92263843],\n",
       "       [ 1.91631157],\n",
       "       [ 1.9057668 ],\n",
       "       [ 1.73915947],\n",
       "       [ 1.67589087],\n",
       "       [ 1.57255215],\n",
       "       [ 1.54935366],\n",
       "       [ 1.5430268 ],\n",
       "       [ 1.49873878],\n",
       "       [ 1.49030296],\n",
       "       [ 1.47554029],\n",
       "       [ 1.45445075],\n",
       "       [ 1.44812389],\n",
       "       [ 1.35111203],\n",
       "       [ 1.29206133],\n",
       "       [ 1.20137633],\n",
       "       [ 1.08327494],\n",
       "       [ 1.06851226],\n",
       "       [ 1.0305511 ],\n",
       "       [ 1.02211529],\n",
       "       [ 0.99258994],\n",
       "       [ 0.98837203],\n",
       "       [ 0.87237959],\n",
       "       [ 0.85761691],\n",
       "       [ 0.78591249],\n",
       "       [ 0.76271401],\n",
       "       [ 0.70788121],\n",
       "       [ 0.70366331],\n",
       "       [ 0.65515738],\n",
       "       [ 0.59188877],\n",
       "       [ 0.59188877],\n",
       "       [ 0.58556191],\n",
       "       [ 0.56447238],\n",
       "       [ 0.51596645],\n",
       "       [ 0.44637098],\n",
       "       [ 0.43582621],\n",
       "       [ 0.41895459],\n",
       "       [ 0.41262772],\n",
       "       [ 0.31350691],\n",
       "       [ 0.25023831],\n",
       "       [ 0.23969354],\n",
       "       [ 0.20595028],\n",
       "       [ 0.18907865],\n",
       "       [ 0.15322644],\n",
       "       [ 0.14268168],\n",
       "       [ 0.12159214],\n",
       "       [ 0.08784889],\n",
       "       [-0.0260346 ],\n",
       "       [-0.03236146],\n",
       "       [-0.03236146]])"
      ]
     },
     "execution_count": 124,
     "metadata": {},
     "output_type": "execute_result"
    }
   ],
   "source": [
    "reg.predict(X)"
   ]
  },
  {
   "cell_type": "code",
   "execution_count": null,
   "id": "9e349a42-e026-49bd-9499-1d0a729d5a99",
   "metadata": {},
   "outputs": [],
   "source": []
  }
 ],
 "metadata": {
  "kernelspec": {
   "display_name": "Python 3",
   "language": "python",
   "name": "python3"
  },
  "language_info": {
   "codemirror_mode": {
    "name": "ipython",
    "version": 3
   },
   "file_extension": ".py",
   "mimetype": "text/x-python",
   "name": "python",
   "nbconvert_exporter": "python",
   "pygments_lexer": "ipython3",
   "version": "3.8.8"
  }
 },
 "nbformat": 4,
 "nbformat_minor": 5
}
