{
 "cells": [
  {
   "cell_type": "code",
   "execution_count": 42,
   "id": "bb625847-27ce-4217-926f-3c371b51248f",
   "metadata": {},
   "outputs": [],
   "source": [
    "import numpy as np\n",
    "from numpy.linalg import inv\n",
    "from sympy import *\n",
    "from sklearn.linear_model import LinearRegression"
   ]
  },
  {
   "cell_type": "code",
   "execution_count": 48,
   "id": "64e4e499-1f92-447f-96d9-e613c2f9e3cc",
   "metadata": {},
   "outputs": [
    {
     "data": {
      "text/plain": [
       "array([[  1,  50],\n",
       "       [  1,  60],\n",
       "       [  1,  70],\n",
       "       [  1, 100]])"
      ]
     },
     "execution_count": 48,
     "metadata": {},
     "output_type": "execute_result"
    }
   ],
   "source": [
    "X = np.array([[1, 50], [1, 60], [1, 70], [1, 100]])\n",
    "X"
   ]
  },
  {
   "cell_type": "code",
   "execution_count": 3,
   "id": "88eeb568-0a62-4889-aa81-def689de046e",
   "metadata": {},
   "outputs": [
    {
     "data": {
      "text/plain": [
       "array([[10],\n",
       "       [30],\n",
       "       [40],\n",
       "       [50]])"
      ]
     },
     "execution_count": 3,
     "metadata": {},
     "output_type": "execute_result"
    }
   ],
   "source": [
    "Y = np.array([[10], [30], [40], [50]])\n",
    "Y"
   ]
  },
  {
   "cell_type": "code",
   "execution_count": 16,
   "id": "ff8257b7-bdfd-400f-9292-73e0e5004825",
   "metadata": {},
   "outputs": [
    {
     "data": {
      "text/plain": [
       "array([[-17.5       ],\n",
       "       [  0.71428571]])"
      ]
     },
     "execution_count": 16,
     "metadata": {},
     "output_type": "execute_result"
    }
   ],
   "source": [
    "w = inv((X.T).dot(X)).dot(X.T).dot(Y)\n",
    "w"
   ]
  },
  {
   "cell_type": "code",
   "execution_count": 17,
   "id": "4799cb69-af9a-4322-88be-e9c8040e964c",
   "metadata": {},
   "outputs": [],
   "source": [
    "from matplotlib import pyplot as plt\n"
   ]
  },
  {
   "cell_type": "code",
   "execution_count": 35,
   "id": "82bebfc4-3f49-4981-bd33-2d5fdfc02b6e",
   "metadata": {},
   "outputs": [],
   "source": [
    "X_min = 20\n",
    "X_max = X[:, 1].max()"
   ]
  },
  {
   "cell_type": "code",
   "execution_count": 38,
   "id": "91230eb4-7c30-46eb-b596-e446b39f914e",
   "metadata": {},
   "outputs": [
    {
     "data": {
      "text/plain": [
       "array([-3.21428571, -2.04810496, -0.8819242 ,  0.28425656,  1.45043732,\n",
       "        2.61661808,  3.78279883,  4.94897959,  6.11516035,  7.28134111,\n",
       "        8.44752187,  9.61370262, 10.77988338, 11.94606414, 13.1122449 ,\n",
       "       14.27842566, 15.44460641, 16.61078717, 17.77696793, 18.94314869,\n",
       "       20.10932945, 21.2755102 , 22.44169096, 23.60787172, 24.77405248,\n",
       "       25.94023324, 27.10641399, 28.27259475, 29.43877551, 30.60495627,\n",
       "       31.77113703, 32.93731778, 34.10349854, 35.2696793 , 36.43586006,\n",
       "       37.60204082, 38.76822157, 39.93440233, 41.10058309, 42.26676385,\n",
       "       43.43294461, 44.59912536, 45.76530612, 46.93148688, 48.09766764,\n",
       "       49.2638484 , 50.43002915, 51.59620991, 52.76239067, 53.92857143])"
      ]
     },
     "execution_count": 38,
     "metadata": {},
     "output_type": "execute_result"
    }
   ],
   "source": [
    "X_support = np.linspace(X_min, X_max)\n",
    "Y_model = w[0][0] + w[1][0] * X_support\n",
    "Y_model"
   ]
  },
  {
   "cell_type": "code",
   "execution_count": 40,
   "id": "0f0f01a6-c039-425d-93de-4c46f62043b4",
   "metadata": {},
   "outputs": [
    {
     "data": {
      "text/plain": [
       "[<matplotlib.lines.Line2D at 0x1b13a99de50>]"
      ]
     },
     "execution_count": 40,
     "metadata": {},
     "output_type": "execute_result"
    },
    {
     "data": {
      "image/png": "[encoded data removed]",
      "text/plain": [
       "<Figure size 432x288 with 1 Axes>"
      ]
     },
     "metadata": {
      "needs_background": "light"
     },
     "output_type": "display_data"
    }
   ],
   "source": [
    "plt.scatter(X[:, 1], Y[:, 0], 40, 'g')\n",
    "plt.plot(X_support, Y_model)"
   ]
  },
  {
   "cell_type": "code",
   "execution_count": 43,
   "id": "4a1dce1d-338e-4991-9a13-76251bc0adcf",
   "metadata": {},
   "outputs": [
    {
     "name": "stdout",
     "output_type": "stream",
     "text": [
      "[[0.         0.71428571]]\n"
     ]
    }
   ],
   "source": [
    "reg = LinearRegression().fit(X, Y)\n",
    "print(reg.coef_)"
   ]
  },
  {
   "cell_type": "code",
   "execution_count": 46,
   "id": "3ba0ca8b-4ecd-45cf-9af4-86a5dade3389",
   "metadata": {},
   "outputs": [
    {
     "data": {
      "text/plain": [
       "array([[18.21428571],\n",
       "       [25.35714286],\n",
       "       [32.5       ],\n",
       "       [53.92857143]])"
      ]
     },
     "execution_count": 46,
     "metadata": {},
     "output_type": "execute_result"
    }
   ],
   "source": [
    "reg.predict(X)"
   ]
  },
  {
   "cell_type": "code",
   "execution_count": null,
   "id": "5ba9e40c-cfc2-45ff-b63e-cc2dd8335cf3",
   "metadata": {},
   "outputs": [],
   "source": []
  }
 ],
 "metadata": {
  "kernelspec": {
   "display_name": "Python 3",
   "language": "python",
   "name": "python3"
  },
  "language_info": {
   "codemirror_mode": {
    "name": "ipython",
    "version": 3
   },
   "file_extension": ".py",
   "mimetype": "text/x-python",
   "name": "python",
   "nbconvert_exporter": "python",
   "pygments_lexer": "ipython3",
   "version": "3.8.8"
  }
 },
 "nbformat": 4,
 "nbformat_minor": 5
}
