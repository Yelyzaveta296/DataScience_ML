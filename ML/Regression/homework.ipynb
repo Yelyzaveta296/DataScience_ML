{
 "cells": [
  {
   "cell_type": "code",
   "execution_count": 1,
   "id": "97fea379-3568-4dca-97b3-a9a26ddf656b",
   "metadata": {},
   "outputs": [
    {
     "data": {
      "text/html": [
       "<div>\n",
       "<style scoped>\n",
       "    .dataframe tbody tr th:only-of-type {\n",
       "        vertical-align: middle;\n",
       "    }\n",
       "\n",
       "    .dataframe tbody tr th {\n",
       "        vertical-align: top;\n",
       "    }\n",
       "\n",
       "    .dataframe thead th {\n",
       "        text-align: right;\n",
       "    }\n",
       "</style>\n",
       "<table border=\"1\" class=\"dataframe\">\n",
       "  <thead>\n",
       "    <tr style=\"text-align: right;\">\n",
       "      <th></th>\n",
       "      <th>x_train</th>\n",
       "      <th>y_train</th>\n",
       "    </tr>\n",
       "  </thead>\n",
       "  <tbody>\n",
       "    <tr>\n",
       "      <th>0</th>\n",
       "      <td>0.138368</td>\n",
       "      <td>0.838812</td>\n",
       "    </tr>\n",
       "    <tr>\n",
       "      <th>1</th>\n",
       "      <td>0.157237</td>\n",
       "      <td>0.889313</td>\n",
       "    </tr>\n",
       "    <tr>\n",
       "      <th>2</th>\n",
       "      <td>0.188684</td>\n",
       "      <td>1.430040</td>\n",
       "    </tr>\n",
       "    <tr>\n",
       "      <th>3</th>\n",
       "      <td>0.685553</td>\n",
       "      <td>1.717309</td>\n",
       "    </tr>\n",
       "    <tr>\n",
       "      <th>4</th>\n",
       "      <td>0.874237</td>\n",
       "      <td>2.032588</td>\n",
       "    </tr>\n",
       "  </tbody>\n",
       "</table>\n",
       "</div>"
      ],
      "text/plain": [
       "    x_train   y_train\n",
       "0  0.138368  0.838812\n",
       "1  0.157237  0.889313\n",
       "2  0.188684  1.430040\n",
       "3  0.685553  1.717309\n",
       "4  0.874237  2.032588"
      ]
     },
     "execution_count": 1,
     "metadata": {},
     "output_type": "execute_result"
    }
   ],
   "source": [
    "from matplotlib import pyplot as plt\n",
    "import numpy as np\n",
    "import pandas as pd\n",
    "\n",
    "data = pd.read_csv('3.10_non_linear.csv')\n",
    "data.head()"
   ]
  },
  {
   "cell_type": "code",
   "execution_count": 2,
   "id": "96c60cee-6b93-4455-a116-d3583b9b1c2a",
   "metadata": {},
   "outputs": [
    {
     "data": {
      "text/plain": [
       "0     0.138368\n",
       "1     0.157237\n",
       "2     0.188684\n",
       "3     0.685553\n",
       "4     0.874237\n",
       "5     1.182421\n",
       "6     1.251605\n",
       "7     1.270474\n",
       "8     1.402553\n",
       "9     1.427711\n",
       "10    1.471737\n",
       "11    1.534632\n",
       "12    1.553500\n",
       "13    1.842816\n",
       "14    2.018921\n",
       "15    2.289369\n",
       "16    2.641579\n",
       "17    2.685606\n",
       "18    2.798816\n",
       "19    2.823974\n",
       "20    2.912027\n",
       "21    2.924606\n",
       "22    3.270527\n",
       "23    3.314553\n",
       "24    3.528395\n",
       "25    3.597580\n",
       "26    3.761106\n",
       "27    3.773685\n",
       "28    3.918343\n",
       "29    4.107027\n",
       "30    4.107027\n",
       "31    4.125895\n",
       "32    4.188790\n",
       "33    4.333448\n",
       "34    4.541001\n",
       "35    4.572448\n",
       "36    4.622764\n",
       "37    4.641632\n",
       "38    4.937238\n",
       "39    5.125922\n",
       "40    5.157369\n",
       "41    5.258001\n",
       "42    5.308317\n",
       "43    5.415238\n",
       "44    5.446685\n",
       "45    5.509580\n",
       "46    5.610212\n",
       "47    5.949843\n",
       "48    5.968712\n",
       "49    5.968712\n",
       "Name: x_train, dtype: float64"
      ]
     },
     "execution_count": 2,
     "metadata": {},
     "output_type": "execute_result"
    }
   ],
   "source": []
  },
  {
   "cell_type": "code",
   "execution_count": 4,
   "id": "e2458e37-f0bf-4766-8c29-a721f409fefb",
   "metadata": {},
   "outputs": [
    {
     "data": {
      "text/plain": [
       "Text(0, 0.5, 'y')"
      ]
     },
     "execution_count": 4,
     "metadata": {},
     "output_type": "execute_result"
    },
    {
     "data": {
      "image/png": "[encoded data removed]",
      "text/plain": [
       "<Figure size 432x288 with 1 Axes>"
      ]
     },
     "metadata": {
      "needs_background": "light"
     },
     "output_type": "display_data"
    }
   ],
   "source": [
    "plt.scatter(data.x_train, data.y_train, 40, 'g', 'o', alpha=0.8, label='data')\n",
    "plt.xlabel('x')\n",
    "plt.ylabel('y')"
   ]
  },
  {
   "cell_type": "code",
   "execution_count": null,
   "id": "5968a4c5-4fea-4aa1-a672-a5ed43604ea5",
   "metadata": {},
   "outputs": [],
   "source": []
  },
  {
   "cell_type": "code",
   "execution_count": 17,
   "id": "875e7374-8d2e-49bc-8b1f-afafe5eb41e5",
   "metadata": {},
   "outputs": [
    {
     "data": {
      "text/plain": [
       "array([ 1.92263843,  1.91631157,  1.9057668 ,  1.73915947,  1.67589087,\n",
       "        1.57255215,  1.54935366,  1.5430268 ,  1.49873878,  1.49030296,\n",
       "        1.47554029,  1.45445075,  1.44812389,  1.35111203,  1.29206133,\n",
       "        1.20137633,  1.08327494,  1.06851226,  1.0305511 ,  1.02211529,\n",
       "        0.99258994,  0.98837203,  0.87237959,  0.85761691,  0.78591249,\n",
       "        0.76271401,  0.70788121,  0.70366331,  0.65515738,  0.59188877,\n",
       "        0.59188877,  0.58556191,  0.56447238,  0.51596645,  0.44637098,\n",
       "        0.43582621,  0.41895459,  0.41262772,  0.31350691,  0.25023831,\n",
       "        0.23969354,  0.20595028,  0.18907865,  0.15322644,  0.14268168,\n",
       "        0.12159214,  0.08784889, -0.0260346 , -0.03236146, -0.03236146])"
      ]
     },
     "execution_count": 17,
     "metadata": {},
     "output_type": "execute_result"
    }
   ],
   "source": [
    "from sklearn.linear_model import LinearRegression\n",
    "\n",
    "reg = LinearRegression().fit(data[['x_train']], data.y_train)\n",
    "y_hat = reg.predict(data[['x_train']])\n",
    "y_hat"
   ]
  },
  {
   "cell_type": "code",
   "execution_count": 20,
   "id": "27d19e3e-d257-437e-9064-b68726a8b0ff",
   "metadata": {},
   "outputs": [
    {
     "data": {
      "text/plain": [
       "[<matplotlib.lines.Line2D at 0x1a9e5780940>]"
      ]
     },
     "execution_count": 20,
     "metadata": {},
     "output_type": "execute_result"
    },
    {
     "data": {
      "image/png": "[encoded data removed]",
      "text/plain": [
       "<Figure size 432x288 with 1 Axes>"
      ]
     },
     "metadata": {
      "needs_background": "light"
     },
     "output_type": "display_data"
    }
   ],
   "source": [
    "plt.scatter(data.x_train, data.y_train, 40, 'g', 'o', alpha=0.8, label='data')\n",
    "plt.plot(data.x_train, y_hat, 'r', label='fitted')"
   ]
  },
  {
   "cell_type": "code",
   "execution_count": 24,
   "id": "0570e0d9-33c3-4f6f-96fd-86ad7763a11b",
   "metadata": {},
   "outputs": [],
   "source": [
    "def generate_degrees(source_data: list, degree: int):\n",
    "    \"\"\"Функция, которая принимает на вход одномерный массив, а возвращает n-мерный\n",
    "    \n",
    "    Для каждой степени от 1 до  degree возводим x в эту степень\n",
    "    \"\"\"\n",
    "    return np.array([\n",
    "          source_data**n for n in range(1, degree + 1)  \n",
    "    ]).T"
   ]
  },
  {
   "cell_type": "code",
   "execution_count": 30,
   "id": "40af31b5-98e3-4cf3-ac26-6df56936606c",
   "metadata": {},
   "outputs": [
    {
     "name": "stdout",
     "output_type": "stream",
     "text": [
      "(50, 1)\n",
      "(50, 2)\n",
      "(50, 3)\n",
      "(50, 4)\n",
      "(50, 5)\n",
      "(50, 6)\n",
      "(50, 7)\n",
      "(50, 8)\n",
      "(50, 9)\n",
      "(50, 10)\n"
     ]
    }
   ],
   "source": [
    "for degree in range(1, 11):\n",
    "    X = generate_degrees(data['x_train'], degree)\n",
    "    print(X.shape)"
   ]
  },
  {
   "cell_type": "code",
   "execution_count": null,
   "id": "bdb5c849-6162-4256-87e6-ee5a81341125",
   "metadata": {},
   "outputs": [],
   "source": []
  },
  {
   "cell_type": "code",
   "execution_count": null,
   "id": "64bbdb5e-0b08-45d6-8cf2-b5d12bdfa7e6",
   "metadata": {},
   "outputs": [],
   "source": []
  },
  {
   "cell_type": "code",
   "execution_count": null,
   "id": "257b4f1f-ec37-44f8-8e41-8af90278da3c",
   "metadata": {},
   "outputs": [],
   "source": []
  },
  {
   "cell_type": "code",
   "execution_count": null,
   "id": "8fceed82-1900-4f63-be8e-2bf06fcd0082",
   "metadata": {},
   "outputs": [],
   "source": []
  }
 ],
 "metadata": {
  "kernelspec": {
   "display_name": "Python 3",
   "language": "python",
   "name": "python3"
  },
  "language_info": {
   "codemirror_mode": {
    "name": "ipython",
    "version": 3
   },
   "file_extension": ".py",
   "mimetype": "text/x-python",
   "name": "python",
   "nbconvert_exporter": "python",
   "pygments_lexer": "ipython3",
   "version": "3.8.8"
  }
 },
 "nbformat": 4,
 "nbformat_minor": 5
}
