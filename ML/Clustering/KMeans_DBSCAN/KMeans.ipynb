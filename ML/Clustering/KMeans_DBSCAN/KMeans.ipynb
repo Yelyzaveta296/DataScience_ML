{
 "cells": [
  {
   "cell_type": "code",
   "execution_count": 1,
   "id": "ab22c15a-e691-4c0a-b410-b60a1f766377",
   "metadata": {},
   "outputs": [],
   "source": [
    "import pickle"
   ]
  },
  {
   "cell_type": "code",
   "execution_count": 2,
   "id": "d80e06b6-126b-41be-b98d-352c16cee633",
   "metadata": {},
   "outputs": [],
   "source": [
    "import numpy as np\n",
    "from scipy.spatial.distance import euclidean"
   ]
  },
  {
   "cell_type": "code",
   "execution_count": 3,
   "id": "46df52c4-4041-4314-ba2c-cff62f7be918",
   "metadata": {},
   "outputs": [],
   "source": [
    "clust = np.array([\n",
    " [-0.5972191612445694, -0.5919098916910581],\n",
    " [-1.5838020751869848, 0.4743393635868491],\n",
    " [-1.892642118066139, -1.2770390481464395],\n",
    " [-1.021761443519372, -0.38446059106320013],\n",
    " [-0.628271339507516, -2.308149346281125],\n",
    " [-0.7180915776856387, 1.1805550909358404],\n",
    " [-1.543143767548152, -1.4163791359687334],\n",
    " [0.022103701018375554, -1.1279478858865397],\n",
    " [-0.7776518874305778, -0.4157532453316538],\n",
    " [-1.2073577296008344, -1.1308523658604184]\n",
    "])\n",
    "\n",
    "centroid = np.array([-0.9774245525274352, -0.032635425821084516])"
   ]
  },
  {
   "cell_type": "code",
   "execution_count": 4,
   "id": "f4a2f4b5-cc02-4460-ac7e-c19089320e58",
   "metadata": {},
   "outputs": [
    {
     "name": "stdout",
     "output_type": "stream",
     "text": [
      "0.6762721846525269\n",
      "0.7903904965787172\n",
      "1.5447211941081977\n",
      "0.3546078211214085\n",
      "2.3021449929076048\n",
      "1.2405985739912935\n",
      "1.494919692029253\n",
      "1.4828236964693333\n",
      "0.4320745090218055\n",
      "1.1220292836233932\n"
     ]
    }
   ],
   "source": [
    "for el in clust:\n",
    "    dist = euclidean(el, centroid)\n",
    "    print(dist)\n",
    "# dist_1 = euclidean(clust, centroid)"
   ]
  },
  {
   "cell_type": "code",
   "execution_count": 5,
   "id": "b76a18fd-18f0-4552-b8b3-46217cb04e5d",
   "metadata": {},
   "outputs": [
    {
     "name": "stdout",
     "output_type": "stream",
     "text": [
      "16.31211696438564\n"
     ]
    }
   ],
   "source": [
    "arr = np.array([])\n",
    "for el in clust:\n",
    "    dist_np = ((el[0] - centroid[0]) ** 2) + ((el[1] - centroid[1]) ** 2)\n",
    "    arr = np.append(arr, dist_np)\n",
    "    arr_sum = np.sum(arr)\n",
    "print(arr_sum)        "
   ]
  },
  {
   "cell_type": "code",
   "execution_count": null,
   "id": "323a89b1-db76-4b91-9df0-0abf60e958ea",
   "metadata": {},
   "outputs": [],
   "source": []
  },
  {
   "cell_type": "code",
   "execution_count": 6,
   "id": "816f5aa2-e330-4419-99ce-32972edb164f",
   "metadata": {},
   "outputs": [
    {
     "data": {
      "text/plain": [
       "{'X': array([[ 0.87603609,  0.62413841],\n",
       "        [-0.59721916, -0.59190989],\n",
       "        [ 0.51495945, -0.30713853],\n",
       "        [ 0.7034278 ,  0.28387307],\n",
       "        [-1.58380208,  0.47433936],\n",
       "        [-1.89264212, -1.27703905],\n",
       "        [-1.02176144, -0.38446059],\n",
       "        [-0.62827134, -2.30814935],\n",
       "        [-0.71809158,  1.18055509],\n",
       "        [ 1.3326625 ,  1.50041396],\n",
       "        [-1.54314377, -1.41637914],\n",
       "        [ 1.36973405,  0.08368168],\n",
       "        [ 0.0221037 , -1.12794789],\n",
       "        [-0.77765189, -0.41575325],\n",
       "        [ 0.15878937,  0.79493996],\n",
       "        [-1.20735773, -1.13085237],\n",
       "        [-1.25958985, -0.44891921],\n",
       "        [ 1.16168447, -0.22904005],\n",
       "        [-0.83545665,  0.0704683 ],\n",
       "        [ 2.08364608,  0.57341134],\n",
       "        [ 1.33131197,  1.00815304],\n",
       "        [ 0.76205687,  0.419355  ],\n",
       "        [-0.77700391, -1.10004302],\n",
       "        [-1.17619766, -0.11516798],\n",
       "        [ 1.61888431, -0.81956962],\n",
       "        [-1.26810263,  0.58652856],\n",
       "        [ 1.04546445,  0.10600911],\n",
       "        [ 0.78972191, -0.44199715],\n",
       "        [ 0.97669487,  0.50043361],\n",
       "        [-0.55931758, -0.84024497],\n",
       "        [ 1.52033982,  0.42002372],\n",
       "        [-0.59937975,  1.40450065],\n",
       "        [ 0.39398112,  2.34973308],\n",
       "        [ 0.58676858,  0.19483048],\n",
       "        [ 0.83561168,  3.03375261],\n",
       "        [-1.64878143, -0.11866418],\n",
       "        [-0.87674345,  1.1119385 ],\n",
       "        [-0.50754771,  0.32908277],\n",
       "        [-1.10578923,  0.27896868],\n",
       "        [ 0.85702381, -0.61809192],\n",
       "        [-1.11363992, -0.50525643],\n",
       "        [ 0.68530956, -0.51032914],\n",
       "        [-1.31945608,  0.63135355],\n",
       "        [-0.87005034, -1.00020408],\n",
       "        [-0.87861256,  1.88254203],\n",
       "        [ 0.93326564,  0.5880323 ],\n",
       "        [ 0.44960481, -1.14186839],\n",
       "        [ 0.84573891,  0.28484753],\n",
       "        [ 1.36594129, -0.92186637],\n",
       "        [ 1.38361655, -1.26970652],\n",
       "        [-0.9716596 ,  0.96712016],\n",
       "        [-0.41701592, -0.58295671],\n",
       "        [-1.33043746,  1.47338333],\n",
       "        [-0.77827218,  1.98701464],\n",
       "        [ 0.85902412, -2.04174128],\n",
       "        [-1.15389757,  1.39721702],\n",
       "        [-0.61007099, -0.56359738],\n",
       "        [-1.94252314, -1.26575563],\n",
       "        [-0.66603278,  1.99936239],\n",
       "        [ 1.24028804,  0.00994522],\n",
       "        [ 0.55895037,  1.3160141 ],\n",
       "        [-0.5015501 ,  0.15380599],\n",
       "        [-0.54565836, -0.34203909],\n",
       "        [ 0.92647094, -0.90524377],\n",
       "        [ 1.16671943, -0.18694498],\n",
       "        [-0.9481454 , -1.04051117],\n",
       "        [ 1.46053081,  0.8952081 ],\n",
       "        [-0.82945033, -0.39848676],\n",
       "        [ 1.04505165, -0.11490817],\n",
       "        [-0.49980547, -0.01404552],\n",
       "        [ 1.34601876,  1.13395207],\n",
       "        [-0.93198393, -1.32590761],\n",
       "        [-1.22147693, -0.24115941],\n",
       "        [ 0.65872901, -1.31272325],\n",
       "        [ 1.20481983,  1.33192189],\n",
       "        [ 1.44449906,  1.29842062],\n",
       "        [-1.73419027,  1.02681871],\n",
       "        [-0.86859103,  0.83773615],\n",
       "        [-1.04695133, -0.63907632],\n",
       "        [ 0.98311403,  1.25653394],\n",
       "        [-0.48173418,  0.69313303],\n",
       "        [ 1.04529243,  0.28910333],\n",
       "        [ 1.49189076, -0.20865405],\n",
       "        [ 1.54187576, -1.35840447],\n",
       "        [ 0.64033425,  0.02162296],\n",
       "        [ 0.50428885,  0.9729882 ],\n",
       "        [ 0.75081645, -0.77270801],\n",
       "        [ 0.8035896 , -0.80613893],\n",
       "        [-1.36461001, -0.4894895 ],\n",
       "        [-1.5054569 , -0.51336723],\n",
       "        [-0.8438048 , -1.57903522],\n",
       "        [ 1.33069254, -1.37095825],\n",
       "        [-1.18581501,  0.838211  ],\n",
       "        [ 0.47522793,  0.1984521 ],\n",
       "        [ 1.06077071,  0.66509281],\n",
       "        [-1.15072151,  0.76828815],\n",
       "        [-0.59786627,  0.05227956],\n",
       "        [ 0.48508802, -0.5600421 ],\n",
       "        [ 0.69344764, -0.4683347 ],\n",
       "        [ 0.59624227, -0.70427248]]),\n",
       " 'Y': array([1, 0, 1, 1, 0, 0, 0, 0, 0, 1, 0, 1, 0, 0, 1, 0, 0, 1, 0, 0, 1, 1,\n",
       "        0, 0, 1, 0, 1, 1, 1, 0, 1, 0, 1, 1, 1, 0, 0, 0, 0, 1, 0, 1, 0, 0,\n",
       "        0, 1, 1, 1, 1, 1, 0, 0, 0, 0, 1, 0, 0, 0, 0, 1, 1, 0, 0, 1, 1, 0,\n",
       "        1, 0, 1, 0, 1, 0, 0, 1, 1, 1, 0, 0, 0, 1, 0, 1, 1, 1, 1, 1, 1, 1,\n",
       "        0, 0, 0, 1, 0, 1, 1, 0, 0, 1, 1, 1], dtype=int64)}"
      ]
     },
     "execution_count": 6,
     "metadata": {},
     "output_type": "execute_result"
    }
   ],
   "source": [
    "# 4.2\n",
    "with open('clustering.pkl', 'rb') as f:\n",
    "    data_clustering = pickle.load(f)\n",
    "data_clustering"
   ]
  },
  {
   "cell_type": "code",
   "execution_count": 9,
   "id": "cdf7be15-6c34-42e1-8605-2008bf9c6b3d",
   "metadata": {},
   "outputs": [
    {
     "data": {
      "text/plain": [
       "(100,)"
      ]
     },
     "execution_count": 9,
     "metadata": {},
     "output_type": "execute_result"
    }
   ],
   "source": [
    "X = np.array(data_clustering['X'])\n",
    "y = np.array(data_clustering['Y'])\n",
    "X[:, 0].shape"
   ]
  },
  {
   "cell_type": "code",
   "execution_count": 74,
   "id": "31ce5b4b-71b4-497a-9636-5c1004d4156b",
   "metadata": {},
   "outputs": [],
   "source": [
    "from sklearn.cluster import KMeans\n",
    "import matplotlib.pyplot as plt"
   ]
  },
  {
   "cell_type": "code",
   "execution_count": 75,
   "id": "a01b1ee8-cf94-4436-b3c9-7d85b7033cb1",
   "metadata": {},
   "outputs": [
    {
     "data": {
      "image/png": "[encoded data removed]",
      "text/plain": [
       "<Figure size 432x288 with 1 Axes>"
      ]
     },
     "metadata": {
      "needs_background": "light"
     },
     "output_type": "display_data"
    }
   ],
   "source": [
    "plt.scatter(X[:, 0], X[:, 1], c=y, label='data')\n",
    "plt.show()"
   ]
  },
  {
   "cell_type": "code",
   "execution_count": 80,
   "id": "31dada83-1664-4cb4-b32a-84a506f62df7",
   "metadata": {},
   "outputs": [
    {
     "data": {
      "text/plain": [
       "KMeans(n_clusters=3, random_state=42)"
      ]
     },
     "execution_count": 80,
     "metadata": {},
     "output_type": "execute_result"
    }
   ],
   "source": [
    "kmeans_model = KMeans(n_clusters=3, random_state=42)\n",
    "kmeans_model.fit(X)\n"
   ]
  },
  {
   "cell_type": "code",
   "execution_count": 82,
   "id": "8203993f-6d69-47a6-9057-2a75529a65f8",
   "metadata": {},
   "outputs": [
    {
     "data": {
      "image/png": "[encoded data removed]",
      "text/plain": [
       "<Figure size 432x288 with 1 Axes>"
      ]
     },
     "metadata": {
      "needs_background": "light"
     },
     "output_type": "display_data"
    }
   ],
   "source": [
    "plt.scatter(X[:, 0], X[:, 1], s=40, c=kmeans_model.labels_, marker='^', label='data')\n",
    "plt.show()"
   ]
  },
  {
   "cell_type": "code",
   "execution_count": 84,
   "id": "acd5c1c0-fb1e-4ce4-bdad-aaa7f50487cc",
   "metadata": {},
   "outputs": [],
   "source": [
    "# 4.3"
   ]
  },
  {
   "cell_type": "code",
   "execution_count": null,
   "id": "3e2974df-4f2c-4af2-939c-27a1af517ea0",
   "metadata": {},
   "outputs": [],
   "source": []
  },
  {
   "cell_type": "code",
   "execution_count": 180,
   "id": "6c91e835-80b5-4503-b2b6-670c3a7c43f0",
   "metadata": {},
   "outputs": [
    {
     "name": "stderr",
     "output_type": "stream",
     "text": [
      "D:\\ana\\lib\\site-packages\\sklearn\\cluster\\_kmeans.py:881: UserWarning: KMeans is known to have a memory leak on Windows with MKL, when there are less chunks than available threads. You can avoid it by setting the environment variable OMP_NUM_THREADS=1.\n",
      "  warnings.warn(\n",
      "D:\\ana\\lib\\site-packages\\sklearn\\cluster\\_kmeans.py:881: UserWarning: KMeans is known to have a memory leak on Windows with MKL, when there are less chunks than available threads. You can avoid it by setting the environment variable OMP_NUM_THREADS=1.\n",
      "  warnings.warn(\n",
      "D:\\ana\\lib\\site-packages\\sklearn\\cluster\\_kmeans.py:881: UserWarning: KMeans is known to have a memory leak on Windows with MKL, when there are less chunks than available threads. You can avoid it by setting the environment variable OMP_NUM_THREADS=1.\n",
      "  warnings.warn(\n",
      "D:\\ana\\lib\\site-packages\\sklearn\\cluster\\_kmeans.py:881: UserWarning: KMeans is known to have a memory leak on Windows with MKL, when there are less chunks than available threads. You can avoid it by setting the environment variable OMP_NUM_THREADS=1.\n",
      "  warnings.warn(\n",
      "D:\\ana\\lib\\site-packages\\sklearn\\cluster\\_kmeans.py:881: UserWarning: KMeans is known to have a memory leak on Windows with MKL, when there are less chunks than available threads. You can avoid it by setting the environment variable OMP_NUM_THREADS=1.\n",
      "  warnings.warn(\n",
      "D:\\ana\\lib\\site-packages\\sklearn\\cluster\\_kmeans.py:881: UserWarning: KMeans is known to have a memory leak on Windows with MKL, when there are less chunks than available threads. You can avoid it by setting the environment variable OMP_NUM_THREADS=1.\n",
      "  warnings.warn(\n",
      "D:\\ana\\lib\\site-packages\\sklearn\\cluster\\_kmeans.py:881: UserWarning: KMeans is known to have a memory leak on Windows with MKL, when there are less chunks than available threads. You can avoid it by setting the environment variable OMP_NUM_THREADS=1.\n",
      "  warnings.warn(\n",
      "D:\\ana\\lib\\site-packages\\sklearn\\cluster\\_kmeans.py:881: UserWarning: KMeans is known to have a memory leak on Windows with MKL, when there are less chunks than available threads. You can avoid it by setting the environment variable OMP_NUM_THREADS=1.\n",
      "  warnings.warn(\n",
      "D:\\ana\\lib\\site-packages\\sklearn\\cluster\\_kmeans.py:881: UserWarning: KMeans is known to have a memory leak on Windows with MKL, when there are less chunks than available threads. You can avoid it by setting the environment variable OMP_NUM_THREADS=1.\n",
      "  warnings.warn(\n",
      "D:\\ana\\lib\\site-packages\\sklearn\\cluster\\_kmeans.py:881: UserWarning: KMeans is known to have a memory leak on Windows with MKL, when there are less chunks than available threads. You can avoid it by setting the environment variable OMP_NUM_THREADS=1.\n",
      "  warnings.warn(\n"
     ]
    },
    {
     "name": "stdout",
     "output_type": "stream",
     "text": [
      "[[[ 0.97792098  0.10168404]\n",
      "  [-0.97742455 -0.03263543]]\n",
      "\n",
      " [[-0.97742455 -0.03263543]\n",
      "  [ 0.97792098  0.10168404]]\n",
      "\n",
      " [[ 0.97792098  0.10168404]\n",
      "  [-0.97742455 -0.03263543]]\n",
      "\n",
      " [[-0.97742455 -0.03263543]\n",
      "  [ 0.97792098  0.10168404]]\n",
      "\n",
      " [[-0.97742455 -0.03263543]\n",
      "  [ 0.97792098  0.10168404]]\n",
      "\n",
      " [[ 0.97792098  0.10168404]\n",
      "  [-0.97742455 -0.03263543]]\n",
      "\n",
      " [[-0.97742455 -0.03263543]\n",
      "  [ 0.97792098  0.10168404]]\n",
      "\n",
      " [[ 0.97792098  0.10168404]\n",
      "  [-0.97742455 -0.03263543]]\n",
      "\n",
      " [[-0.97742455 -0.03263543]\n",
      "  [ 0.97792098  0.10168404]]\n",
      "\n",
      " [[ 0.97792098  0.10168404]\n",
      "  [-0.97742455 -0.03263543]]]\n"
     ]
    }
   ],
   "source": [
    "clust_array = []\n",
    "for i in range(1, 11):\n",
    "    kmeans_model_1 = KMeans(n_clusters=2, n_init=i, random_state=None, algorithm='full', max_iter=2).fit(X)\n",
    "#     clust_array = np.append(clust_array, [kmeans_model_1.cluster_centers_])\n",
    "    clust_array.append(kmeans_model_1.cluster_centers_)\n",
    "clust_array = np.array(clust_array)\n",
    "print(clust_array) \n",
    "    "
   ]
  },
  {
   "cell_type": "code",
   "execution_count": null,
   "id": "ddd48d0f-cb7f-4690-8ee8-778726eb5898",
   "metadata": {},
   "outputs": [],
   "source": []
  }
 ],
 "metadata": {
  "kernelspec": {
   "display_name": "Python 3",
   "language": "python",
   "name": "python3"
  },
  "language_info": {
   "codemirror_mode": {
    "name": "ipython",
    "version": 3
   },
   "file_extension": ".py",
   "mimetype": "text/x-python",
   "name": "python",
   "nbconvert_exporter": "python",
   "pygments_lexer": "ipython3",
   "version": "3.8.8"
  }
 },
 "nbformat": 4,
 "nbformat_minor": 5
}
