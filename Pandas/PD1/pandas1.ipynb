{
 "cells": [
  {
   "cell_type": "markdown",
   "metadata": {
    "colab_type": "text",
    "id": "TGSlEOmerPnD"
   },
   "source": [
    "# The `pandas` library: part 1\n"
   ]
  },
  {
   "cell_type": "markdown",
   "metadata": {
    "colab_type": "text",
    "id": "NExy7dE1rPnE"
   },
   "source": [
    "###  1\n",
    "\n",
    "Load the `NumPy` array from the `\"arr_pandas.npy\"` file and convert it to a dataframe. The array contains data from the Scottish Hill Races in 2000 (full description in English can be found at [page](https://vincentarelbundock.github.io/Rdatasets/doc/DAAG/races2000.html) with the documentation for the source data file.\n",
    "\n"
   ]
  },
  {
   "cell_type": "code",
   "execution_count": 3,
   "metadata": {
    "colab": {},
    "colab_type": "code",
    "id": "KuLeAnNQrPnF"
   },
   "outputs": [
    {
     "name": "stdout",
     "output_type": "stream",
     "text": [
      "                     0     1     2         3         4       5\n",
      "0   Aonach Mor Gondola   2.0  2000  0.403611  0.518889  uphill\n",
      "1    Broughton Brewery   2.0   650  0.254444  0.316667   other\n",
      "2          El-Brim-Ick   3.0   750  0.485833  0.389167   other\n",
      "3   The Devils Burdens  21.0  4100  2.399722  3.093333   relay\n",
      "4        Tiso Carnethy   6.0  2500  0.782222  0.919167    hill\n",
      "..                 ...   ...   ...       ...       ...     ...\n",
      "72               Tinto   4.5  1500  0.499444  0.581111    hill\n",
      "73          Druim Fada   6.5  1000  0.751111  0.972222   other\n",
      "74              Elrick   3.6   650  0.358056    0.4425   relay\n",
      "75             Gondola   2.5  2000  0.387222  0.518889  uphill\n",
      "76         Greenmantle   2.0   650  0.254444  0.316667   other\n",
      "\n",
      "[77 rows x 6 columns]\n"
     ]
    }
   ],
   "source": [
    "import numpy as np\n",
    "import pandas as pd\n",
    "\n",
    "arr = np.load('arr_pandas.npy', allow_pickle=True)\n",
    "dat = pd.DataFrame(arr)  \n",
    "print(dat)\n"
   ]
  },
  {
   "cell_type": "markdown",
   "metadata": {
    "colab_type": "text",
    "id": "DKJF6IXCrPnL"
   },
   "source": [
    "###  2\n",
    "\n",
    "Determine how many rows and columns are in the dataframe. Provide the code and indicate the answer in the form of text or a comment to the code.\n"
   ]
  },
  {
   "cell_type": "code",
   "execution_count": 30,
   "metadata": {
    "colab": {},
    "colab_type": "code",
    "id": "8b-UkWU8rPnL"
   },
   "outputs": [
    {
     "name": "stdout",
     "output_type": "stream",
     "text": [
      "Rows number is: 77 \n",
      "Columns number is: 6\n"
     ]
    }
   ],
   "source": [
    "### YOUR CODE HERE ###\n",
    "dat_row = dat.shape[0]\n",
    "dat_col = dat.shape[1]\n",
    "\n",
    "print('Rows number is:', dat_row, '\\nColumns number is:', dat_col)"
   ]
  },
  {
   "cell_type": "markdown",
   "metadata": {
    "colab_type": "text",
    "id": "FGDqgiAxrPnP"
   },
   "source": [
    "###  3\n",
    "\n",
    "Assign the following names to the columns (specified with explanations):\n",
    "\n",
    "* `id`: member id\n",
    "* `dist`: distance in miles (on the map)\n",
    "* `climb`: altitude reached on the route (cumulative for the entire route, in feet)\n",
    "* `time`: time (in hours)\n",
    "* `timef`: time for women (in hours)\n",
    "* `type`: race type (*hill*, *marathon*, *relay*, *uphill* or *other*)"
   ]
  },
  {
   "cell_type": "code",
   "execution_count": 32,
   "metadata": {
    "colab": {},
    "colab_type": "code",
    "id": "NY-269FGrPnQ"
   },
   "outputs": [
    {
     "name": "stdout",
     "output_type": "stream",
     "text": [
      "                    id dist climb      time     timef    type\n",
      "0   Aonach Mor Gondola    2  2000  0.403611  0.518889  uphill\n",
      "1    Broughton Brewery    2   650  0.254444  0.316667   other\n",
      "2          El-Brim-Ick    3   750  0.485833  0.389167   other\n",
      "3   The Devils Burdens   21  4100   2.39972   3.09333   relay\n",
      "4        Tiso Carnethy    6  2500  0.782222  0.919167    hill\n",
      "..                 ...  ...   ...       ...       ...     ...\n",
      "72               Tinto  4.5  1500  0.499444  0.581111    hill\n",
      "73          Druim Fada  6.5  1000  0.751111  0.972222   other\n",
      "74              Elrick  3.6   650  0.358056    0.4425   relay\n",
      "75             Gondola  2.5  2000  0.387222  0.518889  uphill\n",
      "76         Greenmantle    2   650  0.254444  0.316667   other\n",
      "\n",
      "[77 rows x 6 columns]\n"
     ]
    }
   ],
   "source": [
    "### YOUR CODE HERE ###\n",
    "dat.columns = ['id','dist', 'climb', 'time', 'timef', 'type']\n",
    "print(dat)"
   ]
  },
  {
   "cell_type": "markdown",
   "metadata": {
    "colab_type": "text",
    "id": "zO-W3sS1rPnT"
   },
   "source": [
    "###  4\n",
    "\n",
    "Display the altitude reached on the route by *Norman's Law*.\n"
   ]
  },
  {
   "cell_type": "code",
   "execution_count": 47,
   "metadata": {
    "colab": {},
    "colab_type": "code",
    "id": "WD7RsfpIrPnU"
   },
   "outputs": [
    {
     "name": "stdout",
     "output_type": "stream",
     "text": [
      "700\n"
     ]
    }
   ],
   "source": [
    "### YOUR CODE HERE ###\n",
    "dat.index = dat['id']\n",
    "print(dat.loc[\"Norman's Law\", \"climb\"])"
   ]
  },
  {
   "cell_type": "markdown",
   "metadata": {
    "colab_type": "text",
    "id": "FWSvXwDsrPnX"
   },
   "source": [
    "###  5\n",
    "Display the values of the indicators `dist`, `climb` , `time` for the first 10 participants.\n"
   ]
  },
  {
   "cell_type": "code",
   "execution_count": 57,
   "metadata": {
    "colab": {},
    "colab_type": "code",
    "id": "Rx8FCk-1rPnX"
   },
   "outputs": [
    {
     "name": "stdout",
     "output_type": "stream",
     "text": [
      "                   dist climb      time\n",
      "id                                     \n",
      "Aonach Mor Gondola    2  2000  0.403611\n",
      "Broughton Brewery     2   650  0.254444\n",
      "El-Brim-Ick           3   750  0.485833\n",
      "The Devils Burdens   21  4100   2.39972\n",
      "Tiso Carnethy         6  2500  0.782222\n",
      "Criffel               7  1800  0.793333\n",
      "Chapelgill          1.5  1400  0.314444\n",
      "Norman's Law          5   700  0.464167\n",
      "Craig Dunain          6   900  0.546111\n",
      "Knockfarrel           5  1200  0.623333\n"
     ]
    }
   ],
   "source": [
    "### YOUR CODE HERE ###\n",
    "dat_iloc = dat.iloc[0:10]\n",
    "print(dat_iloc.loc[:, ['dist', 'climb', 'time']])"
   ]
  },
  {
   "cell_type": "markdown",
   "metadata": {
    "colab_type": "text",
    "id": "hE_DuG3zrPnb"
   },
   "source": [
    "###  6\n",
    "\n",
    "Display a summary of dataframe information that includes the types of all columns. How many `float` columns are in the dataframe? Give the answer to the question in the form of text or a comment to the code.\n"
   ]
  },
  {
   "cell_type": "code",
   "execution_count": 4,
   "metadata": {
    "colab": {},
    "colab_type": "code",
    "id": "GPMKlBTArPnb"
   },
   "outputs": [
    {
     "name": "stdout",
     "output_type": "stream",
     "text": [
      "<class 'pandas.core.frame.DataFrame'>\n",
      "RangeIndex: 77 entries, 0 to 76\n",
      "Data columns (total 6 columns):\n",
      " #   Column  Non-Null Count  Dtype \n",
      "---  ------  --------------  ----- \n",
      " 0   0       77 non-null     object\n",
      " 1   1       77 non-null     object\n",
      " 2   2       77 non-null     object\n",
      " 3   3       77 non-null     object\n",
      " 4   4       75 non-null     object\n",
      " 5   5       77 non-null     object\n",
      "dtypes: object(6)\n",
      "memory usage: 3.7+ KB\n",
      "None\n"
     ]
    }
   ],
   "source": [
    "### YOUR CODE HERE ###\n",
    "arr = np.load('arr_pandas.npy', allow_pickle=True)\n",
    "dat = pd.DataFrame(arr) \n",
    "print(dat.info())\n",
    "# This dataframe has 0 float columns"
   ]
  },
  {
   "cell_type": "markdown",
   "metadata": {
    "colab_type": "text",
    "id": "HZk0YywrrPne"
   },
   "source": [
    "###  7\n",
    "\n",
    "Select the lines that match the relay participants (*relay*).\n"
   ]
  },
  {
   "cell_type": "code",
   "execution_count": 69,
   "metadata": {
    "colab": {},
    "colab_type": "code",
    "id": "oVotUFlMrPne"
   },
   "outputs": [
    {
     "name": "stdout",
     "output_type": "stream",
     "text": [
      "                                    id dist climb      time     timef   type\n",
      "id                                                                          \n",
      "The Devils Burdens  The Devils Burdens   21  4100   2.39972   3.09333  relay\n",
      "Ben Rha                        Ben Rha  7.5   800  0.738056  0.997222  relay\n",
      "Elrick                          Elrick  3.6   650  0.358056    0.4425  relay\n"
     ]
    }
   ],
   "source": [
    "### YOUR CODE HERE ###\n",
    "print(dat[dat['type'] == 'relay'])"
   ]
  },
  {
   "cell_type": "markdown",
   "metadata": {
    "colab_type": "text",
    "id": "kzFdcYCCrPnh"
   },
   "source": [
    "###  8\n",
    "\n",
    "Select the rows that correspond to hill racers (*hill*) who have reached an altitude of more than 1000 feet in total. Count how many such participants.\n"
   ]
  },
  {
   "cell_type": "code",
   "execution_count": 77,
   "metadata": {
    "colab": {},
    "colab_type": "code",
    "id": "QqaztdTGrPni"
   },
   "outputs": [
    {
     "name": "stdout",
     "output_type": "stream",
     "text": [
      "                                          id  dist climb      time     timef  \\\n",
      "id                                                                             \n",
      "Tiso Carnethy                  Tiso Carnethy     6  2500  0.782222  0.919167   \n",
      "Criffel                              Criffel     7  1800  0.793333   1.00333   \n",
      "Chapelgill                        Chapelgill   1.5  1400  0.314444  0.376667   \n",
      "Knockfarrel                      Knockfarrel     5  1200  0.623333  0.734167   \n",
      "Screel                                Screel     4  1300  0.458889  0.543611   \n",
      "O.P.S. Clachnaben          O.P.S. Clachnaben  10.5  3500   1.27889   1.48778   \n",
      "Stuc A'Chroin                  Stuc A'Chroin    14  5000   1.98333   2.39889   \n",
      "29th Dumyat                      29th Dumyat     5  1250  0.552778  0.637778   \n",
      "Ben Lomond                        Ben Lomond     9  3192   1.03778   1.19917   \n",
      "Goatfell                            Goatfell     8  2866   1.22778   1.52639   \n",
      "Scottish Nuclear Kaim  Scottish Nuclear Kaim   3.5  1250  0.431111      0.54   \n",
      "12 Trig Trog                    12 Trig Trog    46  7500   8.30694   13.5478   \n",
      "Kilpatricks                      Kilpatricks     6  1400  0.739722  0.874167   \n",
      "Yetholm                              Yetholm     8  2500   1.19306   1.45111   \n",
      "Ben Sheann                        Ben Sheann   2.5  1400  0.381667  0.484722   \n",
      "Glen Rosa                          Glen Rosa    13  5500   2.22028   2.70472   \n",
      "Scottish Borders            Scottish Borders    10  2000   1.19806   1.44972   \n",
      "Cort-ma                              Cort-ma     6  1500  0.742222  0.870278   \n",
      "Dollar                                Dollar     6  2000  0.638333  0.773611   \n",
      "Ben Tee                              Ben Tee     9  2950   1.32778   1.78278   \n",
      "Glamaig                              Glamaig   4.5  2400  0.744722  0.936111   \n",
      "Urie Loch                          Urie Loch     6  1400  0.773889     1.015   \n",
      "Meall Ant-Suidhe            Meall Ant-Suidhe   3.5  1500     0.465  0.609722   \n",
      "Mash Hill                          Mash Hill     6  2500  0.794167   1.05194   \n",
      "Ben Rhinnes                      Ben Rhinnes    14  4900   1.97611   2.35583   \n",
      "Creag Dubh                        Creag Dubh     3  1223  0.463889  0.601667   \n",
      "Glen Clova                        Glen Clova    15  5500   2.56722   2.96222   \n",
      "Tap O'North                      Tap O'North     6  1220  0.665833  0.817778   \n",
      "Lomonds                              Lomonds     9  2200   1.05306   1.29389   \n",
      "Ben Nevis                          Ben Nevis    10  4400   1.42611   1.72361   \n",
      "Moffat Beef Tub              Moffat Beef Tub     2  1500  0.332222  0.436944   \n",
      "Cairn William                  Cairn William     6  1400  0.704444  0.809722   \n",
      "Corrieyairick                  Corrieyairick    16  2250   1.66472   1.96333   \n",
      "Morven                                Morven     5  1700  0.609167  0.785833   \n",
      "Merrick                              Merrick     8  2710   1.13333   1.39472   \n",
      "Two Breweries                  Two Breweries    18  4900   2.56583   3.08833   \n",
      "Manor Water                      Manor Water    10  2300   1.18444    1.4975   \n",
      "Pentland                            Pentland    16  6200   2.37778     2.785   \n",
      "Tinto                                  Tinto   4.5  1500  0.499444  0.581111   \n",
      "\n",
      "                       type  \n",
      "id                           \n",
      "Tiso Carnethy          hill  \n",
      "Criffel                hill  \n",
      "Chapelgill             hill  \n",
      "Knockfarrel            hill  \n",
      "Screel                 hill  \n",
      "O.P.S. Clachnaben      hill  \n",
      "Stuc A'Chroin          hill  \n",
      "29th Dumyat            hill  \n",
      "Ben Lomond             hill  \n",
      "Goatfell               hill  \n",
      "Scottish Nuclear Kaim  hill  \n",
      "12 Trig Trog           hill  \n",
      "Kilpatricks            hill  \n",
      "Yetholm                hill  \n",
      "Ben Sheann             hill  \n",
      "Glen Rosa              hill  \n",
      "Scottish Borders       hill  \n",
      "Cort-ma                hill  \n",
      "Dollar                 hill  \n",
      "Ben Tee                hill  \n",
      "Glamaig                hill  \n",
      "Urie Loch              hill  \n",
      "Meall Ant-Suidhe       hill  \n",
      "Mash Hill              hill  \n",
      "Ben Rhinnes            hill  \n",
      "Creag Dubh             hill  \n",
      "Glen Clova             hill  \n",
      "Tap O'North            hill  \n",
      "Lomonds                hill  \n",
      "Ben Nevis              hill  \n",
      "Moffat Beef Tub        hill  \n",
      "Cairn William          hill  \n",
      "Corrieyairick          hill  \n",
      "Morven                 hill  \n",
      "Merrick                hill  \n",
      "Two Breweries          hill  \n",
      "Manor Water            hill  \n",
      "Pentland               hill  \n",
      "Tinto                  hill  \n"
     ]
    }
   ],
   "source": [
    "### YOUR CODE HERE ###\n",
    "print(dat[(dat['type'] == 'hill') & (dat['climb'] > 1000)])"
   ]
  },
  {
   "cell_type": "markdown",
   "metadata": {
    "colab_type": "text",
    "id": "DpE3J3EgrPnk"
   },
   "source": [
    "###  9\n",
    "\n",
    "Select rows corresponding to participants who have either reached an altitude of more than 4000 feet or spent less than 0.5 hours.\n"
   ]
  },
  {
   "cell_type": "code",
   "execution_count": 79,
   "metadata": {
    "colab": {},
    "colab_type": "code",
    "id": "PLoGXxynrPnk"
   },
   "outputs": [
    {
     "name": "stdout",
     "output_type": "stream",
     "text": [
      "                                          id  dist climb      time     timef  \\\n",
      "id                                                                             \n",
      "Aonach Mor Gondola        Aonach Mor Gondola     2  2000  0.403611  0.518889   \n",
      "Broughton Brewery          Broughton Brewery     2   650  0.254444  0.316667   \n",
      "El-Brim-Ick                      El-Brim-Ick     3   750  0.485833  0.389167   \n",
      "The Devils Burdens        The Devils Burdens    21  4100   2.39972   3.09333   \n",
      "Chapelgill                        Chapelgill   1.5  1400  0.314444  0.376667   \n",
      "Norman's Law                    Norman's Law     5   700  0.464167  0.609167   \n",
      "Screel                                Screel     4  1300  0.458889  0.543611   \n",
      "Hunters Bog                      Hunters Bog   4.5   800  0.409444  0.477778   \n",
      "Aberfoyle Dash                Aberfoyle Dash     3  1000    0.3375  0.381389   \n",
      "Manx Mountain                  Manx Mountain  30.5  8000   4.46972   5.52333   \n",
      "Whangie Whizz                  Whangie Whizz   3.5   800  0.395556  0.464167   \n",
      "Stuc A'Chroin                  Stuc A'Chroin    14  5000   1.98333   2.39889   \n",
      "Kinnoull                            Kinnoull     4   800  0.387222    0.4525   \n",
      "Scottish Nuclear Kaim  Scottish Nuclear Kaim   3.5  1250  0.431111      0.54   \n",
      "Isle of Jura                    Isle of Jura    16  7500   3.11639   3.83944   \n",
      "Scolty                                Scolty     5   800  0.495833  0.579167   \n",
      "12 Trig Trog                    12 Trig Trog    46  7500   8.30694   13.5478   \n",
      "Ben Sheann                        Ben Sheann   2.5  1400  0.381667  0.484722   \n",
      "Glen Rosa                          Glen Rosa    13  5500   2.22028   2.70472   \n",
      "West Highland Way          West Highland Way    95  9200   15.4389   18.8792   \n",
      "Eildon Two                        Eildon Two   4.5  1500  0.427222  0.507778   \n",
      "Black Hill                        Black Hill     4   600  0.447778  0.532222   \n",
      "Meall Ant-Suidhe            Meall Ant-Suidhe   3.5  1500     0.465  0.609722   \n",
      "Lochaber AC                      Lochaber AC     2   900  0.284722  0.360556   \n",
      "Lochaber Highland          Lochaber Highland     2   900  0.294167  0.473056   \n",
      "Ben Rhinnes                      Ben Rhinnes    14  4900   1.97611   2.35583   \n",
      "Creag Dubh                        Creag Dubh     3  1223  0.463889  0.601667   \n",
      "Glen Clova                        Glen Clova    15  5500   2.56722   2.96222   \n",
      "Caerketton                        Caerketton   2.5   800  0.208611  0.246667   \n",
      "Oban                                    Oban  2.25   500  0.232222  0.298889   \n",
      "Ben Nevis                          Ben Nevis    10  4400   1.42611   1.72361   \n",
      "Braemar                              Braemar     4  2000  0.407778       NaN   \n",
      "Moffat Beef Tub              Moffat Beef Tub     2  1500  0.332222  0.436944   \n",
      "Two Breweries                  Two Breweries    18  4900   2.56583   3.08833   \n",
      "Pentland                            Pentland    16  6200   2.37778     2.785   \n",
      "Tinto                                  Tinto   4.5  1500  0.499444  0.581111   \n",
      "Elrick                                Elrick   3.6   650  0.358056    0.4425   \n",
      "Gondola                              Gondola   2.5  2000  0.387222  0.518889   \n",
      "Greenmantle                      Greenmantle     2   650  0.254444  0.316667   \n",
      "\n",
      "                           type  \n",
      "id                               \n",
      "Aonach Mor Gondola       uphill  \n",
      "Broughton Brewery         other  \n",
      "El-Brim-Ick               other  \n",
      "The Devils Burdens        relay  \n",
      "Chapelgill                 hill  \n",
      "Norman's Law               hill  \n",
      "Screel                     hill  \n",
      "Hunters Bog               other  \n",
      "Aberfoyle Dash           uphill  \n",
      "Manx Mountain          marathon  \n",
      "Whangie Whizz              hill  \n",
      "Stuc A'Chroin              hill  \n",
      "Kinnoull                   hill  \n",
      "Scottish Nuclear Kaim      hill  \n",
      "Isle of Jura              other  \n",
      "Scolty                     hill  \n",
      "12 Trig Trog               hill  \n",
      "Ben Sheann                 hill  \n",
      "Glen Rosa                  hill  \n",
      "West Highland Way         other  \n",
      "Eildon Two                other  \n",
      "Black Hill                 hill  \n",
      "Meall Ant-Suidhe           hill  \n",
      "Lochaber AC                hill  \n",
      "Lochaber Highland          hill  \n",
      "Ben Rhinnes                hill  \n",
      "Creag Dubh                 hill  \n",
      "Glen Clova                 hill  \n",
      "Caerketton                 hill  \n",
      "Oban                       hill  \n",
      "Ben Nevis                  hill  \n",
      "Braemar                   other  \n",
      "Moffat Beef Tub            hill  \n",
      "Two Breweries              hill  \n",
      "Pentland                   hill  \n",
      "Tinto                      hill  \n",
      "Elrick                    relay  \n",
      "Gondola                  uphill  \n",
      "Greenmantle               other  \n"
     ]
    }
   ],
   "source": [
    "### YOUR CODE HERE ###\n",
    "print(dat[(dat['climb'] > 4000) | (dat['time'] < 0.5)])"
   ]
  },
  {
   "cell_type": "markdown",
   "metadata": {
    "colab_type": "text",
    "id": "GL_JBYmarPnn"
   },
   "source": [
    "###  10\n",
    "\n",
    "Create a `time_min` column that contains the route time measured in minutes.\n"
   ]
  },
  {
   "cell_type": "code",
   "execution_count": 103,
   "metadata": {
    "colab": {},
    "colab_type": "code",
    "id": "Z9BCFTSsrPno"
   },
   "outputs": [
    {
     "name": "stdout",
     "output_type": "stream",
     "text": [
      "                    id dist climb      time     timef    type time_min\n",
      "0   Aonach Mor Gondola    2  2000  0.403611  0.518889  uphill  24.2167\n",
      "1    Broughton Brewery    2   650  0.254444  0.316667   other  15.2667\n",
      "2          El-Brim-Ick    3   750  0.485833  0.389167   other    29.15\n",
      "3   The Devils Burdens   21  4100   2.39972   3.09333   relay  143.983\n",
      "4        Tiso Carnethy    6  2500  0.782222  0.919167    hill  46.9333\n",
      "..                 ...  ...   ...       ...       ...     ...      ...\n",
      "72               Tinto  4.5  1500  0.499444  0.581111    hill  29.9667\n",
      "73          Druim Fada  6.5  1000  0.751111  0.972222   other  45.0667\n",
      "74              Elrick  3.6   650  0.358056    0.4425   relay  21.4833\n",
      "75             Gondola  2.5  2000  0.387222  0.518889  uphill  23.2333\n",
      "76         Greenmantle    2   650  0.254444  0.316667   other  15.2667\n",
      "\n",
      "[77 rows x 7 columns]\n"
     ]
    }
   ],
   "source": [
    "### YOUR CODE HERE ###\n",
    "dat['time_min'] = dat['time']*60\n",
    "print(dat)"
   ]
  },
  {
   "cell_type": "markdown",
   "metadata": {
    "colab_type": "text",
    "id": "AlVDMiverPnq"
   },
   "source": [
    "###  11\n",
    "\n",
    "Create a `year` column with the year of the competition (everywhere 2000). Attention: the column with the year must be numeric (integer).\n"
   ]
  },
  {
   "cell_type": "code",
   "execution_count": 107,
   "metadata": {
    "colab": {},
    "colab_type": "code",
    "id": "NZVwqWRbrPnq"
   },
   "outputs": [
    {
     "name": "stdout",
     "output_type": "stream",
     "text": [
      "id          object\n",
      "dist        object\n",
      "climb       object\n",
      "time        object\n",
      "timef       object\n",
      "type        object\n",
      "time_min    object\n",
      "year         int64\n",
      "dtype: object\n"
     ]
    }
   ],
   "source": [
    "### YOUR CODE HERE ###\n",
    "dat['year'] = 2000\n",
    "dat['year'] = pd.to_numeric(dat['year'])\n",
    "print(dat.dtypes)"
   ]
  },
  {
   "cell_type": "markdown",
   "metadata": {
    "colab_type": "text",
    "id": "XfY_zdL1rPnt"
   },
   "source": [
    ".<br> .<br> .<br> .<br> .<br> .<br> .<br> .<br> .<br> .<br> .<br> .<br> .<br> .<br> .<br> .<br> .<br> .<br> \n",
    "# Additional task.\n",
    "<br>\n",
    "\n"
   ]
  },
  {
   "cell_type": "markdown",
   "metadata": {
    "colab_type": "text",
    "id": "npN8fNXDrPnt"
   },
   "source": [
    "###  1\n",
    "\n",
    "Load dataframe from `extraversion.csv` file using the code below. The `extraversion.csv` file must be in the same folder as the solution notebook. It can be placed in the same folder by pressing the *Upload* button in *Home*.\n"
   ]
  },
  {
   "cell_type": "code",
   "execution_count": 5,
   "metadata": {
    "colab": {},
    "colab_type": "code",
    "id": "lW-vcZnxrPnu"
   },
   "outputs": [
    {
     "name": "stdout",
     "output_type": "stream",
     "text": [
      "    Unnamed: 0  Unnamed: 0.1      sex volunteer  Q 1  Q 2  Q 3  Q 4  Q 5  Q 6  \\\n",
      "0            0             1  Женский       Нет   Да  Нет  Нет   Да   Да   Да   \n",
      "1            1             2  Женский        Да   Да   Да  Нет   Да   Да   Да   \n",
      "2            2             3  Женский        Да   Да   Да  Нет  Нет   Да   Да   \n",
      "3            3             4  Женский       Нет   Да   Да  Нет  Нет   Да   Да   \n",
      "4            4             5  Женский       Нет   Да   Да  Нет   Да   Да   Да   \n",
      "5            5             6  Женский       Нет   Да  Нет   Да   Да  Нет  Нет   \n",
      "6            6             7  Женский       Нет   Да  Нет  Нет   Да   Да  Нет   \n",
      "7            7             8  Женский        Да   Да   Да   Да  Нет   Да   Да   \n",
      "8            8             9  Женский       Нет   Да   Да  Нет   Да   Да   Да   \n",
      "9            9            10  Женский        Да   Да   Да  Нет  Нет   Да  Нет   \n",
      "10          10            11  Мужской       Нет  Нет   Да  Нет  Нет   Да   Да   \n",
      "11          11            12  Женский        Да   Да   Да  Нет   Да   Да   Да   \n",
      "12          12            13  Женский        Да   Да   Да  Нет   Да   Да   Да   \n",
      "13          13            14  Женский       Нет   Да   Да  Нет   Да   Да  Нет   \n",
      "14          14            15  Женский       Нет  Нет  Нет  Нет   Да   Да  Нет   \n",
      "15          15            16  Женский       Нет   Да   Да   Да  Нет   Да  Нет   \n",
      "16          16            17  Женский       Нет   Да   Да  Нет  Нет  Нет   Да   \n",
      "17          17            18  Женский       Нет   Да  Нет   Да   Да  Нет  Нет   \n",
      "18          18            19  Женский       Нет   Да   Да  Нет   Да   Да   Да   \n",
      "19          19            20  Женский       Нет  Нет  Нет   Да   Да   Да  Нет   \n",
      "20          20            21  Женский       Нет   Да   Да  Нет   Да   Да   Да   \n",
      "21          21            22  Женский        Да   Да   Да  Нет  Нет   Да  Нет   \n",
      "22          22            23  Женский       Нет   Да   Да  Нет   Да   Да   Да   \n",
      "23          23            24  Мужской        Да   Да   Да  Нет  Нет   Да   Да   \n",
      "24          24            25  Мужской        Да   Да   Да  Нет   Да   Да   Да   \n",
      "25          25            26  Женский        Да  Нет   Да  Нет  Нет   Да   Да   \n",
      "26          26            27  Женский       Нет   Да   Да  Нет  Нет   Да   Да   \n",
      "27          27            28  Женский        Да   Да  Нет  Нет  Нет   Да   Да   \n",
      "28          28            29  Женский        Да   Да   Да  Нет   Да   Да   Да   \n",
      "29          29            30  Женский       Нет  Нет  Нет  Нет  Нет   Да   Да   \n",
      "30          30            31  Женский        Да   Да   Да  Нет   Да  Нет  Нет   \n",
      "31          31            32  Женский        Да   Да  Нет  Нет  Нет   Да   Да   \n",
      "32          32            33  Женский        Да   Да  Нет  Нет  Нет   Да   Да   \n",
      "33          33            34  Мужской       Нет  Нет   Да  Нет   Да   Да  Нет   \n",
      "34          34            35  Женский       Нет   Да   Да   Да  Нет   Да   Да   \n",
      "35          35            36  Женский        Да   Да   Да  Нет   Да   Да  Нет   \n",
      "36          36            37  Женский       Нет   Да   Да   Да  Нет   Да  Нет   \n",
      "37          37            38  Женский       Нет   Да  Нет  Нет  Нет   Да   Да   \n",
      "38          38            39  Женский       Нет   Да  Нет  Нет  Нет   Да  Нет   \n",
      "39          39            40  Женский        Да   Да   Да  Нет   Да   Да   Да   \n",
      "40          40            41  Женский       Нет   Да   Да  Нет  Нет   Да  Нет   \n",
      "41          41            42  Женский        Да   Да   Да  Нет  Нет   Да  Нет   \n",
      "42          42            43  Женский        Да   Да  Нет  Нет  Нет   Да   Да   \n",
      "43          43            44  Женский       Нет   Да   Да  Нет   Да   Да   Да   \n",
      "44          44            45  Женский        Да   Да  Нет  Нет   Да   Да   Да   \n",
      "45          45            46  Женский       Нет   Да   Да  Нет  Нет   Да   Да   \n",
      "46          46            47  Женский        Да  Нет  Нет  Нет   Да   Да   Да   \n",
      "47          47            48  Женский       Нет  Нет  Нет  Нет   Да   Да   Да   \n",
      "48          48            49  Женский        Да   Да   Да  Нет   Да   Да   Да   \n",
      "49          49            50  Женский        Да  Нет  Нет  Нет  Нет   Да  Нет   \n",
      "50          50            51  Женский       Нет   Да   Да  Нет  Нет   Да  Нет   \n",
      "51          51            52  Женский        Да   Да   Да  Нет   Да   Да   Да   \n",
      "\n",
      "    ... Q 48 Q 49 Q 50 Q 51 Q 52 Q 53 Q 54 Q 55 Q 56 Q 57  \n",
      "0   ...   Да  Нет  Нет   Да   Да  Нет  Нет  Нет  Нет   Да  \n",
      "1   ...   Да   Да  Нет  Нет  Нет   Да  Нет   Да   Да  Нет  \n",
      "2   ...   Да   Да  Нет  Нет   Да  Нет  Нет   Да   Да  Нет  \n",
      "3   ...   Да  Нет   Да   Да  Нет  Нет  Нет   Да  Нет  Нет  \n",
      "4   ...   Да   Да  Нет  Нет   Да   Да   Да   Да   Да  Нет  \n",
      "5   ...  Нет   Да  Нет  Нет  Нет   Да   Да  Нет   Да  Нет  \n",
      "6   ...   Да   Да  Нет  Нет   Да   Да   Да   Да  Нет  Нет  \n",
      "7   ...   Да   Да   Да  Нет   Да   Да   Да   Да   Да  Нет  \n",
      "8   ...   Да  Нет  Нет  Нет   Да   Да  Нет   Да   Да  Нет  \n",
      "9   ...  Нет   Да  Нет  Нет  Нет   Да   Да   Да   Да  Нет  \n",
      "10  ...   Да   Да  Нет   Да  Нет   Да   Да   Да   Да  Нет  \n",
      "11  ...  Нет   Да  Нет  Нет   Да   Да   Да   Да   Да  Нет  \n",
      "12  ...   Да  Нет  Нет  Нет   Да  Нет   Да   Да   Да   Да  \n",
      "13  ...   Да   Да  Нет  Нет  Нет  Нет  Нет   Да  Нет  Нет  \n",
      "14  ...   Да  Нет   Да   Да   Да  Нет   Да   Да  Нет  Нет  \n",
      "15  ...   Да  Нет   Да  Нет   Да   Да   Да   Да   Да   Да  \n",
      "16  ...   Да  Нет   Да   Да   Да  Нет   Да   Да   Да  Нет  \n",
      "17  ...   Да  Нет  Нет  Нет   Да  Нет  Нет   Да   Да  Нет  \n",
      "18  ...   Да  Нет  Нет  Нет   Да  Нет   Да   Да  Нет   Да  \n",
      "19  ...   Да  Нет   Да   Да   Да  Нет   Да  Нет   Да   Да  \n",
      "20  ...  Нет  Нет   Да   Да   Да  Нет   Да   Да   Да  Нет  \n",
      "21  ...  Нет  Нет  Нет  Нет   Да  Нет  Нет   Да  Нет  Нет  \n",
      "22  ...  Нет   Да  Нет  Нет   Да   Да   Да  Нет   Да  Нет  \n",
      "23  ...  Нет   Да  Нет  Нет   Да   Да  Нет   Да   Да  Нет  \n",
      "24  ...   Да  Нет   Да   Да   Да  Нет   Да   Да  Нет   Да  \n",
      "25  ...   Да  Нет  Нет   Да   Да  Нет   Да   Да  Нет  Нет  \n",
      "26  ...  Нет   Да   Да   Да   Да   Да  Нет   Да  Нет  Нет  \n",
      "27  ...   Да   Да  Нет   Да  Нет   Да   Да   Да   Да  Нет  \n",
      "28  ...  Нет   Да   Да   Да   Да  Нет  Нет   Да   Да   Да  \n",
      "29  ...  Нет  Нет   Да   Да   Да  Нет   Да   Да   Да  Нет  \n",
      "30  ...   Да  Нет   Да  Нет   Да  Нет  Нет  Нет   Да  Нет  \n",
      "31  ...   Да   Да  Нет  Нет   Да  Нет  Нет  Нет   Да  Нет  \n",
      "32  ...   Да  Нет  Нет   Да   Да  Нет  Нет   Да  Нет  Нет  \n",
      "33  ...   Да  Нет   Да  Нет   Да  Нет  Нет  Нет   Да  Нет  \n",
      "34  ...  Нет   Да  Нет  Нет  Нет  Нет  Нет   Да  Нет  Нет  \n",
      "35  ...   Да  Нет  Нет   Да   Да  Нет   Да   Да  Нет  Нет  \n",
      "36  ...   Да   Да   Да  Нет   Да   Да   Да   Да   Да  Нет  \n",
      "37  ...   Да   Да  Нет  Нет  Нет  Нет  Нет   Да  Нет  Нет  \n",
      "38  ...   Да  Нет   Да  Нет  Нет  Нет  Нет   Да   Да   Да  \n",
      "39  ...   Да  Нет  Нет  Нет   Да  Нет   Да   Да   Да   Да  \n",
      "40  ...   Да   Да  Нет  Нет   Да   Да  Нет   Да  Нет   Да  \n",
      "41  ...   Да  Нет  Нет  Нет   Да   Да   Да   Да   Да  Нет  \n",
      "42  ...   Да  Нет   Да   Да   Да   Да  Нет   Да   Да  Нет  \n",
      "43  ...   Да  Нет  Нет  Нет   Да  Нет  Нет  Нет   Да  Нет  \n",
      "44  ...   Да  Нет  Нет   Да   Да   Да  Нет   Да   Да   Да  \n",
      "45  ...   Да  Нет   Да  Нет   Да  Нет  Нет   Да   Да   Да  \n",
      "46  ...   Да  Нет   Да  Нет   Да   Да  Нет   Да   Да  Нет  \n",
      "47  ...   Да  Нет  Нет   Да   Да  Нет   Да  Нет  Нет  Нет  \n",
      "48  ...   Да   Да   Да  Нет  Нет   Да   Да  Нет  Нет  Нет  \n",
      "49  ...   Да  Нет   Да  Нет   Да  Нет   Да   Да   Да  Нет  \n",
      "50  ...   Да  Нет  Нет  Нет   Да   Да  Нет   Да   Да   Да  \n",
      "51  ...   Да  Нет   Да   Да   Да   Да   Да   Да  Нет  Нет  \n",
      "\n",
      "[52 rows x 61 columns]\n"
     ]
    }
   ],
   "source": [
    "ps = pd.read_csv(\"extraversion.csv\", encoding = \"UTF-8\")\n",
    "print(ps)"
   ]
  },
  {
   "cell_type": "markdown",
   "metadata": {
    "colab_type": "text",
    "id": "d9CEJ_GZrPny"
   },
   "source": [
    "The file contains the results of an educational psychometric study, the purpose of which is to identify the relationship between the level of extraversion of a person and his propensity to participate in volunteer activities. The dataframe contains the following columns:\n",
    "\n",
    "* `sex`: gender of the respondent (female, male);\n",
    "* `volunteer`: regular participation in volunteer activities (Yes, No);\n",
    "* `Q 1` - `Q 57`: answers to questions on the Eysenck questionnaire (Yes, No), information about the questionnaire and the questions themselves can be found at [this](http://ipp.hse.ru/57-testytest-ajzenka-ekstraversiya-introversiya-nejrotizm) page."
   ]
  },
  {
   "cell_type": "markdown",
   "metadata": {
    "colab_type": "text",
    "id": "pX6jOfagrPn0"
   },
   "source": [
    "###  2\n",
    "\n",
    "Determine how many rows and columns are in the dataframe. Provide the code and indicate the answer in the form of text or a comment to the code.\n"
   ]
  },
  {
   "cell_type": "code",
   "execution_count": 110,
   "metadata": {
    "colab": {},
    "colab_type": "code",
    "id": "mfBZmgiPrPn1"
   },
   "outputs": [
    {
     "name": "stdout",
     "output_type": "stream",
     "text": [
      "Rows number is: 52 \n",
      "Columns number is: 61\n"
     ]
    }
   ],
   "source": [
    "### YOUR CODE HERE ###\n",
    "ps_row = ps.shape[0]\n",
    "ps_col = ps.shape[1]\n",
    "\n",
    "print('Rows number is:', ps_row, '\\nColumns number is:', ps_col)"
   ]
  },
  {
   "cell_type": "markdown",
   "metadata": {
    "colab_type": "text",
    "id": "s2lazwhYrPn4"
   },
   "source": [
    "###  3\n",
    "\n",
    "Rename columns `Q 1`-`Q 57` to `Q1`-`Q57`, in other words, remove spaces in the middle of all columns (if any).\n",
    "\n"
   ]
  },
  {
   "cell_type": "code",
   "execution_count": 166,
   "metadata": {
    "colab": {},
    "colab_type": "code",
    "id": "ykhvSZWdrPn7"
   },
   "outputs": [
    {
     "name": "stdout",
     "output_type": "stream",
     "text": [
      "    Unnamed: 0  Unnamed: 0.1      sex volunteer   Q1   Q2   Q3   Q4   Q5   Q6  \\\n",
      "0            0             1  Женский       Нет   Да  Нет  Нет   Да   Да   Да   \n",
      "1            1             2  Женский        Да   Да   Да  Нет   Да   Да   Да   \n",
      "2            2             3  Женский        Да   Да   Да  Нет  Нет   Да   Да   \n",
      "3            3             4  Женский       Нет   Да   Да  Нет  Нет   Да   Да   \n",
      "4            4             5  Женский       Нет   Да   Да  Нет   Да   Да   Да   \n",
      "5            5             6  Женский       Нет   Да  Нет   Да   Да  Нет  Нет   \n",
      "6            6             7  Женский       Нет   Да  Нет  Нет   Да   Да  Нет   \n",
      "7            7             8  Женский        Да   Да   Да   Да  Нет   Да   Да   \n",
      "8            8             9  Женский       Нет   Да   Да  Нет   Да   Да   Да   \n",
      "9            9            10  Женский        Да   Да   Да  Нет  Нет   Да  Нет   \n",
      "10          10            11  Мужской       Нет  Нет   Да  Нет  Нет   Да   Да   \n",
      "11          11            12  Женский        Да   Да   Да  Нет   Да   Да   Да   \n",
      "12          12            13  Женский        Да   Да   Да  Нет   Да   Да   Да   \n",
      "13          13            14  Женский       Нет   Да   Да  Нет   Да   Да  Нет   \n",
      "14          14            15  Женский       Нет  Нет  Нет  Нет   Да   Да  Нет   \n",
      "15          15            16  Женский       Нет   Да   Да   Да  Нет   Да  Нет   \n",
      "16          16            17  Женский       Нет   Да   Да  Нет  Нет  Нет   Да   \n",
      "17          17            18  Женский       Нет   Да  Нет   Да   Да  Нет  Нет   \n",
      "18          18            19  Женский       Нет   Да   Да  Нет   Да   Да   Да   \n",
      "19          19            20  Женский       Нет  Нет  Нет   Да   Да   Да  Нет   \n",
      "20          20            21  Женский       Нет   Да   Да  Нет   Да   Да   Да   \n",
      "21          21            22  Женский        Да   Да   Да  Нет  Нет   Да  Нет   \n",
      "22          22            23  Женский       Нет   Да   Да  Нет   Да   Да   Да   \n",
      "23          23            24  Мужской        Да   Да   Да  Нет  Нет   Да   Да   \n",
      "24          24            25  Мужской        Да   Да   Да  Нет   Да   Да   Да   \n",
      "25          25            26  Женский        Да  Нет   Да  Нет  Нет   Да   Да   \n",
      "26          26            27  Женский       Нет   Да   Да  Нет  Нет   Да   Да   \n",
      "27          27            28  Женский        Да   Да  Нет  Нет  Нет   Да   Да   \n",
      "28          28            29  Женский        Да   Да   Да  Нет   Да   Да   Да   \n",
      "29          29            30  Женский       Нет  Нет  Нет  Нет  Нет   Да   Да   \n",
      "30          30            31  Женский        Да   Да   Да  Нет   Да  Нет  Нет   \n",
      "31          31            32  Женский        Да   Да  Нет  Нет  Нет   Да   Да   \n",
      "32          32            33  Женский        Да   Да  Нет  Нет  Нет   Да   Да   \n",
      "33          33            34  Мужской       Нет  Нет   Да  Нет   Да   Да  Нет   \n",
      "34          34            35  Женский       Нет   Да   Да   Да  Нет   Да   Да   \n",
      "35          35            36  Женский        Да   Да   Да  Нет   Да   Да  Нет   \n",
      "36          36            37  Женский       Нет   Да   Да   Да  Нет   Да  Нет   \n",
      "37          37            38  Женский       Нет   Да  Нет  Нет  Нет   Да   Да   \n",
      "38          38            39  Женский       Нет   Да  Нет  Нет  Нет   Да  Нет   \n",
      "39          39            40  Женский        Да   Да   Да  Нет   Да   Да   Да   \n",
      "40          40            41  Женский       Нет   Да   Да  Нет  Нет   Да  Нет   \n",
      "41          41            42  Женский        Да   Да   Да  Нет  Нет   Да  Нет   \n",
      "42          42            43  Женский        Да   Да  Нет  Нет  Нет   Да   Да   \n",
      "43          43            44  Женский       Нет   Да   Да  Нет   Да   Да   Да   \n",
      "44          44            45  Женский        Да   Да  Нет  Нет   Да   Да   Да   \n",
      "45          45            46  Женский       Нет   Да   Да  Нет  Нет   Да   Да   \n",
      "46          46            47  Женский        Да  Нет  Нет  Нет   Да   Да   Да   \n",
      "47          47            48  Женский       Нет  Нет  Нет  Нет   Да   Да   Да   \n",
      "48          48            49  Женский        Да   Да   Да  Нет   Да   Да   Да   \n",
      "49          49            50  Женский        Да  Нет  Нет  Нет  Нет   Да  Нет   \n",
      "50          50            51  Женский       Нет   Да   Да  Нет  Нет   Да  Нет   \n",
      "51          51            52  Женский        Да   Да   Да  Нет   Да   Да   Да   \n",
      "\n",
      "    ...  Q48  Q49  Q50  Q51  Q52  Q53  Q54  Q55  Q56  Q57  \n",
      "0   ...   Да  Нет  Нет   Да   Да  Нет  Нет  Нет  Нет   Да  \n",
      "1   ...   Да   Да  Нет  Нет  Нет   Да  Нет   Да   Да  Нет  \n",
      "2   ...   Да   Да  Нет  Нет   Да  Нет  Нет   Да   Да  Нет  \n",
      "3   ...   Да  Нет   Да   Да  Нет  Нет  Нет   Да  Нет  Нет  \n",
      "4   ...   Да   Да  Нет  Нет   Да   Да   Да   Да   Да  Нет  \n",
      "5   ...  Нет   Да  Нет  Нет  Нет   Да   Да  Нет   Да  Нет  \n",
      "6   ...   Да   Да  Нет  Нет   Да   Да   Да   Да  Нет  Нет  \n",
      "7   ...   Да   Да   Да  Нет   Да   Да   Да   Да   Да  Нет  \n",
      "8   ...   Да  Нет  Нет  Нет   Да   Да  Нет   Да   Да  Нет  \n",
      "9   ...  Нет   Да  Нет  Нет  Нет   Да   Да   Да   Да  Нет  \n",
      "10  ...   Да   Да  Нет   Да  Нет   Да   Да   Да   Да  Нет  \n",
      "11  ...  Нет   Да  Нет  Нет   Да   Да   Да   Да   Да  Нет  \n",
      "12  ...   Да  Нет  Нет  Нет   Да  Нет   Да   Да   Да   Да  \n",
      "13  ...   Да   Да  Нет  Нет  Нет  Нет  Нет   Да  Нет  Нет  \n",
      "14  ...   Да  Нет   Да   Да   Да  Нет   Да   Да  Нет  Нет  \n",
      "15  ...   Да  Нет   Да  Нет   Да   Да   Да   Да   Да   Да  \n",
      "16  ...   Да  Нет   Да   Да   Да  Нет   Да   Да   Да  Нет  \n",
      "17  ...   Да  Нет  Нет  Нет   Да  Нет  Нет   Да   Да  Нет  \n",
      "18  ...   Да  Нет  Нет  Нет   Да  Нет   Да   Да  Нет   Да  \n",
      "19  ...   Да  Нет   Да   Да   Да  Нет   Да  Нет   Да   Да  \n",
      "20  ...  Нет  Нет   Да   Да   Да  Нет   Да   Да   Да  Нет  \n",
      "21  ...  Нет  Нет  Нет  Нет   Да  Нет  Нет   Да  Нет  Нет  \n",
      "22  ...  Нет   Да  Нет  Нет   Да   Да   Да  Нет   Да  Нет  \n",
      "23  ...  Нет   Да  Нет  Нет   Да   Да  Нет   Да   Да  Нет  \n",
      "24  ...   Да  Нет   Да   Да   Да  Нет   Да   Да  Нет   Да  \n",
      "25  ...   Да  Нет  Нет   Да   Да  Нет   Да   Да  Нет  Нет  \n",
      "26  ...  Нет   Да   Да   Да   Да   Да  Нет   Да  Нет  Нет  \n",
      "27  ...   Да   Да  Нет   Да  Нет   Да   Да   Да   Да  Нет  \n",
      "28  ...  Нет   Да   Да   Да   Да  Нет  Нет   Да   Да   Да  \n",
      "29  ...  Нет  Нет   Да   Да   Да  Нет   Да   Да   Да  Нет  \n",
      "30  ...   Да  Нет   Да  Нет   Да  Нет  Нет  Нет   Да  Нет  \n",
      "31  ...   Да   Да  Нет  Нет   Да  Нет  Нет  Нет   Да  Нет  \n",
      "32  ...   Да  Нет  Нет   Да   Да  Нет  Нет   Да  Нет  Нет  \n",
      "33  ...   Да  Нет   Да  Нет   Да  Нет  Нет  Нет   Да  Нет  \n",
      "34  ...  Нет   Да  Нет  Нет  Нет  Нет  Нет   Да  Нет  Нет  \n",
      "35  ...   Да  Нет  Нет   Да   Да  Нет   Да   Да  Нет  Нет  \n",
      "36  ...   Да   Да   Да  Нет   Да   Да   Да   Да   Да  Нет  \n",
      "37  ...   Да   Да  Нет  Нет  Нет  Нет  Нет   Да  Нет  Нет  \n",
      "38  ...   Да  Нет   Да  Нет  Нет  Нет  Нет   Да   Да   Да  \n",
      "39  ...   Да  Нет  Нет  Нет   Да  Нет   Да   Да   Да   Да  \n",
      "40  ...   Да   Да  Нет  Нет   Да   Да  Нет   Да  Нет   Да  \n",
      "41  ...   Да  Нет  Нет  Нет   Да   Да   Да   Да   Да  Нет  \n",
      "42  ...   Да  Нет   Да   Да   Да   Да  Нет   Да   Да  Нет  \n",
      "43  ...   Да  Нет  Нет  Нет   Да  Нет  Нет  Нет   Да  Нет  \n",
      "44  ...   Да  Нет  Нет   Да   Да   Да  Нет   Да   Да   Да  \n",
      "45  ...   Да  Нет   Да  Нет   Да  Нет  Нет   Да   Да   Да  \n",
      "46  ...   Да  Нет   Да  Нет   Да   Да  Нет   Да   Да  Нет  \n",
      "47  ...   Да  Нет  Нет   Да   Да  Нет   Да  Нет  Нет  Нет  \n",
      "48  ...   Да   Да   Да  Нет  Нет   Да   Да  Нет  Нет  Нет  \n",
      "49  ...   Да  Нет   Да  Нет   Да  Нет   Да   Да   Да  Нет  \n",
      "50  ...   Да  Нет  Нет  Нет   Да   Да  Нет   Да   Да   Да  \n",
      "51  ...   Да  Нет   Да   Да   Да   Да   Да   Да  Нет  Нет  \n",
      "\n",
      "[52 rows x 61 columns]\n"
     ]
    }
   ],
   "source": [
    "### YOUR CODE HERE ###\n",
    "ps = pd.read_csv(\"extraversion.csv\", encoding = \"UTF-8\")\n",
    "col_list = list(ps.columns[4:])\n",
    "\n",
    "\n",
    "def change(x):\n",
    "    return x.replace(\" \", \"\")\n",
    "\n",
    "\n",
    "renamed_col = list(map(change, col_list))\n",
    "ps.columns.values[4:] = renamed_col\n",
    "print(ps)\n"
   ]
  },
  {
   "cell_type": "markdown",
   "metadata": {
    "colab_type": "text",
    "id": "mBKHqz_nrPn9"
   },
   "source": [
    "###  4\n",
    "\n",
    "Select columns `Q1`, `Q3`, `Q8`, `Q10`, `Q13`, `Q17`, `Q22`, `Q25`, `Q27`, `Q39`, `Q44`, `Q46`, `Q49`, `Q53`, `Q56` and store them in a separate `extra_yes` dataframe.\n",
    "\n",
    "Select columns `Q5`, `Q15`, `Q20`, `Q29`, `Q32`, `Q34`, `Q37`, `Q41`, `Q51` and store them in a separate `extra_no` dataframe.\n",
    "\n",
    "These columns will be used to calculate the extraversion index.\n"
   ]
  },
  {
   "cell_type": "code",
   "execution_count": 6,
   "metadata": {
    "colab": {},
    "colab_type": "code",
    "id": "pBs51NxWrPn-"
   },
   "outputs": [
    {
     "name": "stdout",
     "output_type": "stream",
     "text": [
      "     Q1   Q3   Q8  Q10  Q13  Q17  Q22  Q25  Q27  Q39  Q44  Q46  Q49  Q53  Q56\n",
      "0    Да  Нет  Нет  Нет   Да  Нет  Нет  Нет   Да  Нет  Нет  Нет  Нет  Нет  Нет\n",
      "1    Да  Нет   Да   Да  Нет   Да  Нет   Да   Да   Да  Нет  Нет   Да   Да   Да\n",
      "2    Да  Нет  Нет  Нет  Нет   Да  Нет   Да   Да   Да   Да  Нет   Да  Нет   Да\n",
      "3    Да  Нет  Нет  Нет  Нет   Да  Нет  Нет  Нет  Нет  Нет  Нет  Нет  Нет  Нет\n",
      "4    Да  Нет  Нет  Нет   Да   Да  Нет   Да   Да  Нет  Нет   Да   Да   Да   Да\n",
      "5    Да   Да   Да   Да   Да   Да   Да   Да   Да   Да  Нет   Да   Да   Да   Да\n",
      "6    Да  Нет  Нет  Нет   Да   Да  Нет   Да   Да  Нет   Да   Да   Да   Да  Нет\n",
      "7    Да   Да   Да   Да   Да   Да   Да   Да   Да   Да   Да   Да   Да   Да   Да\n",
      "8    Да  Нет   Да  Нет  Нет   Да  Нет   Да   Да  Нет  Нет   Да  Нет   Да   Да\n",
      "9    Да  Нет   Да  Нет   Да   Да  Нет   Да   Да   Да   Да  Нет   Да   Да   Да\n",
      "10  Нет  Нет   Да  Нет   Да  Нет  Нет   Да  Нет  Нет  Нет  Нет   Да   Да   Да\n",
      "11   Да  Нет  Нет  Нет   Да   Да   Да   Да   Да  Нет   Да   Да   Да   Да   Да\n",
      "12   Да  Нет  Нет  Нет   Да   Да  Нет   Да   Да  Нет  Нет   Да  Нет  Нет   Да\n",
      "13   Да  Нет   Да  Нет   Да   Да  Нет   Да   Да   Да  Нет   Да   Да  Нет  Нет\n",
      "14  Нет  Нет  Нет  Нет  Нет  Нет  Нет   Да   Да  Нет  Нет   Да  Нет  Нет  Нет\n",
      "15   Да   Да  Нет  Нет  Нет   Да  Нет   Да   Да   Да  Нет   Да  Нет   Да   Да\n",
      "16   Да  Нет   Да   Да   Да   Да   Да  Нет  Нет   Да  Нет   Да  Нет  Нет   Да\n",
      "17   Да   Да   Да   Да   Да  Нет   Да   Да   Да  Нет  Нет  Нет  Нет  Нет   Да\n",
      "18   Да  Нет  Нет  Нет  Нет   Да  Нет   Да   Да   Да  Нет   Да  Нет  Нет  Нет\n",
      "19  Нет   Да   Да  Нет   Да  Нет   Да   Да  Нет  Нет   Да  Нет  Нет  Нет   Да\n",
      "20   Да  Нет   Да  Нет   Да   Да  Нет   Да   Да   Да  Нет  Нет  Нет  Нет   Да\n",
      "21   Да  Нет  Нет  Нет  Нет   Да  Нет   Да   Да  Нет  Нет   Да  Нет  Нет  Нет\n",
      "22   Да  Нет  Нет   Да  Нет   Да  Нет  Нет   Да  Нет  Нет   Да   Да   Да   Да\n",
      "23   Да  Нет  Нет  Нет   Да   Да   Да   Да   Да  Нет   Да   Да   Да   Да   Да\n",
      "24   Да  Нет  Нет  Нет   Да   Да  Нет  Нет  Нет  Нет  Нет   Да  Нет  Нет  Нет\n",
      "25  Нет  Нет  Нет  Нет  Нет  Нет  Нет   Да   Да  Нет  Нет  Нет  Нет  Нет  Нет\n",
      "26   Да  Нет  Нет   Да   Да   Да  Нет   Да   Да  Нет  Нет  Нет   Да   Да  Нет\n",
      "27   Да  Нет   Да  Нет   Да  Нет  Нет  Нет   Да   Да   Да  Нет   Да   Да   Да\n",
      "28   Да  Нет  Нет  Нет  Нет   Да  Нет   Да   Да   Да  Нет   Да   Да  Нет   Да\n",
      "29  Нет  Нет  Нет  Нет   Да  Нет  Нет  Нет  Нет  Нет  Нет  Нет  Нет  Нет   Да\n",
      "30   Да  Нет   Да  Нет   Да  Нет  Нет  Нет   Да  Нет  Нет   Да  Нет  Нет   Да\n",
      "31   Да  Нет  Нет   Да  Нет   Да  Нет   Да  Нет   Да  Нет  Нет   Да  Нет   Да\n",
      "32   Да  Нет  Нет  Нет  Нет  Нет  Нет  Нет   Да   Да  Нет  Нет  Нет  Нет  Нет\n",
      "33  Нет  Нет  Нет  Нет  Нет   Да  Нет  Нет   Да  Нет  Нет   Да  Нет  Нет   Да\n",
      "34   Да   Да  Нет  Нет   Да  Нет  Нет   Да   Да  Нет   Да  Нет   Да  Нет  Нет\n",
      "35   Да  Нет  Нет  Нет   Да  Нет  Нет  Нет  Нет  Нет  Нет  Нет  Нет  Нет  Нет\n",
      "36   Да   Да  Нет  Нет  Нет   Да  Нет   Да   Да   Да  Нет   Да   Да   Да   Да\n",
      "37   Да  Нет  Нет  Нет  Нет  Нет  Нет   Да  Нет  Нет  Нет  Нет   Да  Нет  Нет\n",
      "38   Да  Нет  Нет  Нет   Да   Да   Да  Нет   Да  Нет  Нет  Нет  Нет  Нет   Да\n",
      "39   Да  Нет  Нет  Нет   Да   Да  Нет   Да   Да   Да  Нет  Нет  Нет  Нет   Да\n",
      "40   Да  Нет  Нет  Нет  Нет   Да  Нет   Да   Да   Да  Нет  Нет   Да   Да  Нет\n",
      "41   Да  Нет  Нет  Нет   Да   Да  Нет   Да   Да   Да  Нет   Да  Нет   Да   Да\n",
      "42   Да  Нет  Нет  Нет   Да  Нет  Нет  Нет   Да  Нет  Нет  Нет  Нет   Да   Да\n",
      "43   Да  Нет  Нет  Нет   Да   Да  Нет  Нет  Нет  Нет  Нет   Да  Нет  Нет   Да\n",
      "44   Да  Нет  Нет  Нет  Нет  Нет   Да   Да  Нет   Да  Нет  Нет  Нет   Да   Да\n",
      "45   Да  Нет  Нет   Да   Да   Да  Нет   Да  Нет   Да   Да   Да  Нет  Нет   Да\n",
      "46  Нет  Нет   Да  Нет   Да  Нет   Да   Да  Нет  Нет  Нет   Да  Нет   Да   Да\n",
      "47  Нет  Нет  Нет  Нет  Нет  Нет  Нет  Нет  Нет  Нет  Нет  Нет  Нет  Нет  Нет\n",
      "48   Да  Нет   Да   Да   Да   Да  Нет   Да   Да   Да   Да   Да   Да   Да  Нет\n",
      "49  Нет  Нет  Нет  Нет   Да   Да  Нет   Да  Нет  Нет  Нет  Нет  Нет  Нет   Да\n",
      "50   Да  Нет  Нет  Нет   Да   Да   Да   Да   Да  Нет  Нет   Да  Нет   Да   Да\n",
      "51   Да  Нет  Нет   Да   Да  Нет   Да   Да   Да   Да  Нет   Да  Нет   Да  Нет\n"
     ]
    }
   ],
   "source": [
    "### YOUR CODE HERE ###\n",
    "import pandas as pd\n",
    "ps = pd.read_csv(\"extraversion.csv\", encoding=\"UTF-8\")\n",
    "col_list = list(ps.columns[4:])\n",
    "\n",
    "\n",
    "def change(x):\n",
    "    return x.replace(\" \", \"\")\n",
    "\n",
    "\n",
    "renamed_col = list(map(change, col_list))\n",
    "ps.columns.values[4:] = renamed_col\n",
    "\n",
    "\n",
    "extra_yes = ps.loc[:,\n",
    "            ['Q1', 'Q3', 'Q8', 'Q10', 'Q13', 'Q17', 'Q22', 'Q25', 'Q27', 'Q39', 'Q44', 'Q46', 'Q49', 'Q53', 'Q56']]\n",
    "extra_no = ps.loc[:, ['Q5', 'Q15', 'Q20', 'Q29', 'Q32', 'Q34', 'Q37', 'Q41', 'Q51']]\n",
    "print(extra_yes)"
   ]
  },
  {
   "cell_type": "markdown",
   "metadata": {
    "colab_type": "text",
    "id": "w051Hsq2rPoA"
   },
   "source": [
    "###  5\n",
    "\n",
    "Count the number of `\"Yes\"' responses for each row in the `extra_yes` dataframe and store the result in the `extra_yes_sum` variable. Count the number of `\"No\"' responses for each row in the `extra_no` dataframe and store the result in the `extra_no_sum` variable.\n"
   ]
  },
  {
   "cell_type": "code",
   "execution_count": 4,
   "metadata": {
    "colab": {},
    "colab_type": "code",
    "id": "WJlUehunrPoB"
   },
   "outputs": [
    {
     "name": "stdout",
     "output_type": "stream",
     "text": [
      "0      3\n",
      "1     10\n",
      "2      8\n",
      "3      2\n",
      "4      9\n",
      "5     14\n",
      "6      9\n",
      "7     15\n",
      "8      8\n",
      "9     11\n",
      "10     6\n",
      "11    11\n",
      "12     7\n",
      "13     9\n",
      "14     3\n",
      "15     9\n",
      "16     9\n",
      "17     9\n",
      "18     6\n",
      "19     7\n",
      "20     8\n",
      "21     5\n",
      "22     8\n",
      "23    11\n",
      "24     4\n",
      "25     2\n",
      "26     8\n",
      "27     9\n",
      "28     8\n",
      "29     2\n",
      "30     6\n",
      "31     7\n",
      "32     3\n",
      "33     4\n",
      "34     7\n",
      "35     2\n",
      "36    10\n",
      "37     3\n",
      "38     6\n",
      "39     7\n",
      "40     7\n",
      "41     9\n",
      "42     5\n",
      "43     5\n",
      "44     6\n",
      "45     9\n",
      "46     7\n",
      "47     0\n",
      "48    12\n",
      "49     4\n",
      "50     9\n",
      "51     9\n",
      "dtype: int64 \n",
      " 0     2\n",
      "1     6\n",
      "2     5\n",
      "3     2\n",
      "4     4\n",
      "5     5\n",
      "6     6\n",
      "7     6\n",
      "8     4\n",
      "9     8\n",
      "10    2\n",
      "11    6\n",
      "12    7\n",
      "13    7\n",
      "14    3\n",
      "15    6\n",
      "16    5\n",
      "17    7\n",
      "18    5\n",
      "19    2\n",
      "20    3\n",
      "21    5\n",
      "22    8\n",
      "23    6\n",
      "24    2\n",
      "25    1\n",
      "26    4\n",
      "27    4\n",
      "28    4\n",
      "29    1\n",
      "30    7\n",
      "31    5\n",
      "32    2\n",
      "33    5\n",
      "34    2\n",
      "35    3\n",
      "36    6\n",
      "37    5\n",
      "38    4\n",
      "39    7\n",
      "40    5\n",
      "41    4\n",
      "42    2\n",
      "43    5\n",
      "44    1\n",
      "45    5\n",
      "46    3\n",
      "47    2\n",
      "48    6\n",
      "49    5\n",
      "50    4\n",
      "51    2\n",
      "dtype: int64\n"
     ]
    }
   ],
   "source": [
    "### YOUR CODE HERE ###\n",
    "extra_yes_sum = extra_yes.isin(['Да']).sum(axis = 1)\n",
    "extra_no_sum = extra_no.isin(['Нет']).sum(axis = 1)\n",
    "\n",
    "print(extra_yes_sum,'\\n', extra_no_sum)"
   ]
  },
  {
   "cell_type": "markdown",
   "metadata": {
    "colab_type": "text",
    "id": "BlvTatd9rPoD"
   },
   "source": [
    "###  6\n",
    "\n",
    "Add an `extra` column to the original dataframe, which is an extraversion index, which is calculated as follows: the sum of the number of \"Yes\" answers in `extra_yes` and the number of \"No\" answers in `extra_no`.\n"
   ]
  },
  {
   "cell_type": "code",
   "execution_count": 5,
   "metadata": {
    "colab": {},
    "colab_type": "code",
    "id": "kRJBzjoPrPoD"
   },
   "outputs": [
    {
     "name": "stdout",
     "output_type": "stream",
     "text": [
      "    Unnamed: 0  Unnamed: 0.1      sex volunteer   Q1   Q2   Q3   Q4   Q5   Q6  \\\n",
      "0            0             1  Женский       Нет   Да  Нет  Нет   Да   Да   Да   \n",
      "1            1             2  Женский        Да   Да   Да  Нет   Да   Да   Да   \n",
      "2            2             3  Женский        Да   Да   Да  Нет  Нет   Да   Да   \n",
      "3            3             4  Женский       Нет   Да   Да  Нет  Нет   Да   Да   \n",
      "4            4             5  Женский       Нет   Да   Да  Нет   Да   Да   Да   \n",
      "5            5             6  Женский       Нет   Да  Нет   Да   Да  Нет  Нет   \n",
      "6            6             7  Женский       Нет   Да  Нет  Нет   Да   Да  Нет   \n",
      "7            7             8  Женский        Да   Да   Да   Да  Нет   Да   Да   \n",
      "8            8             9  Женский       Нет   Да   Да  Нет   Да   Да   Да   \n",
      "9            9            10  Женский        Да   Да   Да  Нет  Нет   Да  Нет   \n",
      "10          10            11  Мужской       Нет  Нет   Да  Нет  Нет   Да   Да   \n",
      "11          11            12  Женский        Да   Да   Да  Нет   Да   Да   Да   \n",
      "12          12            13  Женский        Да   Да   Да  Нет   Да   Да   Да   \n",
      "13          13            14  Женский       Нет   Да   Да  Нет   Да   Да  Нет   \n",
      "14          14            15  Женский       Нет  Нет  Нет  Нет   Да   Да  Нет   \n",
      "15          15            16  Женский       Нет   Да   Да   Да  Нет   Да  Нет   \n",
      "16          16            17  Женский       Нет   Да   Да  Нет  Нет  Нет   Да   \n",
      "17          17            18  Женский       Нет   Да  Нет   Да   Да  Нет  Нет   \n",
      "18          18            19  Женский       Нет   Да   Да  Нет   Да   Да   Да   \n",
      "19          19            20  Женский       Нет  Нет  Нет   Да   Да   Да  Нет   \n",
      "20          20            21  Женский       Нет   Да   Да  Нет   Да   Да   Да   \n",
      "21          21            22  Женский        Да   Да   Да  Нет  Нет   Да  Нет   \n",
      "22          22            23  Женский       Нет   Да   Да  Нет   Да   Да   Да   \n",
      "23          23            24  Мужской        Да   Да   Да  Нет  Нет   Да   Да   \n",
      "24          24            25  Мужской        Да   Да   Да  Нет   Да   Да   Да   \n",
      "25          25            26  Женский        Да  Нет   Да  Нет  Нет   Да   Да   \n",
      "26          26            27  Женский       Нет   Да   Да  Нет  Нет   Да   Да   \n",
      "27          27            28  Женский        Да   Да  Нет  Нет  Нет   Да   Да   \n",
      "28          28            29  Женский        Да   Да   Да  Нет   Да   Да   Да   \n",
      "29          29            30  Женский       Нет  Нет  Нет  Нет  Нет   Да   Да   \n",
      "30          30            31  Женский        Да   Да   Да  Нет   Да  Нет  Нет   \n",
      "31          31            32  Женский        Да   Да  Нет  Нет  Нет   Да   Да   \n",
      "32          32            33  Женский        Да   Да  Нет  Нет  Нет   Да   Да   \n",
      "33          33            34  Мужской       Нет  Нет   Да  Нет   Да   Да  Нет   \n",
      "34          34            35  Женский       Нет   Да   Да   Да  Нет   Да   Да   \n",
      "35          35            36  Женский        Да   Да   Да  Нет   Да   Да  Нет   \n",
      "36          36            37  Женский       Нет   Да   Да   Да  Нет   Да  Нет   \n",
      "37          37            38  Женский       Нет   Да  Нет  Нет  Нет   Да   Да   \n",
      "38          38            39  Женский       Нет   Да  Нет  Нет  Нет   Да  Нет   \n",
      "39          39            40  Женский        Да   Да   Да  Нет   Да   Да   Да   \n",
      "40          40            41  Женский       Нет   Да   Да  Нет  Нет   Да  Нет   \n",
      "41          41            42  Женский        Да   Да   Да  Нет  Нет   Да  Нет   \n",
      "42          42            43  Женский        Да   Да  Нет  Нет  Нет   Да   Да   \n",
      "43          43            44  Женский       Нет   Да   Да  Нет   Да   Да   Да   \n",
      "44          44            45  Женский        Да   Да  Нет  Нет   Да   Да   Да   \n",
      "45          45            46  Женский       Нет   Да   Да  Нет  Нет   Да   Да   \n",
      "46          46            47  Женский        Да  Нет  Нет  Нет   Да   Да   Да   \n",
      "47          47            48  Женский       Нет  Нет  Нет  Нет   Да   Да   Да   \n",
      "48          48            49  Женский        Да   Да   Да  Нет   Да   Да   Да   \n",
      "49          49            50  Женский        Да  Нет  Нет  Нет  Нет   Да  Нет   \n",
      "50          50            51  Женский       Нет   Да   Да  Нет  Нет   Да  Нет   \n",
      "51          51            52  Женский        Да   Да   Да  Нет   Да   Да   Да   \n",
      "\n",
      "    ...  Q49  Q50  Q51  Q52  Q53  Q54  Q55  Q56  Q57 extra  \n",
      "0   ...  Нет  Нет   Да   Да  Нет  Нет  Нет  Нет   Да     5  \n",
      "1   ...   Да  Нет  Нет  Нет   Да  Нет   Да   Да  Нет    16  \n",
      "2   ...   Да  Нет  Нет   Да  Нет  Нет   Да   Да  Нет    13  \n",
      "3   ...  Нет   Да   Да  Нет  Нет  Нет   Да  Нет  Нет     4  \n",
      "4   ...   Да  Нет  Нет   Да   Да   Да   Да   Да  Нет    13  \n",
      "5   ...   Да  Нет  Нет  Нет   Да   Да  Нет   Да  Нет    19  \n",
      "6   ...   Да  Нет  Нет   Да   Да   Да   Да  Нет  Нет    15  \n",
      "7   ...   Да   Да  Нет   Да   Да   Да   Да   Да  Нет    21  \n",
      "8   ...  Нет  Нет  Нет   Да   Да  Нет   Да   Да  Нет    12  \n",
      "9   ...   Да  Нет  Нет  Нет   Да   Да   Да   Да  Нет    19  \n",
      "10  ...   Да  Нет   Да  Нет   Да   Да   Да   Да  Нет     8  \n",
      "11  ...   Да  Нет  Нет   Да   Да   Да   Да   Да  Нет    17  \n",
      "12  ...  Нет  Нет  Нет   Да  Нет   Да   Да   Да   Да    14  \n",
      "13  ...   Да  Нет  Нет  Нет  Нет  Нет   Да  Нет  Нет    16  \n",
      "14  ...  Нет   Да   Да   Да  Нет   Да   Да  Нет  Нет     6  \n",
      "15  ...  Нет   Да  Нет   Да   Да   Да   Да   Да   Да    15  \n",
      "16  ...  Нет   Да   Да   Да  Нет   Да   Да   Да  Нет    14  \n",
      "17  ...  Нет  Нет  Нет   Да  Нет  Нет   Да   Да  Нет    16  \n",
      "18  ...  Нет  Нет  Нет   Да  Нет   Да   Да  Нет   Да    11  \n",
      "19  ...  Нет   Да   Да   Да  Нет   Да  Нет   Да   Да     9  \n",
      "20  ...  Нет   Да   Да   Да  Нет   Да   Да   Да  Нет    11  \n",
      "21  ...  Нет  Нет  Нет   Да  Нет  Нет   Да  Нет  Нет    10  \n",
      "22  ...   Да  Нет  Нет   Да   Да   Да  Нет   Да  Нет    16  \n",
      "23  ...   Да  Нет  Нет   Да   Да  Нет   Да   Да  Нет    17  \n",
      "24  ...  Нет   Да   Да   Да  Нет   Да   Да  Нет   Да     6  \n",
      "25  ...  Нет  Нет   Да   Да  Нет   Да   Да  Нет  Нет     3  \n",
      "26  ...   Да   Да   Да   Да   Да  Нет   Да  Нет  Нет    12  \n",
      "27  ...   Да  Нет   Да  Нет   Да   Да   Да   Да  Нет    13  \n",
      "28  ...   Да   Да   Да   Да  Нет  Нет   Да   Да   Да    12  \n",
      "29  ...  Нет   Да   Да   Да  Нет   Да   Да   Да  Нет     3  \n",
      "30  ...  Нет   Да  Нет   Да  Нет  Нет  Нет   Да  Нет    13  \n",
      "31  ...   Да  Нет  Нет   Да  Нет  Нет  Нет   Да  Нет    12  \n",
      "32  ...  Нет  Нет   Да   Да  Нет  Нет   Да  Нет  Нет     5  \n",
      "33  ...  Нет   Да  Нет   Да  Нет  Нет  Нет   Да  Нет     9  \n",
      "34  ...   Да  Нет  Нет  Нет  Нет  Нет   Да  Нет  Нет     9  \n",
      "35  ...  Нет  Нет   Да   Да  Нет   Да   Да  Нет  Нет     5  \n",
      "36  ...   Да   Да  Нет   Да   Да   Да   Да   Да  Нет    16  \n",
      "37  ...   Да  Нет  Нет  Нет  Нет  Нет   Да  Нет  Нет     8  \n",
      "38  ...  Нет   Да  Нет  Нет  Нет  Нет   Да   Да   Да    10  \n",
      "39  ...  Нет  Нет  Нет   Да  Нет   Да   Да   Да   Да    14  \n",
      "40  ...   Да  Нет  Нет   Да   Да  Нет   Да  Нет   Да    12  \n",
      "41  ...  Нет  Нет  Нет   Да   Да   Да   Да   Да  Нет    13  \n",
      "42  ...  Нет   Да   Да   Да   Да  Нет   Да   Да  Нет     7  \n",
      "43  ...  Нет  Нет  Нет   Да  Нет  Нет  Нет   Да  Нет    10  \n",
      "44  ...  Нет  Нет   Да   Да   Да  Нет   Да   Да   Да     7  \n",
      "45  ...  Нет   Да  Нет   Да  Нет  Нет   Да   Да   Да    14  \n",
      "46  ...  Нет   Да  Нет   Да   Да  Нет   Да   Да  Нет    10  \n",
      "47  ...  Нет  Нет   Да   Да  Нет   Да  Нет  Нет  Нет     2  \n",
      "48  ...   Да   Да  Нет  Нет   Да   Да  Нет  Нет  Нет    18  \n",
      "49  ...  Нет   Да  Нет   Да  Нет   Да   Да   Да  Нет     9  \n",
      "50  ...  Нет  Нет  Нет   Да   Да  Нет   Да   Да   Да    13  \n",
      "51  ...  Нет   Да   Да   Да   Да   Да   Да  Нет  Нет    11  \n",
      "\n",
      "[52 rows x 62 columns]\n"
     ]
    }
   ],
   "source": [
    "### YOUR CODE HERE ###\n",
    "ps['extra'] = extra_yes_sum + extra_no_sum\n",
    "print(ps)"
   ]
  },
  {
   "cell_type": "markdown",
   "metadata": {
    "colab_type": "text",
    "id": "sTaxQ5ydrPoF"
   },
   "source": [
    "###  7"
   ]
  },
  {
   "cell_type": "markdown",
   "metadata": {
    "colab_type": "text",
    "id": "byt7Xgv3rPoF"
   },
   "source": [
    "Add a `female` column to the source dataframe, consisting of the values 0 and 1 (0 — Мужской, 1 — Женский). "
   ]
  },
  {
   "cell_type": "code",
   "execution_count": 6,
   "metadata": {
    "colab": {},
    "colab_type": "code",
    "id": "Dcei2X8ErPoG"
   },
   "outputs": [
    {
     "name": "stdout",
     "output_type": "stream",
     "text": [
      "    Unnamed: 0  Unnamed: 0.1      sex volunteer   Q1   Q2   Q3   Q4   Q5   Q6  \\\n",
      "0            0             1  Женский       Нет   Да  Нет  Нет   Да   Да   Да   \n",
      "1            1             2  Женский        Да   Да   Да  Нет   Да   Да   Да   \n",
      "2            2             3  Женский        Да   Да   Да  Нет  Нет   Да   Да   \n",
      "3            3             4  Женский       Нет   Да   Да  Нет  Нет   Да   Да   \n",
      "4            4             5  Женский       Нет   Да   Да  Нет   Да   Да   Да   \n",
      "5            5             6  Женский       Нет   Да  Нет   Да   Да  Нет  Нет   \n",
      "6            6             7  Женский       Нет   Да  Нет  Нет   Да   Да  Нет   \n",
      "7            7             8  Женский        Да   Да   Да   Да  Нет   Да   Да   \n",
      "8            8             9  Женский       Нет   Да   Да  Нет   Да   Да   Да   \n",
      "9            9            10  Женский        Да   Да   Да  Нет  Нет   Да  Нет   \n",
      "10          10            11  Мужской       Нет  Нет   Да  Нет  Нет   Да   Да   \n",
      "11          11            12  Женский        Да   Да   Да  Нет   Да   Да   Да   \n",
      "12          12            13  Женский        Да   Да   Да  Нет   Да   Да   Да   \n",
      "13          13            14  Женский       Нет   Да   Да  Нет   Да   Да  Нет   \n",
      "14          14            15  Женский       Нет  Нет  Нет  Нет   Да   Да  Нет   \n",
      "15          15            16  Женский       Нет   Да   Да   Да  Нет   Да  Нет   \n",
      "16          16            17  Женский       Нет   Да   Да  Нет  Нет  Нет   Да   \n",
      "17          17            18  Женский       Нет   Да  Нет   Да   Да  Нет  Нет   \n",
      "18          18            19  Женский       Нет   Да   Да  Нет   Да   Да   Да   \n",
      "19          19            20  Женский       Нет  Нет  Нет   Да   Да   Да  Нет   \n",
      "20          20            21  Женский       Нет   Да   Да  Нет   Да   Да   Да   \n",
      "21          21            22  Женский        Да   Да   Да  Нет  Нет   Да  Нет   \n",
      "22          22            23  Женский       Нет   Да   Да  Нет   Да   Да   Да   \n",
      "23          23            24  Мужской        Да   Да   Да  Нет  Нет   Да   Да   \n",
      "24          24            25  Мужской        Да   Да   Да  Нет   Да   Да   Да   \n",
      "25          25            26  Женский        Да  Нет   Да  Нет  Нет   Да   Да   \n",
      "26          26            27  Женский       Нет   Да   Да  Нет  Нет   Да   Да   \n",
      "27          27            28  Женский        Да   Да  Нет  Нет  Нет   Да   Да   \n",
      "28          28            29  Женский        Да   Да   Да  Нет   Да   Да   Да   \n",
      "29          29            30  Женский       Нет  Нет  Нет  Нет  Нет   Да   Да   \n",
      "30          30            31  Женский        Да   Да   Да  Нет   Да  Нет  Нет   \n",
      "31          31            32  Женский        Да   Да  Нет  Нет  Нет   Да   Да   \n",
      "32          32            33  Женский        Да   Да  Нет  Нет  Нет   Да   Да   \n",
      "33          33            34  Мужской       Нет  Нет   Да  Нет   Да   Да  Нет   \n",
      "34          34            35  Женский       Нет   Да   Да   Да  Нет   Да   Да   \n",
      "35          35            36  Женский        Да   Да   Да  Нет   Да   Да  Нет   \n",
      "36          36            37  Женский       Нет   Да   Да   Да  Нет   Да  Нет   \n",
      "37          37            38  Женский       Нет   Да  Нет  Нет  Нет   Да   Да   \n",
      "38          38            39  Женский       Нет   Да  Нет  Нет  Нет   Да  Нет   \n",
      "39          39            40  Женский        Да   Да   Да  Нет   Да   Да   Да   \n",
      "40          40            41  Женский       Нет   Да   Да  Нет  Нет   Да  Нет   \n",
      "41          41            42  Женский        Да   Да   Да  Нет  Нет   Да  Нет   \n",
      "42          42            43  Женский        Да   Да  Нет  Нет  Нет   Да   Да   \n",
      "43          43            44  Женский       Нет   Да   Да  Нет   Да   Да   Да   \n",
      "44          44            45  Женский        Да   Да  Нет  Нет   Да   Да   Да   \n",
      "45          45            46  Женский       Нет   Да   Да  Нет  Нет   Да   Да   \n",
      "46          46            47  Женский        Да  Нет  Нет  Нет   Да   Да   Да   \n",
      "47          47            48  Женский       Нет  Нет  Нет  Нет   Да   Да   Да   \n",
      "48          48            49  Женский        Да   Да   Да  Нет   Да   Да   Да   \n",
      "49          49            50  Женский        Да  Нет  Нет  Нет  Нет   Да  Нет   \n",
      "50          50            51  Женский       Нет   Да   Да  Нет  Нет   Да  Нет   \n",
      "51          51            52  Женский        Да   Да   Да  Нет   Да   Да   Да   \n",
      "\n",
      "    ...  Q50  Q51  Q52  Q53  Q54  Q55  Q56  Q57 extra female  \n",
      "0   ...  Нет   Да   Да  Нет  Нет  Нет  Нет   Да     5      1  \n",
      "1   ...  Нет  Нет  Нет   Да  Нет   Да   Да  Нет    16      1  \n",
      "2   ...  Нет  Нет   Да  Нет  Нет   Да   Да  Нет    13      1  \n",
      "3   ...   Да   Да  Нет  Нет  Нет   Да  Нет  Нет     4      1  \n",
      "4   ...  Нет  Нет   Да   Да   Да   Да   Да  Нет    13      1  \n",
      "5   ...  Нет  Нет  Нет   Да   Да  Нет   Да  Нет    19      1  \n",
      "6   ...  Нет  Нет   Да   Да   Да   Да  Нет  Нет    15      1  \n",
      "7   ...   Да  Нет   Да   Да   Да   Да   Да  Нет    21      1  \n",
      "8   ...  Нет  Нет   Да   Да  Нет   Да   Да  Нет    12      1  \n",
      "9   ...  Нет  Нет  Нет   Да   Да   Да   Да  Нет    19      1  \n",
      "10  ...  Нет   Да  Нет   Да   Да   Да   Да  Нет     8      0  \n",
      "11  ...  Нет  Нет   Да   Да   Да   Да   Да  Нет    17      1  \n",
      "12  ...  Нет  Нет   Да  Нет   Да   Да   Да   Да    14      1  \n",
      "13  ...  Нет  Нет  Нет  Нет  Нет   Да  Нет  Нет    16      1  \n",
      "14  ...   Да   Да   Да  Нет   Да   Да  Нет  Нет     6      1  \n",
      "15  ...   Да  Нет   Да   Да   Да   Да   Да   Да    15      1  \n",
      "16  ...   Да   Да   Да  Нет   Да   Да   Да  Нет    14      1  \n",
      "17  ...  Нет  Нет   Да  Нет  Нет   Да   Да  Нет    16      1  \n",
      "18  ...  Нет  Нет   Да  Нет   Да   Да  Нет   Да    11      1  \n",
      "19  ...   Да   Да   Да  Нет   Да  Нет   Да   Да     9      1  \n",
      "20  ...   Да   Да   Да  Нет   Да   Да   Да  Нет    11      1  \n",
      "21  ...  Нет  Нет   Да  Нет  Нет   Да  Нет  Нет    10      1  \n",
      "22  ...  Нет  Нет   Да   Да   Да  Нет   Да  Нет    16      1  \n",
      "23  ...  Нет  Нет   Да   Да  Нет   Да   Да  Нет    17      0  \n",
      "24  ...   Да   Да   Да  Нет   Да   Да  Нет   Да     6      0  \n",
      "25  ...  Нет   Да   Да  Нет   Да   Да  Нет  Нет     3      1  \n",
      "26  ...   Да   Да   Да   Да  Нет   Да  Нет  Нет    12      1  \n",
      "27  ...  Нет   Да  Нет   Да   Да   Да   Да  Нет    13      1  \n",
      "28  ...   Да   Да   Да  Нет  Нет   Да   Да   Да    12      1  \n",
      "29  ...   Да   Да   Да  Нет   Да   Да   Да  Нет     3      1  \n",
      "30  ...   Да  Нет   Да  Нет  Нет  Нет   Да  Нет    13      1  \n",
      "31  ...  Нет  Нет   Да  Нет  Нет  Нет   Да  Нет    12      1  \n",
      "32  ...  Нет   Да   Да  Нет  Нет   Да  Нет  Нет     5      1  \n",
      "33  ...   Да  Нет   Да  Нет  Нет  Нет   Да  Нет     9      0  \n",
      "34  ...  Нет  Нет  Нет  Нет  Нет   Да  Нет  Нет     9      1  \n",
      "35  ...  Нет   Да   Да  Нет   Да   Да  Нет  Нет     5      1  \n",
      "36  ...   Да  Нет   Да   Да   Да   Да   Да  Нет    16      1  \n",
      "37  ...  Нет  Нет  Нет  Нет  Нет   Да  Нет  Нет     8      1  \n",
      "38  ...   Да  Нет  Нет  Нет  Нет   Да   Да   Да    10      1  \n",
      "39  ...  Нет  Нет   Да  Нет   Да   Да   Да   Да    14      1  \n",
      "40  ...  Нет  Нет   Да   Да  Нет   Да  Нет   Да    12      1  \n",
      "41  ...  Нет  Нет   Да   Да   Да   Да   Да  Нет    13      1  \n",
      "42  ...   Да   Да   Да   Да  Нет   Да   Да  Нет     7      1  \n",
      "43  ...  Нет  Нет   Да  Нет  Нет  Нет   Да  Нет    10      1  \n",
      "44  ...  Нет   Да   Да   Да  Нет   Да   Да   Да     7      1  \n",
      "45  ...   Да  Нет   Да  Нет  Нет   Да   Да   Да    14      1  \n",
      "46  ...   Да  Нет   Да   Да  Нет   Да   Да  Нет    10      1  \n",
      "47  ...  Нет   Да   Да  Нет   Да  Нет  Нет  Нет     2      1  \n",
      "48  ...   Да  Нет  Нет   Да   Да  Нет  Нет  Нет    18      1  \n",
      "49  ...   Да  Нет   Да  Нет   Да   Да   Да  Нет     9      1  \n",
      "50  ...  Нет  Нет   Да   Да  Нет   Да   Да   Да    13      1  \n",
      "51  ...   Да   Да   Да   Да   Да   Да  Нет  Нет    11      1  \n",
      "\n",
      "[52 rows x 63 columns]\n"
     ]
    }
   ],
   "source": [
    "### YOUR CODE HERE ###\n",
    "ps['female'] = ps['sex'].isin(['Женский']).astype('int')\n",
    "print(ps)"
   ]
  },
  {
   "cell_type": "markdown",
   "metadata": {
    "colab_type": "text",
    "id": "QpMX93eyrPoJ"
   },
   "source": [
    "###  8\n",
    "\n",
    "Select rows from the source dataframe that correspond to either volunteers with an extraversion index above 15, or non-volunteers with an extraversion index below 15. Save to a `pure` dataframe.\n"
   ]
  },
  {
   "cell_type": "code",
   "execution_count": 11,
   "metadata": {
    "colab": {},
    "colab_type": "code",
    "id": "IpcX8c75rPoJ"
   },
   "outputs": [
    {
     "name": "stdout",
     "output_type": "stream",
     "text": [
      "    Unnamed: 0  Unnamed: 0.1      sex volunteer   Q1   Q2   Q3   Q4   Q5   Q6  \\\n",
      "0            0             1  Женский       Нет   Да  Нет  Нет   Да   Да   Да   \n",
      "1            1             2  Женский        Да   Да   Да  Нет   Да   Да   Да   \n",
      "3            3             4  Женский       Нет   Да   Да  Нет  Нет   Да   Да   \n",
      "4            4             5  Женский       Нет   Да   Да  Нет   Да   Да   Да   \n",
      "7            7             8  Женский        Да   Да   Да   Да  Нет   Да   Да   \n",
      "8            8             9  Женский       Нет   Да   Да  Нет   Да   Да   Да   \n",
      "9            9            10  Женский        Да   Да   Да  Нет  Нет   Да  Нет   \n",
      "10          10            11  Мужской       Нет  Нет   Да  Нет  Нет   Да   Да   \n",
      "11          11            12  Женский        Да   Да   Да  Нет   Да   Да   Да   \n",
      "14          14            15  Женский       Нет  Нет  Нет  Нет   Да   Да  Нет   \n",
      "16          16            17  Женский       Нет   Да   Да  Нет  Нет  Нет   Да   \n",
      "18          18            19  Женский       Нет   Да   Да  Нет   Да   Да   Да   \n",
      "19          19            20  Женский       Нет  Нет  Нет   Да   Да   Да  Нет   \n",
      "20          20            21  Женский       Нет   Да   Да  Нет   Да   Да   Да   \n",
      "23          23            24  Мужской        Да   Да   Да  Нет  Нет   Да   Да   \n",
      "26          26            27  Женский       Нет   Да   Да  Нет  Нет   Да   Да   \n",
      "29          29            30  Женский       Нет  Нет  Нет  Нет  Нет   Да   Да   \n",
      "33          33            34  Мужской       Нет  Нет   Да  Нет   Да   Да  Нет   \n",
      "34          34            35  Женский       Нет   Да   Да   Да  Нет   Да   Да   \n",
      "37          37            38  Женский       Нет   Да  Нет  Нет  Нет   Да   Да   \n",
      "38          38            39  Женский       Нет   Да  Нет  Нет  Нет   Да  Нет   \n",
      "40          40            41  Женский       Нет   Да   Да  Нет  Нет   Да  Нет   \n",
      "43          43            44  Женский       Нет   Да   Да  Нет   Да   Да   Да   \n",
      "45          45            46  Женский       Нет   Да   Да  Нет  Нет   Да   Да   \n",
      "47          47            48  Женский       Нет  Нет  Нет  Нет   Да   Да   Да   \n",
      "48          48            49  Женский        Да   Да   Да  Нет   Да   Да   Да   \n",
      "50          50            51  Женский       Нет   Да   Да  Нет  Нет   Да  Нет   \n",
      "\n",
      "    ...  Q50  Q51  Q52  Q53  Q54  Q55  Q56  Q57 extra female  \n",
      "0   ...  Нет   Да   Да  Нет  Нет  Нет  Нет   Да     5      1  \n",
      "1   ...  Нет  Нет  Нет   Да  Нет   Да   Да  Нет    16      1  \n",
      "3   ...   Да   Да  Нет  Нет  Нет   Да  Нет  Нет     4      1  \n",
      "4   ...  Нет  Нет   Да   Да   Да   Да   Да  Нет    13      1  \n",
      "7   ...   Да  Нет   Да   Да   Да   Да   Да  Нет    21      1  \n",
      "8   ...  Нет  Нет   Да   Да  Нет   Да   Да  Нет    12      1  \n",
      "9   ...  Нет  Нет  Нет   Да   Да   Да   Да  Нет    19      1  \n",
      "10  ...  Нет   Да  Нет   Да   Да   Да   Да  Нет     8      0  \n",
      "11  ...  Нет  Нет   Да   Да   Да   Да   Да  Нет    17      1  \n",
      "14  ...   Да   Да   Да  Нет   Да   Да  Нет  Нет     6      1  \n",
      "16  ...   Да   Да   Да  Нет   Да   Да   Да  Нет    14      1  \n",
      "18  ...  Нет  Нет   Да  Нет   Да   Да  Нет   Да    11      1  \n",
      "19  ...   Да   Да   Да  Нет   Да  Нет   Да   Да     9      1  \n",
      "20  ...   Да   Да   Да  Нет   Да   Да   Да  Нет    11      1  \n",
      "23  ...  Нет  Нет   Да   Да  Нет   Да   Да  Нет    17      0  \n",
      "26  ...   Да   Да   Да   Да  Нет   Да  Нет  Нет    12      1  \n",
      "29  ...   Да   Да   Да  Нет   Да   Да   Да  Нет     3      1  \n",
      "33  ...   Да  Нет   Да  Нет  Нет  Нет   Да  Нет     9      0  \n",
      "34  ...  Нет  Нет  Нет  Нет  Нет   Да  Нет  Нет     9      1  \n",
      "37  ...  Нет  Нет  Нет  Нет  Нет   Да  Нет  Нет     8      1  \n",
      "38  ...   Да  Нет  Нет  Нет  Нет   Да   Да   Да    10      1  \n",
      "40  ...  Нет  Нет   Да   Да  Нет   Да  Нет   Да    12      1  \n",
      "43  ...  Нет  Нет   Да  Нет  Нет  Нет   Да  Нет    10      1  \n",
      "45  ...   Да  Нет   Да  Нет  Нет   Да   Да   Да    14      1  \n",
      "47  ...  Нет   Да   Да  Нет   Да  Нет  Нет  Нет     2      1  \n",
      "48  ...   Да  Нет  Нет   Да   Да  Нет  Нет  Нет    18      1  \n",
      "50  ...  Нет  Нет   Да   Да  Нет   Да   Да   Да    13      1  \n",
      "\n",
      "[27 rows x 63 columns]\n"
     ]
    }
   ],
   "source": [
    "### YOUR CODE HERE ###\n",
    "volunteer_yes = ps['volunteer'].isin(['Да'])\n",
    "volunteer_no = ps['volunteer'].isin(['Нет'])\n",
    "pure = ps[(volunteer_yes) & (ps['extra'] > 15) | ((volunteer_no) & (ps['extra'] < 15))]\n",
    "print(pure)"
   ]
  },
  {
   "cell_type": "markdown",
   "metadata": {
    "colab_type": "text",
    "id": "bx3eYrHNrPoM"
   },
   "source": [
    "###  9\n",
    "\n",
    "Determine (by any means other than explicit counting) how many volunteers and non-volunteers are in the `pure` dataframe.\n"
   ]
  },
  {
   "cell_type": "code",
   "execution_count": 10,
   "metadata": {
    "colab": {},
    "colab_type": "code",
    "id": "EmHHO76urPoM"
   },
   "outputs": [
    {
     "name": "stdout",
     "output_type": "stream",
     "text": [
      "28\n"
     ]
    }
   ],
   "source": [
    "### YOUR CODE HERE ###\n",
    "volunteer_yes = ps['volunteer'].isin(['Да']).sum()\n",
    "volunteer_no = ps['volunteer'].isin(['Нет']).sum()\n",
    "print(volunteer_no)"
   ]
  },
  {
   "cell_type": "markdown",
   "metadata": {
    "colab_type": "text",
    "id": "ZaFJACawrPoO"
   },
   "source": [
    "###  10\n",
    "\n",
    "Determine the minimum, maximum, mean and median value of the extraversion index in the `pure` dataframe. Save the results in separate variables (there should be 4 of them).\n",
    "\n",
    "Add a `high` column to the `pure` dataframe, consisting of 0 and 1, where 1 corresponds to respondents whose extraversion level is higher than $m = \\max\\{\\text{median}, \\text{mean}\\}$, then there is a maximum of the median and mean values, and 0 - for respondents with an extraversion level not higher than $m$.\n"
   ]
  },
  {
   "cell_type": "code",
   "execution_count": 14,
   "metadata": {
    "colab": {},
    "colab_type": "code",
    "id": "tejD-fLSrPoP"
   },
   "outputs": [
    {
     "name": "stdout",
     "output_type": "stream",
     "text": [
      "    Unnamed: 0  Unnamed: 0.1      sex volunteer   Q1   Q2   Q3   Q4   Q5   Q6  \\\n",
      "0            0             1  Женский       Нет   Да  Нет  Нет   Да   Да   Да   \n",
      "1            1             2  Женский        Да   Да   Да  Нет   Да   Да   Да   \n",
      "3            3             4  Женский       Нет   Да   Да  Нет  Нет   Да   Да   \n",
      "4            4             5  Женский       Нет   Да   Да  Нет   Да   Да   Да   \n",
      "7            7             8  Женский        Да   Да   Да   Да  Нет   Да   Да   \n",
      "8            8             9  Женский       Нет   Да   Да  Нет   Да   Да   Да   \n",
      "9            9            10  Женский        Да   Да   Да  Нет  Нет   Да  Нет   \n",
      "10          10            11  Мужской       Нет  Нет   Да  Нет  Нет   Да   Да   \n",
      "11          11            12  Женский        Да   Да   Да  Нет   Да   Да   Да   \n",
      "14          14            15  Женский       Нет  Нет  Нет  Нет   Да   Да  Нет   \n",
      "16          16            17  Женский       Нет   Да   Да  Нет  Нет  Нет   Да   \n",
      "18          18            19  Женский       Нет   Да   Да  Нет   Да   Да   Да   \n",
      "19          19            20  Женский       Нет  Нет  Нет   Да   Да   Да  Нет   \n",
      "20          20            21  Женский       Нет   Да   Да  Нет   Да   Да   Да   \n",
      "23          23            24  Мужской        Да   Да   Да  Нет  Нет   Да   Да   \n",
      "26          26            27  Женский       Нет   Да   Да  Нет  Нет   Да   Да   \n",
      "29          29            30  Женский       Нет  Нет  Нет  Нет  Нет   Да   Да   \n",
      "33          33            34  Мужской       Нет  Нет   Да  Нет   Да   Да  Нет   \n",
      "34          34            35  Женский       Нет   Да   Да   Да  Нет   Да   Да   \n",
      "37          37            38  Женский       Нет   Да  Нет  Нет  Нет   Да   Да   \n",
      "38          38            39  Женский       Нет   Да  Нет  Нет  Нет   Да  Нет   \n",
      "40          40            41  Женский       Нет   Да   Да  Нет  Нет   Да  Нет   \n",
      "43          43            44  Женский       Нет   Да   Да  Нет   Да   Да   Да   \n",
      "45          45            46  Женский       Нет   Да   Да  Нет  Нет   Да   Да   \n",
      "47          47            48  Женский       Нет  Нет  Нет  Нет   Да   Да   Да   \n",
      "48          48            49  Женский        Да   Да   Да  Нет   Да   Да   Да   \n",
      "50          50            51  Женский       Нет   Да   Да  Нет  Нет   Да  Нет   \n",
      "\n",
      "    ...  Q51  Q52  Q53  Q54  Q55  Q56  Q57 extra female high  \n",
      "0   ...   Да   Да  Нет  Нет  Нет  Нет   Да     5      1    0  \n",
      "1   ...  Нет  Нет   Да  Нет   Да   Да  Нет    16      1    1  \n",
      "3   ...   Да  Нет  Нет  Нет   Да  Нет  Нет     4      1    0  \n",
      "4   ...  Нет   Да   Да   Да   Да   Да  Нет    13      1    1  \n",
      "7   ...  Нет   Да   Да   Да   Да   Да  Нет    21      1    1  \n",
      "8   ...  Нет   Да   Да  Нет   Да   Да  Нет    12      1    1  \n",
      "9   ...  Нет  Нет   Да   Да   Да   Да  Нет    19      1    1  \n",
      "10  ...   Да  Нет   Да   Да   Да   Да  Нет     8      0    0  \n",
      "11  ...  Нет   Да   Да   Да   Да   Да  Нет    17      1    1  \n",
      "14  ...   Да   Да  Нет   Да   Да  Нет  Нет     6      1    0  \n",
      "16  ...   Да   Да  Нет   Да   Да   Да  Нет    14      1    1  \n",
      "18  ...  Нет   Да  Нет   Да   Да  Нет   Да    11      1    0  \n",
      "19  ...   Да   Да  Нет   Да  Нет   Да   Да     9      1    0  \n",
      "20  ...   Да   Да  Нет   Да   Да   Да  Нет    11      1    0  \n",
      "23  ...  Нет   Да   Да  Нет   Да   Да  Нет    17      0    1  \n",
      "26  ...   Да   Да   Да  Нет   Да  Нет  Нет    12      1    1  \n",
      "29  ...   Да   Да  Нет   Да   Да   Да  Нет     3      1    0  \n",
      "33  ...  Нет   Да  Нет  Нет  Нет   Да  Нет     9      0    0  \n",
      "34  ...  Нет  Нет  Нет  Нет   Да  Нет  Нет     9      1    0  \n",
      "37  ...  Нет  Нет  Нет  Нет   Да  Нет  Нет     8      1    0  \n",
      "38  ...  Нет  Нет  Нет  Нет   Да   Да   Да    10      1    0  \n",
      "40  ...  Нет   Да   Да  Нет   Да  Нет   Да    12      1    1  \n",
      "43  ...  Нет   Да  Нет  Нет  Нет   Да  Нет    10      1    0  \n",
      "45  ...  Нет   Да  Нет  Нет   Да   Да   Да    14      1    1  \n",
      "47  ...   Да   Да  Нет   Да  Нет  Нет  Нет     2      1    0  \n",
      "48  ...  Нет  Нет   Да   Да  Нет  Нет  Нет    18      1    1  \n",
      "50  ...  Нет   Да   Да  Нет   Да   Да   Да    13      1    1  \n",
      "\n",
      "[27 rows x 64 columns]\n"
     ]
    },
    {
     "name": "stderr",
     "output_type": "stream",
     "text": [
      "<ipython-input-14-aafa8511c76f>:10: SettingWithCopyWarning: \n",
      "A value is trying to be set on a copy of a slice from a DataFrame.\n",
      "Try using .loc[row_indexer,col_indexer] = value instead\n",
      "\n",
      "See the caveats in the documentation: https://pandas.pydata.org/pandas-docs/stable/user_guide/indexing.html#returning-a-view-versus-a-copy\n",
      "  pure['high'] = list(np.where(more_m, 1, 0))\n"
     ]
    }
   ],
   "source": [
    "### YOUR CODE HERE ###\n",
    "import numpy as np\n",
    "min_value = pure.loc[:, 'extra'].min()\n",
    "max_value = pure.loc[:, 'extra'].max()\n",
    "mean_value = pure.loc[:, 'extra'].mean()\n",
    "median_value = pure.loc[:, 'extra'].median()\n",
    "\n",
    "m = max(mean_value, median_value)\n",
    "more_m = pure['extra'] > m\n",
    "pure['high'] = list(np.where(more_m, 1, 0))\n",
    "\n",
    "print(pure)"
   ]
  },
  {
   "cell_type": "code",
   "execution_count": null,
   "metadata": {},
   "outputs": [],
   "source": []
  }
 ],
 "metadata": {
  "colab": {
   "collapsed_sections": [],
   "name": "jun_anl_pandas1.ipynb",
   "provenance": []
  },
  "kernelspec": {
   "display_name": "Python 3",
   "language": "python",
   "name": "python3"
  },
  "language_info": {
   "codemirror_mode": {
    "name": "ipython",
    "version": 3
   },
   "file_extension": ".py",
   "mimetype": "text/x-python",
   "name": "python",
   "nbconvert_exporter": "python",
   "pygments_lexer": "ipython3",
   "version": "3.8.8"
  }
 },
 "nbformat": 4,
 "nbformat_minor": 4
}
