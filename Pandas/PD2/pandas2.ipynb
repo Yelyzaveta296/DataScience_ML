{
 "cells": [
  {
   "cell_type": "markdown",
   "metadata": {
    "colab_type": "text",
    "id": "IRzgxJDujF9X"
   },
   "source": [
    "# The `pandas` library: part 2\n"
   ]
  },
  {
   "cell_type": "markdown",
   "metadata": {
    "colab_type": "text",
    "id": "y_pBPl8ajF9k"
   },
   "source": [
    "The `Fishing.csv` file contains the results of a survey about fishing: the respondents, filling out the questionnaire, described in detail their recent fishing.\n",
    "\n",
    "**Description of variables in dataframe:**\n",
    "\n",
    "\n",
    "* `mode`: selected type of fishing: on the shore (`beach`), on the pier (`pier`), in your own boat (`boat`) and in a rented boat (`charter`);\n",
    "\n",
    "* `price`: the cost of the selected type of fishing;\n",
    "\n",
    "* `catch`: catch rate for the selected type of fishing;\n",
    "\n",
    "* `pbeach`: cost of fishing on the shore;\n",
    "\n",
    "* `ppier`: cost of fishing on the pier;\n",
    "\n",
    "* `pboat`: the cost of fishing on your own boat;\n",
    "\n",
    "* `pcharter`: cost of fishing on a rented boat;\n",
    "\n",
    "* `cbeach`: shore fishing catch rate;\n",
    "\n",
    "* `cpier`: pier fishing catch rate;\n",
    "\n",
    "* `cboat`: catch rate for own boat fishing;\n",
    "\n",
    "* `ccharter`: catch rate for fishing on a rented boat;\n",
    "\n",
    "* `income`: income per month.\n",
    "\n",
    "For more information about the survey and research, see\n",
    " [article](https://core.ac.uk/download/pdf/38934845.pdf) J.Herriges, C.Kling *\"Nonlinear Income Effects in Random Utility Models\"* (1999)."
   ]
  },
  {
   "cell_type": "markdown",
   "metadata": {
    "colab_type": "text",
    "id": "S3vpJhOfjF9o"
   },
   "source": [
    "###  1\n",
    "\n",
    "Load the table from the `Fishing.csv` file and save it to the `dat` dataframe.\n",
    "Display the first 8 rows of the loaded dataframe."
   ]
  },
  {
   "cell_type": "code",
   "execution_count": 2,
   "metadata": {
    "colab": {},
    "colab_type": "code",
    "id": "i5C7RZxOjF9u"
   },
   "outputs": [
    {
     "name": "stdout",
     "output_type": "stream",
     "text": [
      "   Unnamed: 0  Unnamed: 0.1     mode    price   catch   pbeach    ppier  \\\n",
      "0           0             1  charter  182.930  0.5391  157.930  157.930   \n",
      "1           1             2  charter   34.534  0.4671   15.114   15.114   \n",
      "2           2             3     boat   24.334  0.2413  161.874  161.874   \n",
      "3           3             4     pier   15.134  0.0789   15.134   15.134   \n",
      "4           4             5     boat   41.514  0.1082  106.930  106.930   \n",
      "5           5             6  charter   63.934  0.3975  192.474  192.474   \n",
      "6           6             7    beach   51.934  0.0678   51.934   51.934   \n",
      "7           7             8  charter   56.714  0.0209   15.134   15.134   \n",
      "\n",
      "     pboat  pcharter  cbeach   cpier   cboat  ccharter     income  \n",
      "0  157.930   182.930  0.0678  0.0503  0.2601    0.5391  7083.3317  \n",
      "1   10.534    34.534  0.1049  0.0451  0.1574    0.4671  1249.9998  \n",
      "2   24.334    59.334  0.5333  0.4522  0.2413    1.0266  3749.9999  \n",
      "3   55.930    84.930  0.0678  0.0789  0.1643    0.5391  2083.3332  \n",
      "4   41.514    71.014  0.0678  0.0503  0.1082    0.3240  4583.3320  \n",
      "5   28.934    63.934  0.5333  0.4522  0.1665    0.3975  4583.3320  \n",
      "6  191.930   220.930  0.0678  0.0789  0.1643    0.5391  8750.0010  \n",
      "7   21.714    56.714  0.0678  0.0789  0.0102    0.0209  2083.3332  \n"
     ]
    }
   ],
   "source": [
    "### YOUR CODE HERE ###\n",
    "import pandas as pd\n",
    "import numpy as np\n",
    "dat = pd.read_csv('Fishing.csv', encoding = \"UTF-8\")\n",
    "print(dat.head(8))"
   ]
  },
  {
   "cell_type": "markdown",
   "metadata": {
    "colab_type": "text",
    "id": "x6MuTfpUjF-F"
   },
   "source": [
    "###  2\n",
    "\n",
    "Add, using the `.apply()` method, a `log_income` column containing the natural logarithm of the income of the respondents.\n"
   ]
  },
  {
   "cell_type": "code",
   "execution_count": 3,
   "metadata": {
    "colab": {},
    "colab_type": "code",
    "id": "L091ksP8jF-K"
   },
   "outputs": [
    {
     "data": {
      "text/html": [
       "<div>\n",
       "<style scoped>\n",
       "    .dataframe tbody tr th:only-of-type {\n",
       "        vertical-align: middle;\n",
       "    }\n",
       "\n",
       "    .dataframe tbody tr th {\n",
       "        vertical-align: top;\n",
       "    }\n",
       "\n",
       "    .dataframe thead th {\n",
       "        text-align: right;\n",
       "    }\n",
       "</style>\n",
       "<table border=\"1\" class=\"dataframe\">\n",
       "  <thead>\n",
       "    <tr style=\"text-align: right;\">\n",
       "      <th></th>\n",
       "      <th>Unnamed: 0</th>\n",
       "      <th>Unnamed: 0.1</th>\n",
       "      <th>mode</th>\n",
       "      <th>price</th>\n",
       "      <th>catch</th>\n",
       "      <th>pbeach</th>\n",
       "      <th>ppier</th>\n",
       "      <th>pboat</th>\n",
       "      <th>pcharter</th>\n",
       "      <th>cbeach</th>\n",
       "      <th>cpier</th>\n",
       "      <th>cboat</th>\n",
       "      <th>ccharter</th>\n",
       "      <th>income</th>\n",
       "      <th>log_income</th>\n",
       "    </tr>\n",
       "  </thead>\n",
       "  <tbody>\n",
       "    <tr>\n",
       "      <th>0</th>\n",
       "      <td>0</td>\n",
       "      <td>1</td>\n",
       "      <td>charter</td>\n",
       "      <td>182.930</td>\n",
       "      <td>0.5391</td>\n",
       "      <td>157.930</td>\n",
       "      <td>157.930</td>\n",
       "      <td>157.930</td>\n",
       "      <td>182.930</td>\n",
       "      <td>0.0678</td>\n",
       "      <td>0.0503</td>\n",
       "      <td>0.2601</td>\n",
       "      <td>0.5391</td>\n",
       "      <td>7083.33170</td>\n",
       "      <td>8.865500</td>\n",
       "    </tr>\n",
       "    <tr>\n",
       "      <th>1</th>\n",
       "      <td>1</td>\n",
       "      <td>2</td>\n",
       "      <td>charter</td>\n",
       "      <td>34.534</td>\n",
       "      <td>0.4671</td>\n",
       "      <td>15.114</td>\n",
       "      <td>15.114</td>\n",
       "      <td>10.534</td>\n",
       "      <td>34.534</td>\n",
       "      <td>0.1049</td>\n",
       "      <td>0.0451</td>\n",
       "      <td>0.1574</td>\n",
       "      <td>0.4671</td>\n",
       "      <td>1249.99980</td>\n",
       "      <td>7.130899</td>\n",
       "    </tr>\n",
       "    <tr>\n",
       "      <th>2</th>\n",
       "      <td>2</td>\n",
       "      <td>3</td>\n",
       "      <td>boat</td>\n",
       "      <td>24.334</td>\n",
       "      <td>0.2413</td>\n",
       "      <td>161.874</td>\n",
       "      <td>161.874</td>\n",
       "      <td>24.334</td>\n",
       "      <td>59.334</td>\n",
       "      <td>0.5333</td>\n",
       "      <td>0.4522</td>\n",
       "      <td>0.2413</td>\n",
       "      <td>1.0266</td>\n",
       "      <td>3749.99990</td>\n",
       "      <td>8.229511</td>\n",
       "    </tr>\n",
       "    <tr>\n",
       "      <th>3</th>\n",
       "      <td>3</td>\n",
       "      <td>4</td>\n",
       "      <td>pier</td>\n",
       "      <td>15.134</td>\n",
       "      <td>0.0789</td>\n",
       "      <td>15.134</td>\n",
       "      <td>15.134</td>\n",
       "      <td>55.930</td>\n",
       "      <td>84.930</td>\n",
       "      <td>0.0678</td>\n",
       "      <td>0.0789</td>\n",
       "      <td>0.1643</td>\n",
       "      <td>0.5391</td>\n",
       "      <td>2083.33320</td>\n",
       "      <td>7.641724</td>\n",
       "    </tr>\n",
       "    <tr>\n",
       "      <th>4</th>\n",
       "      <td>4</td>\n",
       "      <td>5</td>\n",
       "      <td>boat</td>\n",
       "      <td>41.514</td>\n",
       "      <td>0.1082</td>\n",
       "      <td>106.930</td>\n",
       "      <td>106.930</td>\n",
       "      <td>41.514</td>\n",
       "      <td>71.014</td>\n",
       "      <td>0.0678</td>\n",
       "      <td>0.0503</td>\n",
       "      <td>0.1082</td>\n",
       "      <td>0.3240</td>\n",
       "      <td>4583.33200</td>\n",
       "      <td>8.430182</td>\n",
       "    </tr>\n",
       "    <tr>\n",
       "      <th>...</th>\n",
       "      <td>...</td>\n",
       "      <td>...</td>\n",
       "      <td>...</td>\n",
       "      <td>...</td>\n",
       "      <td>...</td>\n",
       "      <td>...</td>\n",
       "      <td>...</td>\n",
       "      <td>...</td>\n",
       "      <td>...</td>\n",
       "      <td>...</td>\n",
       "      <td>...</td>\n",
       "      <td>...</td>\n",
       "      <td>...</td>\n",
       "      <td>...</td>\n",
       "      <td>...</td>\n",
       "    </tr>\n",
       "    <tr>\n",
       "      <th>1177</th>\n",
       "      <td>1177</td>\n",
       "      <td>1178</td>\n",
       "      <td>pier</td>\n",
       "      <td>150.236</td>\n",
       "      <td>0.4522</td>\n",
       "      <td>150.236</td>\n",
       "      <td>150.236</td>\n",
       "      <td>250.746</td>\n",
       "      <td>285.746</td>\n",
       "      <td>0.5333</td>\n",
       "      <td>0.4522</td>\n",
       "      <td>0.2413</td>\n",
       "      <td>1.0266</td>\n",
       "      <td>3749.99990</td>\n",
       "      <td>8.229511</td>\n",
       "    </tr>\n",
       "    <tr>\n",
       "      <th>1178</th>\n",
       "      <td>1178</td>\n",
       "      <td>1179</td>\n",
       "      <td>beach</td>\n",
       "      <td>235.436</td>\n",
       "      <td>0.5333</td>\n",
       "      <td>235.436</td>\n",
       "      <td>235.436</td>\n",
       "      <td>392.946</td>\n",
       "      <td>427.946</td>\n",
       "      <td>0.5333</td>\n",
       "      <td>0.4522</td>\n",
       "      <td>0.2413</td>\n",
       "      <td>1.0266</td>\n",
       "      <td>6250.00130</td>\n",
       "      <td>8.740337</td>\n",
       "    </tr>\n",
       "    <tr>\n",
       "      <th>1179</th>\n",
       "      <td>1179</td>\n",
       "      <td>1180</td>\n",
       "      <td>pier</td>\n",
       "      <td>65.036</td>\n",
       "      <td>0.4522</td>\n",
       "      <td>65.036</td>\n",
       "      <td>65.036</td>\n",
       "      <td>108.546</td>\n",
       "      <td>143.546</td>\n",
       "      <td>0.5333</td>\n",
       "      <td>0.4522</td>\n",
       "      <td>0.2413</td>\n",
       "      <td>1.0266</td>\n",
       "      <td>1249.99980</td>\n",
       "      <td>7.130899</td>\n",
       "    </tr>\n",
       "    <tr>\n",
       "      <th>1180</th>\n",
       "      <td>1180</td>\n",
       "      <td>1181</td>\n",
       "      <td>beach</td>\n",
       "      <td>36.636</td>\n",
       "      <td>0.5333</td>\n",
       "      <td>36.636</td>\n",
       "      <td>36.636</td>\n",
       "      <td>61.146</td>\n",
       "      <td>96.146</td>\n",
       "      <td>0.5333</td>\n",
       "      <td>0.4522</td>\n",
       "      <td>0.1665</td>\n",
       "      <td>0.3975</td>\n",
       "      <td>416.66668</td>\n",
       "      <td>6.032287</td>\n",
       "    </tr>\n",
       "    <tr>\n",
       "      <th>1181</th>\n",
       "      <td>1181</td>\n",
       "      <td>1182</td>\n",
       "      <td>boat</td>\n",
       "      <td>235.436</td>\n",
       "      <td>0.6817</td>\n",
       "      <td>339.890</td>\n",
       "      <td>339.890</td>\n",
       "      <td>235.436</td>\n",
       "      <td>260.436</td>\n",
       "      <td>0.2537</td>\n",
       "      <td>0.1498</td>\n",
       "      <td>0.6817</td>\n",
       "      <td>2.3014</td>\n",
       "      <td>6250.00130</td>\n",
       "      <td>8.740337</td>\n",
       "    </tr>\n",
       "  </tbody>\n",
       "</table>\n",
       "<p>1182 rows × 15 columns</p>\n",
       "</div>"
      ],
      "text/plain": [
       "      Unnamed: 0  Unnamed: 0.1     mode    price   catch   pbeach    ppier  \\\n",
       "0              0             1  charter  182.930  0.5391  157.930  157.930   \n",
       "1              1             2  charter   34.534  0.4671   15.114   15.114   \n",
       "2              2             3     boat   24.334  0.2413  161.874  161.874   \n",
       "3              3             4     pier   15.134  0.0789   15.134   15.134   \n",
       "4              4             5     boat   41.514  0.1082  106.930  106.930   \n",
       "...          ...           ...      ...      ...     ...      ...      ...   \n",
       "1177        1177          1178     pier  150.236  0.4522  150.236  150.236   \n",
       "1178        1178          1179    beach  235.436  0.5333  235.436  235.436   \n",
       "1179        1179          1180     pier   65.036  0.4522   65.036   65.036   \n",
       "1180        1180          1181    beach   36.636  0.5333   36.636   36.636   \n",
       "1181        1181          1182     boat  235.436  0.6817  339.890  339.890   \n",
       "\n",
       "        pboat  pcharter  cbeach   cpier   cboat  ccharter      income  \\\n",
       "0     157.930   182.930  0.0678  0.0503  0.2601    0.5391  7083.33170   \n",
       "1      10.534    34.534  0.1049  0.0451  0.1574    0.4671  1249.99980   \n",
       "2      24.334    59.334  0.5333  0.4522  0.2413    1.0266  3749.99990   \n",
       "3      55.930    84.930  0.0678  0.0789  0.1643    0.5391  2083.33320   \n",
       "4      41.514    71.014  0.0678  0.0503  0.1082    0.3240  4583.33200   \n",
       "...       ...       ...     ...     ...     ...       ...         ...   \n",
       "1177  250.746   285.746  0.5333  0.4522  0.2413    1.0266  3749.99990   \n",
       "1178  392.946   427.946  0.5333  0.4522  0.2413    1.0266  6250.00130   \n",
       "1179  108.546   143.546  0.5333  0.4522  0.2413    1.0266  1249.99980   \n",
       "1180   61.146    96.146  0.5333  0.4522  0.1665    0.3975   416.66668   \n",
       "1181  235.436   260.436  0.2537  0.1498  0.6817    2.3014  6250.00130   \n",
       "\n",
       "      log_income  \n",
       "0       8.865500  \n",
       "1       7.130899  \n",
       "2       8.229511  \n",
       "3       7.641724  \n",
       "4       8.430182  \n",
       "...          ...  \n",
       "1177    8.229511  \n",
       "1178    8.740337  \n",
       "1179    7.130899  \n",
       "1180    6.032287  \n",
       "1181    8.740337  \n",
       "\n",
       "[1182 rows x 15 columns]"
      ]
     },
     "execution_count": 3,
     "metadata": {},
     "output_type": "execute_result"
    }
   ],
   "source": [
    "### YOUR CODE HERE ###\n",
    "import numpy as np\n",
    "dat['log_income'] = dat['income'].apply(lambda x: np.log(x))\n",
    "dat"
   ]
  },
  {
   "cell_type": "markdown",
   "metadata": {
    "colab_type": "text",
    "id": "OEX7QOpHjF-V"
   },
   "source": [
    "###  3\n",
    "\n",
    "Calculate for each respondent the absolute value of the deviation of `price` from `pbeach` and store the result in the `pdiff` column.\n"
   ]
  },
  {
   "cell_type": "code",
   "execution_count": 4,
   "metadata": {
    "colab": {},
    "colab_type": "code",
    "id": "WLaz3gmVjF-Y"
   },
   "outputs": [
    {
     "data": {
      "text/html": [
       "<div>\n",
       "<style scoped>\n",
       "    .dataframe tbody tr th:only-of-type {\n",
       "        vertical-align: middle;\n",
       "    }\n",
       "\n",
       "    .dataframe tbody tr th {\n",
       "        vertical-align: top;\n",
       "    }\n",
       "\n",
       "    .dataframe thead th {\n",
       "        text-align: right;\n",
       "    }\n",
       "</style>\n",
       "<table border=\"1\" class=\"dataframe\">\n",
       "  <thead>\n",
       "    <tr style=\"text-align: right;\">\n",
       "      <th></th>\n",
       "      <th>Unnamed: 0</th>\n",
       "      <th>Unnamed: 0.1</th>\n",
       "      <th>mode</th>\n",
       "      <th>price</th>\n",
       "      <th>catch</th>\n",
       "      <th>pbeach</th>\n",
       "      <th>ppier</th>\n",
       "      <th>pboat</th>\n",
       "      <th>pcharter</th>\n",
       "      <th>cbeach</th>\n",
       "      <th>cpier</th>\n",
       "      <th>cboat</th>\n",
       "      <th>ccharter</th>\n",
       "      <th>income</th>\n",
       "      <th>log_income</th>\n",
       "      <th>pdiff</th>\n",
       "    </tr>\n",
       "  </thead>\n",
       "  <tbody>\n",
       "    <tr>\n",
       "      <th>0</th>\n",
       "      <td>0</td>\n",
       "      <td>1</td>\n",
       "      <td>charter</td>\n",
       "      <td>182.930</td>\n",
       "      <td>0.5391</td>\n",
       "      <td>157.930</td>\n",
       "      <td>157.930</td>\n",
       "      <td>157.930</td>\n",
       "      <td>182.930</td>\n",
       "      <td>0.0678</td>\n",
       "      <td>0.0503</td>\n",
       "      <td>0.2601</td>\n",
       "      <td>0.5391</td>\n",
       "      <td>7083.33170</td>\n",
       "      <td>8.865500</td>\n",
       "      <td>25.000</td>\n",
       "    </tr>\n",
       "    <tr>\n",
       "      <th>1</th>\n",
       "      <td>1</td>\n",
       "      <td>2</td>\n",
       "      <td>charter</td>\n",
       "      <td>34.534</td>\n",
       "      <td>0.4671</td>\n",
       "      <td>15.114</td>\n",
       "      <td>15.114</td>\n",
       "      <td>10.534</td>\n",
       "      <td>34.534</td>\n",
       "      <td>0.1049</td>\n",
       "      <td>0.0451</td>\n",
       "      <td>0.1574</td>\n",
       "      <td>0.4671</td>\n",
       "      <td>1249.99980</td>\n",
       "      <td>7.130899</td>\n",
       "      <td>19.420</td>\n",
       "    </tr>\n",
       "    <tr>\n",
       "      <th>2</th>\n",
       "      <td>2</td>\n",
       "      <td>3</td>\n",
       "      <td>boat</td>\n",
       "      <td>24.334</td>\n",
       "      <td>0.2413</td>\n",
       "      <td>161.874</td>\n",
       "      <td>161.874</td>\n",
       "      <td>24.334</td>\n",
       "      <td>59.334</td>\n",
       "      <td>0.5333</td>\n",
       "      <td>0.4522</td>\n",
       "      <td>0.2413</td>\n",
       "      <td>1.0266</td>\n",
       "      <td>3749.99990</td>\n",
       "      <td>8.229511</td>\n",
       "      <td>137.540</td>\n",
       "    </tr>\n",
       "    <tr>\n",
       "      <th>3</th>\n",
       "      <td>3</td>\n",
       "      <td>4</td>\n",
       "      <td>pier</td>\n",
       "      <td>15.134</td>\n",
       "      <td>0.0789</td>\n",
       "      <td>15.134</td>\n",
       "      <td>15.134</td>\n",
       "      <td>55.930</td>\n",
       "      <td>84.930</td>\n",
       "      <td>0.0678</td>\n",
       "      <td>0.0789</td>\n",
       "      <td>0.1643</td>\n",
       "      <td>0.5391</td>\n",
       "      <td>2083.33320</td>\n",
       "      <td>7.641724</td>\n",
       "      <td>0.000</td>\n",
       "    </tr>\n",
       "    <tr>\n",
       "      <th>4</th>\n",
       "      <td>4</td>\n",
       "      <td>5</td>\n",
       "      <td>boat</td>\n",
       "      <td>41.514</td>\n",
       "      <td>0.1082</td>\n",
       "      <td>106.930</td>\n",
       "      <td>106.930</td>\n",
       "      <td>41.514</td>\n",
       "      <td>71.014</td>\n",
       "      <td>0.0678</td>\n",
       "      <td>0.0503</td>\n",
       "      <td>0.1082</td>\n",
       "      <td>0.3240</td>\n",
       "      <td>4583.33200</td>\n",
       "      <td>8.430182</td>\n",
       "      <td>65.416</td>\n",
       "    </tr>\n",
       "    <tr>\n",
       "      <th>...</th>\n",
       "      <td>...</td>\n",
       "      <td>...</td>\n",
       "      <td>...</td>\n",
       "      <td>...</td>\n",
       "      <td>...</td>\n",
       "      <td>...</td>\n",
       "      <td>...</td>\n",
       "      <td>...</td>\n",
       "      <td>...</td>\n",
       "      <td>...</td>\n",
       "      <td>...</td>\n",
       "      <td>...</td>\n",
       "      <td>...</td>\n",
       "      <td>...</td>\n",
       "      <td>...</td>\n",
       "      <td>...</td>\n",
       "    </tr>\n",
       "    <tr>\n",
       "      <th>1177</th>\n",
       "      <td>1177</td>\n",
       "      <td>1178</td>\n",
       "      <td>pier</td>\n",
       "      <td>150.236</td>\n",
       "      <td>0.4522</td>\n",
       "      <td>150.236</td>\n",
       "      <td>150.236</td>\n",
       "      <td>250.746</td>\n",
       "      <td>285.746</td>\n",
       "      <td>0.5333</td>\n",
       "      <td>0.4522</td>\n",
       "      <td>0.2413</td>\n",
       "      <td>1.0266</td>\n",
       "      <td>3749.99990</td>\n",
       "      <td>8.229511</td>\n",
       "      <td>0.000</td>\n",
       "    </tr>\n",
       "    <tr>\n",
       "      <th>1178</th>\n",
       "      <td>1178</td>\n",
       "      <td>1179</td>\n",
       "      <td>beach</td>\n",
       "      <td>235.436</td>\n",
       "      <td>0.5333</td>\n",
       "      <td>235.436</td>\n",
       "      <td>235.436</td>\n",
       "      <td>392.946</td>\n",
       "      <td>427.946</td>\n",
       "      <td>0.5333</td>\n",
       "      <td>0.4522</td>\n",
       "      <td>0.2413</td>\n",
       "      <td>1.0266</td>\n",
       "      <td>6250.00130</td>\n",
       "      <td>8.740337</td>\n",
       "      <td>0.000</td>\n",
       "    </tr>\n",
       "    <tr>\n",
       "      <th>1179</th>\n",
       "      <td>1179</td>\n",
       "      <td>1180</td>\n",
       "      <td>pier</td>\n",
       "      <td>65.036</td>\n",
       "      <td>0.4522</td>\n",
       "      <td>65.036</td>\n",
       "      <td>65.036</td>\n",
       "      <td>108.546</td>\n",
       "      <td>143.546</td>\n",
       "      <td>0.5333</td>\n",
       "      <td>0.4522</td>\n",
       "      <td>0.2413</td>\n",
       "      <td>1.0266</td>\n",
       "      <td>1249.99980</td>\n",
       "      <td>7.130899</td>\n",
       "      <td>0.000</td>\n",
       "    </tr>\n",
       "    <tr>\n",
       "      <th>1180</th>\n",
       "      <td>1180</td>\n",
       "      <td>1181</td>\n",
       "      <td>beach</td>\n",
       "      <td>36.636</td>\n",
       "      <td>0.5333</td>\n",
       "      <td>36.636</td>\n",
       "      <td>36.636</td>\n",
       "      <td>61.146</td>\n",
       "      <td>96.146</td>\n",
       "      <td>0.5333</td>\n",
       "      <td>0.4522</td>\n",
       "      <td>0.1665</td>\n",
       "      <td>0.3975</td>\n",
       "      <td>416.66668</td>\n",
       "      <td>6.032287</td>\n",
       "      <td>0.000</td>\n",
       "    </tr>\n",
       "    <tr>\n",
       "      <th>1181</th>\n",
       "      <td>1181</td>\n",
       "      <td>1182</td>\n",
       "      <td>boat</td>\n",
       "      <td>235.436</td>\n",
       "      <td>0.6817</td>\n",
       "      <td>339.890</td>\n",
       "      <td>339.890</td>\n",
       "      <td>235.436</td>\n",
       "      <td>260.436</td>\n",
       "      <td>0.2537</td>\n",
       "      <td>0.1498</td>\n",
       "      <td>0.6817</td>\n",
       "      <td>2.3014</td>\n",
       "      <td>6250.00130</td>\n",
       "      <td>8.740337</td>\n",
       "      <td>104.454</td>\n",
       "    </tr>\n",
       "  </tbody>\n",
       "</table>\n",
       "<p>1182 rows × 16 columns</p>\n",
       "</div>"
      ],
      "text/plain": [
       "      Unnamed: 0  Unnamed: 0.1     mode    price   catch   pbeach    ppier  \\\n",
       "0              0             1  charter  182.930  0.5391  157.930  157.930   \n",
       "1              1             2  charter   34.534  0.4671   15.114   15.114   \n",
       "2              2             3     boat   24.334  0.2413  161.874  161.874   \n",
       "3              3             4     pier   15.134  0.0789   15.134   15.134   \n",
       "4              4             5     boat   41.514  0.1082  106.930  106.930   \n",
       "...          ...           ...      ...      ...     ...      ...      ...   \n",
       "1177        1177          1178     pier  150.236  0.4522  150.236  150.236   \n",
       "1178        1178          1179    beach  235.436  0.5333  235.436  235.436   \n",
       "1179        1179          1180     pier   65.036  0.4522   65.036   65.036   \n",
       "1180        1180          1181    beach   36.636  0.5333   36.636   36.636   \n",
       "1181        1181          1182     boat  235.436  0.6817  339.890  339.890   \n",
       "\n",
       "        pboat  pcharter  cbeach   cpier   cboat  ccharter      income  \\\n",
       "0     157.930   182.930  0.0678  0.0503  0.2601    0.5391  7083.33170   \n",
       "1      10.534    34.534  0.1049  0.0451  0.1574    0.4671  1249.99980   \n",
       "2      24.334    59.334  0.5333  0.4522  0.2413    1.0266  3749.99990   \n",
       "3      55.930    84.930  0.0678  0.0789  0.1643    0.5391  2083.33320   \n",
       "4      41.514    71.014  0.0678  0.0503  0.1082    0.3240  4583.33200   \n",
       "...       ...       ...     ...     ...     ...       ...         ...   \n",
       "1177  250.746   285.746  0.5333  0.4522  0.2413    1.0266  3749.99990   \n",
       "1178  392.946   427.946  0.5333  0.4522  0.2413    1.0266  6250.00130   \n",
       "1179  108.546   143.546  0.5333  0.4522  0.2413    1.0266  1249.99980   \n",
       "1180   61.146    96.146  0.5333  0.4522  0.1665    0.3975   416.66668   \n",
       "1181  235.436   260.436  0.2537  0.1498  0.6817    2.3014  6250.00130   \n",
       "\n",
       "      log_income    pdiff  \n",
       "0       8.865500   25.000  \n",
       "1       7.130899   19.420  \n",
       "2       8.229511  137.540  \n",
       "3       7.641724    0.000  \n",
       "4       8.430182   65.416  \n",
       "...          ...      ...  \n",
       "1177    8.229511    0.000  \n",
       "1178    8.740337    0.000  \n",
       "1179    7.130899    0.000  \n",
       "1180    6.032287    0.000  \n",
       "1181    8.740337  104.454  \n",
       "\n",
       "[1182 rows x 16 columns]"
      ]
     },
     "execution_count": 4,
     "metadata": {},
     "output_type": "execute_result"
    }
   ],
   "source": [
    "### YOUR CODE HERE ###\n",
    "dat['log_income'] = dat['income'].apply(lambda x: np.log(x))\n",
    "abs_func = lambda x: abs(x)\n",
    "dat['pdiff'] = dat['price'] - dat['pbeach']\n",
    "dat['pdiff'] =dat['pdiff'].apply(abs_func)\n",
    "dat\n"
   ]
  },
  {
   "cell_type": "markdown",
   "metadata": {
    "colab_type": "text",
    "id": "u15HSI6SjF-f"
   },
   "source": [
    "###  4\n",
    "\n",
    "Group observations in the table according to type of fishing (`mode`) and display for each type the average price (`price`) that respondents paid for fishing.\n"
   ]
  },
  {
   "cell_type": "code",
   "execution_count": 4,
   "metadata": {
    "colab": {},
    "colab_type": "code",
    "id": "o2J6et18jF-j"
   },
   "outputs": [
    {
     "name": "stdout",
     "output_type": "stream",
     "text": [
      "mode\n",
      "beach      35.699493\n",
      "boat       41.606813\n",
      "charter    75.096942\n",
      "pier       30.571326\n",
      "Name: price, dtype: float64\n"
     ]
    }
   ],
   "source": [
    "### YOUR CODE HERE ###\n",
    "import pandas as pd\n",
    "import numpy as np\n",
    "\n",
    "dat = pd.read_csv('Fishing.csv', encoding = \"UTF-8\")\n",
    "abs_func = lambda x: abs(x)\n",
    "dat['pdiff'] = dat['price'] - dat['pbeach']\n",
    "dat['pdiff'] =dat['pdiff'].apply(abs_func)\n",
    "\n",
    "dat_mean = dat.groupby('mode')['price'].agg('mean')\n",
    "print(dat_mean)"
   ]
  },
  {
   "cell_type": "markdown",
   "metadata": {
    "colab_type": "text",
    "id": "KxeyzFlDjF-s"
   },
   "source": [
    "###  5\n",
    "\n",
    "Group observations in the table according to type of fishing (`mode`) and display for each type the difference between the median and average value of the price (`price`) that respondents paid for fishing.\n"
   ]
  },
  {
   "cell_type": "code",
   "execution_count": 5,
   "metadata": {
    "colab": {},
    "colab_type": "code",
    "id": "oBhzhp9AjF-u"
   },
   "outputs": [
    {
     "name": "stdout",
     "output_type": "stream",
     "text": [
      "mode\n",
      "beach     -16.391493\n",
      "boat      -17.004813\n",
      "charter   -18.226942\n",
      "pier      -13.942326\n",
      "Name: price, dtype: float64\n"
     ]
    }
   ],
   "source": [
    "### YOUR CODE HERE ###\n",
    "diff_func = lambda x: np.median(x) - np.mean(x)\n",
    "dat_diff = dat.groupby('mode')['price'].agg(diff_func)\n",
    "\n",
    "print(dat_diff)\n"
   ]
  },
  {
   "cell_type": "markdown",
   "metadata": {
    "colab_type": "text",
    "id": "I5xSKReCjF-3"
   },
   "source": [
    "### 6\n",
    "\n",
    "Group the observations in the table according to the type of fishing (`mode`) and save the received dataframes (one for each type of fishing) into separate csv-files. You should end up with four different csv files.\n"
   ]
  },
  {
   "cell_type": "code",
   "execution_count": 3,
   "metadata": {
    "colab": {},
    "colab_type": "code",
    "id": "HmIG6WIejF-6"
   },
   "outputs": [],
   "source": [
    "import pandas as pd\n",
    "import numpy as np\n",
    "dat = pd.read_csv('Fishing.csv', encoding = \"UTF-8\")\n",
    "dat['log_income'] = dat['income'].apply(lambda x: np.log(x))\n",
    "abs_func = lambda x: abs(x)\n",
    "dat['pdiff'] = dat['price'] - dat['pbeach']\n",
    "dat['pdiff'] =dat['pdiff'].apply(abs_func)\n",
    "dat_mean = dat.groupby('mode')['price'].agg('mean')\n",
    "diff_func = lambda x: np.median(x) - np.mean(x)\n",
    "dat_diff = dat.groupby('mode')['price'].agg(diff_func)\n",
    "# ****************************************************************\n",
    "for name, data in dat.groupby(\"mode\"):\n",
    "    data.to_csv('{}.csv'.format(name)) "
   ]
  },
  {
   "cell_type": "code",
   "execution_count": 7,
   "metadata": {
    "colab": {},
    "colab_type": "code",
    "id": "Pqu3iSoUjF_E"
   },
   "outputs": [],
   "source": [
    "dat.to_csv(\"Fish.csv\")"
   ]
  },
  {
   "cell_type": "code",
   "execution_count": null,
   "metadata": {
    "colab": {},
    "colab_type": "code",
    "id": "5q4QrwSjjF_M",
    "outputId": "4cefdb62-1fd9-4983-e5b6-932a4dbd4f35"
   },
   "outputs": [
    {
     "data": {
      "text/plain": [
       "'my_file.xlsx'"
      ]
     },
     "execution_count": 1,
     "metadata": {
      "tags": []
     },
     "output_type": "execute_result"
    }
   ],
   "source": [
    "\"my_file\" + \".xlsx\""
   ]
  },
  {
   "cell_type": "markdown",
   "metadata": {
    "colab_type": "text",
    "id": "0-2KFE5GjF_Z"
   },
   "source": [
    "### 7\n",
    "\n",
    "Sort the rows in the dataframe according to the `income` values in descending order so that the sort results are preserved in the original dataframe.\n"
   ]
  },
  {
   "cell_type": "code",
   "execution_count": 8,
   "metadata": {
    "colab": {},
    "colab_type": "code",
    "id": "oFzcnf6YjF_a"
   },
   "outputs": [
    {
     "name": "stdout",
     "output_type": "stream",
     "text": [
      "      Unnamed: 0  Unnamed: 0.1     mode    price   catch   pbeach    ppier  \\\n",
      "524          524           525  charter  240.586  0.5391  167.374  167.374   \n",
      "130          130           131     boat   94.740  0.0108  205.270  205.270   \n",
      "932          932           933     boat   37.896  0.0531  227.376  227.376   \n",
      "36            36            37     pier  120.004  0.0789  120.004  120.004   \n",
      "377          377           378     boat  328.432  0.0023  511.596  511.596   \n",
      "...          ...           ...      ...      ...     ...      ...      ...   \n",
      "1157        1157          1158     pier    1.290  0.4522    1.290    1.290   \n",
      "1002        1002          1003     boat    3.096  0.0531   18.576   18.576   \n",
      "85            85            86     boat   39.474  0.6817    8.514    8.514   \n",
      "199          199           200  charter   50.398  0.1176   22.704   22.704   \n",
      "1013        1013          1014    beach    1.290  0.5333    1.290    1.290   \n",
      "\n",
      "        pboat  pcharter  cbeach   cpier   cboat  ccharter       income  \\\n",
      "524   211.586   240.586  0.0678  0.0789  0.1643    0.5391  12499.99800   \n",
      "130    94.740   129.740  0.0678  0.0025  0.0108    0.2377  12499.99800   \n",
      "932    37.896    62.896  0.2537  0.1498  0.0531    0.0052  12499.99800   \n",
      "36    252.640   281.640  0.0678  0.0789  0.0014    0.0029  12499.99800   \n",
      "377   328.432   352.432  0.1049  0.0451  0.0023    0.0046  12499.99800   \n",
      "...       ...       ...     ...     ...     ...       ...          ...   \n",
      "1157   39.990    74.990  0.5333  0.4522  0.1665    0.3975    416.66668   \n",
      "1002    3.096    28.096  0.2537  0.1498  0.0531    0.0052    416.66668   \n",
      "85     39.474    64.474  0.2537  0.1498  0.6817    2.3014    416.66668   \n",
      "199    20.898    50.398  0.0678  0.0503  0.0016    0.1176    416.66668   \n",
      "1013   39.990    74.990  0.5333  0.4522  0.2413    1.0266    416.66668   \n",
      "\n",
      "        pdiff  \n",
      "524    73.212  \n",
      "130   110.530  \n",
      "932   189.480  \n",
      "36      0.000  \n",
      "377   183.164  \n",
      "...       ...  \n",
      "1157    0.000  \n",
      "1002   15.480  \n",
      "85     30.960  \n",
      "199    27.694  \n",
      "1013    0.000  \n",
      "\n",
      "[1182 rows x 15 columns]\n"
     ]
    }
   ],
   "source": [
    "### YOUR CODE HERE ###\n",
    "dat = dat.sort_values('income', ascending=False)\n",
    "print(dat)"
   ]
  },
  {
   "cell_type": "markdown",
   "metadata": {
    "colab_type": "text",
    "id": "OBEI5NDFjF_e"
   },
   "source": [
    "###  8\n",
    "\n",
    "Sort the rows in the dataframe according to the `price` and `income` values ​​in ascending order. Would it be fair to say that people with lower incomes who chose the cheaper type of fishing generally prefer one type of fishing, while people with higher incomes and more expensive fishing prefer the other? Write your answer as a text cell or as a comment.\n"
   ]
  },
  {
   "cell_type": "code",
   "execution_count": 9,
   "metadata": {
    "colab": {},
    "colab_type": "code",
    "id": "k5CTodiMjF_g"
   },
   "outputs": [
    {
     "name": "stdout",
     "output_type": "stream",
     "text": [
      "      Unnamed: 0  Unnamed: 0.1     mode    price   catch   pbeach    ppier  \\\n",
      "1105        1105          1106     pier    1.290  0.4522    1.290    1.290   \n",
      "1157        1157          1158     pier    1.290  0.4522    1.290    1.290   \n",
      "1013        1013          1014    beach    1.290  0.5333    1.290    1.290   \n",
      "275          275           276     pier    2.290  0.0789    2.290    2.290   \n",
      "1155        1155          1156     pier    2.290  0.4522    2.290    2.290   \n",
      "...          ...           ...      ...      ...     ...      ...      ...   \n",
      "377          377           378     boat  328.432  0.0023  511.596  511.596   \n",
      "588          588           589  charter  330.072  0.0052  106.112  106.112   \n",
      "446          446           447  charter  335.314  1.0266  578.048  578.048   \n",
      "211          211           212  charter  387.208  2.3014  115.248  115.248   \n",
      "249          249           250     boat  666.110  0.0531  359.022  359.022   \n",
      "\n",
      "        pboat  pcharter  cbeach   cpier   cboat  ccharter       income  \\\n",
      "1105   39.990    74.990  0.5333  0.4522  0.0051    1.0266    416.66668   \n",
      "1157   39.990    74.990  0.5333  0.4522  0.1665    0.3975    416.66668   \n",
      "1013   39.990    74.990  0.5333  0.4522  0.2413    1.0266    416.66668   \n",
      "275     2.290    31.290  0.0678  0.0789  0.0971    0.1648   1249.99980   \n",
      "1155   70.990   105.990  0.5333  0.4522  0.2413    1.0266   1249.99980   \n",
      "...       ...       ...     ...     ...     ...       ...          ...   \n",
      "377   328.432   352.432  0.1049  0.0451  0.0023    0.0046  12499.99800   \n",
      "588   305.072   330.072  0.2537  0.1498  0.0531    0.0052   6250.00130   \n",
      "446   300.314   335.314  0.5333  0.4522  0.2413    1.0266   8750.00100   \n",
      "211   362.208   387.208  0.2537  0.1498  0.6817    2.3014   7916.66630   \n",
      "249   666.110   691.110  0.2537  0.1498  0.0531    0.0052   8750.00100   \n",
      "\n",
      "        pdiff  \n",
      "1105    0.000  \n",
      "1157    0.000  \n",
      "1013    0.000  \n",
      "275     0.000  \n",
      "1155    0.000  \n",
      "...       ...  \n",
      "377   183.164  \n",
      "588   223.960  \n",
      "446   242.734  \n",
      "211   271.960  \n",
      "249   307.088  \n",
      "\n",
      "[1182 rows x 15 columns]\n"
     ]
    }
   ],
   "source": [
    "### YOUR CODE HERE ###\n",
    "dat = dat.sort_values(['price', 'income'])\n",
    "print(dat)"
   ]
  },
  {
   "cell_type": "markdown",
   "metadata": {
    "colab_type": "text",
    "id": "MFxbxsb9jF_n"
   },
   "source": [
    "###  9\n",
    "\n",
    "Any known way to check if there are missing values in the dataframe. If there are, remove rows with missing values. If not, write a comment that there are none.\n"
   ]
  },
  {
   "cell_type": "code",
   "execution_count": 4,
   "metadata": {
    "colab": {},
    "colab_type": "code",
    "id": "VBlnzIiyjF_o"
   },
   "outputs": [
    {
     "name": "stdout",
     "output_type": "stream",
     "text": [
      "Нет пустых значений\n"
     ]
    }
   ],
   "source": [
    "### YOUR CODE HERE ###\n",
    "if dat.isnull().values.any() == 0:\n",
    "    print('No empty values')\n",
    "else:\n",
    "    dat.dropna()\n",
    "    print('Deleted')"
   ]
  },
  {
   "cell_type": "markdown",
   "metadata": {
    "colab_type": "text",
    "id": "jeFnySMWjF_s"
   },
   "source": [
    ".<br> .<br> .<br> .<br> .<br> .<br> .<br> .<br> .<br> .<br> .<br> .<br> .<br> .<br> .<br> .<br> .<br> .<br> \n",
    "# Additional task.\n",
    "<br>"
   ]
  },
  {
   "cell_type": "markdown",
   "metadata": {
    "colab_type": "text",
    "id": "4HEGeC5MjF_t"
   },
   "source": [
    "###  1\n",
    "\n",
    "Load the dataframe from the `wgi_fh.csv` file, considering that the column separator is a semicolon and the decimal separator is a comma (options `sep=` and `decimal=` in the `read_csv()` function, respectively).\n",
    "\n",
    "The file contains data for 2016 on various political science indexes. The dataframe contains the following columns:\n",
    "\n",
    "* `country`: country;\n",
    "* `cnt_code`: country code (abbreviation);\n",
    "* `year`: year;\n",
    "* `va`: *Voice & Accountability (WGI)*;\n",
    "* `ps`: political stability index *Political Stability and Lack of Violence (WGI)*;\n",
    "* `ge`: *Government Effectiveness (WGI)*;\n",
    "* `rq`: *Regulatory Quality (WGI)* index;\n",
    "* `rl`: *Rule of Law (WGI)* index;\n",
    "* `cc`: *Control of Corruption (WGI)* index;\n",
    "* `fh`: *Freedom House (Freedom Rating)* freedom index.\n",
    "\n",
    "You can read more about indexes here [page](https://www.hse.ru/org/hse/4432173/mathbase/databases/db_18)."
   ]
  },
  {
   "cell_type": "code",
   "execution_count": 2,
   "metadata": {
    "colab": {},
    "colab_type": "code",
    "id": "aQnqZrDYjF_v"
   },
   "outputs": [
    {
     "name": "stdout",
     "output_type": "stream",
     "text": [
      "              country cnt_code  year    va    ps    ge    rq    rl    cc   fh\n",
      "0               Aruba      ABW  2016  1.27  1.28  0.90  1.35  1.29  1.29  NaN\n",
      "1             Andorra      ADO  2016  1.20  1.40  1.86  0.87  1.56  1.23  1.0\n",
      "2         Afghanistan      AFG  2016 -1.09 -2.75 -1.22 -1.33 -1.62 -1.56  6.0\n",
      "3              Angola      AGO  2016 -1.17 -0.39 -1.04 -1.00 -1.08 -1.41  6.0\n",
      "4            Anguilla      AIA  2016   NaN  1.31  1.33  0.87 -0.09  1.23  NaN\n",
      "..                ...      ...   ...   ...   ...   ...   ...   ...   ...  ...\n",
      "209            Serbia      SRB  2016  0.21  0.05  0.09  0.06 -0.12 -0.31  2.0\n",
      "210      South Africa      ZAF  2016  0.64 -0.13  0.27  0.21  0.07  0.05  2.0\n",
      "211  Congo, Dem. Rep.      ZAR  2016 -1.39 -2.20 -1.51 -1.32 -1.61 -1.33  6.0\n",
      "212            Zambia      ZMB  2016 -0.30  0.18 -0.66 -0.48 -0.30 -0.40  3.5\n",
      "213          Zimbabwe      ZWE  2016 -1.11 -0.61 -1.16 -1.72 -1.32 -1.28  5.0\n",
      "\n",
      "[214 rows x 10 columns]\n"
     ]
    }
   ],
   "source": [
    "### YOUR CODE HERE ###\n",
    "import pandas as pd\n",
    "in_df = pd.read_csv('wgi_fh.csv', sep= ';', decimal=',')\n",
    "print(in_df)"
   ]
  },
  {
   "cell_type": "markdown",
   "metadata": {
    "colab_type": "text",
    "id": "njU246bujF_y"
   },
   "source": [
    "###  2\n",
    "\n",
    "Display general information on the dataframe: number of rows and columns, data types in the table. Are there any missing values in the table? Provide code and answer as a comment.\n"
   ]
  },
  {
   "cell_type": "code",
   "execution_count": 3,
   "metadata": {
    "colab": {},
    "colab_type": "code",
    "id": "W9TiFV3TjF_0"
   },
   "outputs": [
    {
     "name": "stdout",
     "output_type": "stream",
     "text": [
      "<class 'pandas.core.frame.DataFrame'>\n",
      "RangeIndex: 214 entries, 0 to 213\n",
      "Data columns (total 10 columns):\n",
      " #   Column    Non-Null Count  Dtype  \n",
      "---  ------    --------------  -----  \n",
      " 0   country   214 non-null    object \n",
      " 1   cnt_code  214 non-null    object \n",
      " 2   year      214 non-null    int64  \n",
      " 3   va        204 non-null    float64\n",
      " 4   ps        211 non-null    float64\n",
      " 5   ge        209 non-null    float64\n",
      " 6   rq        209 non-null    float64\n",
      " 7   rl        209 non-null    float64\n",
      " 8   cc        209 non-null    float64\n",
      " 9   fh        197 non-null    float64\n",
      "dtypes: float64(7), int64(1), object(2)\n",
      "memory usage: 16.8+ KB\n",
      "Rows number is: 214 \n",
      "Columns number is: 10 \n",
      "Null elements are:  True\n"
     ]
    }
   ],
   "source": [
    "### YOUR CODE HERE ###\n",
    "num_rows = in_df.shape[0]\n",
    "num_col = in_df.shape[1]\n",
    "in_df_info = in_df.info()\n",
    "num_null = in_df.isnull().values.any()\n",
    "\n",
    "print('Rows number is:', num_rows, '\\nColumns number is:', num_col,'\\nNull elements are: ', num_null)"
   ]
  },
  {
   "cell_type": "markdown",
   "metadata": {
    "colab_type": "text",
    "id": "7s_WD8DTjF_6"
   },
   "source": [
    "###  3\n",
    "\n",
    "If there are rows with missing values in the dataframe, remove them. Save changes to the original dataframe.\n"
   ]
  },
  {
   "cell_type": "code",
   "execution_count": 4,
   "metadata": {
    "colab": {},
    "colab_type": "code",
    "id": "HbyEb_fwjF_7"
   },
   "outputs": [
    {
     "name": "stdout",
     "output_type": "stream",
     "text": [
      "              country cnt_code  year    va    ps    ge    rq    rl    cc   fh\n",
      "1             Andorra      ADO  2016  1.20  1.40  1.86  0.87  1.56  1.23  1.0\n",
      "2         Afghanistan      AFG  2016 -1.09 -2.75 -1.22 -1.33 -1.62 -1.56  6.0\n",
      "3              Angola      AGO  2016 -1.17 -0.39 -1.04 -1.00 -1.08 -1.41  6.0\n",
      "5             Albania      ALB  2016  0.16  0.26  0.00  0.19 -0.35 -0.40  3.0\n",
      "8           Argentina      ARG  2016  0.54  0.22  0.18 -0.47 -0.35 -0.31  2.0\n",
      "..                ...      ...   ...   ...   ...   ...   ...   ...   ...  ...\n",
      "209            Serbia      SRB  2016  0.21  0.05  0.09  0.06 -0.12 -0.31  2.0\n",
      "210      South Africa      ZAF  2016  0.64 -0.13  0.27  0.21  0.07  0.05  2.0\n",
      "211  Congo, Dem. Rep.      ZAR  2016 -1.39 -2.20 -1.51 -1.32 -1.61 -1.33  6.0\n",
      "212            Zambia      ZMB  2016 -0.30  0.18 -0.66 -0.48 -0.30 -0.40  3.5\n",
      "213          Zimbabwe      ZWE  2016 -1.11 -0.61 -1.16 -1.72 -1.32 -1.28  5.0\n",
      "\n",
      "[195 rows x 10 columns]\n"
     ]
    }
   ],
   "source": [
    "### YOUR CODE HERE ###\n",
    "if in_df.isnull().values.any():\n",
    "    in_df = in_df.dropna()\n",
    "else:\n",
    "    print('No empty values')\n",
    "print(in_df)"
   ]
  },
  {
   "cell_type": "markdown",
   "metadata": {
    "colab_type": "text",
    "id": "T5YfVjHwjF__"
   },
   "source": [
    "###  4\n",
    "\n",
    "Name the rows in the dataframe according to the `cnt_code` column. Remove the given column from the dataframe.\n"
   ]
  },
  {
   "cell_type": "code",
   "execution_count": 5,
   "metadata": {
    "colab": {},
    "colab_type": "code",
    "id": "e4mX0KCIjF__"
   },
   "outputs": [
    {
     "name": "stdout",
     "output_type": "stream",
     "text": [
      "                   country  year    va    ps    ge    rq    rl    cc   fh\n",
      "cnt_code                                                                 \n",
      "ADO                Andorra  2016  1.20  1.40  1.86  0.87  1.56  1.23  1.0\n",
      "AFG            Afghanistan  2016 -1.09 -2.75 -1.22 -1.33 -1.62 -1.56  6.0\n",
      "AGO                 Angola  2016 -1.17 -0.39 -1.04 -1.00 -1.08 -1.41  6.0\n",
      "ALB                Albania  2016  0.16  0.26  0.00  0.19 -0.35 -0.40  3.0\n",
      "ARG              Argentina  2016  0.54  0.22  0.18 -0.47 -0.35 -0.31  2.0\n",
      "...                    ...   ...   ...   ...   ...   ...   ...   ...  ...\n",
      "SRB                 Serbia  2016  0.21  0.05  0.09  0.06 -0.12 -0.31  2.0\n",
      "ZAF           South Africa  2016  0.64 -0.13  0.27  0.21  0.07  0.05  2.0\n",
      "ZAR       Congo, Dem. Rep.  2016 -1.39 -2.20 -1.51 -1.32 -1.61 -1.33  6.0\n",
      "ZMB                 Zambia  2016 -0.30  0.18 -0.66 -0.48 -0.30 -0.40  3.5\n",
      "ZWE               Zimbabwe  2016 -1.11 -0.61 -1.16 -1.72 -1.32 -1.28  5.0\n",
      "\n",
      "[195 rows x 9 columns]\n"
     ]
    }
   ],
   "source": [
    "### YOUR CODE HERE ###\n",
    "in_df = in_df.set_index(['cnt_code'])\n",
    "print(in_df)"
   ]
  },
  {
   "cell_type": "markdown",
   "metadata": {
    "colab_type": "text",
    "id": "vrvfA7sWjGAE"
   },
   "source": [
    "###  5\n",
    "\n",
    "Sort the rows in the table according to the values of the columns with indexes *Control of Corruption* and *Voice & Accountability* so that the sort results are saved immediately in the original dataframe.\n"
   ]
  },
  {
   "cell_type": "code",
   "execution_count": 6,
   "metadata": {
    "colab": {},
    "colab_type": "code",
    "id": "5tAViW2FjGAI"
   },
   "outputs": [
    {
     "name": "stdout",
     "output_type": "stream",
     "text": [
      "                    country  year    va    ps    ge    rq    rl    cc   fh\n",
      "cnt_code                                                                  \n",
      "GNQ       Equatorial Guinea  2016 -1.93 -0.19 -1.41 -1.38 -1.44 -1.81  7.0\n",
      "SOM                 Somalia  2016 -1.83 -2.33 -2.18 -2.27 -2.37 -1.69  7.0\n",
      "YEM             Yemen, Rep.  2016 -1.65 -2.79 -1.82 -1.48 -1.60 -1.67  6.5\n",
      "SDN                   Sudan  2016 -1.80 -2.38 -1.41 -1.49 -1.26 -1.61  7.0\n",
      "SSD             South Sudan  2016 -1.67 -2.42 -2.26 -1.86 -1.69 -1.58  6.5\n",
      "...                     ...   ...   ...   ...   ...   ...   ...   ...  ...\n",
      "NOR                  Norway  2016  1.58  1.17  1.88  1.70  2.02  2.20  1.0\n",
      "SWE                  Sweden  2016  1.50  0.98  1.79  1.85  2.04  2.22  1.0\n",
      "DNK                 Denmark  2016  1.47  0.85  1.89  1.58  1.90  2.24  1.0\n",
      "FIN                 Finland  2016  1.49  0.96  1.85  1.82  2.02  2.28  1.0\n",
      "NZL             New Zealand  2016  1.44  1.49  1.86  2.04  1.93  2.30  1.0\n",
      "\n",
      "[195 rows x 9 columns]\n"
     ]
    }
   ],
   "source": [
    "### YOUR CODE HERE ###\n",
    "in_df = in_df.sort_values(['cc', 'va'])\n",
    "print(in_df)"
   ]
  },
  {
   "cell_type": "markdown",
   "metadata": {
    "colab_type": "text",
    "id": "t-Dva5hwjGAM"
   },
   "source": [
    "###  6\n",
    "\n",
    "Using the `.apply()` method, create a `cc_round` column with *Control of Corruption* index values rounded to the first decimal place.\n"
   ]
  },
  {
   "cell_type": "code",
   "execution_count": 7,
   "metadata": {
    "colab": {},
    "colab_type": "code",
    "id": "yJZsJOfMjGAN"
   },
   "outputs": [
    {
     "data": {
      "text/html": [
       "<div>\n",
       "<style scoped>\n",
       "    .dataframe tbody tr th:only-of-type {\n",
       "        vertical-align: middle;\n",
       "    }\n",
       "\n",
       "    .dataframe tbody tr th {\n",
       "        vertical-align: top;\n",
       "    }\n",
       "\n",
       "    .dataframe thead th {\n",
       "        text-align: right;\n",
       "    }\n",
       "</style>\n",
       "<table border=\"1\" class=\"dataframe\">\n",
       "  <thead>\n",
       "    <tr style=\"text-align: right;\">\n",
       "      <th></th>\n",
       "      <th>country</th>\n",
       "      <th>year</th>\n",
       "      <th>va</th>\n",
       "      <th>ps</th>\n",
       "      <th>ge</th>\n",
       "      <th>rq</th>\n",
       "      <th>rl</th>\n",
       "      <th>cc</th>\n",
       "      <th>fh</th>\n",
       "      <th>cc_round</th>\n",
       "    </tr>\n",
       "    <tr>\n",
       "      <th>cnt_code</th>\n",
       "      <th></th>\n",
       "      <th></th>\n",
       "      <th></th>\n",
       "      <th></th>\n",
       "      <th></th>\n",
       "      <th></th>\n",
       "      <th></th>\n",
       "      <th></th>\n",
       "      <th></th>\n",
       "      <th></th>\n",
       "    </tr>\n",
       "  </thead>\n",
       "  <tbody>\n",
       "    <tr>\n",
       "      <th>GNQ</th>\n",
       "      <td>Equatorial Guinea</td>\n",
       "      <td>2016</td>\n",
       "      <td>-1.93</td>\n",
       "      <td>-0.19</td>\n",
       "      <td>-1.41</td>\n",
       "      <td>-1.38</td>\n",
       "      <td>-1.44</td>\n",
       "      <td>-1.81</td>\n",
       "      <td>7.0</td>\n",
       "      <td>-1.8</td>\n",
       "    </tr>\n",
       "    <tr>\n",
       "      <th>SOM</th>\n",
       "      <td>Somalia</td>\n",
       "      <td>2016</td>\n",
       "      <td>-1.83</td>\n",
       "      <td>-2.33</td>\n",
       "      <td>-2.18</td>\n",
       "      <td>-2.27</td>\n",
       "      <td>-2.37</td>\n",
       "      <td>-1.69</td>\n",
       "      <td>7.0</td>\n",
       "      <td>-1.7</td>\n",
       "    </tr>\n",
       "    <tr>\n",
       "      <th>YEM</th>\n",
       "      <td>Yemen, Rep.</td>\n",
       "      <td>2016</td>\n",
       "      <td>-1.65</td>\n",
       "      <td>-2.79</td>\n",
       "      <td>-1.82</td>\n",
       "      <td>-1.48</td>\n",
       "      <td>-1.60</td>\n",
       "      <td>-1.67</td>\n",
       "      <td>6.5</td>\n",
       "      <td>-1.7</td>\n",
       "    </tr>\n",
       "    <tr>\n",
       "      <th>SDN</th>\n",
       "      <td>Sudan</td>\n",
       "      <td>2016</td>\n",
       "      <td>-1.80</td>\n",
       "      <td>-2.38</td>\n",
       "      <td>-1.41</td>\n",
       "      <td>-1.49</td>\n",
       "      <td>-1.26</td>\n",
       "      <td>-1.61</td>\n",
       "      <td>7.0</td>\n",
       "      <td>-1.6</td>\n",
       "    </tr>\n",
       "    <tr>\n",
       "      <th>SSD</th>\n",
       "      <td>South Sudan</td>\n",
       "      <td>2016</td>\n",
       "      <td>-1.67</td>\n",
       "      <td>-2.42</td>\n",
       "      <td>-2.26</td>\n",
       "      <td>-1.86</td>\n",
       "      <td>-1.69</td>\n",
       "      <td>-1.58</td>\n",
       "      <td>6.5</td>\n",
       "      <td>-1.6</td>\n",
       "    </tr>\n",
       "    <tr>\n",
       "      <th>...</th>\n",
       "      <td>...</td>\n",
       "      <td>...</td>\n",
       "      <td>...</td>\n",
       "      <td>...</td>\n",
       "      <td>...</td>\n",
       "      <td>...</td>\n",
       "      <td>...</td>\n",
       "      <td>...</td>\n",
       "      <td>...</td>\n",
       "      <td>...</td>\n",
       "    </tr>\n",
       "    <tr>\n",
       "      <th>NOR</th>\n",
       "      <td>Norway</td>\n",
       "      <td>2016</td>\n",
       "      <td>1.58</td>\n",
       "      <td>1.17</td>\n",
       "      <td>1.88</td>\n",
       "      <td>1.70</td>\n",
       "      <td>2.02</td>\n",
       "      <td>2.20</td>\n",
       "      <td>1.0</td>\n",
       "      <td>2.2</td>\n",
       "    </tr>\n",
       "    <tr>\n",
       "      <th>SWE</th>\n",
       "      <td>Sweden</td>\n",
       "      <td>2016</td>\n",
       "      <td>1.50</td>\n",
       "      <td>0.98</td>\n",
       "      <td>1.79</td>\n",
       "      <td>1.85</td>\n",
       "      <td>2.04</td>\n",
       "      <td>2.22</td>\n",
       "      <td>1.0</td>\n",
       "      <td>2.2</td>\n",
       "    </tr>\n",
       "    <tr>\n",
       "      <th>DNK</th>\n",
       "      <td>Denmark</td>\n",
       "      <td>2016</td>\n",
       "      <td>1.47</td>\n",
       "      <td>0.85</td>\n",
       "      <td>1.89</td>\n",
       "      <td>1.58</td>\n",
       "      <td>1.90</td>\n",
       "      <td>2.24</td>\n",
       "      <td>1.0</td>\n",
       "      <td>2.2</td>\n",
       "    </tr>\n",
       "    <tr>\n",
       "      <th>FIN</th>\n",
       "      <td>Finland</td>\n",
       "      <td>2016</td>\n",
       "      <td>1.49</td>\n",
       "      <td>0.96</td>\n",
       "      <td>1.85</td>\n",
       "      <td>1.82</td>\n",
       "      <td>2.02</td>\n",
       "      <td>2.28</td>\n",
       "      <td>1.0</td>\n",
       "      <td>2.3</td>\n",
       "    </tr>\n",
       "    <tr>\n",
       "      <th>NZL</th>\n",
       "      <td>New Zealand</td>\n",
       "      <td>2016</td>\n",
       "      <td>1.44</td>\n",
       "      <td>1.49</td>\n",
       "      <td>1.86</td>\n",
       "      <td>2.04</td>\n",
       "      <td>1.93</td>\n",
       "      <td>2.30</td>\n",
       "      <td>1.0</td>\n",
       "      <td>2.3</td>\n",
       "    </tr>\n",
       "  </tbody>\n",
       "</table>\n",
       "<p>195 rows × 10 columns</p>\n",
       "</div>"
      ],
      "text/plain": [
       "                    country  year    va    ps    ge    rq    rl    cc   fh  \\\n",
       "cnt_code                                                                     \n",
       "GNQ       Equatorial Guinea  2016 -1.93 -0.19 -1.41 -1.38 -1.44 -1.81  7.0   \n",
       "SOM                 Somalia  2016 -1.83 -2.33 -2.18 -2.27 -2.37 -1.69  7.0   \n",
       "YEM             Yemen, Rep.  2016 -1.65 -2.79 -1.82 -1.48 -1.60 -1.67  6.5   \n",
       "SDN                   Sudan  2016 -1.80 -2.38 -1.41 -1.49 -1.26 -1.61  7.0   \n",
       "SSD             South Sudan  2016 -1.67 -2.42 -2.26 -1.86 -1.69 -1.58  6.5   \n",
       "...                     ...   ...   ...   ...   ...   ...   ...   ...  ...   \n",
       "NOR                  Norway  2016  1.58  1.17  1.88  1.70  2.02  2.20  1.0   \n",
       "SWE                  Sweden  2016  1.50  0.98  1.79  1.85  2.04  2.22  1.0   \n",
       "DNK                 Denmark  2016  1.47  0.85  1.89  1.58  1.90  2.24  1.0   \n",
       "FIN                 Finland  2016  1.49  0.96  1.85  1.82  2.02  2.28  1.0   \n",
       "NZL             New Zealand  2016  1.44  1.49  1.86  2.04  1.93  2.30  1.0   \n",
       "\n",
       "          cc_round  \n",
       "cnt_code            \n",
       "GNQ           -1.8  \n",
       "SOM           -1.7  \n",
       "YEM           -1.7  \n",
       "SDN           -1.6  \n",
       "SSD           -1.6  \n",
       "...            ...  \n",
       "NOR            2.2  \n",
       "SWE            2.2  \n",
       "DNK            2.2  \n",
       "FIN            2.3  \n",
       "NZL            2.3  \n",
       "\n",
       "[195 rows x 10 columns]"
      ]
     },
     "execution_count": 7,
     "metadata": {},
     "output_type": "execute_result"
    }
   ],
   "source": [
    "### YOUR CODE HERE ###\n",
    "round_f = lambda x: round(x, 1)\n",
    "\n",
    "in_df['cc_round'] = in_df['cc'].apply(round_f)\n",
    "\n",
    "in_df"
   ]
  },
  {
   "cell_type": "markdown",
   "metadata": {
    "colab_type": "text",
    "id": "RseUYnUqjGAP"
   },
   "source": [
    "###  7\n",
    "\n",
    "Add a `fh_status` column to the dataframe, which will store country types depending on the *Freedom House* index value (country type values: `\"free\"`, `\"partly free\"`, `\"not free\"`).\n",
    "See Table 3 at the end for the mapping of `fh` values to country types [here](https://freedomhouse.org/sites/default/files/2020-02/Methodology_FIW_2016.pdf) page.\n",
    "\n"
   ]
  },
  {
   "cell_type": "code",
   "execution_count": 8,
   "metadata": {
    "colab": {},
    "colab_type": "code",
    "id": "1MJxDyU1jGAQ"
   },
   "outputs": [
    {
     "name": "stdout",
     "output_type": "stream",
     "text": [
      "                    country  year    va    ps    ge    rq    rl    cc   fh  \\\n",
      "cnt_code                                                                     \n",
      "GNQ       Equatorial Guinea  2016 -1.93 -0.19 -1.41 -1.38 -1.44 -1.81  7.0   \n",
      "SOM                 Somalia  2016 -1.83 -2.33 -2.18 -2.27 -2.37 -1.69  7.0   \n",
      "YEM             Yemen, Rep.  2016 -1.65 -2.79 -1.82 -1.48 -1.60 -1.67  6.5   \n",
      "SDN                   Sudan  2016 -1.80 -2.38 -1.41 -1.49 -1.26 -1.61  7.0   \n",
      "SSD             South Sudan  2016 -1.67 -2.42 -2.26 -1.86 -1.69 -1.58  6.5   \n",
      "...                     ...   ...   ...   ...   ...   ...   ...   ...  ...   \n",
      "NOR                  Norway  2016  1.58  1.17  1.88  1.70  2.02  2.20  1.0   \n",
      "SWE                  Sweden  2016  1.50  0.98  1.79  1.85  2.04  2.22  1.0   \n",
      "DNK                 Denmark  2016  1.47  0.85  1.89  1.58  1.90  2.24  1.0   \n",
      "FIN                 Finland  2016  1.49  0.96  1.85  1.82  2.02  2.28  1.0   \n",
      "NZL             New Zealand  2016  1.44  1.49  1.86  2.04  1.93  2.30  1.0   \n",
      "\n",
      "          cc_round fh_status  \n",
      "cnt_code                      \n",
      "GNQ           -1.8  not free  \n",
      "SOM           -1.7  not free  \n",
      "YEM           -1.7  not free  \n",
      "SDN           -1.6  not free  \n",
      "SSD           -1.6  not free  \n",
      "...            ...       ...  \n",
      "NOR            2.2      free  \n",
      "SWE            2.2      free  \n",
      "DNK            2.2      free  \n",
      "FIN            2.3      free  \n",
      "NZL            2.3      free  \n",
      "\n",
      "[195 rows x 11 columns]\n"
     ]
    }
   ],
   "source": [
    "### YOUR CODE HERE ###\n",
    "def distinguish(el):\n",
    "    if (el >= 1.0) & (el <= 2.5):\n",
    "        return 'free'\n",
    "    elif (el >= 3.0) & (el <= 5.0):\n",
    "        return 'partly free'\n",
    "    else:\n",
    "        return 'not free'\n",
    "\n",
    "\n",
    "in_df['fh_status'] = in_df['fh'].apply(distinguish)\n",
    "print(in_df)"
   ]
  },
  {
   "cell_type": "markdown",
   "metadata": {
    "colab_type": "text",
    "id": "qwCG-4vqjGAT"
   },
   "source": [
    "### Задание 8\n",
    "\n",
    "Сгруппировать строки в датафрейме в соответствии со значениями столбца `fh_status`, полученного в предыдущем задании и вывести минимальное, среднее и максимальное значение показателя *Political Stability and Lack of Violence* по каждой группе."
   ]
  },
  {
   "cell_type": "code",
   "execution_count": 10,
   "metadata": {
    "colab": {},
    "colab_type": "code",
    "id": "K3M5g1LqjGAV"
   },
   "outputs": [
    {
     "name": "stdout",
     "output_type": "stream",
     "text": [
      "             year                va                    ps                  \\\n",
      "              min   max  mean   min   max      mean   min   max      mean   \n",
      "fh_status                                                                   \n",
      "free         2016  2016  2016  0.21  1.58  0.904235 -0.99  1.49  0.619059   \n",
      "not free     2016  2016  2016 -2.13 -0.71 -1.380600 -2.91  1.26 -0.875800   \n",
      "partly free  2016  2016  2016 -1.13  0.49 -0.238000 -2.47  1.53 -0.424000   \n",
      "\n",
      "               ge  ...        rl    cc                   fh                 \\\n",
      "              min  ...      mean   min   max      mean  min  max      mean   \n",
      "fh_status          ...                                                       \n",
      "free        -1.56  ...  0.672353 -0.57  2.30  0.649059  1.0  2.5  1.435294   \n",
      "not free    -2.26  ... -0.821800 -1.81  0.92 -0.810400  5.5  7.0  6.160000   \n",
      "partly free -2.06  ... -0.506500 -1.56  2.07 -0.488667  3.0  5.0  3.716667   \n",
      "\n",
      "            cc_round                 \n",
      "                 min  max      mean  \n",
      "fh_status                            \n",
      "free            -0.6  2.3  0.645882  \n",
      "not free        -1.8  0.9 -0.810000  \n",
      "partly free     -1.6  2.1 -0.490000  \n",
      "\n",
      "[3 rows x 27 columns]\n"
     ]
    }
   ],
   "source": [
    "### YOUR CODE HERE ###\n",
    "in_df_grouped = in_df.groupby('fh_status').agg(['min', 'max', 'mean'])\n",
    "\n",
    "print(in_df_grouped)"
   ]
  },
  {
   "cell_type": "markdown",
   "metadata": {
    "colab_type": "text",
    "id": "RCcvXHJ4jGAZ"
   },
   "source": [
    "###  9\n",
    "\n",
    "Group the rows in the dataframe according to the values of the `fh_status` column and write the rows belonging to different groups to separate csv files.\n"
   ]
  },
  {
   "cell_type": "code",
   "execution_count": 13,
   "metadata": {
    "colab": {},
    "colab_type": "code",
    "id": "UTIfZA7WjGAa"
   },
   "outputs": [],
   "source": [
    "### YOUR CODE HERE ###\n",
    "import pandas as pd\n",
    "in_df = pd.read_csv('wgi_fh.csv', sep= ';', decimal=',')\n",
    "\n",
    "if in_df.isnull().values.any():\n",
    "    in_df = in_df.dropna()\n",
    "else:\n",
    "    print('No empty values')\n",
    "\n",
    "in_df = in_df.set_index(['cnt_code'])\n",
    "\n",
    "in_df = in_df.sort_values(['cc', 'va'])\n",
    "\n",
    "round_f = lambda x: round(x, 1)\n",
    "in_df['cc_round'] = in_df['cc'].apply(round_f)\n",
    "\n",
    "def distinguish(el):\n",
    "    if (el >= 1.0) & (el <= 2.5):\n",
    "        return 'free'\n",
    "    elif (el >= 3.0) & (el <= 5.0):\n",
    "        return 'partly free'\n",
    "    else:\n",
    "        return 'not free'\n",
    "\n",
    "\n",
    "in_df['fh_status'] = in_df['fh'].apply(distinguish)\n",
    "\n",
    "# **************************************************************************************\n",
    "for name, data in in_df.groupby('fh_status'):\n",
    "    data.to_csv('{}.csv'.format(name))"
   ]
  },
  {
   "cell_type": "markdown",
   "metadata": {
    "colab_type": "text",
    "id": "WmmH2iXXjGAe"
   },
   "source": [
    "###  10\n",
    "\n",
    "Create (by any means) a small dataframe consisting of two columns:\n",
    "\n",
    "* `fh_type`: country type;\n",
    "* `count`: number of countries of this type.\n",
    "\n",
    "    Build, using the received dataframe, a bar chart (*barplot*), based on [this](https://pandas.pydata.org/pandas-docs/stable/reference/api/pandas.DataFrame.plot.bar.html) documentation. To see the graph explicitly, right in the current notebook, add the following line at the beginning of the cell with the code for the graph:\n",
    "\n",
    "    \n",
    "        %matplotlib inline\n",
    "\n"
   ]
  },
  {
   "cell_type": "code",
   "execution_count": 12,
   "metadata": {
    "colab": {},
    "colab_type": "code",
    "id": "n-AeX5eejGAe"
   },
   "outputs": [
    {
     "name": "stdout",
     "output_type": "stream",
     "text": [
      "       fh_type  count\n",
      "0         free     85\n",
      "1     not free     50\n",
      "2  partly free     60\n"
     ]
    },
    {
     "data": {
      "image/png": "[encoded data removed]",
      "text/plain": [
       "<Figure size 432x288 with 1 Axes>"
      ]
     },
     "metadata": {
      "needs_background": "light"
     },
     "output_type": "display_data"
    }
   ],
   "source": [
    "### YOUR CODE HERE ###\n",
    "### YOUR CODE HERE ###\n",
    "%matplotlib inline\n",
    "dat_dr = pd.DataFrame(index=[0, 1, 2], columns=['fh_type', 'count'])\n",
    "in_df_country = in_df.groupby('fh_status').agg({'country': 'count'})\n",
    "\n",
    "dat_dr['fh_type'] = in_df_country.index.values\n",
    "dat_dr['count'] = in_df_country['country'].values\n",
    "\n",
    "pl = dat_dr.plot.bar(x='fh_type', y='count', rot=0)\n",
    "\n",
    "print(dat_dr)\n",
    "\n"
   ]
  },
  {
   "cell_type": "code",
   "execution_count": null,
   "metadata": {},
   "outputs": [],
   "source": []
  }
 ],
 "metadata": {
  "colab": {
   "collapsed_sections": [],
   "name": "jun_anl_pandas2.ipynb",
   "provenance": []
  },
  "kernelspec": {
   "display_name": "Python 3",
   "language": "python",
   "name": "python3"
  },
  "language_info": {
   "codemirror_mode": {
    "name": "ipython",
    "version": 3
   },
   "file_extension": ".py",
   "mimetype": "text/x-python",
   "name": "python",
   "nbconvert_exporter": "python",
   "pygments_lexer": "ipython3",
   "version": "3.8.8"
  }
 },
 "nbformat": 4,
 "nbformat_minor": 4
}
