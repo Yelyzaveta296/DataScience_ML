{
 "cells": [
  {
   "cell_type": "markdown",
   "metadata": {
    "colab_type": "text",
    "id": "KkW9XLpDgFAF"
   },
   "source": [
    "# `NumPy` library: part 1\n",
    "\n"
   ]
  },
  {
   "cell_type": "markdown",
   "metadata": {
    "colab_type": "text",
    "id": "HWyKtbvPgFAF"
   },
   "source": [
    "Given an array containing the scores of students of the English language course for the entrance exam. Listeners are divided into 15 groups of 10 people.\n"
   ]
  },
  {
   "cell_type": "code",
   "execution_count": 5,
   "metadata": {
    "colab": {},
    "colab_type": "code",
    "id": "XViQYLNHgFAG"
   },
   "outputs": [],
   "source": [
    "import numpy as np\n",
    "scores = np.array([[20, 40, 56, 80, 0, 5, 25, 27, 74, 1],\n",
    "         [0, 98, 67, 100, 8, 56, 34, 82, 100, 7],\n",
    "         [78, 54, 23, 79, 100, 0, 0, 42, 95, 83],\n",
    "         [51, 50, 47, 23, 100, 94, 25, 48, 38, 77],\n",
    "         [90, 87, 41, 89, 52, 0, 5, 17, 28, 99],\n",
    "         [32, 18, 21, 18, 29, 31, 48, 62, 76, 22],\n",
    "         [6, 0, 65, 78, 43, 22, 38, 88, 94, 100],\n",
    "         [77, 28, 39, 41, 0, 81, 45, 54, 98, 12],\n",
    "         [66, 0, 88, 0, 44, 0, 55, 100, 12, 11],\n",
    "         [17, 70, 86, 96, 56, 23, 32, 49, 70, 80],\n",
    "         [20, 24, 76, 50, 29, 40, 3, 2, 5, 11],\n",
    "         [33, 63, 28, 40, 51, 100, 98, 87, 22, 30],\n",
    "         [16, 54, 78, 12, 25, 35, 10, 19, 67, 0],\n",
    "         [100, 88, 24, 33, 47, 56, 62, 34, 77, 53],\n",
    "         [50, 89, 70, 72, 56, 29, 15, 20, 0, 0]])"
   ]
  },
  {
   "cell_type": "markdown",
   "metadata": {
    "colab_type": "text",
    "id": "FZyP6_u4gFAI"
   },
   "source": [
    "###  1\n",
    "\n",
    "Calculate how many students received 0 for the entrance exam.\n"
   ]
  },
  {
   "cell_type": "code",
   "execution_count": 5,
   "metadata": {
    "colab": {},
    "colab_type": "code",
    "id": "ny-bpAn_gFAI"
   },
   "outputs": [
    {
     "name": "stdout",
     "output_type": "stream",
     "text": [
      "13\n"
     ]
    }
   ],
   "source": [
    "### YOUR CODE HERE ###\n",
    "import numpy as np\n",
    "scores = np.array([[20, 40, 56, 80, 0, 5, 25, 27, 74, 1],\n",
    "         [0, 98, 67, 100, 8, 56, 34, 82, 100, 7],\n",
    "         [78, 54, 23, 79, 100, 0, 0, 42, 95, 83],\n",
    "         [51, 50, 47, 23, 100, 94, 25, 48, 38, 77],\n",
    "         [90, 87, 41, 89, 52, 0, 5, 17, 28, 99],\n",
    "         [32, 18, 21, 18, 29, 31, 48, 62, 76, 22],\n",
    "         [6, 0, 65, 78, 43, 22, 38, 88, 94, 100],\n",
    "         [77, 28, 39, 41, 0, 81, 45, 54, 98, 12],\n",
    "         [66, 0, 88, 0, 44, 0, 55, 100, 12, 11],\n",
    "         [17, 70, 86, 96, 56, 23, 32, 49, 70, 80],\n",
    "         [20, 24, 76, 50, 29, 40, 3, 2, 5, 11],\n",
    "         [33, 63, 28, 40, 51, 100, 98, 87, 22, 30],\n",
    "         [16, 54, 78, 12, 25, 35, 10, 19, 67, 0],\n",
    "         [100, 88, 24, 33, 47, 56, 62, 34, 77, 53],\n",
    "         [50, 89, 70, 72, 56, 29, 15, 20, 0, 0]])\n",
    "\n",
    "\n",
    "count = len(scores[scores == 0])\n",
    "print(count)"
   ]
  },
  {
   "cell_type": "markdown",
   "metadata": {
    "colab_type": "text",
    "id": "zqXOMBPCgFAL"
   },
   "source": [
    "###  2\n",
    "\n",
    "Count how many listeners scored above 50.\n"
   ]
  },
  {
   "cell_type": "code",
   "execution_count": 1,
   "metadata": {
    "colab": {},
    "colab_type": "code",
    "id": "mUD76BUigFAL"
   },
   "outputs": [
    {
     "name": "stdout",
     "output_type": "stream",
     "text": [
      "8\n"
     ]
    }
   ],
   "source": [
    "### YOUR CODE HERE ###\n",
    "import numpy as np\n",
    "scores = np.array([[20, 40, 56, 80, 0, 5, 25, 27, 74, 1],\n",
    "         [0, 98, 67, 100, 8, 56, 34, 82, 100, 7],\n",
    "         [78, 54, 23, 79, 100, 0, 0, 42, 95, 83],\n",
    "         [51, 50, 47, 23, 100, 94, 25, 48, 38, 77],\n",
    "         [90, 87, 41, 89, 52, 0, 5, 17, 28, 99],\n",
    "         [32, 18, 21, 18, 29, 31, 48, 62, 76, 22],\n",
    "         [6, 0, 65, 78, 43, 22, 38, 88, 94, 100],\n",
    "         [77, 28, 39, 41, 0, 81, 45, 54, 98, 12],\n",
    "         [66, 0, 88, 0, 44, 0, 55, 100, 12, 11],\n",
    "         [17, 70, 86, 96, 56, 23, 32, 49, 70, 80],\n",
    "         [20, 24, 76, 50, 29, 40, 3, 2, 5, 11],\n",
    "         [33, 63, 28, 40, 51, 100, 98, 87, 22, 30],\n",
    "         [16, 54, 78, 12, 25, 35, 10, 19, 67, 0],\n",
    "         [100, 88, 24, 33, 47, 56, 62, 34, 77, 53],\n",
    "         [50, 89, 70, 72, 56, 29, 15, 20, 0, 0]])\n",
    "\n",
    "\n",
    "count = len(scores[scores > 99])\n",
    "print(count)"
   ]
  },
  {
   "cell_type": "markdown",
   "metadata": {
    "colab_type": "text",
    "id": "OocnEIqdgFAN"
   },
   "source": [
    "###  3\n",
    "\n",
    "Calculate how many people received a score of at least 50, but not higher than 70.\n"
   ]
  },
  {
   "cell_type": "code",
   "execution_count": 11,
   "metadata": {
    "colab": {},
    "colab_type": "code",
    "id": "RvzMz6lTgFAO"
   },
   "outputs": [
    {
     "name": "stdout",
     "output_type": "stream",
     "text": [
      "20\n"
     ]
    }
   ],
   "source": [
    "### YOUR CODE HERE ###\n",
    "import numpy as np\n",
    "scores = np.array([[20, 40, 56, 80, 0, 5, 25, 27, 74, 1],\n",
    "         [0, 98, 67, 100, 8, 56, 34, 82, 100, 7],\n",
    "         [78, 54, 23, 79, 100, 0, 0, 42, 95, 83],\n",
    "         [51, 50, 47, 23, 100, 94, 25, 48, 38, 77],\n",
    "         [90, 87, 41, 89, 52, 0, 5, 17, 28, 99],\n",
    "         [32, 18, 21, 18, 29, 31, 48, 62, 76, 22],\n",
    "         [6, 0, 65, 78, 43, 22, 38, 88, 94, 100],\n",
    "         [77, 28, 39, 41, 0, 81, 45, 54, 98, 12],\n",
    "         [66, 0, 88, 0, 44, 0, 55, 100, 12, 11],\n",
    "         [17, 70, 86, 96, 56, 23, 32, 49, 70, 80],\n",
    "         [20, 24, 76, 50, 29, 40, 3, 2, 5, 11],\n",
    "         [33, 63, 28, 40, 51, 100, 98, 87, 22, 30],\n",
    "         [16, 54, 78, 12, 25, 35, 10, 19, 67, 0],\n",
    "         [100, 88, 24, 33, 47, 56, 62, 34, 77, 53],\n",
    "         [50, 89, 70, 72, 56, 29, 15, 20, 0, 0]])\n",
    "\n",
    "\n",
    "count = len(scores[(scores > 50) & (scores < 70)])\n",
    "print(count)"
   ]
  },
  {
   "cell_type": "markdown",
   "metadata": {
    "colab_type": "text",
    "id": "Q9dNpdEBgFAP"
   },
   "source": [
    "###  4\n",
    "\n",
    "Determine in which group the average score for the entrance exam is higher.\n"
   ]
  },
  {
   "cell_type": "code",
   "execution_count": 2,
   "metadata": {
    "colab": {},
    "colab_type": "code",
    "id": "Fto_aImFgFAQ"
   },
   "outputs": [
    {
     "name": "stdout",
     "output_type": "stream",
     "text": [
      "In the group numbered 10 the average score is higher\n"
     ]
    }
   ],
   "source": [
    "### YOUR CODE HERE ###\n",
    "import numpy as np\n",
    "scores = np.array([[20, 40, 56, 80, 0, 5, 25, 27, 74, 1],\n",
    "         [0, 98, 67, 100, 8, 56, 34, 82, 100, 7],\n",
    "         [78, 54, 23, 79, 100, 0, 0, 42, 95, 83],\n",
    "         [51, 50, 47, 23, 100, 94, 25, 48, 38, 77],\n",
    "         [90, 87, 41, 89, 52, 0, 5, 17, 28, 99],\n",
    "         [32, 18, 21, 18, 29, 31, 48, 62, 76, 22],\n",
    "         [6, 0, 65, 78, 43, 22, 38, 88, 94, 100],\n",
    "         [77, 28, 39, 41, 0, 81, 45, 54, 98, 12],\n",
    "         [66, 0, 88, 0, 44, 0, 55, 100, 12, 11],\n",
    "         [17, 70, 86, 96, 56, 23, 32, 49, 70, 80],\n",
    "         [20, 24, 76, 50, 29, 40, 3, 2, 5, 11],\n",
    "         [33, 63, 28, 40, 51, 100, 98, 87, 22, 30],\n",
    "         [16, 54, 78, 12, 25, 35, 10, 19, 67, 0],\n",
    "         [100, 88, 24, 33, 47, 56, 62, 34, 77, 53],\n",
    "         [50, 89, 70, 72, 56, 29, 15, 20, 0, 0]])\n",
    "\n",
    "mean_value = scores.mean(axis=1)\n",
    "max_value = mean_value.argmax()\n",
    "print('In the group numbered', max_value + 1, 'the average score is higher')"
   ]
  },
  {
   "cell_type": "markdown",
   "metadata": {
    "colab_type": "text",
    "id": "IjZUz0KkgFAR"
   },
   "source": [
    "###  5\n",
    "\n",
    "Store listener scores above 0 in the `nonzero` array.\n"
   ]
  },
  {
   "cell_type": "code",
   "execution_count": 1,
   "metadata": {
    "colab": {},
    "colab_type": "code",
    "id": "PRViY--agFAT"
   },
   "outputs": [
    {
     "name": "stdout",
     "output_type": "stream",
     "text": [
      "[ 20  40  56  80   5  25  27  74   1  98  67 100   8  56  34  82 100   7\n",
      "  78  54  23  79 100  42  95  83  51  50  47  23 100  94  25  48  38  77\n",
      "  90  87  41  89  52   5  17  28  99  32  18  21  18  29  31  48  62  76\n",
      "  22   6  65  78  43  22  38  88  94 100  77  28  39  41  81  45  54  98\n",
      "  12  66  88  44  55 100  12  11  17  70  86  96  56  23  32  49  70  80\n",
      "  20  24  76  50  29  40   3   2   5  11  33  63  28  40  51 100  98  87\n",
      "  22  30  16  54  78  12  25  35  10  19  67 100  88  24  33  47  56  62\n",
      "  34  77  53  50  89  70  72  56  29  15  20]\n"
     ]
    }
   ],
   "source": [
    "### YOUR CODE HERE ###\n",
    "import numpy as np\n",
    "scores = np.array([[20, 40, 56, 80, 0, 5, 25, 27, 74, 1],\n",
    "         [0, 98, 67, 100, 8, 56, 34, 82, 100, 7],\n",
    "         [78, 54, 23, 79, 100, 0, 0, 42, 95, 83],\n",
    "         [51, 50, 47, 23, 100, 94, 25, 48, 38, 77],\n",
    "         [90, 87, 41, 89, 52, 0, 5, 17, 28, 99],\n",
    "         [32, 18, 21, 18, 29, 31, 48, 62, 76, 22],\n",
    "         [6, 0, 65, 78, 43, 22, 38, 88, 94, 100],\n",
    "         [77, 28, 39, 41, 0, 81, 45, 54, 98, 12],\n",
    "         [66, 0, 88, 0, 44, 0, 55, 100, 12, 11],\n",
    "         [17, 70, 86, 96, 56, 23, 32, 49, 70, 80],\n",
    "         [20, 24, 76, 50, 29, 40, 3, 2, 5, 11],\n",
    "         [33, 63, 28, 40, 51, 100, 98, 87, 22, 30],\n",
    "         [16, 54, 78, 12, 25, 35, 10, 19, 67, 0],\n",
    "         [100, 88, 24, 33, 47, 56, 62, 34, 77, 53],\n",
    "         [50, 89, 70, 72, 56, 29, 15, 20, 0, 0]])\n",
    "\n",
    "nonzero = scores[scores > 0]\n",
    "print(nonzero)"
   ]
  },
  {
   "cell_type": "markdown",
   "metadata": {
    "colab_type": "text",
    "id": "-ve1VG1XgFAV"
   },
   "source": [
    "###  6\n",
    "\n",
    "Using the `nonzero` array, determine the minimum entry score for all groups.\n"
   ]
  },
  {
   "cell_type": "code",
   "execution_count": 2,
   "metadata": {
    "colab": {},
    "colab_type": "code",
    "id": "ZnGg9mcUgFAV"
   },
   "outputs": [
    {
     "name": "stdout",
     "output_type": "stream",
     "text": [
      "1\n"
     ]
    }
   ],
   "source": [
    "### YOUR CODE HERE ###\n",
    "import numpy as np\n",
    "scores = np.array([[20, 40, 56, 80, 0, 5, 25, 27, 74, 1],\n",
    "         [0, 98, 67, 100, 8, 56, 34, 82, 100, 7],\n",
    "         [78, 54, 23, 79, 100, 0, 0, 42, 95, 83],\n",
    "         [51, 50, 47, 23, 100, 94, 25, 48, 38, 77],\n",
    "         [90, 87, 41, 89, 52, 0, 5, 17, 28, 99],\n",
    "         [32, 18, 21, 18, 29, 31, 48, 62, 76, 22],\n",
    "         [6, 0, 65, 78, 43, 22, 38, 88, 94, 100],\n",
    "         [77, 28, 39, 41, 0, 81, 45, 54, 98, 12],\n",
    "         [66, 0, 88, 0, 44, 0, 55, 100, 12, 11],\n",
    "         [17, 70, 86, 96, 56, 23, 32, 49, 70, 80],\n",
    "         [20, 24, 76, 50, 29, 40, 3, 2, 5, 11],\n",
    "         [33, 63, 28, 40, 51, 100, 98, 87, 22, 30],\n",
    "         [16, 54, 78, 12, 25, 35, 10, 19, 67, 0],\n",
    "         [100, 88, 24, 33, 47, 56, 62, 34, 77, 53],\n",
    "         [50, 89, 70, 72, 56, 29, 15, 20, 0, 0]])\n",
    "\n",
    "nonzero = scores[scores > 0]\n",
    "print(nonzero.min())"
   ]
  },
  {
   "cell_type": "markdown",
   "metadata": {
    "colab_type": "text",
    "id": "5eaQJGatgFAZ"
   },
   "source": [
    "###  7\n",
    "\n",
    "Select from the `nonzero` array only those values that correspond to an advanced level of knowledge of the language - an exam score above 80. Store the result in the `advanced` array. In tasks 8-10, you need to work with the `advanced` array.\n"
   ]
  },
  {
   "cell_type": "code",
   "execution_count": 3,
   "metadata": {
    "colab": {},
    "colab_type": "code",
    "id": "nmMA59fAgFAZ"
   },
   "outputs": [
    {
     "name": "stdout",
     "output_type": "stream",
     "text": [
      "[ 98 100  82 100 100  95  83 100  94  90  87  89  99  88  94 100  81  98\n",
      "  88 100  86  96 100  98  87 100  88  89]\n"
     ]
    }
   ],
   "source": [
    "### YOUR CODE HERE ###\n",
    "import numpy as np\n",
    "scores = np.array([[20, 40, 56, 80, 0, 5, 25, 27, 74, 1],\n",
    "         [0, 98, 67, 100, 8, 56, 34, 82, 100, 7],\n",
    "         [78, 54, 23, 79, 100, 0, 0, 42, 95, 83],\n",
    "         [51, 50, 47, 23, 100, 94, 25, 48, 38, 77],\n",
    "         [90, 87, 41, 89, 52, 0, 5, 17, 28, 99],\n",
    "         [32, 18, 21, 18, 29, 31, 48, 62, 76, 22],\n",
    "         [6, 0, 65, 78, 43, 22, 38, 88, 94, 100],\n",
    "         [77, 28, 39, 41, 0, 81, 45, 54, 98, 12],\n",
    "         [66, 0, 88, 0, 44, 0, 55, 100, 12, 11],\n",
    "         [17, 70, 86, 96, 56, 23, 32, 49, 70, 80],\n",
    "         [20, 24, 76, 50, 29, 40, 3, 2, 5, 11],\n",
    "         [33, 63, 28, 40, 51, 100, 98, 87, 22, 30],\n",
    "         [16, 54, 78, 12, 25, 35, 10, 19, 67, 0],\n",
    "         [100, 88, 24, 33, 47, 56, 62, 34, 77, 53],\n",
    "         [50, 89, 70, 72, 56, 29, 15, 20, 0, 0]])\n",
    "\n",
    "nonzero = scores[scores > 0]\n",
    "advanced = nonzero[nonzero > 80]\n",
    "print(advanced)"
   ]
  },
  {
   "cell_type": "markdown",
   "metadata": {
    "colab_type": "text",
    "id": "Aq0Lf1f6gFAk"
   },
   "source": [
    "###  8\n",
    "\n",
    "Determine the dimension of the `advanced` array.\n"
   ]
  },
  {
   "cell_type": "code",
   "execution_count": 26,
   "metadata": {
    "colab": {},
    "colab_type": "code",
    "id": "m_9Wm-7xgFAl"
   },
   "outputs": [
    {
     "name": "stdout",
     "output_type": "stream",
     "text": [
      "1\n"
     ]
    }
   ],
   "source": [
    "### YOUR CODE HERE ###\n",
    "import numpy as np\n",
    "scores = np.array([[20, 40, 56, 80, 0, 5, 25, 27, 74, 1],\n",
    "         [0, 98, 67, 100, 8, 56, 34, 82, 100, 7],\n",
    "         [78, 54, 23, 79, 100, 0, 0, 42, 95, 83],\n",
    "         [51, 50, 47, 23, 100, 94, 25, 48, 38, 77],\n",
    "         [90, 87, 41, 89, 52, 0, 5, 17, 28, 99],\n",
    "         [32, 18, 21, 18, 29, 31, 48, 62, 76, 22],\n",
    "         [6, 0, 65, 78, 43, 22, 38, 88, 94, 100],\n",
    "         [77, 28, 39, 41, 0, 81, 45, 54, 98, 12],\n",
    "         [66, 0, 88, 0, 44, 0, 55, 100, 12, 11],\n",
    "         [17, 70, 86, 96, 56, 23, 32, 49, 70, 80],\n",
    "         [20, 24, 76, 50, 29, 40, 3, 2, 5, 11],\n",
    "         [33, 63, 28, 40, 51, 100, 98, 87, 22, 30],\n",
    "         [16, 54, 78, 12, 25, 35, 10, 19, 67, 0],\n",
    "         [100, 88, 24, 33, 47, 56, 62, 34, 77, 53],\n",
    "         [50, 89, 70, 72, 56, 29, 15, 20, 0, 0]])\n",
    "\n",
    "nonzero = scores[scores > 0]\n",
    "advanced = nonzero[nonzero > 80]\n",
    "print(advanced.ndim)"
   ]
  },
  {
   "cell_type": "markdown",
   "metadata": {
    "colab_type": "text",
    "id": "Bc_cX_EYgFAo"
   },
   "source": [
    "###  9\n",
    "\n",
    "Define the shape of the `advanced` array.\n"
   ]
  },
  {
   "cell_type": "code",
   "execution_count": 25,
   "metadata": {
    "colab": {},
    "colab_type": "code",
    "id": "6VSwGB6fgFAp"
   },
   "outputs": [
    {
     "name": "stdout",
     "output_type": "stream",
     "text": [
      "(28,)\n"
     ]
    }
   ],
   "source": [
    "### YOUR CODE HERE ###\n",
    "import numpy as np\n",
    "scores = np.array([[20, 40, 56, 80, 0, 5, 25, 27, 74, 1],\n",
    "         [0, 98, 67, 100, 8, 56, 34, 82, 100, 7],\n",
    "         [78, 54, 23, 79, 100, 0, 0, 42, 95, 83],\n",
    "         [51, 50, 47, 23, 100, 94, 25, 48, 38, 77],\n",
    "         [90, 87, 41, 89, 52, 0, 5, 17, 28, 99],\n",
    "         [32, 18, 21, 18, 29, 31, 48, 62, 76, 22],\n",
    "         [6, 0, 65, 78, 43, 22, 38, 88, 94, 100],\n",
    "         [77, 28, 39, 41, 0, 81, 45, 54, 98, 12],\n",
    "         [66, 0, 88, 0, 44, 0, 55, 100, 12, 11],\n",
    "         [17, 70, 86, 96, 56, 23, 32, 49, 70, 80],\n",
    "         [20, 24, 76, 50, 29, 40, 3, 2, 5, 11],\n",
    "         [33, 63, 28, 40, 51, 100, 98, 87, 22, 30],\n",
    "         [16, 54, 78, 12, 25, 35, 10, 19, 67, 0],\n",
    "         [100, 88, 24, 33, 47, 56, 62, 34, 77, 53],\n",
    "         [50, 89, 70, 72, 56, 29, 15, 20, 0, 0]])\n",
    "\n",
    "nonzero = scores[scores > 0]\n",
    "advanced = nonzero[nonzero > 80]\n",
    "print(advanced.shape)"
   ]
  },
  {
   "cell_type": "markdown",
   "metadata": {
    "colab_type": "text",
    "id": "tmheEQZ3gFAr"
   },
   "source": [
    "###  10\n",
    "\n",
    "Determine the total number of elements in the `advanced` array.\n"
   ]
  },
  {
   "cell_type": "code",
   "execution_count": 10,
   "metadata": {
    "colab": {},
    "colab_type": "code",
    "id": "OvJ2oJV7gFAr"
   },
   "outputs": [
    {
     "name": "stdout",
     "output_type": "stream",
     "text": [
      "28\n"
     ]
    }
   ],
   "source": [
    "### YOUR CODE HERE ###\n",
    "import numpy as np\n",
    "scores = np.array([[20, 40, 56, 80, 0, 5, 25, 27, 74, 1],\n",
    "         [0, 98, 67, 100, 8, 56, 34, 82, 100, 7],\n",
    "         [78, 54, 23, 79, 100, 0, 0, 42, 95, 83],\n",
    "         [51, 50, 47, 23, 100, 94, 25, 48, 38, 77],\n",
    "         [90, 87, 41, 89, 52, 0, 5, 17, 28, 99],\n",
    "         [32, 18, 21, 18, 29, 31, 48, 62, 76, 22],\n",
    "         [6, 0, 65, 78, 43, 22, 38, 88, 94, 100],\n",
    "         [77, 28, 39, 41, 0, 81, 45, 54, 98, 12],\n",
    "         [66, 0, 88, 0, 44, 0, 55, 100, 12, 11],\n",
    "         [17, 70, 86, 96, 56, 23, 32, 49, 70, 80],\n",
    "         [20, 24, 76, 50, 29, 40, 3, 2, 5, 11],\n",
    "         [33, 63, 28, 40, 51, 100, 98, 87, 22, 30],\n",
    "         [16, 54, 78, 12, 25, 35, 10, 19, 67, 0],\n",
    "         [100, 88, 24, 33, 47, 56, 62, 34, 77, 53],\n",
    "         [50, 89, 70, 72, 56, 29, 15, 20, 0, 0]])\n",
    "\n",
    "nonzero = scores[scores > 0]\n",
    "advanced = nonzero[nonzero > 80]\n",
    "print(advanced.size)"
   ]
  },
  {
   "cell_type": "markdown",
   "metadata": {
    "colab_type": "text",
    "id": "rfufTemUgFAv"
   },
   "source": [
    "###  11\n",
    "\n",
    "Based on the original `scores` array, create a boolean `sto` array, where `True` is the exam score of 100 and `False` is all other scores.\n"
   ]
  },
  {
   "cell_type": "code",
   "execution_count": 1,
   "metadata": {
    "colab": {},
    "colab_type": "code",
    "id": "cXVCTZJRgFAw"
   },
   "outputs": [
    {
     "name": "stdout",
     "output_type": "stream",
     "text": [
      "[[False False False False False False False False False False]\n",
      " [False False False  True False False False False  True False]\n",
      " [False False False False  True False False False False False]\n",
      " [False False False False  True False False False False False]\n",
      " [False False False False False False False False False False]\n",
      " [False False False False False False False False False False]\n",
      " [False False False False False False False False False  True]\n",
      " [False False False False False False False False False False]\n",
      " [False False False False False False False  True False False]\n",
      " [False False False False False False False False False False]\n",
      " [False False False False False False False False False False]\n",
      " [False False False False False  True False False False False]\n",
      " [False False False False False False False False False False]\n",
      " [ True False False False False False False False False False]\n",
      " [False False False False False False False False False False]]\n"
     ]
    }
   ],
   "source": [
    "### YOUR CODE HERE ###\n",
    "import numpy as np\n",
    "scores = np.array([[20, 40, 56, 80, 0, 5, 25, 27, 74, 1],\n",
    "         [0, 98, 67, 100, 8, 56, 34, 82, 100, 7],\n",
    "         [78, 54, 23, 79, 100, 0, 0, 42, 95, 83],\n",
    "         [51, 50, 47, 23, 100, 94, 25, 48, 38, 77],\n",
    "         [90, 87, 41, 89, 52, 0, 5, 17, 28, 99],\n",
    "         [32, 18, 21, 18, 29, 31, 48, 62, 76, 22],\n",
    "         [6, 0, 65, 78, 43, 22, 38, 88, 94, 100],\n",
    "         [77, 28, 39, 41, 0, 81, 45, 54, 98, 12],\n",
    "         [66, 0, 88, 0, 44, 0, 55, 100, 12, 11],\n",
    "         [17, 70, 86, 96, 56, 23, 32, 49, 70, 80],\n",
    "         [20, 24, 76, 50, 29, 40, 3, 2, 5, 11],\n",
    "         [33, 63, 28, 40, 51, 100, 98, 87, 22, 30],\n",
    "         [16, 54, 78, 12, 25, 35, 10, 19, 67, 0],\n",
    "         [100, 88, 24, 33, 47, 56, 62, 34, 77, 53],\n",
    "         [50, 89, 70, 72, 56, 29, 15, 20, 0, 0]])\n",
    "\n",
    "sto = scores == 100\n",
    "print(sto)"
   ]
  },
  {
   "cell_type": "markdown",
   "metadata": {
    "colab_type": "text",
    "id": "GBKO0EiTgFAy"
   },
   "source": [
    "###  12\n",
    "\n",
    "Based on the original `scores` array, display the scores of the students in the first seven groups (inclusive, there must be 7 lists of scores).\n"
   ]
  },
  {
   "cell_type": "code",
   "execution_count": 2,
   "metadata": {
    "colab": {},
    "colab_type": "code",
    "id": "5MsmBdCggFA0"
   },
   "outputs": [
    {
     "name": "stdout",
     "output_type": "stream",
     "text": [
      "[[ 20  40  56  80   0   5  25  27  74   1]\n",
      " [  0  98  67 100   8  56  34  82 100   7]\n",
      " [ 78  54  23  79 100   0   0  42  95  83]\n",
      " [ 51  50  47  23 100  94  25  48  38  77]\n",
      " [ 90  87  41  89  52   0   5  17  28  99]\n",
      " [ 32  18  21  18  29  31  48  62  76  22]\n",
      " [  6   0  65  78  43  22  38  88  94 100]]\n"
     ]
    }
   ],
   "source": [
    "### YOUR CODE HERE ###\n",
    "import numpy as np\n",
    "scores = np.array([[20, 40, 56, 80, 0, 5, 25, 27, 74, 1],\n",
    "         [0, 98, 67, 100, 8, 56, 34, 82, 100, 7],\n",
    "         [78, 54, 23, 79, 100, 0, 0, 42, 95, 83],\n",
    "         [51, 50, 47, 23, 100, 94, 25, 48, 38, 77],\n",
    "         [90, 87, 41, 89, 52, 0, 5, 17, 28, 99],\n",
    "         [32, 18, 21, 18, 29, 31, 48, 62, 76, 22],\n",
    "         [6, 0, 65, 78, 43, 22, 38, 88, 94, 100],\n",
    "         [77, 28, 39, 41, 0, 81, 45, 54, 98, 12],\n",
    "         [66, 0, 88, 0, 44, 0, 55, 100, 12, 11],\n",
    "         [17, 70, 86, 96, 56, 23, 32, 49, 70, 80],\n",
    "         [20, 24, 76, 50, 29, 40, 3, 2, 5, 11],\n",
    "         [33, 63, 28, 40, 51, 100, 98, 87, 22, 30],\n",
    "         [16, 54, 78, 12, 25, 35, 10, 19, 67, 0],\n",
    "         [100, 88, 24, 33, 47, 56, 62, 34, 77, 53],\n",
    "         [50, 89, 70, 72, 56, 29, 15, 20, 0, 0]])\n",
    "\n",
    "form = np.resize(scores, (7, 10))\n",
    "print(form)"
   ]
  },
  {
   "cell_type": "markdown",
   "metadata": {
    "colab_type": "text",
    "id": "5cwVuZHAgFA1"
   },
   "source": [
    ".<br> .<br> .<br> .<br> .<br> .<br> .<br> .<br> .<br> .<br> .<br> .<br> .<br> .<br> .<br> .<br> .<br> .<br> \n",
    "# Additional task.\n",
    "<br>\n"
   ]
  },
  {
   "cell_type": "markdown",
   "metadata": {
    "colab_type": "text",
    "id": "NevmPbRrgFA2"
   },
   "source": [
    "In tasks 1-2, you need to work with the array `A`:\n"
   ]
  },
  {
   "cell_type": "code",
   "execution_count": null,
   "metadata": {
    "colab": {},
    "colab_type": "code",
    "id": "b8eeE6EOgFA2"
   },
   "outputs": [],
   "source": [
    "import numpy as np\n",
    "A = np.array([[2, 9, 8, 0],\n",
    "             [8, 7, 5, 6], \n",
    "             [3, 1, 0, 2], \n",
    "             [6, 5, 6, 8],\n",
    "             [1, 0, 0, 4]])"
   ]
  },
  {
   "cell_type": "markdown",
   "metadata": {
    "colab_type": "text",
    "id": "RAQ4aJhfgFA5"
   },
   "source": [
    "### Task 1\n",
    "\n",
    "Transpose array `A` without using `NumPy` built-in methods. Save the resulting array to the `A_tr` variable. It is acceptable to use loops and conditional structures (if necessary).\n",
    "\n",
    "**Reminder:** transposition is the operation of swapping rows and columns. Example:\n",
    "\n",
    "Before transposition:\n",
    "\n",
    "        [[2, 5, 0], \n",
    "        [7, 8, 1]]\n",
    "\n",
    "After transposition:\n",
    "\n",
    "        [[2, 7],\n",
    "        [5, 8],\n",
    "        [0, 1]]\n",
    "\n"
   ]
  },
  {
   "cell_type": "code",
   "execution_count": 21,
   "metadata": {
    "colab": {},
    "colab_type": "code",
    "id": "2HvCIIF0gFA6"
   },
   "outputs": [
    {
     "name": "stdout",
     "output_type": "stream",
     "text": [
      "[2 8 3 6 1]\n",
      "[9 7 1 5 0]\n",
      "[8 5 0 6 0]\n",
      "[0 6 2 8 4]\n"
     ]
    }
   ],
   "source": [
    "### YOUR CODE HERE ###\n",
    "A = np.array([[2, 9, 8, 0],\n",
    "             [8, 7, 5, 6], \n",
    "             [3, 1, 0, 2], \n",
    "             [6, 5, 6, 8],\n",
    "             [1, 0, 0, 4]])\n",
    "\n",
    "for column in range(A.shape[1]):\n",
    "    A_tr = np.array(A[:, column])\n",
    "    print(A_tr)"
   ]
  },
  {
   "cell_type": "markdown",
   "metadata": {
    "colab_type": "text",
    "id": "Rb0Np089gFA8"
   },
   "source": [
    "### Task 2\n",
    "\n",
    "Compare results: check the equality of the array `A_tr` obtained above and the array obtained by transposing the array `A` using the `.T` method.\n",
    "\n",
    "\n"
   ]
  },
  {
   "cell_type": "code",
   "execution_count": 16,
   "metadata": {
    "colab": {},
    "colab_type": "code",
    "id": "oy3tY9Y0gFA9"
   },
   "outputs": [
    {
     "name": "stdout",
     "output_type": "stream",
     "text": [
      "False\n"
     ]
    }
   ],
   "source": [
    "### YOUR CODE HERE ###\n",
    "A = np.array([[2, 9, 8, 0],\n",
    "             [8, 7, 5, 6], \n",
    "             [3, 1, 0, 2], \n",
    "             [6, 5, 6, 8],\n",
    "             [1, 0, 0, 4]])\n",
    "A_transp = A.T\n",
    "arr_equal = np.array_equal(A_tr, A_transp)\n",
    "\n",
    "print(arr_equal)"
   ]
  },
  {
   "cell_type": "markdown",
   "metadata": {
    "colab_type": "text",
    "id": "0GsTgRbbgFA_"
   },
   "source": [
    "### Task 3\n",
    "\n",
    "Student N moonlights as a tutor in mathematics and conducts classes of various types: he prepares for the Unified State Examination, for olympiads, “pulls up” mathematics for elementary school students.\n",
    "\n",
    "The `classes` array stores the number of lessons taught for five working days, the `prices` array stores the cost of one lesson (we assume that a student conducts classes of the same type per day, the same cost).\n",
    "\n",
    "\n",
    "Determine the student's weekly income using `.dot()` to find the dot product"
   ]
  },
  {
   "cell_type": "code",
   "execution_count": null,
   "metadata": {
    "colab": {},
    "colab_type": "code",
    "id": "IHm4BAzMgFA_"
   },
   "outputs": [],
   "source": [
    "classes = np.array([3, 3, 2, 0, 2])\n",
    "prices = np.array([1500, 1500, 2500, 1000, 1000])"
   ]
  },
  {
   "cell_type": "code",
   "execution_count": 3,
   "metadata": {
    "colab": {},
    "colab_type": "code",
    "id": "naNXR55mgFBD"
   },
   "outputs": [
    {
     "name": "stdout",
     "output_type": "stream",
     "text": [
      "16000\n"
     ]
    }
   ],
   "source": [
    "### YOUR CODE HERE ###\n",
    "import numpy as np\n",
    "\n",
    "classes = np.array([3, 3, 2, 0, 2])\n",
    "prices = np.array([1500, 1500, 2500, 1000, 1000])\n",
    "\n",
    "print(np.dot(classes, prices))"
   ]
  },
  {
   "cell_type": "markdown",
   "metadata": {
    "colab_type": "text",
    "id": "pVhH4MrAgFBH"
   },
   "source": [
    "### Task 4\n",
    "\n",
    "Based on the results of working with data on student essay marks given by two different experts, two boolean arrays `expert1` and `expert2` were created, in which the value `True` means the grade is \"satisfactory\" and higher, and the value `False` is unsatisfactory . A total of 15 essays were evaluated, 5 essays for each of the three topics.\n"
   ]
  },
  {
   "cell_type": "code",
   "execution_count": 6,
   "metadata": {
    "colab": {},
    "colab_type": "code",
    "id": "XvKTyCPsgFBH"
   },
   "outputs": [],
   "source": [
    "expert1 = np.array([[True, False, False, True, True],\n",
    "                   [False, True, False, False, True],\n",
    "                   [True, True, True, False, False]])\n",
    "expert2 = np.array([[True, False, False, False, True],\n",
    "                   [False, False, False, False, False],\n",
    "                   [True, False, True, False, False]])"
   ]
  },
  {
   "cell_type": "code",
   "execution_count": 7,
   "metadata": {
    "colab": {},
    "colab_type": "code",
    "id": "_ItTN6kugFBI"
   },
   "outputs": [
    {
     "name": "stdout",
     "output_type": "stream",
     "text": [
      "4 students will receive credit\n"
     ]
    }
   ],
   "source": [
    "### YOUR CODE HERE ###\n",
    "\n",
    "common_values = np.logical_and(expert1, expert2)\n",
    "nonzero_values = np.count_nonzero(common_values)\n",
    "\n",
    "print(nonzero_values,'students will receive credit')"
   ]
  },
  {
   "cell_type": "markdown",
   "metadata": {
    "colab_type": "text",
    "id": "Pu9yicVpgFBL"
   },
   "source": [
    "Determine, using various logical operators (`|`, `&`, etc.) and auxiliary methods/functions, how many students will receive a credit, if it is known that for this it is necessary to receive a mark not lower than satisfactory from both experts.\n"
   ]
  },
  {
   "cell_type": "markdown",
   "metadata": {
    "colab_type": "text",
    "id": "SNjTSYadgFBM"
   },
   "source": [
    "### Task 5\n",
    "\n",
    "Given an array `essay` with the final grades of students for an essay from task 4:\n"
   ]
  },
  {
   "cell_type": "code",
   "execution_count": 4,
   "metadata": {
    "colab": {},
    "colab_type": "code",
    "id": "m-0uuLMsgFBN"
   },
   "outputs": [],
   "source": [
    "\n",
    "\n",
    "essay = np.array([[\"pass\", \"not pass\", \"not pass\", \"not pass\", \"pass\"],\n",
    "        [\"not pass\", \"not pass\", \"not pass\", \"not pass\", \"not pass\"],\n",
    "        [\"pass\", \"not pass\", \"pass\", \"not pass\", \"not pass\"]])"
   ]
  },
  {
   "cell_type": "markdown",
   "metadata": {
    "colab_type": "text",
    "id": "ods6NVgWgFBO"
   },
   "source": [
    "Check the answer in the previous problem using the `essay` array. The solution must be presented as code, not as outputs from an explicit element count.\n"
   ]
  },
  {
   "cell_type": "code",
   "execution_count": null,
   "metadata": {
    "colab": {},
    "colab_type": "code",
    "id": "VrnzKwKfgFBO"
   },
   "outputs": [],
   "source": [
    "### YOUR CODE HERE ###\n",
    "\n",
    "passed_students = np.count_nonzero(essay == 'pass')\n",
    "print(passed_students)"
   ]
  },
  {
   "cell_type": "markdown",
   "metadata": {
    "colab_type": "text",
    "id": "O4WRS6GagFBQ"
   },
   "source": [
    "### Task 6\n",
    "\n",
    "Using the arrays `expert1` and `expert2` from Problem 4, determine the consistency of two experts using the Jaccard closeness measure, which is calculated as follows:\n",
    "\n",
    "$$\n",
    "J(A, B) = \\frac{|A \\cap B|}{|A| + |B| - |A \\cap B|}\n",
    ",$$ \n",
    "\n",
    "where $A$ is the first set, $B$ is the second set, $A \\cap B$ is the intersection of sets, i.e. their common elements. The notation $|A|$ means \"the number of elements in the set\".\n",
    "\n",
    "The sets $A$ and $B$ in this problem are the sets (groups) of students who received credit from the first and second experts."
   ]
  },
  {
   "cell_type": "code",
   "execution_count": 8,
   "metadata": {
    "colab": {},
    "colab_type": "code",
    "id": "uxsA-5kGgFBQ"
   },
   "outputs": [
    {
     "name": "stdout",
     "output_type": "stream",
     "text": [
      "0.5\n"
     ]
    }
   ],
   "source": [
    "### YOUR CODE HERE ###\n",
    "exp1_passed = np.count_nonzero(expert1)\n",
    "exp2_passed = np.count_nonzero(expert2)\n",
    "common_values = np.count_nonzero(np.logical_and(expert1, expert2))\n",
    "jaccard_value = common_values/(exp1_passed + exp2_passed-common_values)\n",
    "\n",
    "print(jaccard_value)"
   ]
  },
  {
   "cell_type": "code",
   "execution_count": null,
   "metadata": {},
   "outputs": [],
   "source": []
  }
 ],
 "metadata": {
  "colab": {
   "name": "3.8 homework-numpy1.ipynb",
   "provenance": [],
   "version": "0.3.2"
  },
  "kernelspec": {
   "display_name": "Python 3",
   "language": "python",
   "name": "python3"
  },
  "language_info": {
   "codemirror_mode": {
    "name": "ipython",
    "version": 3
   },
   "file_extension": ".py",
   "mimetype": "text/x-python",
   "name": "python",
   "nbconvert_exporter": "python",
   "pygments_lexer": "ipython3",
   "version": "3.8.8"
  }
 },
 "nbformat": 4,
 "nbformat_minor": 4
}
