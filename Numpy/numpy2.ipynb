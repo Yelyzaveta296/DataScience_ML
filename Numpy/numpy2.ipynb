{
 "cells": [
  {
   "cell_type": "markdown",
   "metadata": {},
   "source": [
    "# The `NumPy` Library: Part 2\n"
   ]
  },
  {
   "cell_type": "markdown",
   "metadata": {},
   "source": [
    "###  1\n",
    "Load array from file `array_hw.npy` and save it as `arr`. The array contains the sales volumes of ice cream (in pieces) in 5 stores for one week in June (7 days, from Monday to Sunday). In tasks 2-5, you need to work with the `arr` array.\n"
   ]
  },
  {
   "cell_type": "code",
   "execution_count": 3,
   "metadata": {},
   "outputs": [
    {
     "name": "stdout",
     "output_type": "stream",
     "text": [
      "[[100  80  70  60 120]\n",
      " [ 65  55  20  50  60]\n",
      " [ 80  90  75  80  60]\n",
      " [ 45  60  70  20  40]\n",
      " [ 82  47  56  89  92]\n",
      " [115 120 113 106 107]\n",
      " [ 46  74  23  34  19]]\n"
     ]
    }
   ],
   "source": [
    "### YOUR CODE HERE ###\n",
    "import numpy as np\n",
    "\n",
    "arr = np.load('array_hw.npy')\n",
    "print(arr)"
   ]
  },
  {
   "cell_type": "markdown",
   "metadata": {},
   "source": [
    "###  2\n",
    "Thinking of the `arr` array as a table, the table currently has stores in columns (1 store = 1 column, 5 in total) and days in rows (1 day = 1 row, 7 in total). Convert the `arr` array so that the rows are stores and the columns are days (1 row = 1 store). Save changes. Check if the shape of the array has changed.\n"
   ]
  },
  {
   "cell_type": "code",
   "execution_count": 10,
   "metadata": {},
   "outputs": [
    {
     "name": "stdout",
     "output_type": "stream",
     "text": [
      "(7, 5) \n",
      " [[100  65  80  45  82 115  46]\n",
      " [ 80  55  90  60  47 120  74]\n",
      " [ 70  20  75  70  56 113  23]\n",
      " [ 60  50  80  20  89 106  34]\n",
      " [120  60  60  40  92 107  19]] \n",
      " (5, 7)\n"
     ]
    }
   ],
   "source": [
    "### YOUR CODE HERE ###\n",
    "import numpy as np\n",
    "\n",
    "arr = np.load('array_hw.npy')\n",
    "arr_shape =arr.shape\n",
    "arr_transp = arr.transpose()\n",
    "arr_transp_shape = arr_transp.shape\n",
    "print(arr_shape, '\\n', arr_transp, '\\n',arr_transp_shape)"
   ]
  },
  {
   "cell_type": "markdown",
   "metadata": {},
   "source": [
    "###  3\n",
    "\n",
    "Let's imagine that the sales information is updated: it turned out that the fifth store on Sunday sold not 19 servings of ice cream, but 25, and the second store sold not 55 servings of ice cream, but 65 on Tuesday. Change the `arr` array according to this information.\n"
   ]
  },
  {
   "cell_type": "code",
   "execution_count": 11,
   "metadata": {},
   "outputs": [
    {
     "name": "stdout",
     "output_type": "stream",
     "text": [
      "[[100  65  80  45  82 115  46]\n",
      " [ 80  65  90  60  47 120  74]\n",
      " [ 70  20  75  70  56 113  23]\n",
      " [ 60  50  80  20  89 106  34]\n",
      " [120  60  60  40  92 107  25]]\n"
     ]
    }
   ],
   "source": [
    "### YOUR CODE HERE ###\n",
    "arr_transp[4][6] = 25\n",
    "arr_transp[1][1] = 65\n",
    "print(arr_transp)"
   ]
  },
  {
   "cell_type": "markdown",
   "metadata": {},
   "source": [
    "###  4\n",
    "\n",
    "Calculate the total sales of ice cream for all stores."
   ]
  },
  {
   "cell_type": "code",
   "execution_count": 5,
   "metadata": {},
   "outputs": [
    {
     "name": "stdout",
     "output_type": "stream",
     "text": [
      "2423\n"
     ]
    }
   ],
   "source": [
    "### YOUR CODE HERE ###\n",
    "arr_transp = arr.transpose()\n",
    "print(arr_transp.sum())"
   ]
  },
  {
   "cell_type": "markdown",
   "metadata": {},
   "source": [
    "###  5\n",
    "\n",
    "Download the updated `arr` array to a txt file. The txt file itself does not need to be loaded into the system, just write the appropriate code to the ipynb file.\n"
   ]
  },
  {
   "cell_type": "code",
   "execution_count": 6,
   "metadata": {},
   "outputs": [],
   "source": [
    "### YOUR CODE HERE ###\n",
    "np.savetxt('arr_transp.txt', arr_transp)"
   ]
  },
  {
   "cell_type": "markdown",
   "metadata": {},
   "source": [
    "### 6\n",
    "The `income` array is given, containing the values of the store's profit in thousands at the beginning, middle and end of the year, for four consecutive years (the values are not grouped in any way, we can assume that they were unloaded from the file in this way).\n",
    "Reshape the array so that the values are grouped with three values in each list within the array (profit at the beginning, middle and end of the year)."
   ]
  },
  {
   "cell_type": "code",
   "execution_count": 7,
   "metadata": {},
   "outputs": [],
   "source": [
    "\n",
    "income = np.array([1000, 2000, 3500, \n",
    "                   2500, 1500, 3800, \n",
    "                   1200, 9000, 12000,\n",
    "                   4500, 6700, 11000])"
   ]
  },
  {
   "cell_type": "code",
   "execution_count": 16,
   "metadata": {},
   "outputs": [
    {
     "name": "stdout",
     "output_type": "stream",
     "text": [
      "[[ 1000  2000  3500]\n",
      " [ 2500  1500  3800]\n",
      " [ 1200  9000 12000]\n",
      " [ 4500  6700 11000]]\n"
     ]
    }
   ],
   "source": [
    "### YOUR CODE HERE ###\n",
    "income = np.array([1000, 2000, 3500, \n",
    "                   2500, 1500, 3800, \n",
    "                   1200, 9000, 12000,\n",
    "                   4500, 6700, 11000])\n",
    "\n",
    "print(income.reshape(4, 3))"
   ]
  },
  {
   "cell_type": "markdown",
   "metadata": {},
   "source": [
    "###  7\n",
    "Create a `turnout` list (*list*, not an array) containing the following polling turnout percentages:\n",
    "\n",
    "23.56, 45.78, 34.92, 57.34, 56.55, 67.23.\n",
    "\n",
    "Create, using list includes and the non-NumPy built-in functions for rounding, a new list `turnout_r` that consists of the turnout values from `turnout` rounded to the first decimal place.\n"
   ]
  },
  {
   "cell_type": "code",
   "execution_count": 6,
   "metadata": {},
   "outputs": [
    {
     "name": "stdout",
     "output_type": "stream",
     "text": [
      "[23.6, 45.8, 34.9, 57.3, 56.5, 67.2]\n"
     ]
    }
   ],
   "source": [
    "### YOUR CODE HERE ###\n",
    "turnout = [23.56, 45.78, 34.92, 57.34, 56.55, 67.23]\n",
    "turnout_r = []\n",
    "\n",
    "turnout_r = [round(el, 1) for el in turnout]\n",
    "\n",
    "\n",
    "print(turnout_r)"
   ]
  },
  {
   "cell_type": "markdown",
   "metadata": {},
   "source": [
    "###  8\n",
    "Perform the same operations as in the previous task, but using arrays and `NumPy` functions. In other words, create an array `turnout` and based on it create an array `turnout_r` with turnout values rounded to the first decimal place.\n"
   ]
  },
  {
   "cell_type": "code",
   "execution_count": 18,
   "metadata": {},
   "outputs": [
    {
     "name": "stdout",
     "output_type": "stream",
     "text": [
      "[23.6 45.8 34.9 57.3 56.6 67.2]\n"
     ]
    }
   ],
   "source": [
    "### YOUR CODE HERE ###\n",
    "turnout = np.array([23.56, 45.78, 34.92, 57.34, 56.55, 67.23])\n",
    "turnout_r = np.around(turnout, 1)\n",
    "\n",
    "print(turnout_r)"
   ]
  },
  {
   "cell_type": "markdown",
   "metadata": {},
   "source": [
    "###  9\n",
    "\n",
    " Go to the https://ru.wikipedia.org/wiki/%D0%9C%D0%B5%D0%B6%D0%B4%D1%83%D0%BD%D0%B0%D1%80%D0%BE%D0%B4%D0%BD%D1%8B%D0%B9_%D0%B8%D0%BD%D0%B4%D0%B5%D0%BA%D1%81_%D1%81%D1%87%D0%B0%D1%81%D1%82%D1%8C%D1%8F Wikipedia page, select any 5 countries and any 3 indicators from the **2012 International Happiness Index** table, and create a `happy` structured array, one that has a \"country name\" field and fields for the three selected indicators. Choose the appropriate type for each field (measure) in the array, and keep that in mind when creating a structured array. Display the resulting array on the screen.\n"
   ]
  },
  {
   "cell_type": "code",
   "execution_count": 22,
   "metadata": {},
   "outputs": [
    {
     "name": "stdout",
     "output_type": "stream",
     "text": [
      "[('Norway', 51.4, 7.6, 4.8) ('Brasil', 52.9, 6.8, 2.9)\n",
      " ('Chili', 53.9, 6.6, 3.2) ('Cuba', 56.2, 5.4, 1.9)\n",
      " ('Columbia', 59.8, 6.4, 1.8)]\n"
     ]
    },
    {
     "data": {
      "text/plain": [
       "array([('Norway', 51.4, 7.6, 4.8), ('Brasil', 52.9, 6.8, 2.9),\n",
       "       ('Chili', 53.9, 6.6, 3.2), ('Cuba', 56.2, 5.4, 1.9),\n",
       "       ('Columbia', 59.8, 6.4, 1.8)],\n",
       "      dtype=[('country name', '<U10'), ('HPI', '<f8'), ('life satisfaction', '<f8'), ('ecological footprint', '<f8')])"
      ]
     },
     "execution_count": 22,
     "metadata": {},
     "output_type": "execute_result"
    }
   ],
   "source": [
    "### YOUR CODE HERE ###\n",
    "happy = np.array([('Norway', 51.4, 7.6, 4.8),\n",
    "                  ('Brasil', 52.9, 6.8, 2.9),\n",
    "                  ('Chili', 53.9, 6.6, 3.2),\n",
    "                  ('Cuba', 56.2, 5.4, 1.9),\n",
    "                  ('Columbia', 59.8, 6.4, 1.8)],\n",
    "                 dtype=[('country name', 'U10'),\n",
    "                        ('HPI', float),\n",
    "                        ('life satisfaction', float),\n",
    "                        ('ecological footprint', float)])\n",
    "\n",
    "print(happy)\n",
    "happy"
   ]
  },
  {
   "cell_type": "markdown",
   "metadata": {},
   "source": [
    "###  10\n",
    "Convert the structured array obtained in the previous task to a regular list and display its second element on the screen.\n"
   ]
  },
  {
   "cell_type": "code",
   "execution_count": 24,
   "metadata": {},
   "outputs": [
    {
     "name": "stdout",
     "output_type": "stream",
     "text": [
      "('Brasil', 52.9, 6.8, 2.9)\n"
     ]
    }
   ],
   "source": [
    "### YOUR CODE HERE ###\n",
    "happy_converted = happy.tolist()\n",
    "print(happy_converted[1])"
   ]
  },
  {
   "cell_type": "markdown",
   "metadata": {},
   "source": [
    ".<br> .<br> .<br> .<br> .<br> .<br> .<br> .<br> .<br> .<br> .<br> .<br> .<br> .<br> .<br> .<br> .<br> .<br> \n",
    "# Additional task.\n",
    "\n",
    "<br>"
   ]
  },
  {
   "cell_type": "markdown",
   "metadata": {
    "colab_type": "text",
    "id": "uplaYklo0zrv"
   },
   "source": [
    "###  1\n",
    "\n",
    "Write a `build_array()` function that takes as input the dimension of a square matrix (a two-dimensional array in which the number of rows and the number of columns are the same) and creates an identity matrix `E` (array) of the appropriate dimension. You cannot use the ready-made function `np.eye()`, you can use loops and conditional constructs.\n",
    "\n",
    "**Example:**\n",
    "\n",
    "Input:\n",
    "\n",
    "    build_array(4)\n",
    "\n",
    "Output:\n",
    "\n",
    "    array([[1., 0., 0., 0.],\n",
    "       [0., 1., 0., 0.],\n",
    "       [0., 0., 1., 0.],\n",
    "       [0., 0., 0., 1.]])\n",
    "       \n"
   ]
  },
  {
   "cell_type": "code",
   "execution_count": 2,
   "metadata": {
    "colab": {},
    "colab_type": "code",
    "id": "saSGBa2N0zrw"
   },
   "outputs": [
    {
     "name": "stdout",
     "output_type": "stream",
     "text": [
      "[[1. 0. 0. 0. 0. 0.]\n",
      " [0. 1. 0. 0. 0. 0.]\n",
      " [0. 0. 1. 0. 0. 0.]\n",
      " [0. 0. 0. 1. 0. 0.]\n",
      " [0. 0. 0. 0. 1. 0.]\n",
      " [0. 0. 0. 0. 0. 1.]]\n"
     ]
    }
   ],
   "source": [
    "### YOUR CODE HERE ###\n",
    "import numpy as np\n",
    "def build_array(dim):\n",
    "    unit_array = np.zeros((dim, dim))\n",
    "    diagonal = np.diag_indices(dim)\n",
    "    unit_array[diagonal] = 1\n",
    "    return unit_array\n",
    "print(build_array(6))"
   ]
  },
  {
   "cell_type": "markdown",
   "metadata": {
    "colab_type": "text",
    "id": "jgutn2Sj0zr1"
   },
   "source": [
    "###  2\n",
    "\n",
    "Write a function `my_reshape()` that takes an array and its new dimension (a pair of numbers) as input, and:\n",
    "\n",
    "* if the specified dimensions are correct, then returns an array of the new dimension;\n",
    "* if the specified dimensions are incorrect, then it returns an empty array (example: you cannot make a new 4×3 array from a 2×5 array, because the old array has 10 elements, and the new one has 12).\n",
    "\n",
    "**Example:**\n",
    "\n",
    "Input:\n",
    "\n",
    "    A = np.array([[2, 4, 6], \n",
    "            [4, 8, 10]])\n",
    "\n",
    "    my_reshape(A, 6, 1)\n",
    "\n",
    "Output:\n",
    "\n",
    "    array([[2], \n",
    "       [4], \n",
    "       [6], \n",
    "       [4], \n",
    "       [8],\n",
    "       [10]])\n",
    "\n",
    "Input:\n",
    "\n",
    "    A = np.array([[2, 4, 6], \n",
    "            [4, 8, 10]])\n",
    "\n",
    "    my_reshape(A, 4, 2)\n",
    "\n",
    "Output:\n",
    "\n",
    "    array([])\n",
    "\n",
    "**Note:** the results in the output may be visually different (displayed without line breaks, indicating the data type), this is normal, the examples have been modified for readability.\n",
    "\n"
   ]
  },
  {
   "cell_type": "code",
   "execution_count": 9,
   "metadata": {
    "colab": {},
    "colab_type": "code",
    "id": "BARsZ6SU0zr1"
   },
   "outputs": [
    {
     "name": "stdout",
     "output_type": "stream",
     "text": [
      "[[1 2]\n",
      " [4 6]\n",
      " [3 6]\n",
      " [8 9]]\n",
      "None\n"
     ]
    }
   ],
   "source": [
    "### YOUR CODE HERE ###\n",
    "import numpy as np\n",
    "def my_reshape(arr, m, n):\n",
    "    if arr.size == m * n:\n",
    "        print(arr.reshape(m, n))\n",
    "    else:\n",
    "        arr = np.array([])\n",
    "        print(arr)\n",
    "\n",
    "\n",
    "my_arr = np.array([[1, 2, 4, 6],\n",
    "                   [3, 6, 8, 9]])\n",
    "print(my_reshape(my_arr, 4, 2))"
   ]
  },
  {
   "cell_type": "code",
   "execution_count": null,
   "metadata": {},
   "outputs": [],
   "source": []
  }
 ],
 "metadata": {
  "kernelspec": {
   "display_name": "Python 3",
   "language": "python",
   "name": "python3"
  },
  "language_info": {
   "codemirror_mode": {
    "name": "ipython",
    "version": 3
   },
   "file_extension": ".py",
   "mimetype": "text/x-python",
   "name": "python",
   "nbconvert_exporter": "python",
   "pygments_lexer": "ipython3",
   "version": "3.8.8"
  }
 },
 "nbformat": 4,
 "nbformat_minor": 4
}
